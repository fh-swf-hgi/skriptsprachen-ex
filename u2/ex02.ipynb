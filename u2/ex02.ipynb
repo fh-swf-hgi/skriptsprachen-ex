{
 "cells": [
  {
   "cell_type": "markdown",
   "id": "pointed-recorder",
   "metadata": {},
   "source": [
    "<figure>\n",
    "  <IMG SRC=\"https://upload.wikimedia.org/wikipedia/commons/thumb/d/d5/Fachhochschule_Südwestfalen_20xx_logo.svg/320px-Fachhochschule_Südwestfalen_20xx_logo.svg.png\" WIDTH=250 ALIGN=\"right\">\n",
    "</figure>\n",
    "\n",
    "# Skriptsprachen\n",
    "### Sommersemester 2021\n",
    "Prof. Dr. Heiner Giefers"
   ]
  },
  {
   "cell_type": "markdown",
   "id": "experienced-presence",
   "metadata": {},
   "source": [
    "# Aufgabenblatt 2: Galgenmännchen"
   ]
  },
  {
   "cell_type": "markdown",
   "id": "elegant-thousand",
   "metadata": {},
   "source": [
    "## Spielidee\n",
    "\n",
    "Galgenmännchen (im Englischen *hangman game*) spielt man normalerweise mit Papier und Stift.\n",
    "Normalerweise spielt man Galgenmännchen zu zweit: Der erste Spieler überlegt sich ein Wort und gibt die Anzahl der Buchstaben des Wortes bekannt.\n",
    "Meist passiert das, indem man entsprechend viele (Unter-) Striche auf das Papier Schreibt.\n",
    "Der zweite Spieler beginnt nun, Buchstaben zu raten.\n",
    "Ist der Buchstabe im Wort enthalten, so schreibt Spieler Eins ihn an die entsprechende Stelle auf dem Papier.\n",
    "Ist der Buchstabe nicht im Wort enthalten, so zeichnet Spieler eins ein weiteres Element des *Galgenmännchens*.\n",
    "Errät Spieler zwei das Wort, bevor das Galgenmännchen fertig gezeichnet ist, gewinnt er, ansonsten gewinnt Spieler eins.\n",
    "\n",
    "Ein Programm für das Galgenmännchen Spiel sollte aus folgenden Schritten bestehen:\n",
    "\n",
    "1. Wähle ein zufälliges Wort (aus einer Liste von Wörtern) aus\n",
    "2. Begrüße die Nutzerin bzw. der Nutzer\n",
    "3. Stelle das Spielfeld dar\n",
    "4. Nimm einen geratenen Buchstaben vom User entgegen\n",
    "5. Überprüfe, ob der Buchstabe im Wort enthalten ist. Wenn ja, zeige das Wort entsprechend an. Wenn nicht, stelle die nächste Stufe des Galgenmännchens dar\n",
    "6. Gehe zu Schritt 4, solange das Galgenmännchen noch nicht fertig ist\n",
    "7. Frage die Nutzerin bzw. der Nutzer, ob sie oder er erneut spielen möchte"
   ]
  },
  {
   "cell_type": "markdown",
   "id": "hungarian-optimum",
   "metadata": {},
   "source": [
    "## Helferfunktionen\n",
    "\n",
    "1. Verwende `take_guess` um einen Buchstaben von der Nutzerin bzw. dem Nutzer entgegenzunehmen. Das Spiel wird ausschließlich Großbuchstaben verwenden.\n",
    "2. Verwende `random_word` um ein zufälliges Wort aus euner Liste auszwählen\n",
    "3. In der Liste `stages` sind die verschiedenen Phasen des Galgenmännchens abgespeichert. An dieser Stelle helfen uns die *multi-line* Strings mit den drei aufeinanderfolgenden Anführungszeichen."
   ]
  },
  {
   "cell_type": "code",
   "execution_count": null,
   "id": "affiliated-tribute",
   "metadata": {},
   "outputs": [],
   "source": [
    "import random\n",
    "from io import StringIO\n",
    "from unittest.mock import patch\n",
    "\n",
    "def take_guess():\n",
    "    \"\"\"catches a single character from the player.\"\"\"\n",
    "    \n",
    "    c = input('Please, guess a letter: ')\n",
    "    return c.upper() if len(c) == 1 else print('Invalid guess. Try again!')\n",
    "\n",
    "def random_word():\n",
    "    \"\"\"returns a random word.\"\"\"\n",
    "    # feel free to change the words in the list\n",
    "    word_list = ['earthquake', 'quarter', 'nation', 'coast', 'suggestion', 'tub',\n",
    "                 'smell', 'pigs', 'wilderness', 'part', 'snails', 'twist']\n",
    "    return random.choice(word_list).upper()\n",
    "\n",
    "# stages of the hangman\n",
    "stages = [\n",
    "        '''\n",
    "            --------\n",
    "            |      |\n",
    "            |      \n",
    "            |    \n",
    "            |      \n",
    "            |     \n",
    "            -\n",
    "        ''',\n",
    "        '''\n",
    "            --------\n",
    "            |      |\n",
    "            |      O\n",
    "            |    \n",
    "            |      \n",
    "            |     \n",
    "            -\n",
    "        ''',\n",
    "        '''\n",
    "            --------\n",
    "            |      |\n",
    "            |      O\n",
    "            |      |\n",
    "            |      |\n",
    "            |     \n",
    "            -\n",
    "        ''',\n",
    "        '''\n",
    "            --------\n",
    "            |      |\n",
    "            |      O\n",
    "            |     \\|\n",
    "            |      |\n",
    "            |     \n",
    "            -\n",
    "        ''',\n",
    "        '''\n",
    "            --------\n",
    "            |      |\n",
    "            |      O\n",
    "            |     \\|/\n",
    "            |      |\n",
    "            |     \n",
    "            -\n",
    "        ''',\n",
    "        '''\n",
    "            --------\n",
    "            |      |\n",
    "            |      O\n",
    "            |     \\|/\n",
    "            |      |\n",
    "            |     /\n",
    "            -\n",
    "        ''',\n",
    "        '''\n",
    "            --------\n",
    "            |      |\n",
    "            |      O\n",
    "            |     \\|/\n",
    "            |      |\n",
    "            |     / \\\\\n",
    "            -\n",
    "        '''\n",
    "    ]"
   ]
  },
  {
   "cell_type": "markdown",
   "id": "foster-bruce",
   "metadata": {},
   "source": [
    "## Das Spiel\n",
    "\n",
    "### Darstellung des Ratewortes\n",
    "\n",
    "Schreibe eine Funktion die ein `word` als String und eine Liste von geratenen Buchstaben `tru_guess` als Argumente entgegennimmt und als Resultat einen String zurückliefert, bei dem alle nicht-geratenen Buchstaben, als Unterstriche dargestellt sind.\n",
    "\n",
    "```\n",
    "'W _ _ D'\n",
    "```"
   ]
  },
  {
   "cell_type": "code",
   "execution_count": null,
   "id": "administrative-greeting",
   "metadata": {
    "deletable": false,
    "nbgrader": {
     "cell_type": "code",
     "checksum": "1fe7093ec6e5f8fb5ccf58f76dd3c3b9",
     "grade": false,
     "grade_id": "cell-e0695da39c5d7185",
     "locked": false,
     "schema_version": 3,
     "solution": true,
     "task": false
    }
   },
   "outputs": [],
   "source": [
    "def dis_word(word, tru_guess = []):\n",
    "    \"\"\"returns a string with only the true guesses visible\"\"\"\n",
    "    \n",
    "    # YOUR CODE HERE\n",
    "    raise NotImplementedError()"
   ]
  },
  {
   "cell_type": "code",
   "execution_count": null,
   "id": "electrical-formation",
   "metadata": {
    "deletable": false,
    "editable": false,
    "nbgrader": {
     "cell_type": "code",
     "checksum": "95623e695488d830d2afe8445a9e705f",
     "grade": true,
     "grade_id": "cell-4cc3e96a778a43d6",
     "locked": true,
     "points": 1,
     "schema_version": 3,
     "solution": false,
     "task": false
    }
   },
   "outputs": [],
   "source": [
    "# Test Cell\n",
    "#----------\n",
    "assert dis_word('Book') == '_ _ _ _', 'For empty true guess list, 4 spaced underscores should be returned.'\n",
    "assert dis_word('BOOK', 'O') == '_ O O _', 'Elements of true guess list only should appear in the resultant word.'"
   ]
  },
  {
   "cell_type": "markdown",
   "id": "respected-cincinnati",
   "metadata": {},
   "source": [
    "### Galgenmännchen anzeigen\n",
    "\n",
    "Schreibe eine Funktion, die das Galgenmännchen in ser aktuellen Phase anzeigt. Der Parameter `attempt` gibt dabei an, wie viele falsche Buchstaben bereits geraten wurden. Als Rückgabe soll die Funktion ein String Objekt mit dem aktuellen Hangman zurückliefern."
   ]
  },
  {
   "cell_type": "code",
   "execution_count": null,
   "id": "streaming-ebony",
   "metadata": {
    "deletable": false,
    "nbgrader": {
     "cell_type": "code",
     "checksum": "8fff6d39506d0942122a1f57f4545987",
     "grade": false,
     "grade_id": "cell-70ed6d4e27744733",
     "locked": false,
     "schema_version": 3,
     "solution": true,
     "task": false
    }
   },
   "outputs": [],
   "source": [
    "def dis_hangman(attempt):\n",
    "    \"\"\"returns the correct hangman proper stage for the number of attempts.\"\"\"\n",
    "    \n",
    "    # Return the appropriate item from `stages`\n",
    "    # YOUR CODE HERE\n",
    "    raise NotImplementedError()"
   ]
  },
  {
   "cell_type": "code",
   "execution_count": null,
   "id": "congressional-sampling",
   "metadata": {
    "deletable": false,
    "editable": false,
    "nbgrader": {
     "cell_type": "code",
     "checksum": "f8cd82fe7d562484b1169c0c2774bf00",
     "grade": true,
     "grade_id": "cell-e614239d362eb0a8",
     "locked": true,
     "points": 1,
     "schema_version": 3,
     "solution": false,
     "task": false
    }
   },
   "outputs": [],
   "source": [
    "# Test Cell\n",
    "#----------\n",
    "assert dis_hangman(2).replace(' ','') == '\\n--------\\n||\\n|O\\n||\\n||\\n|\\n-\\n'"
   ]
  },
  {
   "cell_type": "markdown",
   "id": "public-colon",
   "metadata": {},
   "source": [
    "### Spielstand ausgeben\n",
    "\n",
    "Schreibe eine Funktion, die auf Grundlage der Parameter `word`, `attempt` und `tru_guess` die Darstellung des Ratewortes und des Galgenmännchens ausgibt."
   ]
  },
  {
   "cell_type": "code",
   "execution_count": null,
   "id": "harmful-toddler",
   "metadata": {
    "deletable": false,
    "nbgrader": {
     "cell_type": "code",
     "checksum": "a8083e11255cc56bf3e6ec624ddbdbe0",
     "grade": false,
     "grade_id": "cell-ad70a29a5fb918f3",
     "locked": false,
     "schema_version": 3,
     "solution": true,
     "task": false
    }
   },
   "outputs": [],
   "source": [
    "def dis_state(word, attempt, tru_guess):\n",
    "    \"\"\"prints the game state.\"\"\"\n",
    "    # YOUR CODE HERE\n",
    "    raise NotImplementedError()"
   ]
  },
  {
   "cell_type": "code",
   "execution_count": null,
   "id": "sticky-compatibility",
   "metadata": {
    "deletable": false,
    "editable": false,
    "nbgrader": {
     "cell_type": "code",
     "checksum": "8201cef226043876247efb0b2d0be532",
     "grade": true,
     "grade_id": "cell-72e893da14d31df4",
     "locked": true,
     "points": 1,
     "schema_version": 3,
     "solution": false,
     "task": false
    }
   },
   "outputs": [],
   "source": [
    "# Test Cell\n",
    "#----------\n",
    "with patch('sys.stdout', new_callable=StringIO) as screen:\n",
    "    dis_state('WORT', 2, ['O'])\n",
    "    for n in [dis_hangman(2), dis_word('WORT', 'O')]:\n",
    "        assert n in screen.getvalue(), 'dis_hangman and dis_word are not called!'"
   ]
  },
  {
   "cell_type": "markdown",
   "id": "terminal-screw",
   "metadata": {},
   "source": [
    "### Spielablauf\n",
    "\n",
    "Schreiben Sie eine Funktion für den Spielablauf:\n",
    "\n",
    "1. Verwende die Funktion `random_word` um das Zufallswort für die neue Runde zu erhalten. Inittialisiere die Attribute `attempt` und `tru_guess`\n",
    "2. Gib den aktuellen Spielstand aus.\n",
    "3. Durchlaufe folgende Schritte solange, bis die Anzahl der Rateversuche überschritten ist oder bis das Lösungswort erraten wurde:\n",
    "    1. Nimm einen geratenen Buchstaben entgegen. Hier muss auch überprüft werden, ob die Eingabe *gültig* ist. Überlegen Sie sich dazu, was die Funktion ` take_guess` zurückliefert, wenn kein gültiger Buchstabe eingegeben wird.\n",
    "    2. Wenn der Buchstabe richtig geraten ist, hänge den Buchstaben an die Liste `tru_guess` an und stelle den neuen Spielsatnd dar.\n",
    "    3. Wenn der Buchstabe falsch geraten ist if `guess` is wrong, erhöhe den den Zähler `attempt` and Stelle die neue Spielsituation dar.\n",
    "4. Wenn die Anzahl der maximalen Versuche überschritten wurde, informiere die Spielerin oder den Spieler über ihre oder seine Niderlage.\n",
    "4. Falls die Anzahl der maximalen Versuche nicht überschritten wurde, beglückwünsche die Spielerin oder den Spieler zu ihrem oder seinem Sieg."
   ]
  },
  {
   "cell_type": "code",
   "execution_count": null,
   "id": "listed-pressing",
   "metadata": {
    "deletable": false,
    "nbgrader": {
     "cell_type": "code",
     "checksum": "3a9e4b5183379be51f751460ae766702",
     "grade": false,
     "grade_id": "cell-a78967b438aa68ca",
     "locked": false,
     "schema_version": 3,
     "solution": true,
     "task": false
    }
   },
   "outputs": [],
   "source": [
    "def play():\n",
    "    # YOUR CODE HERE\n",
    "    raise NotImplementedError()"
   ]
  },
  {
   "cell_type": "code",
   "execution_count": null,
   "id": "smaller-richardson",
   "metadata": {
    "deletable": false,
    "editable": false,
    "nbgrader": {
     "cell_type": "code",
     "checksum": "ee2b1505844289994a079e5cd78b95ac",
     "grade": true,
     "grade_id": "cell-c0a584d26fd9bcb0",
     "locked": true,
     "points": 2,
     "schema_version": 3,
     "solution": false,
     "task": false
    }
   },
   "outputs": [],
   "source": [
    "# Test Cell\n",
    "#----------\n",
    "@patch('sys.stdout', new_callable=StringIO)\n",
    "@patch('__main__.take_guess')\n",
    "@patch('__main__.random_word', return_value = 'OOOO')\n",
    "def test_play(guess,w,g,s):\n",
    "    g.return_value = guess\n",
    "    play()\n",
    "    return s.getvalue()\n",
    "#----------\n",
    "# Winning case\n",
    "win = test_play('O')\n",
    "\n",
    "for n in [dis_hangman(0), dis_word('OOOO'), dis_word('OOOO', 'O')]:\n",
    "    assert n in win, 'Game elements are not displayed as discribed!'\n",
    "\n",
    "assert win.count(dis_hangman(0)) == 2, 'State of the game should be displayed at the biginning of the game and at winning!'\n",
    "#----------\n",
    "# Losing case\n",
    "lose = test_play('U')\n",
    "\n",
    "for i in range(6):\n",
    "    assert dis_hangman(i) in lose, 'All attempts must be exhausted, before the player loses!'\n",
    "\n",
    "assert lose.count(dis_word('OOOO')) == 6, 'At each stage, the empty underscores must be displayed!'\n",
    "assert lose.count(dis_word('OOOO', 'O')) == 1, 'The correct must be displayed once to the user, after they lose!'"
   ]
  },
  {
   "cell_type": "markdown",
   "id": "former-baseline",
   "metadata": {},
   "source": [
    "## Fast fertig!\n",
    "\n",
    "Sie können nun Ihr Spiel ausprobieren!"
   ]
  },
  {
   "cell_type": "code",
   "execution_count": null,
   "id": "front-jefferson",
   "metadata": {},
   "outputs": [],
   "source": [
    "# Note: rerun all cell if something unexpected occurred!\n",
    "    \n",
    "play()"
   ]
  }
 ],
 "metadata": {
  "kernelspec": {
   "display_name": "Python 3",
   "language": "python",
   "name": "python3"
  },
  "language_info": {
   "codemirror_mode": {
    "name": "ipython",
    "version": 3
   },
   "file_extension": ".py",
   "mimetype": "text/x-python",
   "name": "python",
   "nbconvert_exporter": "python",
   "pygments_lexer": "ipython3",
   "version": "3.7.3"
  }
 },
 "nbformat": 4,
 "nbformat_minor": 5
}
