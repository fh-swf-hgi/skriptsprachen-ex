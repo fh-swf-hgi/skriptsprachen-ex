{
 "cells": [
  {
   "cell_type": "markdown",
   "id": "distinguished-recorder",
   "metadata": {},
   "source": [
    "<figure>\n",
    "  <IMG SRC=\"https://upload.wikimedia.org/wikipedia/commons/thumb/d/d5/Fachhochschule_Südwestfalen_20xx_logo.svg/320px-Fachhochschule_Südwestfalen_20xx_logo.svg.png\" WIDTH=250 ALIGN=\"right\">\n",
    "</figure>\n",
    "\n",
    "# Skriptsprachen\n",
    "### Sommersemester 2021\n",
    "Prof. Dr. Heiner Giefers"
   ]
  },
  {
   "cell_type": "markdown",
   "id": "useful-visitor",
   "metadata": {},
   "source": [
    "## PDF-Dateien zusammenfügen"
   ]
  },
  {
   "cell_type": "markdown",
   "id": "south-peripheral",
   "metadata": {},
   "source": [
    "Zum Anzeigen von PDF-Dateien gibt es viele Werkzeuge.\n",
    "Am bekanntesten ist sicher der *Acrobat Reader* von Adobe.\n",
    "Zum Verändern von PDF-Dateien eignet sich der *Reader* nur bedingt, hierzu muss, jedenfalls bei den Adobe-Produkten, der kostenpflichtige *Adobe Reader* verwendet werden.\n",
    "\n",
    "Allerdings ist das PDF-Format seit 2008 ein offener Standard, weswegen auch andere Werkzeuge und Bibliotheken das Verarbeiten und Erzeugen von PDF-Dateien unterstützen können.\n",
    "Eine dieser Bibliotheken ist **PyPDF2** für Python.\n",
    "*PyPDF2* bietet eine Reihe von Methoden, mit denen PDF-Dokumente gelesen, erstellt oder verändert werden können.\n",
    "\n",
    "\n",
    "Die *PyPDF2* Dokumentation finden Sie auf [dieser Seite](https://pythonhosted.org/PyPDF2/).\n",
    "Und auch das [Buch von Al Sweigart](https://nostarch.com/automatestuff2) ist eine gute Hilfe.\n",
    "In der zweiten Ausgabe wird *PyPDF2* in [Kapitel 15](https://automatetheboringstuff.com/2e/chapter13/) behandelt.\n",
    "\n"
   ]
  },
  {
   "cell_type": "markdown",
   "id": "invisible-spanish",
   "metadata": {},
   "source": [
    "In dieser Aufgabe wollen wir ein Problem lösen, dass Sie vielleicht auch schon einmal im Umgang mit PDF-Dateien hatten, nämlich dem Verbinden mehrerer PDFs zu einem Dokument.\n",
    "\n",
    "Dazu benötigen wir natürlich zuerst mehrere PDF-Dateien.\n",
    "Um möglichst schnell mit der eigentlichen Aufgabe starten zu können, laden wir ein paar Dokumente aus dem Web herunter.\n",
    "Dazu setzen wir die **requests** Bibliothek ein, die wir im weiteren Verlauf des Moduls auch nochmal genauer betrachten werden.\n",
    "Mit dem Modul **os** legen wir uns einen Ordner an, in dem die einzelnen PDF-Dateien abgelegt werden."
   ]
  },
  {
   "cell_type": "markdown",
   "id": "elect-leeds",
   "metadata": {},
   "source": [
    "In der folgenden Code Zelle wird ein Verzeichnis `tmp/pdfs` erstellt, ausgehend vom aktuellen Pfad dieses Notebooks.\n",
    "Um ein gleichnamiges Verzeichnis, das eventuell schon existiert vorher zu löschen, verwenden wir die Funktion `rmtree` aus dem Modul `shutil`.\n",
    "Er gibt zwar auch eine Funktion `os.rmdir`, diese kann allerdings nur leere Verzeichnisse löschen.\n",
    "Aschließend rufen wir `os.mkdir()` auf, um den Unterodner neu zu erzeugen.\n",
    "\n",
    "Übrigens, wir könnten statt der (Konstruktor-) Methode `Path` aus dem Modul `pathlib` den Pfad zum Verzeichnis auch direkt als Zeichenkette angeben. Diese Variante hier hat aber einen großen Vorteil. *Erkennen Sie welchen?*"
   ]
  },
  {
   "cell_type": "code",
   "execution_count": null,
   "id": "promotional-wilderness",
   "metadata": {},
   "outputs": [],
   "source": [
    "import os\n",
    "from pathlib import Path\n",
    "import shutil\n",
    "\n",
    "dirpath = Path('tmp', 'pdfs')\n",
    "if dirpath.exists() and dirpath.is_dir():\n",
    "    shutil.rmtree(dirpath)\n",
    "\n",
    "\n",
    "tmppath = Path('tmp')\n",
    "if not tmppath.exists():\n",
    "    os.mkdir(tmppath)\n",
    "\n",
    "os.mkdir(dirpath)"
   ]
  },
  {
   "cell_type": "markdown",
   "id": "emerging-johns",
   "metadata": {},
   "source": [
    "Nun laden wir PDF-Dateien aus dem Internet herunter.\n",
    "Als Beispiel verwenden wir drei Dokumente zum Thema *Python*, die auf [realpython.com](realpython.com) zum Download stehen.\n",
    "Mit der Methode `requests.get(url)` laden wir den Inhalt der angegebenen URL herunter und schreiben diesen Inhalt mit `f.write(response.content)` in die Datei `f`.\n",
    "\n",
    "Vielleicht kommt Ihnen in der folgenden Code-Zelle der Aufruf von `.zfill(3)` seltsam vor.\n",
    "*Können Sie sich denken, warum diese Funktion hier verwendet wird?*"
   ]
  },
  {
   "cell_type": "code",
   "execution_count": null,
   "id": "pharmaceutical-hours",
   "metadata": {},
   "outputs": [],
   "source": [
    "import requests\n",
    "\n",
    "urls = [\"https://static.realpython.com/python-basics-sample-chapters.pdf\",\n",
    "    \"https://static.realpython.com/python-cheat-sheet.pdf\",\n",
    "    \"https://static.realpython.com/guides/python-opencv-examples.pdf\"]\n",
    "\n",
    "i = 0\n",
    "for url in urls:\n",
    "    i += 1\n",
    "    response = requests.get(url)\n",
    "    file = Path(dirpath, str(i).zfill(3) + '.pdf')\n",
    "    with open(file, 'wb') as f:\n",
    "        f.write(response.content)"
   ]
  },
  {
   "cell_type": "markdown",
   "id": "behavioral-toner",
   "metadata": {},
   "source": [
    "Nun kommt Ihre Aufgabe: Lesen Sie sich in die Dokumentation zu *PyPDF2* ein und fügen Sie die Dokumente zusammen.\n",
    "Dazu können Sie folgendermaßen vorgehen:\n",
    "1. Sie benötigen eine Liste mit den Quell-PDF-Dateien. Dafür ist es hilfreich, dass wir alle PDFs in einen leeren Ordner gespeichert haben. Sie müssen also nur den Inhalt des Ordners auslesen. Dazu bietet Ihnen das **os**-Modul eine passende Funktion.\n",
    "2. Legen Sie ein `PdfFileMerger`-Objekt an. Dazu müssen Sie nur sehr wenig über Objektorientierung in Python kennen. Nur soviel, dass `PdfFileMerger()` ein Konstruktor der Klasse ist und ein Objekt (bzw die Referenz auf dieses Objekt) gleichen Typs zurückliefert. Später können Sie auf diesem Objekt die Methode `append` aufrufen, um PDF-Dateien anzuhängen.\n",
    "3. Laufen Sie über alle Dateien in dem Verzeichnis (bzw. die Dateinamen, die Sie in 1. in eine Liste geladen haben).\n",
    "    1. Bestimmen Sie jeweils den Pfad zur aktuellen Datei\n",
    "    2. Öffnen Sie die PDF-Datei mit der Methode `PdfFileReader()`\n",
    "    3. Hängen Sie die göffnete PDF Datei an das  `PdfFileMerger`-Objekt an\n",
    "4. Schreiben Sie den Inhalt des `PdfFileMerger`-Objekts mit `write` in die Datei `merged.pdf` im aktuellen Verzeichnis."
   ]
  },
  {
   "cell_type": "code",
   "execution_count": null,
   "id": "numerous-playback",
   "metadata": {
    "deletable": false,
    "nbgrader": {
     "cell_type": "code",
     "checksum": "141765c7d5ec609caf83e01471544646",
     "grade": false,
     "grade_id": "cell-9b5b1173ffc9566b",
     "locked": false,
     "schema_version": 3,
     "solution": true,
     "task": false
    }
   },
   "outputs": [],
   "source": [
    "from PyPDF2 import PdfFileMerger, PdfFileReader\n",
    "\n",
    "# YOUR CODE HERE\n",
    "raise NotImplementedError()\n",
    "\n",
    "merger.write(\"merged.pdf\")"
   ]
  },
  {
   "cell_type": "code",
   "execution_count": null,
   "id": "relative-monaco",
   "metadata": {
    "deletable": false,
    "editable": false,
    "nbgrader": {
     "cell_type": "code",
     "checksum": "f34dc7cab8e755a861aae51bf289f4ac",
     "grade": true,
     "grade_id": "cell-277deba3a2338a82",
     "locked": true,
     "points": 1,
     "schema_version": 3,
     "solution": false,
     "task": false
    }
   },
   "outputs": [],
   "source": [
    "from PyPDF2 import PdfFileReader\n",
    "pdf = PdfFileReader(open('merged.pdf','rb'))\n",
    "assert pdf.getNumPages()>120, \"PDF Dokumente sind nicht zusammengefügt\""
   ]
  }
 ],
 "metadata": {
  "kernelspec": {
   "display_name": "Python 3",
   "language": "python",
   "name": "python3"
  },
  "language_info": {
   "codemirror_mode": {
    "name": "ipython",
    "version": 3
   },
   "file_extension": ".py",
   "mimetype": "text/x-python",
   "name": "python",
   "nbconvert_exporter": "python",
   "pygments_lexer": "ipython3",
   "version": "3.7.3"
  }
 },
 "nbformat": 4,
 "nbformat_minor": 5
}
