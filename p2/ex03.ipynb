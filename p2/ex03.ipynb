{
 "cells": [
  {
   "cell_type": "markdown",
   "id": "distinguished-recorder",
   "metadata": {},
   "source": [
    "<figure>\n",
    "  <IMG SRC=\"https://upload.wikimedia.org/wikipedia/commons/thumb/d/d5/Fachhochschule_Südwestfalen_20xx_logo.svg/320px-Fachhochschule_Südwestfalen_20xx_logo.svg.png\" WIDTH=250 ALIGN=\"right\">\n",
    "</figure>\n",
    "\n",
    "# Skriptsprachen\n",
    "### Sommersemester 2021\n",
    "Prof. Dr. Heiner Giefers"
   ]
  },
  {
   "cell_type": "markdown",
   "id": "southwest-evidence",
   "metadata": {},
   "source": [
    "## Excel-Tabellen mit Python verarbeiten"
   ]
  },
  {
   "cell_type": "markdown",
   "id": "diagnostic-laptop",
   "metadata": {},
   "source": [
    "Für die Verarbeitung von Excel-Tabellen eignet sich die Bibliothek **openpyxl**.\n",
    "Wie *openpyxl* funktioniert, erfahren Sie auf der [Homepage des Projekts](https://openpyxl.readthedocs.io/en/stable/).\n",
    "Eine weitere gute Quelle für die Arbeit mit *openpyxl* ist das Buch [*Automate the Boring Stuff with Python* von Al Sweigart](https://nostarch.com/automatestuff2).\n",
    "Die zweite Ausgabe des Buches ist als [OpenBook](https://automatetheboringstuff.com) verfügbar, relevant für die Aufgabe ist das [Kapitel 13](https://automatetheboringstuff.com/2e/chapter13/)."
   ]
  },
  {
   "cell_type": "markdown",
   "id": "monthly-choice",
   "metadata": {},
   "source": [
    "Die wichtigsten Befehle von *openpyxl* lassen sich allerdings kurz zusammenfassen.\n",
    "Im folgenden Beispiel finden Sie alle Funktionen, die Sie zur Umsetzung der ersten Aufgabe benötigen.\n",
    "\n",
    "Nach dem import der Bibliothek *openpyxl* erzeugen Sie eine neue Arbeitsmappe mit `openpyxl.Workbook()`.\n",
    "In der Arbeitsmappe selektieren Sie ein Arbeitsblatt.\n",
    "Wir setzen hier den Titel des Arbeitsblatts auf *Mein erstes Blatt* und speichern die ansonsten leere Tabelle mit `save()`.\n",
    "\n",
    "Ein Arbeitsblatt funktioniert wie ein assoziatives Array (bzw. *Dictionary*).\n",
    "Um auf die einzelnen Zellen der Arbeitsblätter zuzugreifen, verwenden Sie die Zellen-ID als Zeichenkette."
   ]
  },
  {
   "cell_type": "code",
   "execution_count": null,
   "id": "provincial-thermal",
   "metadata": {},
   "outputs": [],
   "source": [
    "import openpyxl\n",
    "arbeitsmappe = openpyxl.Workbook()  # Erzeige eine neue Arbeitsmappe\n",
    "blatt = arbeitsmappe.active         # blatt verweist auf das aktive Arbeitsblatt\n",
    "blatt.title = 'Mein erstes Blatt'   # Setze den Titel des Arbeitsblatts\n",
    "arbeitsmappe.save(\"Meine_Leere_Excel_Datei.xlsx\")                     # Speichere die Arbeitsmappe als Datei\n",
    "arbeitsmappe = openpyxl.load_workbook('Meine_Leere_Excel_Datei.xlsx') # Bestehende Arbeitsmappe laden\n",
    "blatt = arbeitsmappe.active         # blatt verweist auf das aktive Arbeitsblatt\n",
    "blatt['A1'] = 'Test'                # Schreibe in Zelle \"A1\"\n",
    "blatt['B1'] = 1                     # Schreibe in Zelle \"B1\"\n",
    "blatt['C1'] = blatt['B1'].value + 1 # Zelle  \"B1\" lesen\n",
    "arbeitsmappe.save(\"Meine_Excel_Datei.xlsx\")                           # Speichere die Arbeitsmappe als Datei"
   ]
  },
  {
   "cell_type": "markdown",
   "id": "sexual-mileage",
   "metadata": {},
   "source": [
    "Für die Aufgabe benötigen wir zusätzlich noch das Modul **random** aus der Standardbibliothek.\n",
    "Wie Sie sicher schon ahnen, können wir damit Zufallszahlen erzeugen.\n",
    "Mit *random* können verschiedene Arten von Zufalszahlen erzeugt werden.\n",
    "Wir benötigen an dieser stelle recht einfache, ganzzahlige Werte aus einem vorzugebenden Bereich.\n",
    "Die Funktion dazu ist `randint(a,b)`.\n",
    "Sie liefert gleichverteilte Integer-Werte aus dem Bereich von `a` bis `b`, wobei `a` und `b` selbst als Werte vorkommen können.\n",
    "Wenn Sie mehr über *random* wissen wollen, schlagen Sie einfach mit `help` in den Hilfeseiten nach."
   ]
  },
  {
   "cell_type": "code",
   "execution_count": null,
   "id": "given-vermont",
   "metadata": {},
   "outputs": [],
   "source": [
    "import random\n",
    "help(random.randint)"
   ]
  },
  {
   "cell_type": "markdown",
   "id": "invalid-editing",
   "metadata": {},
   "source": [
    "Um den Zufallszahlengenerator zu initialisieren, kann ein *Seed* angegeben werden.\n",
    "Dies hat den Vorteil, dass die generierte Zahlenfolge zwar *zufällig* ist, bei gleichem *Seed* aber eine immer identische Folge von Werten erzeugt wird.\n",
    "So sind Ergebnisse im nachhinein besser vergleichbar."
   ]
  },
  {
   "cell_type": "code",
   "execution_count": null,
   "id": "color-proxy",
   "metadata": {},
   "outputs": [],
   "source": [
    "random.seed(123)\n",
    "for i in range(0,10):\n",
    "    print(random.randint(0,2), end=\" \")\n"
   ]
  },
  {
   "cell_type": "markdown",
   "id": "fifth-plaza",
   "metadata": {},
   "source": [
    "## Aufgaben\n",
    "\n",
    "In der folgenden Aufgabe sollen Sie zwei Excel Dateien erzeugen, in den Namen und Matrikelnummern aufgelistet sind.\n",
    "Um hier keine *echten* Namen verwenden zu müssen, generieren wir uns einfach zufällige Namen.\n",
    "Dazu finden Sie in der folgenden Code-Zelle zwei Listen, `vornamen` und `nachnamen`.\n",
    "\n",
    "Diese beiden Listen enthalten die häufigsten Vor- und Nachnamen der letzten Jahre in Deutschland.\n",
    "Wir wollen nun Namen erzeugen, indem wir zufällige Kombinationen von je einem Vor- und Nachnamen aus diesen Listen auswählen.\n",
    "\n",
    "Listen habe wir bereits verwendet und werden ihre genauen Eigenschaften später noch genauer betrachten.\n",
    "Hier nur nochmal kurz das Wichtigste und was Sie fir die kommende Aufgabe benötigen:\n",
    "\n",
    "In Listen können Sie beliebige Folgen von Elementen aufnehmen.\n",
    "Bei unseren Namenslisten sind die Elemente allesamt vom Typ `str`.\n",
    "Wichtig ist, die Elemente sind geordnet und können über einen numerischen Index zugegriffen werden.\n",
    "Listen funktionieren also wie Arrays.\n",
    "\n",
    "Häufig möchte man Listen erweitern, z.B. einfach ein neues Element ans Ende der Liste anhängen.\n",
    "Das geht in Python mit der Methode `append`.\n",
    "Auf einem Listen-Objekt aufgerufen, erweitert Sie die Liste indem Sie das als Parameter übergebene Objekt ans Ende der Liste anfügt."
   ]
  },
  {
   "cell_type": "code",
   "execution_count": null,
   "id": "czech-education",
   "metadata": {},
   "outputs": [],
   "source": [
    "vornamen = ['Mia','Milan','Emilia','Leon','Lina','Noah','Emma','Jonas','Lara','Ben']\n",
    "nachnamen = ['Müller','Schmidt','Schneider','Fischer']"
   ]
  },
  {
   "cell_type": "code",
   "execution_count": null,
   "id": "alike-birth",
   "metadata": {},
   "outputs": [],
   "source": [
    "nachnamen.append('Weber')\n",
    "nachnamen"
   ]
  },
  {
   "cell_type": "markdown",
   "id": "medieval-schedule",
   "metadata": {},
   "source": [
    "Ob ein Element in der Liste vorkommt, kann einfach mit `in` überprüft werden.\n",
    "`1000 in my_list` ist genau dann wahr, wenn mindestens ein Element den Wert 1000 hat.\n",
    "Mit `not in` kann entsprechend geprüft werden, ob ein Wert *nicht* in der Liste vorkommt."
   ]
  },
  {
   "cell_type": "code",
   "execution_count": null,
   "id": "demonstrated-utilization",
   "metadata": {},
   "outputs": [],
   "source": [
    "if 'Meyer' not in nachnamen:\n",
    "    print(\"Meyer ist nicht dabei!\")"
   ]
  },
  {
   "cell_type": "markdown",
   "id": "bigger-china",
   "metadata": {},
   "source": [
    "Dass hier wirklich nur die Werte überprüft werden zeigt folgendes Beispiel.\n",
    "In der Liste `my_list` sind verschiedenartige Elemente, darunter auch eine *ganzzahlige* `1000`.\n",
    "Überprüft man nun, ob der Wert `1000.0` in der Liste ist, ist das Ergebnis `True`.\n",
    "Es ist hier also egal, dass `1000.0` eine Fließkommazahl ist, der *Wert* ist schließlich 1000."
   ]
  },
  {
   "cell_type": "code",
   "execution_count": null,
   "id": "combined-kinase",
   "metadata": {},
   "outputs": [],
   "source": [
    "my_list = [1000, 'hello', 3]\n",
    "1000.0 in my_list"
   ]
  },
  {
   "cell_type": "markdown",
   "id": "monetary-daisy",
   "metadata": {},
   "source": [
    "### Aufgabe 1\n",
    "Nun sind Sie aber an der Reihe.\n",
    "In der folgenden Code-Zelle soll die Funktion `generiere_teilnehmerliste` ausimplementiet werden.\n",
    "Die Parameter der Funktion sind\n",
    "- der Dateiname, der neu erzeugten Excel-Datei\n",
    "- die Anzahl von Einträgen (Namen) in der Datei\n",
    "- die Listen mit den Vor- und Nachnamen aus denen zufällig ausgewählt wird\n",
    "- ein Bool'scher Parameter `mit_matrikelnummer` mit dem festgelegt wird, ob vor der Spalte mit den Namen noch eine Spalte mit zufällig generierten Matrikelnummern erzeugt werden soll"
   ]
  },
  {
   "cell_type": "markdown",
   "id": "valuable-egyptian",
   "metadata": {},
   "source": [
    "Die Erzeugten Excel-Tabellen sollen wie in der Abbildung unten aussehen.\n",
    "\n",
    "mit den Aufrufen\\\n",
    "`generiere_teilnehmerliste('TN-A.xlsx', 5, vornamen, nachnamen)`\\\n",
    "und \\\n",
    "`generiere_teilnehmerliste('TN-B.xlsx', 5, vornamen, nachnamen, False)`\\\n",
    "werden Zwei Excel Dateien angelegt. Beide haben Arbeitsblatt mit dem Titel *Teilnehmer*.\n",
    "Die erste Tabelle hat 5 Namenseinträge in der zweiten Spalte und jeweils eine zugehörige Matrikelnummer in der ersten Spalte.\n",
    "Die Matrikelnummern sollen 7-Stellig sein, es sollen keine führenden Nullen vorkommen.\n",
    "\n",
    "![](spreadsheets.png)"
   ]
  },
  {
   "cell_type": "code",
   "execution_count": null,
   "id": "gentle-discount",
   "metadata": {
    "deletable": false,
    "nbgrader": {
     "cell_type": "code",
     "checksum": "ab19362223aab4d803a88d0f52f58b62",
     "grade": false,
     "grade_id": "cell-0c72084f69fe8804",
     "locked": false,
     "schema_version": 3,
     "solution": true,
     "task": false
    }
   },
   "outputs": [],
   "source": [
    "import openpyxl\n",
    "import random\n",
    "\n",
    "random.seed(42) # Seed, um immer gleiche Namen zu erzeugen\n",
    "\n",
    "def generiere_teilnehmerliste(dateiname, anzahl, vornamen, nachnamen, mit_matrikelnummer=True):\n",
    "    ''' Erzeuge eine Excel Datei mit zufälligen Namen und Matrikelnummern\n",
    "    \n",
    "    Parameter:\n",
    "    # dateiname (str): Name der Excel Ziel-Datei\n",
    "    # anzahl (int): Anzah der Namen in der Tabelle\n",
    "    # vornamen: Liste mit Vornamen, aus denen zufällig ausgewählt wird\n",
    "    # nachnamen: Liste mit Nachnamen, aus denen zufällig ausgewählt wird\n",
    "    # mit_matrikelnummer (bool): Legt fest, ob eine Spalte mit Matrikelnummern vorangestellt sein soll\n",
    "    \n",
    "    '''\n",
    "    namen = [] # Leere Liste für Namen\n",
    "    wb = openpyxl.Workbook()\n",
    "    sheet = wb.active\n",
    "    sheet.title = 'Teilnehmer'\n",
    "    # YOUR CODE HERE\n",
    "    raise NotImplementedError()\n",
    "\n",
    "generiere_teilnehmerliste('TN-A.xlsx', 30, vornamen, nachnamen)\n",
    "generiere_teilnehmerliste('TN-B.xlsx', 20, vornamen, nachnamen, False)"
   ]
  },
  {
   "cell_type": "code",
   "execution_count": null,
   "id": "blond-finland",
   "metadata": {
    "deletable": false,
    "editable": false,
    "nbgrader": {
     "cell_type": "code",
     "checksum": "a572983c54eab89c044dbf472dcc9c3f",
     "grade": true,
     "grade_id": "cell-ed79a8fb4cc0c1c0",
     "locked": true,
     "points": 1,
     "schema_version": 3,
     "solution": false,
     "task": false
    }
   },
   "outputs": [],
   "source": [
    "wbA = openpyxl.load_workbook('TN-A.xlsx')\n",
    "wbB = openpyxl.load_workbook('TN-B.xlsx')\n",
    "sheetA = wbA['Teilnehmer']\n",
    "sheetB = wbB['Teilnehmer']\n",
    "assert sheetA.max_row==31, \"Falsche anzahl von Zeilen in TN-A.xlsx\"\n",
    "assert sheetB.max_row==21, \"Falsche anzahl von Zeilen in TN-B.xlsx\"\n"
   ]
  },
  {
   "cell_type": "markdown",
   "id": "fallen-blade",
   "metadata": {},
   "source": [
    "### Aufgabe 2\n",
    "\n",
    "Wir haben nun zwei Excel Arbeitsmappen `'TN-A.xlsx` und `'TN-B.xlsx`, wobei die erste Namen und Matrikelnummern enthält, die zweite nur Namen.\n",
    "\n",
    "Wir wollen nun sicherstellen, das in der ersten Tabelle ausschließlich Namen vorkommen, die auch in der zweiten Datei vorkommen.\n",
    "Die nicht in beiden Tabellen vorkommenden Namen sollen also komplett, mit Matrikelnummer gelöscht werden.\n",
    "Hierzu können Sie eine neue Datei anlegen, oder Sie schauen nach, wie man in *openpyxl* Zeilen löschen kann.\n",
    "Die Hilfe-Funktion kann hier nützlich sein (`help(openpyxl.worksheet.worksheet.Worksheet)`), oder Sie suchen im Netz nach *delete rows* im Zusammenhang mit *openpyxl*."
   ]
  },
  {
   "cell_type": "code",
   "execution_count": null,
   "id": "organizational-decade",
   "metadata": {
    "deletable": false,
    "nbgrader": {
     "cell_type": "code",
     "checksum": "d95f7fb53e29fe5804954f4bca7c8a7c",
     "grade": false,
     "grade_id": "cell-c36aecc1b00f6a9e",
     "locked": false,
     "schema_version": 3,
     "solution": true,
     "task": false
    }
   },
   "outputs": [],
   "source": [
    "wbA = openpyxl.load_workbook('TN-A.xlsx')\n",
    "wbB = openpyxl.load_workbook('TN-B.xlsx')\n",
    "\n",
    "sheetA = wbA['Teilnehmer']\n",
    "sheetB = wbB['Teilnehmer']\n",
    "\n",
    "\n",
    "# YOUR CODE HERE\n",
    "raise NotImplementedError()\n",
    "\n",
    "\n",
    "wbA.save('TN-A.xlsx')  \n",
    "print(f\"Blatt 'TN-A.xlsx' hat noch {sheetA.max_row} Zeilen\")\n",
    "    "
   ]
  },
  {
   "cell_type": "code",
   "execution_count": null,
   "id": "turkish-summit",
   "metadata": {
    "deletable": false,
    "editable": false,
    "nbgrader": {
     "cell_type": "code",
     "checksum": "23e70540999535aecd1aceb58b7b9cf7",
     "grade": true,
     "grade_id": "cell-c93b10b3156d5d7a",
     "locked": true,
     "points": 1,
     "schema_version": 3,
     "solution": false,
     "task": false
    }
   },
   "outputs": [],
   "source": [
    "from nose.tools import assert_in\n",
    "\n",
    "wbA = openpyxl.load_workbook('TN-A.xlsx')\n",
    "wbB = openpyxl.load_workbook('TN-B.xlsx')\n",
    "sheetA = wbA['Teilnehmer']\n",
    "sheetB = wbB['Teilnehmer']"
   ]
  },
  {
   "cell_type": "code",
   "execution_count": null,
   "id": "altered-matter",
   "metadata": {},
   "outputs": [],
   "source": []
  }
 ],
 "metadata": {
  "kernelspec": {
   "display_name": "Python 3",
   "language": "python",
   "name": "python3"
  },
  "language_info": {
   "codemirror_mode": {
    "name": "ipython",
    "version": 3
   },
   "file_extension": ".py",
   "mimetype": "text/x-python",
   "name": "python",
   "nbconvert_exporter": "python",
   "pygments_lexer": "ipython3",
   "version": "3.7.6"
  }
 },
 "nbformat": 4,
 "nbformat_minor": 5
}
