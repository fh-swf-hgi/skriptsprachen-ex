{
 "cells": [
  {
   "cell_type": "markdown",
   "id": "designed-rebel",
   "metadata": {},
   "source": [
    "<figure>\n",
    "  <IMG SRC=\"https://upload.wikimedia.org/wikipedia/commons/thumb/d/d5/Fachhochschule_Südwestfalen_20xx_logo.svg/320px-Fachhochschule_Südwestfalen_20xx_logo.svg.png\" WIDTH=250 ALIGN=\"right\">\n",
    "</figure>\n",
    "\n",
    "# Skriptsprachen\n",
    "### Sommersemester 2021\n",
    "Prof. Dr. Heiner Giefers"
   ]
  },
  {
   "cell_type": "markdown",
   "id": "offshore-current",
   "metadata": {},
   "source": [
    "### Dekorateure"
   ]
  },
  {
   "cell_type": "markdown",
   "id": "signed-updating",
   "metadata": {},
   "source": [
    "Der Python-Interpreter besitzt eine maximale Rekursionstiefe.\n",
    "Beim Erreichen des festgesetzten Limits bricht der Interpreter die Rekursion ab und wirft eine `RecursionError` Exception.\n",
    "Wie hoch das eingestellte Limit ist, können Sie über das `sys`-Modul einsehen:"
   ]
  },
  {
   "cell_type": "code",
   "execution_count": null,
   "id": "dress-montana",
   "metadata": {},
   "outputs": [],
   "source": [
    "import sys\n",
    "sys.getrecursionlimit()"
   ]
  },
  {
   "cell_type": "markdown",
   "id": "twelve-absorption",
   "metadata": {},
   "source": [
    "Die folgende Funktion beinhaltete eine theoretisch endlose Rekursion ab.\n",
    "Nach einem Aufruf sollten Sie den *Call Stack* mit der entsprechenden Fehlermeldung sehen."
   ]
  },
  {
   "cell_type": "code",
   "execution_count": null,
   "id": "cooperative-matter",
   "metadata": {},
   "outputs": [],
   "source": [
    "counter = 0\n",
    "def f():\n",
    "    global counter\n",
    "    counter+=1\n",
    "    return f()\n",
    "\n",
    "f()"
   ]
  },
  {
   "cell_type": "code",
   "execution_count": null,
   "id": "intended-pavilion",
   "metadata": {},
   "outputs": [],
   "source": [
    "counter"
   ]
  },
  {
   "cell_type": "markdown",
   "id": "endangered-smooth",
   "metadata": {},
   "source": [
    "**Aufgabe:** Schreiben Sie einen *Function Decorator* `safe_recursion` mit dem Sie eine Rekursive Funktion absichern können.\n",
    "Die dekorierte Funktion soll die Rekursion in einem `try`-`except`-Block aufrufen und eine `RecursionError` Exception abfangen.\n",
    "Der Decorator soll selbsständig einen Counter implementieren mit der die Rekursionstiefe der Funktion mitverfolgt wird. \n",
    "Im Fall eines `RecursionError` soll die Rekursionstiefe ausgegeben werden.\n",
    "\n",
    "*Hinweis:* Um den Zähler in der Decorator Funktion zu speichern, können die dem Funktionsobjekt ein Attribut hinzufügen. Das sieht etwas \"sonderbar\" aus, da Funktionen in Python aber *ganz normale Objekte* sind, ist dies ohne weiteres möglich.\n",
    "In der folgenden Funktion `test` weisen wir innerhalb des Funktionskörpers dem Attribut `test.wert`der Wert 42 zu.\n",
    "`wert` ist nun ein Attribut des Funktionsobjekts `test`.\n",
    "Wir können den Wert also mit `test.wert` abrufen."
   ]
  },
  {
   "cell_type": "code",
   "execution_count": null,
   "id": "southwest-solid",
   "metadata": {},
   "outputs": [],
   "source": [
    "def test():\n",
    "    test.wert = 42\n",
    "    return 123\n",
    "\n",
    "print(test())\n",
    "test.wert"
   ]
  },
  {
   "cell_type": "code",
   "execution_count": null,
   "id": "willing-variance",
   "metadata": {
    "deletable": false,
    "nbgrader": {
     "cell_type": "code",
     "checksum": "6e69ee9f328db79b5c4b71a69a858083",
     "grade": false,
     "grade_id": "cell-0364f7d02714f914",
     "locked": false,
     "schema_version": 3,
     "solution": true,
     "task": false
    }
   },
   "outputs": [],
   "source": [
    "def safe_recursion(func):\n",
    "    # YOUR CODE HERE\n",
    "    raise NotImplementedError()"
   ]
  },
  {
   "cell_type": "code",
   "execution_count": null,
   "id": "rough-survivor",
   "metadata": {
    "deletable": false,
    "editable": false,
    "nbgrader": {
     "cell_type": "code",
     "checksum": "3e2593efc0c6a966783d6d9c37f4521f",
     "grade": true,
     "grade_id": "cell-d80c38ab5904694d",
     "locked": true,
     "points": 0,
     "schema_version": 3,
     "solution": false,
     "task": false
    }
   },
   "outputs": [],
   "source": [
    "@safe_recursion\n",
    "def f():\n",
    "    return f()\n",
    "f()"
   ]
  },
  {
   "cell_type": "markdown",
   "id": "western-worst",
   "metadata": {},
   "source": [
    "### SQLite Datenbank"
   ]
  },
  {
   "cell_type": "markdown",
   "id": "legendary-deviation",
   "metadata": {},
   "source": [
    "In dieser Aufgabe wollen wir eine SQLite Datenbank verwenden, um Musik Alben lokal abzuspeichern.\n",
    "Um an sinnvolle Daten zu kommen, verwenden wir die frei zugängliche Datenbank des [Musicbrainz Projekts](https://musicbrainz.org/)."
   ]
  },
  {
   "cell_type": "code",
   "execution_count": null,
   "id": "yellow-scottish",
   "metadata": {},
   "outputs": [],
   "source": [
    "import sqlite3\n",
    "import musicbrainzngs as mb\n",
    "\n",
    "mb.set_useragent(\"Skriptsprachen\",\"0.1\", contact=\"none\")\n",
    "\n",
    "def alben_von(artist):\n",
    "    #q = mb.search_releases(artist=artist, type=\"Album\")\n",
    "    search_results = mb.search_artists(artist)\n",
    "    artist_id = search_results['artist-list'][0]['id']\n",
    "    q = mb.browse_releases(artist=artist_id, release_type=['album'], limit=100)\n",
    "    result = []\n",
    "    for i,r in enumerate(q['release-list']):\n",
    "        if 'date' in r and 'title' in r:\n",
    "            result.append((artist, r['title'], r['date']))\n",
    "    return result\n",
    "        \n",
    "alben_von(\"Neil Young\")[0:9]\n",
    "    "
   ]
  },
  {
   "cell_type": "markdown",
   "id": "impressive-boulder",
   "metadata": {},
   "source": [
    "Nun verbinden wir uns mit einer lokalen SQLite Datenbank, in der wir die heruntergeladenen Informationen ablegen wollen.\n",
    "Wenn Sie eine Verbindung zu einer nicht vorhandenen SQLite-Datenbankdatei herstellen, erstellt SQLite automatisch die neue Datenbank mit dem abgegebenen Dateinamen.\n",
    "\n",
    "Eine Aufgebaute DB-Verbindung sollte in jedem Fall wieder geschlossen werden, da ansonsten die Datenbank gelockt bleibt.\n",
    "Wir werden gleich eine Möglichkeit sehen, wie man das explizite Schließen umgehen kann."
   ]
  },
  {
   "cell_type": "code",
   "execution_count": null,
   "id": "electrical-devil",
   "metadata": {},
   "outputs": [],
   "source": [
    "con = sqlite3.connect('db.sqlite3', timeout=10)\n",
    "con.close()"
   ]
  },
  {
   "cell_type": "markdown",
   "id": "bizarre-german",
   "metadata": {},
   "source": [
    "Über Context-Manager, die mit dem Schlüsselwort `with` erzeugt werden, kann man den Zugriff auf geteilte Ressourcen, wie Dateien oder eben Datenbanken kontrollieren.\n",
    "Ein Context-Manager Klasse implementiert die *Magic Methods* `__enter__` und `__exit__`.\n",
    "So kann die die Ressource in der `__enter__`-Methode angefordert und beim Verlassen des `with` Blockes wieder über die `__exit__`-Methode freigegeben werden. \n",
    " "
   ]
  },
  {
   "cell_type": "code",
   "execution_count": null,
   "id": "loaded-plaintiff",
   "metadata": {},
   "outputs": [],
   "source": [
    "with sqlite3.connect('db.sqlite3', timeout=10) as con:\n",
    "    print(\"Verbunden mit db.sqlite3\")"
   ]
  },
  {
   "cell_type": "markdown",
   "id": "internal-noise",
   "metadata": {},
   "source": [
    "Da wir in dieser Aufgabe immer mit einer leeren Datenbank starten möchten, löschen wir zunächst die einige *Table* unserer DB.\n",
    "Dabei gibt es das Problem, dass die Tabelle beim ersten Aufruf noch gar nicht vorhanden ist:"
   ]
  },
  {
   "cell_type": "code",
   "execution_count": null,
   "id": "broken-hygiene",
   "metadata": {},
   "outputs": [],
   "source": [
    "with sqlite3.connect('db.sqlite3', timeout=10) as con:\n",
    "    con.execute(\"DROP TABLE Albums\")"
   ]
  },
  {
   "cell_type": "markdown",
   "id": "fiscal-course",
   "metadata": {},
   "source": [
    "**Aufgabe:** Sichern Sie die `DROP TABLE` Anfrage mit Ausnahmebehandlung ab, sodass es nicht mehr zu einem Fehler kommt, sondern nur noch eine Hinweis ausgegeben wird, dass die Tabelle nicht existiert.\n",
    "Um welche Exception-Klasse handelt es sich? Fangen Sie nur den speziellen Fehler ab, der bei dem Datenbankzugriff Auftritt. Geben Sie die ursprüngliche Fehlermeldung der Exception (\"no such table: Albums\") mit aus."
   ]
  },
  {
   "cell_type": "code",
   "execution_count": null,
   "id": "respective-transmission",
   "metadata": {
    "deletable": false,
    "nbgrader": {
     "cell_type": "code",
     "checksum": "6ddacebc9d7c2c70bbc09f7c7f6355a9",
     "grade": false,
     "grade_id": "cell-fb1bb258d575beae",
     "locked": false,
     "schema_version": 3,
     "solution": true,
     "task": false
    }
   },
   "outputs": [],
   "source": [
    "with sqlite3.connect('db.sqlite3', timeout=10) as con:\n",
    "    # YOUR CODE HERE\n",
    "    raise NotImplementedError()"
   ]
  },
  {
   "cell_type": "code",
   "execution_count": null,
   "id": "terminal-shoulder",
   "metadata": {
    "deletable": false,
    "editable": false,
    "nbgrader": {
     "cell_type": "code",
     "checksum": "afc5091cd2e0cfceb3fff54aa7311632",
     "grade": true,
     "grade_id": "cell-7867bcc63ebfcc0e",
     "locked": true,
     "points": 0,
     "schema_version": 3,
     "solution": false,
     "task": false
    }
   },
   "outputs": [],
   "source": [
    "%rerun"
   ]
  },
  {
   "cell_type": "markdown",
   "id": "separated-intention",
   "metadata": {},
   "source": [
    "Nun erstellen wir eine neue *Table* in der Datenbank."
   ]
  },
  {
   "cell_type": "code",
   "execution_count": null,
   "id": "detected-typing",
   "metadata": {},
   "outputs": [],
   "source": [
    "with sqlite3.connect('db.sqlite3', timeout=10) as con:\n",
    "    cur = con.cursor()\n",
    "    albums_sql = \"\"\"\n",
    "    CREATE TABLE Albums (\n",
    "        id integer PRIMARY KEY,\n",
    "        artist text NOT NULL,\n",
    "        title text NOT NULL,\n",
    "        date date,\n",
    "        CONSTRAINT unq UNIQUE (artist, title))\"\"\"\n",
    "    cur.execute(albums_sql)\n"
   ]
  },
  {
   "cell_type": "markdown",
   "id": "cardiovascular-genesis",
   "metadata": {},
   "source": [
    "Wir können nun die Veröffentlichungen von Musikkünstlern oder Bands herunterladen und in der Tabelle ablegen.\n",
    "Allerdings liefert uns Musicbrainz häufig auch Varianten ein und desselben Albums.\n",
    "Wir möchten aber einen Albumtitel nur einmalig in unserer DB ablegen.\n",
    "Daher auch die Forderung `UNIQUE (artist, title)` im Datenbankschema.\n",
    "Wenn wir versuchen, ein gleichnamiges Album erneut einzufügen, resultiert dies in einem Fehler."
   ]
  },
  {
   "cell_type": "code",
   "execution_count": null,
   "id": "present-length",
   "metadata": {},
   "outputs": [],
   "source": [
    "a = alben_von(\"Neil Young\")\n",
    "\n",
    "for r in a:\n",
    "    insert_sql = f\"INSERT INTO Albums (artist, title, date) VALUES (\\\"{r[0]}\\\", \\\"{r[1]}\\\", \\\"{r[2]}\\\")\"\n",
    "    with sqlite3.connect('db.sqlite3', timeout=10) as con:\n",
    "        cur.execute(insert_sql)"
   ]
  },
  {
   "cell_type": "markdown",
   "id": "piano-radius",
   "metadata": {},
   "source": [
    "**Aufgabe:** Fangen Sie den Fehler beim Eintragen doppelter Titel ab, sodass nur noch ein Hinweis auf der Standardausgabe angezeigt wird."
   ]
  },
  {
   "cell_type": "code",
   "execution_count": null,
   "id": "acute-asbestos",
   "metadata": {
    "deletable": false,
    "nbgrader": {
     "cell_type": "code",
     "checksum": "3c8baa893f288f53d920b5343d9cd6eb",
     "grade": false,
     "grade_id": "cell-65fcbd721cfbfb26",
     "locked": false,
     "schema_version": 3,
     "solution": true,
     "task": false
    }
   },
   "outputs": [],
   "source": [
    "a = alben_von(\"Neil Young\")\n",
    "\n",
    "for r in a:\n",
    "    insert_sql = f\"INSERT INTO Albums (artist, title, date) VALUES (\\\"{r[0]}\\\", \\\"{r[1]}\\\", \\\"{r[2]}\\\")\"\n",
    "    # YOUR CODE HERE\n",
    "    raise NotImplementedError()"
   ]
  },
  {
   "cell_type": "code",
   "execution_count": null,
   "id": "theoretical-tourism",
   "metadata": {
    "deletable": false,
    "editable": false,
    "nbgrader": {
     "cell_type": "code",
     "checksum": "4f98feef51c7ce27efb1c2cc52dbfca6",
     "grade": true,
     "grade_id": "cell-aaed3f30a89ae14f",
     "locked": true,
     "points": 0,
     "schema_version": 3,
     "solution": false,
     "task": false
    }
   },
   "outputs": [],
   "source": [
    "%rerun"
   ]
  },
  {
   "cell_type": "markdown",
   "id": "hearing-commerce",
   "metadata": {},
   "source": [
    "Wir können nun noch den Inhalt der Datenbank ausgeben:"
   ]
  },
  {
   "cell_type": "code",
   "execution_count": null,
   "id": "middle-canadian",
   "metadata": {},
   "outputs": [],
   "source": [
    "with sqlite3.connect('db.sqlite3', timeout=10) as con:\n",
    "    cur.execute(\"SELECT * FROM Albums\")\n",
    "    print(cur.fetchall())"
   ]
  },
  {
   "cell_type": "markdown",
   "id": "compliant-westminster",
   "metadata": {},
   "source": [
    "Wir definieren nun eine Funktion, mit der wir ein Release-Datum aus der Datenbank lesen können:"
   ]
  },
  {
   "cell_type": "code",
   "execution_count": null,
   "id": "sonic-sally",
   "metadata": {},
   "outputs": [],
   "source": [
    "def get_date_of_release(artist, title):\n",
    "    with sqlite3.connect('db.sqlite3', timeout=10) as con:\n",
    "        get_sql = f\"SELECT date FROM Albums WHERE artist='{artist}' AND title='{title}'\"\n",
    "        cur.execute(get_sql)\n",
    "        r = cur.fetchone()\n",
    "        if r:\n",
    "            return r[0]\n",
    "        else:\n",
    "            return None"
   ]
  },
  {
   "cell_type": "markdown",
   "id": "twelve-radio",
   "metadata": {},
   "source": [
    "Da man annehmen kann, dass sich die Release Daten nicht ändern, können wir die Rückgaben der Methode lokal cachen.\n",
    "Damit spart man sich Zugriffe auf die Datenbank, für wiederkehrende Anfragen mit gleichen Parametern.\n",
    "\n",
    "**Aufgabe:** Verwenden Sie den Caching Decorator (aus dem Arbeitsblatt 15) für die Methode `get_date_of_release`."
   ]
  },
  {
   "cell_type": "code",
   "execution_count": null,
   "id": "critical-person",
   "metadata": {
    "deletable": false,
    "nbgrader": {
     "cell_type": "code",
     "checksum": "06efb73a090c044e701be11ed47e5074",
     "grade": false,
     "grade_id": "cell-84807fb94174334c",
     "locked": false,
     "schema_version": 3,
     "solution": true,
     "task": false
    }
   },
   "outputs": [],
   "source": [
    "def cached(f):\n",
    "    # YOUR CODE HERE\n",
    "    raise NotImplementedError()"
   ]
  },
  {
   "cell_type": "code",
   "execution_count": null,
   "id": "modified-details",
   "metadata": {
    "deletable": false,
    "editable": false,
    "nbgrader": {
     "cell_type": "code",
     "checksum": "6124c5e6c6c65aade92c8728fa860a2a",
     "grade": true,
     "grade_id": "cell-014a8fe7b61719da",
     "locked": true,
     "points": 0,
     "schema_version": 3,
     "solution": false,
     "task": false
    }
   },
   "outputs": [],
   "source": [
    "@cached\n",
    "def get_date_of_release(artist, title):\n",
    "    with sqlite3.connect('db.sqlite3', timeout=10) as con:\n",
    "        get_sql = f\"SELECT date FROM Albums WHERE artist='{artist}' AND title='{title}'\"\n",
    "        cur.execute(get_sql)\n",
    "        r = cur.fetchone()\n",
    "        if r:\n",
    "            return r[0]\n",
    "        else:\n",
    "            return None"
   ]
  },
  {
   "cell_type": "code",
   "execution_count": null,
   "id": "competent-consciousness",
   "metadata": {},
   "outputs": [],
   "source": [
    "%timeit -n 1 -r 1 d = get_date_of_release(\"Neil Young\", \"Freedom\")"
   ]
  },
  {
   "cell_type": "code",
   "execution_count": null,
   "id": "capable-overall",
   "metadata": {},
   "outputs": [],
   "source": [
    "%timeit -n 1 -r 1 d = get_date_of_release(\"Neil Young\", \"Freedom\")"
   ]
  },
  {
   "cell_type": "code",
   "execution_count": null,
   "id": "american-fairy",
   "metadata": {},
   "outputs": [],
   "source": []
  }
 ],
 "metadata": {
  "kernelspec": {
   "display_name": "Python 3",
   "language": "python",
   "name": "python3"
  },
  "language_info": {
   "codemirror_mode": {
    "name": "ipython",
    "version": 3
   },
   "file_extension": ".py",
   "mimetype": "text/x-python",
   "name": "python",
   "nbconvert_exporter": "python",
   "pygments_lexer": "ipython3",
   "version": "3.7.3"
  }
 },
 "nbformat": 4,
 "nbformat_minor": 5
}
