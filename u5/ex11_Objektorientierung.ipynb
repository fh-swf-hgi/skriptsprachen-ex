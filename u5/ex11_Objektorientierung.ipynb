{
 "cells": [
  {
   "cell_type": "markdown",
   "id": "distinguished-recorder",
   "metadata": {},
   "source": [
    "<figure>\n",
    "  <IMG SRC=\"https://upload.wikimedia.org/wikipedia/commons/thumb/d/d5/Fachhochschule_Südwestfalen_20xx_logo.svg/320px-Fachhochschule_Südwestfalen_20xx_logo.svg.png\" WIDTH=250 ALIGN=\"right\">\n",
    "</figure>\n",
    "\n",
    "# Skriptsprachen\n",
    "### Sommersemester 2021\n",
    "Prof. Dr. Heiner Giefers"
   ]
  },
  {
   "cell_type": "markdown",
   "metadata": {},
   "source": [
    "# Objektorientierung"
   ]
  },
  {
   "cell_type": "markdown",
   "metadata": {},
   "source": [
    "Die Objektorientierung ist das zentrale Element in Python. Alles, was Sie mit einem Bezeichner versehen können, ist schlussendlich eine Instanz einer Klasse. Das gilt für elementare Datentypen wie `int` oder `float`, genauso wie für Funktionen und natürlich Klassen selbst. Abhängig von seiner Klasse hat jedes Objekt spezielle Attribute und Methoden.\n",
    "\n",
    "Klassen können von anderen Klassen erben; das gilt für selbst-definierte wie auch für eingebaute Klassen. Dabei werden die Methoden der \"Oberklasse\" in der neuen Klasse zugreifbar und somit wird die Funktionalität der (zumeist generelleren) Oberklasse auf die erbende Klasse übertragen.\n",
    "\n",
    "\n"
   ]
  },
  {
   "cell_type": "markdown",
   "metadata": {},
   "source": [
    "Ein neue Klasse wird über das Schlüsselwort `class` definiert. "
   ]
  },
  {
   "cell_type": "code",
   "execution_count": null,
   "metadata": {},
   "outputs": [],
   "source": [
    "class A():\n",
    "    pass\n",
    "\n",
    "A()"
   ]
  },
  {
   "cell_type": "code",
   "execution_count": null,
   "metadata": {},
   "outputs": [],
   "source": [
    "print(\"A ist vom Typ\", type(A))\n",
    "a = A\n",
    "print(\"a ist vom Typ\", type(a))\n",
    "b = a()\n",
    "print(\"b ist vom Typ\", type(b))"
   ]
  },
  {
   "cell_type": "markdown",
   "metadata": {},
   "source": [
    "## Attribute und Methoden\n",
    "Innerhalb einer Klasse können Sie (wie in einem Modul oder in einer Funktion) Methoden und Attribute definieren. Wenn Sie in der Klasse `A` z.B. ein Attribut `X` anlegen, können Sie für eine Instanz `a` von `A` über `a.X` auf das `X` in dem Objekt (=der Instanz) `a` zugreifen."
   ]
  },
  {
   "cell_type": "code",
   "execution_count": null,
   "metadata": {},
   "outputs": [],
   "source": [
    "class A():  \n",
    "    X = 100\n",
    "\n",
    "a = A()\n",
    "print(a.X)\n",
    "a.X=42\n",
    "print(a.X)\n",
    "b = A()\n",
    "print(b.X)\n",
    "a.Y=12334\n",
    "print(a.Y)"
   ]
  },
  {
   "cell_type": "markdown",
   "metadata": {},
   "source": [
    "Für Methoden funktioniert das ganz ähnlich, allerdings müssen Sie in Python eine besondere Konvention einhalten: **Der erste Parameter einer Methode ist immer eine Referenz auf die Instanz, von der sie aufgerufen wird.** Innerhalb einer Klasse bezeichnet man das aktuelle Objekt mit dem Schlüsselwort `self`.\n",
    "Der Parameter `self` ist allerdings nur bei der Definition der Methode erforderlich. Wird eine Methode über ein Objekt aufgerufen (wie im Beispiel unten mit `a.f()`) so wird das Objekt implizit an die Funktion übergeben."
   ]
  },
  {
   "cell_type": "code",
   "execution_count": null,
   "metadata": {},
   "outputs": [],
   "source": [
    "class A():  \n",
    "    X = 100\n",
    "    def f(self, i):\n",
    "        X = i\n",
    "\n",
    "a = A()\n",
    "print(a.X)\n",
    "a.f(42)\n",
    "print(a.X)"
   ]
  },
  {
   "cell_type": "markdown",
   "metadata": {},
   "source": [
    "Im obigen Beispiel sehen Sie, dass das Attribut `X` des Objekts `a` durch die Funktion `f()` nicht überschrieben wird. Das liegt daran, dass das `X` in `f()` ein lokales Attribut innerhalb der Methode ist. Wenn man das Klassen-Attribut `X` ändern möchte, muss man das Attribut über `self.x` referenzieren."
   ]
  },
  {
   "cell_type": "code",
   "execution_count": null,
   "metadata": {},
   "outputs": [],
   "source": [
    "class A():  \n",
    "    X = 100\n",
    "    def f(self,i):\n",
    "        self.X = i\n",
    "\n",
    "a = A()\n",
    "print(a.X)\n",
    "a.f(42)\n",
    "print(a.X)"
   ]
  },
  {
   "cell_type": "markdown",
   "metadata": {},
   "source": [
    "Eine Methode kann übrigens auch über Ihren Klassennamen aufgerufen werden. In dem Fall muss aber das Objekt als erster Parameter übergeben werden:"
   ]
  },
  {
   "cell_type": "code",
   "execution_count": null,
   "metadata": {},
   "outputs": [],
   "source": [
    "b = A()\n",
    "print(b.X)\n",
    "A.f(b,123)\n",
    "print(b.X)"
   ]
  },
  {
   "cell_type": "markdown",
   "metadata": {},
   "source": [
    "## Konstruktor\n",
    "Klassen haben üblicherweise eine feste Methode, die beim Erstellen einer Instanz initial aufgerufen wird. Diese Methode nennt man auch Konstruktor.\n",
    "Ein Konstruktor innerhalb einer Klasse hat immer den Namen `__init__`, wird aber ansonsten wie eine \"normale\" Methode definiert. Der Konstruktor sollte im Normalfall alle Attribute der Klasse initialisieren.\n",
    "Es gibt keine (echten) Destruktoren, aber die `del`-Operation und die Magic Method `__del__()`"
   ]
  },
  {
   "cell_type": "code",
   "execution_count": null,
   "metadata": {},
   "outputs": [],
   "source": [
    "class A():\n",
    "    def __init__(self,x):\n",
    "        self.X = x\n",
    "    def __del__(self):\n",
    "        print(\"Zerstöre Instanz von A\")\n",
    "\n",
    "a = A(100)\n",
    "print(a.X)\n",
    "del a\n",
    "a"
   ]
  },
  {
   "cell_type": "markdown",
   "metadata": {},
   "source": [
    "## Vererbung\n",
    "Ein wichtiges Konzept in der Objektorientierten Programmierung ist die Vererbung. Neue Klassen können von bestehenden Klassen abgeleitet werden und _erben_ dadurch alle Fähigkeiten ihrer Elternklasse (auch: _Basisklasse_).\n",
    "Im folgenden Beispiel erbt eine Klasse `B` von `A` und ist damit zunächst einmal eine Kopie der Klasse `A`."
   ]
  },
  {
   "cell_type": "code",
   "execution_count": null,
   "metadata": {},
   "outputs": [],
   "source": [
    "class A():\n",
    "    def __init__(self):\n",
    "        self.X = 100\n",
    "\n",
    "class B(A):\n",
    "    pass\n",
    "\n",
    "b = B()\n",
    "b.X"
   ]
  },
  {
   "cell_type": "markdown",
   "metadata": {},
   "source": [
    "Die abgeleitete Klasse kann dann für ihren eigenen Zweck angepasst und erweitert werden. Es können neue Attribute und Methoden eingeführt werden, oder auch bestehende Attribute und Methoden von der Basisklasse überschrieben werden.\n",
    "\n",
    "Im Normalfall ist es sinnvoll, einer abgeleiteten Klasse einen eigenen Konstruktor zu geben, indem man die `__init__`-Methode der Basisklasse überschreibt. Hierbei ist es üblich, den Konstruktor aus der Basisklasse mittels `super().__init__()` aufzurufen und so die bestehenden Initialisierungsschritte der Mutterklassse zu übernehmen.\n",
    "Die Funktion `super()` ermittelt dabei die Basisklasse der aktuellen Klasse."
   ]
  },
  {
   "cell_type": "code",
   "execution_count": null,
   "metadata": {},
   "outputs": [],
   "source": [
    "class A():\n",
    "    def __init__(self):\n",
    "        self.X = 100\n",
    "\n",
    "class B(A):\n",
    "    def __init__(self):\n",
    "        super().__init__()\n",
    "        self.Y = 200\n",
    "\n",
    "b = B()\n",
    "print(b.X, b.Y)"
   ]
  },
  {
   "cell_type": "markdown",
   "metadata": {},
   "source": [
    "Im Unterschied zu Java (aber ähnlich zu C++) ist in Python **Mehrfachvererbung** möglich. Es können also bei der Klassen-Definition mehrere Basisklassen angegeben werden. Dadurch ergeben sich Fragestellungen, vor allem bezüglich der Eindeutigkeit von Referenzen.\n",
    "\n",
    "Solange eine Klasse nur von einer anderen Klasse erbt, sind Bezeichner immer eindeutig. Ein Funktion, die von einer Basisklasse bereit gestellt wird, wird in der neuen Klasse entweder übernommen oder überschrieben. Bei Mehrfachvererbung kann es aber dazu kommen, dass Methoden (gleiches gilt für Attribute) gleichen Namens von verschiedenen Basisklassen geerbt werden. In diesem Fall ist nicht mehr eindeutig, welche Funktion in einem Aufruf durch ein Objekt der Unterklasse gemeint ist. Ein Beispiel:"
   ]
  },
  {
   "cell_type": "code",
   "execution_count": null,
   "metadata": {},
   "outputs": [],
   "source": [
    "class O():\n",
    "    def f(self):\n",
    "        print(\"f() aus O\")\n",
    "class A(O):\n",
    "    pass\n",
    "\n",
    "class B(O):\n",
    "    def f(self):\n",
    "        print(\"f() aus B\")\n",
    "\n",
    "class C(B,A):\n",
    "    pass\n",
    "\n",
    "c = C()\n",
    "c.f()"
   ]
  },
  {
   "cell_type": "markdown",
   "metadata": {},
   "source": [
    "In diesem Beispiel ist es nun nicht mehr so klar ersichtlich, welche `f`-Methode am Ende aufgerufen wird. Daher ist die Reihenfolge, in der nach möglichen Referenzen für ein Methodenaufruf in den Oberklassen einer Klasse gesucht wird,  durch die sogenannte _Method Resolution Order_ festgelegt."
   ]
  },
  {
   "cell_type": "markdown",
   "metadata": {},
   "source": [
    "Man kann die geerbten Methoden auch direkt über Ihren Klassennamen ansprechen. Dies ist z.B. für das Aufrufen mehrerer Konstruktoren von Basisklassen sinnvoll."
   ]
  },
  {
   "cell_type": "code",
   "execution_count": null,
   "metadata": {},
   "outputs": [],
   "source": [
    "class A():\n",
    "    def __init__(self):\n",
    "        print(\"ich bin ein A\")\n",
    "class B():\n",
    "    def __init__(self):\n",
    "        print(\"ich bin ein B\")\n",
    "\n",
    "class C(A,B):\n",
    "    def __init__(self):\n",
    "        A.__init__(self)\n",
    "        print(\"und\")\n",
    "        B.__init__(self)\n",
    "c=C()"
   ]
  },
  {
   "cell_type": "markdown",
   "metadata": {},
   "source": [
    "## Zugriffsregeln\n",
    "\n",
    "Zugriffsmodifikatoren, so wie etwa _public_ und _private_ in Java, gibt es in Python nicht. Sie können (technisch gesehen) jedes Attribut eines Objektes \"von Außen\" über die Objekt-Referenz zugreifen und auch überschreiben.\n",
    "Es gibt allerdings einige Konventionen, die Python-Entwickler benutzen, um zu signalisieren, dass Attribute einen \"geschützten\" Status haben sollen. So ist es üblich, dass alle Attribute, die mit einem `_` (Unterstrich) beginnen,  außerhalb der Klassendefinition nicht direkt zugegriffen werden sollen. Für solche Attribute können ggf. _setter_ und _getter_ Methoden implementiert werden.\n",
    "Über die eingebaute Funktion `property([fget,fset,fdel,doc])` kann ein Property-Attribut erzeugt werden, über dessen Namen man dann einfachen Zugriff auf die getter und setter Methoden (sowie eine delete Methode und einen _Docstring_ zum Attribut) hat."
   ]
  },
  {
   "cell_type": "code",
   "execution_count": null,
   "metadata": {},
   "outputs": [],
   "source": [
    "class A():\n",
    "    def __init__(self):\n",
    "        self._X = 100\n",
    "        self.__X = 200\n",
    "        \n",
    "    def get__X(self):\n",
    "        print(\"Get __X\")\n",
    "        return self.__X\n",
    "    \n",
    "    def get_X(self):\n",
    "        print(\"Get X\")\n",
    "        return self._X\n",
    "    def set_X(self,x):\n",
    "        print(\"Set X\")\n",
    "        self._X = x\n",
    "    def delX():\n",
    "        del self._X\n",
    "    X = property(get_X,set_X,None,'Ein geschütztes Attribut X')\n",
    "\n",
    "a=A()\n",
    "a.X = 42\n",
    "print(a._X)\n",
    "print(a.X)\n",
    "a._X = 123\n",
    "print(a.X)\n",
    "help(A.X)"
   ]
  },
  {
   "cell_type": "markdown",
   "metadata": {},
   "source": [
    "Im obigen Beispiel wird neben dem Attribut `_X` ein zweites Attribut `__X` angelegt. Sind dem Attributnamen zwei Unterstriche vorangestellt, ändert der Python Interpreter den Namen intern um, so dass er nicht mehr direkt von außerhalb der Klasse zugegriffen werden kann."
   ]
  },
  {
   "cell_type": "code",
   "execution_count": null,
   "metadata": {},
   "outputs": [],
   "source": [
    "print(a.get__X())\n",
    "a.__X"
   ]
  },
  {
   "cell_type": "code",
   "execution_count": null,
   "metadata": {},
   "outputs": [],
   "source": [
    "a._A__X"
   ]
  },
  {
   "cell_type": "markdown",
   "metadata": {},
   "source": [
    "## Statische Methoden und Klassenmethoden\n",
    "Eine Methode aus dem globalen Namensraum kann über die eingebaute Funktion `staticmethod()` als statische Methode in eine Klasse übernommen werden. Sie kann dann über die Klasse selbst oder Objekte der Klasse aufgerufen werden."
   ]
  },
  {
   "cell_type": "code",
   "execution_count": null,
   "metadata": {},
   "outputs": [],
   "source": [
    "class A():\n",
    "    def f():\n",
    "        print(\"Hallo von f()\")\n",
    "    \n",
    "    def h(self):\n",
    "        pass\n",
    "    g = staticmethod(f)\n",
    "\n",
    "A.g()\n",
    "a = A()\n",
    "a.g()"
   ]
  },
  {
   "cell_type": "markdown",
   "metadata": {},
   "source": [
    "Ähnlich zu statischen Methoden verhalten sich Klassenmethoden. Auch sie beziehen sich nur auf die Klasse selbst und nicht auf Instanzen der Klasse. Im Unterschied zu statischen Methoden werden Klassenmethoden im Namensraum der Klasse definiert und erwarten als ersten Parameter (in der Funktionssignatur) eine Referenz auf die Klasse. Klassenmethoden können also nicht alleine stehen, sondern gehören immer zu einer Klasse."
   ]
  },
  {
   "cell_type": "code",
   "execution_count": null,
   "metadata": {},
   "outputs": [],
   "source": [
    "class A():\n",
    "    def f(c):\n",
    "        print(\"Hallo von %s\" % c)\n",
    "    g = classmethod(f)\n",
    "class B(A):\n",
    "    pass\n",
    "\n",
    "A.g()\n",
    "a = A()\n",
    "b = B()\n",
    "a.g()\n",
    "b.g()"
   ]
  },
  {
   "cell_type": "markdown",
   "metadata": {},
   "source": [
    "Auch Klassenattribute sind bereits in der Klasse definiert und werden bei einer Objekterzeugung in die Instanz übernommen. Auch sie können, ohne dass eine Instanz existiert, über den Namen der Klasse zugegriffen werden."
   ]
  },
  {
   "cell_type": "code",
   "execution_count": null,
   "metadata": {},
   "outputs": [],
   "source": [
    "class A():\n",
    "    X = 100\n",
    "\n",
    "class B(A):\n",
    "    pass\n",
    "\n",
    "a = A()\n",
    "b = B()\n",
    "b.X = 200\n",
    "print(a.X, B.X, b.X)"
   ]
  },
  {
   "cell_type": "markdown",
   "metadata": {},
   "source": [
    "## Magic Methods\n",
    "In Python gibt es eine ganze Reihe von speziellen Attributen und Namen mit einer vordefinierten Funktion. Das heißt, der Interpreter sucht bei bestimmten Operationen nach Methoden oder Attributen mit einem festdefinierten Namen. Sie können diese Methoden und Attribute überschreiben, um die vordefinierte Funktionalität zu ersetzen oder zu erweitern.\n",
    "Die `__init__(self,...)` Funktion ist ein Beispiel für eine Magic Method. Wenn Sie eine neue Instanz einer Klasse erzeugen, sucht der Interpreter nach einer Methode mit genau diesem Namen und führt sie aus.\n",
    "Es gibt auch Attribute mit vordefinierter Bedeutung. Der _Docstring_ `__doc__` ist ein Beispiel für solch ein Magic Attribute."
   ]
  },
  {
   "cell_type": "code",
   "execution_count": null,
   "metadata": {},
   "outputs": [],
   "source": [
    "class A():\n",
    "    '''Eine Klasse A'''\n",
    "    def __init__(self):\n",
    "        self.X = 100\n",
    "\n",
    "class B(A):\n",
    "    pass\n",
    "\n",
    "a = A()\n",
    "b = B()\n",
    "print(b.X)\n",
    "print(A.__doc__)\n",
    "B.__name__"
   ]
  },
  {
   "cell_type": "markdown",
   "metadata": {},
   "source": [
    "Besonders hilfreich sind Magic Methods um sehr kompakten Code zu ermöglichen. So können etwa Operatoren wie `+`, `-`, `*`, ... überladen werden, indem man die Methoden `__add__`, `__sub__`, `__mul__`, ... implementiert. Damit können Sie z.B. eine Plus-Operation für Ihre neue Klasse völlig frei definieren. Diese Methode wird immer dann aufgerufen, wenn Sie zwei Objekte der Klasse mit einem `+`-Symbol verbinden."
   ]
  },
  {
   "cell_type": "code",
   "execution_count": null,
   "metadata": {},
   "outputs": [],
   "source": [
    "class A():\n",
    "    def __init__(self,x):\n",
    "        self.X = x\n",
    "    def __add__(self,other):\n",
    "        neu = A(\"\")\n",
    "        neu.X = self.X + \" und \" + other.X\n",
    "        return neu\n",
    "\n",
    "a = A(\"Ein A\")\n",
    "b = A(\"noch ein A\")\n",
    "(a+b).X"
   ]
  },
  {
   "cell_type": "markdown",
   "metadata": {},
   "source": [
    "## Aufgaben\n",
    "\n",
    "Für die Aufgaben zum Thema \"Objektorientierung\" benutzen wir (so wie das Lehrbuch) ein Beispiel zur Kontoverwaltung.\n",
    "Es sollen mehrere Klassen entwickelt werden, die teilweise voneinander erben.\n",
    "In der ersten Aufgabe geht es um eine Klasse, die den Wert des Kontostands speichert. Hierfür ist es sinnvoll, sich zunächst ein Phänomen anzuschauen, das in vielen Bereichen der computergestützten Mathematik wichtig ist.\n",
    "\n",
    "Normalerweise benutzen Computer eine Binärdarstellung um Zahlen zu kodieren. Das gilt für alle Zahlen, egal ob ganzzahlige oder Fließkomma Datentypen. Allerdings treten bei der Darstellung von Fließkommazahlen Rundungsfehler auf, sofern sich der Betrag nicht genau als Summe von 2-er Potenzen mit der Anzahl der verfügbaren Bits darstellen lässt. Je mehr Bits für die Speicherung der Zahl benutzt werden, umso gnauer die Darstellung.\n",
    "Python benutzt zur internen Darstellung von `float` Zahlen den 64-bit `double` Datentyp, den Sie z.B. aus C++ kennen.\n",
    "Trotz dieser \"doppelten\" Präzision, kann es zu signifikanten Berechnungsfehlern kommen:"
   ]
  },
  {
   "cell_type": "code",
   "execution_count": null,
   "metadata": {},
   "outputs": [],
   "source": [
    "a = 1.1; b = 1.3\n",
    "print(\"%f\" % (a-b))\n",
    "(a-b)"
   ]
  },
  {
   "cell_type": "markdown",
   "metadata": {},
   "source": [
    "Wenn sehr viele Einzeloperationen durchgeführt werden, kann sich diese kleine Ungenauigkeit schnell aufsummieren und so ein erheblicher Fehler entstehen.\n",
    "Betrachten Sie folgendes Beispiel: Sie haben ein \"leeres\" Bankkonto und überweisen dorthin zunächst 1,10 EUR und buchen dann direkt wieder einen Euro ab. Wenn Sie sich den Kontostand anzeigen lassen, sehen Sie, dass etwas mehr als die erwarteten 10 Cent auf dem Konto sind."
   ]
  },
  {
   "cell_type": "code",
   "execution_count": null,
   "metadata": {},
   "outputs": [],
   "source": [
    "kontostand = 0.0\n",
    "kontostand += 1.1\n",
    "kontostand -= 1.0    \n",
    "print(\"%s Euro\" % kontostand)"
   ]
  },
  {
   "cell_type": "markdown",
   "metadata": {},
   "source": [
    "Wenn Sie diesen Vorgang sehr oft wiederholen und dann den ursprünglich eingezahlten Betrag komplett abziehen, sehen Sie, dass ein erhebliches Plus auf dem Konto verbleibt."
   ]
  },
  {
   "cell_type": "code",
   "execution_count": null,
   "metadata": {},
   "outputs": [],
   "source": [
    "restbetrag = kontostand\n",
    "anzahl_transaktionen = 1e20\n",
    "kontostand = anzahl_transaktionen * restbetrag\n",
    "summe_komplett = 0.1 * anzahl_transaktionen\n",
    "kontostand -= summe_komplett\n",
    "print(\"%s Euro\" % kontostand)"
   ]
  },
  {
   "cell_type": "markdown",
   "metadata": {},
   "source": [
    "Bei einem anderen Datenformat, z.B. 32-bit `float` treten Rundungsfehler dieser Art schon nach sehr viel weniger Einzeloperationen auf.\n",
    "Es ist daher ratsam, für die Darstellung von Dezimalzahlen ein eigenes Datenformat zu implementieren, das die Vorkomma- und Nachkommastellen einer Dezimalzahl exakt als Integer abspeichert."
   ]
  },
  {
   "cell_type": "markdown",
   "metadata": {},
   "source": [
    "**Aufgabe 1**\n",
    "\n",
    "**Entwickeln Sie eine Klasse `Dezimal` die eine Fließkommazahl als Dezimalzahl darstellt.** \n",
    "\n",
    "Sie sollten in Ihrer Klasse die Vorkomma-, wie die Nachkommastelle getrennt als Integer-Zahlen abspeichern. Bei dem Wert der Nachkommastelle ist zu beachten, dass der Wert abhängig von der Anzahl der Nachkommastellen ist. Die Zahl der Nachkommastellen soll mit 6 festgelegt sein. Die Zahl 3,04 hätte also die Attribute `Vorkomma=3` und `Nachkomma=40000`.\n",
    "\n",
    "Die Klasse `Dezimal` sollte einen Konstruktor besitzen, der als Parameter eine Fließkommadarstellung übergeben bekommt. Darüberhinaus sollte die Klasse eine Methode besitzen, die den gespeicherten Wert als formatierten String  zurück gibt.\n",
    "Hierzu noch einige Hinweise:"
   ]
  },
  {
   "cell_type": "markdown",
   "metadata": {},
   "source": [
    "Mit dem Formatierungs-String \"%0.6d\" können Sie einen Integer-Wert mit mindestens 6 Stellen ausgeben:"
   ]
  },
  {
   "cell_type": "code",
   "execution_count": null,
   "metadata": {},
   "outputs": [],
   "source": [
    "gross = 123456789\n",
    "klein = 12\n",
    "print(\"gross = %0.6d und klein = %0.6d\" % (gross,klein))"
   ]
  },
  {
   "cell_type": "markdown",
   "metadata": {},
   "source": [
    "Sie sollten beachten, dass `int(x)` eine Fließkommazahl nach dem Komma \"abschneidet\", also immer abrundet. Bei der Nachkommastelle sollten Sie aber numerisch korrekt Runden um Fehler zu vermeiden."
   ]
  },
  {
   "cell_type": "code",
   "execution_count": null,
   "metadata": {},
   "outputs": [],
   "source": [
    "x = 1.78\n",
    "print(\"x = %f als int ist %d und gerundet %d\" % (x, int(x), int(round(x))))"
   ]
  },
  {
   "cell_type": "markdown",
   "metadata": {},
   "source": [
    "Übrigens, sehr große Integer Werte sind für Python kein Problem. Falls die Zahlen \"zu groß\" für einen 32-/64-Bit Integer Datentyp sind, verwendet Python die _bignum_ Bibliothek. "
   ]
  },
  {
   "cell_type": "code",
   "execution_count": null,
   "metadata": {},
   "outputs": [],
   "source": [
    "mybignum = 28972348923472352359237\n",
    "mybignum*9792"
   ]
  },
  {
   "cell_type": "code",
   "execution_count": null,
   "metadata": {
    "deletable": false,
    "nbgrader": {
     "cell_type": "code",
     "checksum": "da2323dba85b063db3a979ba5438d5db",
     "grade": false,
     "grade_id": "cell-33dfe77bd3caa061",
     "locked": false,
     "schema_version": 3,
     "solution": true,
     "task": false
    }
   },
   "outputs": [],
   "source": [
    "class Dezimal():\n",
    "    \n",
    "    # YOUR CODE HERE\n",
    "    raise NotImplementedError()"
   ]
  },
  {
   "cell_type": "code",
   "execution_count": null,
   "metadata": {
    "deletable": false,
    "editable": false,
    "nbgrader": {
     "cell_type": "code",
     "checksum": "d826a8c4450ffb36ede1db8f751f1b79",
     "grade": true,
     "grade_id": "cell-334a72d49bd14e3e",
     "locked": true,
     "points": 1,
     "schema_version": 3,
     "solution": false,
     "task": false
    }
   },
   "outputs": [],
   "source": [
    "test_cases = [-12, 0.33,5.0000009, 100]\n",
    "for c in test_cases:\n",
    "    t = Dezimal(c)\n",
    "    assert t.Vorkomma == int(c), 'Vorkomma is not correct!'\n",
    "    assert t.Nachkomma == int(round((c-int(c))*1000000)), 'Nachkomma is not correct!'\n",
    "\n",
    "t = Dezimal(-22.0000559)\n",
    "tt = str(t)\n",
    "assert tt.count('-') == 1, 'Make sure the sign appears only before the number!'\n",
    "assert len(tt) == 10, 'Make 6 places after the decemal point.'"
   ]
  },
  {
   "cell_type": "code",
   "execution_count": null,
   "metadata": {},
   "outputs": [],
   "source": [
    "a = Dezimal(12.3)\n",
    "print(a)"
   ]
  },
  {
   "cell_type": "markdown",
   "metadata": {},
   "source": [
    "**Aufgabe 2**\n",
    "\n",
    "**Entwickeln Sie eine Klasse `Kontostand`, die von der Klasse Dezimal erbt. Die Klasse soll einen eigenen Konstruktor haben, der zusätzlich zum Betrag des Kontostands noch ein Attribut `Datum` initialisiert. Sie können das Datum einfachheitshalber als String anlegen.**"
   ]
  },
  {
   "cell_type": "code",
   "execution_count": null,
   "metadata": {
    "deletable": false,
    "nbgrader": {
     "cell_type": "code",
     "checksum": "3b3d2e6ebc0efb265960f924f3828a10",
     "grade": false,
     "grade_id": "cell-668d88cf645c76b8",
     "locked": false,
     "schema_version": 3,
     "solution": true,
     "task": false
    }
   },
   "outputs": [],
   "source": [
    "class Kontostand(Dezimal):\n",
    "    # YOUR CODE HERE\n",
    "    raise NotImplementedError()"
   ]
  },
  {
   "cell_type": "code",
   "execution_count": null,
   "metadata": {
    "deletable": false,
    "editable": false,
    "nbgrader": {
     "cell_type": "code",
     "checksum": "d1cc6fe8a8ac98a5038f7f7c10242697",
     "grade": true,
     "grade_id": "cell-0f1640032540cb33",
     "locked": true,
     "points": 1,
     "schema_version": 3,
     "solution": false,
     "task": false
    }
   },
   "outputs": [],
   "source": [
    "try:\n",
    "    t = Kontostand(22.05)\n",
    "    t.Nachkomma\n",
    "except TypeError:\n",
    "    print('Set up a default date!')\n",
    "    raise\n",
    "except AttributeError:\n",
    "    print('Include the initialization of Dezimal using super().')\n",
    "    raise\n",
    "    \n",
    "t = Kontostand(22.05, '11.12.2019')\n",
    "assert t.Datum in str(t), 'Include the date in the class string!'\n",
    "assert str(Dezimal(22.05)) in str(t), 'Include the amount in the class string!'"
   ]
  },
  {
   "cell_type": "code",
   "execution_count": null,
   "metadata": {},
   "outputs": [],
   "source": [
    "a = Kontostand(12.3)\n",
    "print(a)"
   ]
  },
  {
   "cell_type": "markdown",
   "metadata": {},
   "source": [
    "**Aufgabe 3**\n",
    "\n",
    "**Erweitern Sie Ihre Klasse `Dezimal` um eine Methode `plus`, die die Summe zweier Dezimalzahlen berechnet und als neues `Dezimal`-Objekt zurück gibt. Überführen Sie Ihre Methode `plus` in eine \"Magic Method\", so dass Sie 2 `Dezimal`-Objekte mittels des `+`-Operators addieren können.**"
   ]
  },
  {
   "cell_type": "code",
   "execution_count": null,
   "metadata": {
    "deletable": false,
    "nbgrader": {
     "cell_type": "code",
     "checksum": "0dbef8a44fa09c4daa413044d2f9d50f",
     "grade": false,
     "grade_id": "cell-0442a1a52b5af383",
     "locked": false,
     "schema_version": 3,
     "solution": true,
     "task": false
    }
   },
   "outputs": [],
   "source": [
    "class Dezimal():\n",
    "    # YOUR CODE HERE\n",
    "    raise NotImplementedError()"
   ]
  },
  {
   "cell_type": "code",
   "execution_count": null,
   "metadata": {
    "deletable": false,
    "editable": false,
    "nbgrader": {
     "cell_type": "code",
     "checksum": "b4dcffe6ec722af3da469159e045a35a",
     "grade": true,
     "grade_id": "cell-e912e52bc0977b26",
     "locked": true,
     "points": 1,
     "schema_version": 3,
     "solution": false,
     "task": false
    }
   },
   "outputs": [],
   "source": [
    "t0, t1 = Dezimal(11.11), Dezimal(2.9)\n",
    "assert (t0+t1).Vorkomma == 14, 'Vorkomma is not correct!'\n",
    "assert (t0+t1).Nachkomma == 10000, 'Nachkomma is not correct!'\n",
    "assert len(str(t0+t1)) == 9, 'The resulting string should be 9 characters long.'"
   ]
  },
  {
   "cell_type": "code",
   "execution_count": null,
   "metadata": {},
   "outputs": [],
   "source": [
    "a = Dezimal(12.3)\n",
    "b = Dezimal(11.6)\n",
    "print(\"%s + %s = %s\" % (a, b, a+b))\n",
    "print(\"%s - %s = %s\" % (a, b, a-b))"
   ]
  },
  {
   "cell_type": "markdown",
   "metadata": {},
   "source": [
    "**Aufgabe 4**\n",
    "\n",
    "**Erweitern Sie Ihre Klasse `Kontostand` um die Methoden `einzahlen` und `auszahlen` mit denen Sie den Kontostand erhöhen oder verringern können.**"
   ]
  },
  {
   "cell_type": "code",
   "execution_count": null,
   "metadata": {
    "deletable": false,
    "nbgrader": {
     "cell_type": "code",
     "checksum": "62f8d680921573e370b75865170dc878",
     "grade": false,
     "grade_id": "cell-9254fdc7699551eb",
     "locked": false,
     "schema_version": 3,
     "solution": true,
     "task": false
    }
   },
   "outputs": [],
   "source": [
    "import time\n",
    "def timestamp():\n",
    "    return time.strftime(\"%d.%m.%Y, %H:%M Uhr\")\n",
    "\n",
    "class Kontostand(Dezimal):\n",
    "    \n",
    "    # YOUR CODE HERE\n",
    "    raise NotImplementedError()"
   ]
  },
  {
   "cell_type": "code",
   "execution_count": null,
   "metadata": {
    "deletable": false,
    "editable": false,
    "nbgrader": {
     "cell_type": "code",
     "checksum": "1732f287db404e5f3ab5f769a3bd9735",
     "grade": true,
     "grade_id": "cell-5016897b28bef218",
     "locked": true,
     "points": 1,
     "schema_version": 3,
     "solution": false,
     "task": false
    }
   },
   "outputs": [],
   "source": [
    "t = Kontostand(1.0)\n",
    "t.einzahlen(10.5)\n",
    "assert t.Vorkomma+t.Nachkomma/10**6 == 11.5, 'Deposit was not correctly processed!'\n",
    "t.auszahlen(5.6)\n",
    "assert t.Vorkomma+t.Nachkomma/10**6 ==5.9, 'Withdrawal was not correctly processed!'\n",
    "assert t._Datum == timestamp(), 'Update transaction timestamp!'"
   ]
  },
  {
   "cell_type": "code",
   "execution_count": null,
   "metadata": {},
   "outputs": [],
   "source": [
    "a = Kontostand(0.0, '01.05.2018')\n",
    "print(a)\n",
    "a.einzahlen(12.3, datum='11.05.2018')\n",
    "print(a)\n",
    "a.auszahlen(8.6)\n",
    "print(a)"
   ]
  },
  {
   "cell_type": "markdown",
   "metadata": {},
   "source": [
    "**Aufgabe 5**\n",
    "\n",
    "**Ergänzen Sie die Klasse Kontostand um eine statische Methode, die die Informationen \"Dies ist ein EUR Konto\" ausgibt.**"
   ]
  },
  {
   "cell_type": "code",
   "execution_count": null,
   "metadata": {
    "deletable": false,
    "nbgrader": {
     "cell_type": "code",
     "checksum": "96ed73862d6b08ac8d2f7ad2485858fb",
     "grade": false,
     "grade_id": "cell-aa804db3315618ea",
     "locked": false,
     "schema_version": 3,
     "solution": true,
     "task": false
    }
   },
   "outputs": [],
   "source": [
    "# add static method \"info()\"\n",
    "\n",
    "class Dezimal():\n",
    "    # YOUR CODE HERE\n",
    "    raise NotImplementedError()\n",
    "    \n",
    "class Kontostand(Dezimal):\n",
    "    # YOUR CODE HERE\n",
    "    raise NotImplementedError()"
   ]
  },
  {
   "cell_type": "code",
   "execution_count": null,
   "metadata": {
    "deletable": false,
    "editable": false,
    "nbgrader": {
     "cell_type": "code",
     "checksum": "1d64aa93b9f0eb5a5b62b1152e47599a",
     "grade": true,
     "grade_id": "cell-d96190b1d47a0442",
     "locked": true,
     "points": 1,
     "schema_version": 3,
     "solution": false,
     "task": false
    }
   },
   "outputs": [],
   "source": [
    "Kontostand(0.0).info()\n",
    "Kontostand.info()"
   ]
  },
  {
   "cell_type": "code",
   "execution_count": null,
   "metadata": {},
   "outputs": [],
   "source": [
    "Kontostand.info()\n",
    "a = Kontostand(0.0, '01.05.2018')\n",
    "a.info()"
   ]
  },
  {
   "cell_type": "markdown",
   "metadata": {},
   "source": [
    "#### Aufgabe 6\n",
    "**Schreiben Sie eine Klasse `Zeitstempel`, die ein Datum (als String) speichert. Die Klasse soll eine Funktion `aktualisieren()` haben, mit der das interne Datum auf die aktuelle Zeit gesetzt wird. Benutzen Sie dazu die folgende Funktion `timestamp()`. Verwenden Sie diese Klasse in der Form, dass Kontostand nun auch von `Zeitstempel` erbt.**"
   ]
  },
  {
   "cell_type": "code",
   "execution_count": null,
   "metadata": {},
   "outputs": [],
   "source": [
    "import time\n",
    "def timestamp():\n",
    "    return time.strftime(\"%d.%m.%Y, %H:%M Uhr\")"
   ]
  },
  {
   "cell_type": "code",
   "execution_count": null,
   "metadata": {
    "deletable": false,
    "nbgrader": {
     "cell_type": "code",
     "checksum": "9dddf95fa72d38b8291f015cc2bdbedb",
     "grade": false,
     "grade_id": "cell-8018b28b9a36d756",
     "locked": false,
     "schema_version": 3,
     "solution": true,
     "task": false
    }
   },
   "outputs": [],
   "source": [
    "class Zeitstempel():\n",
    "    # YOUR CODE HERE\n",
    "    raise NotImplementedError()\n",
    "\n",
    "class Dezimal():\n",
    "    # YOUR CODE HERE\n",
    "    raise NotImplementedError()\n",
    "    \n",
    "class Kontostand(Dezimal,Zeitstempel):\n",
    "    # YOUR CODE HERE\n",
    "    raise NotImplementedError()"
   ]
  },
  {
   "cell_type": "code",
   "execution_count": null,
   "metadata": {
    "deletable": false,
    "editable": false,
    "nbgrader": {
     "cell_type": "code",
     "checksum": "7dbbc0181d69367bcde0fb19cb366ee9",
     "grade": true,
     "grade_id": "cell-147864f3a3df25f6",
     "locked": true,
     "points": 1,
     "schema_version": 3,
     "solution": false,
     "task": false
    }
   },
   "outputs": [],
   "source": [
    "t = Zeitstempel()\n",
    "t.aktualisieren()\n",
    "assert t.Datum == Zeitstempel().Datum, 'Initialize and update date!'\n",
    "t = Kontostand(0.0)\n",
    "assert t.Datum == Zeitstempel().Datum\n",
    "t.einzahlen(10.0)\n",
    "assert t.Datum == Zeitstempel().Datum"
   ]
  },
  {
   "cell_type": "code",
   "execution_count": null,
   "metadata": {},
   "outputs": [],
   "source": [
    "a = Kontostand(0.0)\n",
    "print(a)"
   ]
  },
  {
   "cell_type": "code",
   "execution_count": null,
   "metadata": {},
   "outputs": [],
   "source": [
    "a.einzahlen(10.0)\n",
    "print(a)"
   ]
  },
  {
   "cell_type": "markdown",
   "metadata": {},
   "source": [
    "## Private Variablen\n",
    "Wir erstellen eine Klasse Konto, in der der Name des Kontobesitzers sowie der Kontostand geschützte Attribute sind."
   ]
  },
  {
   "cell_type": "code",
   "execution_count": null,
   "metadata": {},
   "outputs": [],
   "source": [
    "class Konto():\n",
    "    \n",
    "    def __init__(self, name):\n",
    "        self._Name = name\n",
    "        self._Kontostand = Kontostand(0)\n",
    "        \n",
    "    def __str__(self):\n",
    "        return (\"Konto von %s:\\n%s\" % (self._Name, self._Kontostand.__str__()))\n",
    "    \n",
    "    def getKontostand(self):\n",
    "        return self._Kontostand\n",
    "    \n",
    "    def einzahlen(self,x):\n",
    "        self._Kontostand.einzahlen(x)\n",
    "    def auszahlen(self,x):\n",
    "        self._Kontostand.auszahlen(x)\n",
    "        \n",
    "\n",
    "k = Konto(\"Heiner Giefers\")\n",
    "k._Kontostand.einzahlen(0.22) # schlechter Stil\n",
    "k.einzahlen(22.0) # schon besser\n",
    "print(k) "
   ]
  },
  {
   "cell_type": "code",
   "execution_count": null,
   "metadata": {},
   "outputs": [],
   "source": [
    "class Konto():\n",
    "    \n",
    "    def __init__(self, name):\n",
    "        self._Name = name\n",
    "        self.__Kontostand = Kontostand(0) # Jetzt mit 2 Unterstrichen '__' !!!\n",
    "        \n",
    "    def __str__(self):\n",
    "        return (\"Konto von %s:\\n%s\" % (self._Name, self.__Kontostand.__str__()))\n",
    "    \n",
    "    def getKontostand(self):\n",
    "        return self._Kontostand\n",
    "    \n",
    "    def einzahlen(self,x):\n",
    "        self.__Kontostand.einzahlen(x)\n",
    "    def auszahlen(self,x):\n",
    "        self.__Kontostand.auszahlen(x)\n",
    "        \n",
    "\n",
    "k = Konto(\"Heiner Giefers\")\n",
    "k.__Kontostand.einzahlen(0.22) # schlechter Stil\n",
    "k.einzahlen(22.0) # schon besser\n",
    "print(k) "
   ]
  }
 ],
 "metadata": {
  "kernelspec": {
   "display_name": "Python 3",
   "language": "python",
   "name": "python3"
  },
  "language_info": {
   "codemirror_mode": {
    "name": "ipython",
    "version": 3
   },
   "file_extension": ".py",
   "mimetype": "text/x-python",
   "name": "python",
   "nbconvert_exporter": "python",
   "pygments_lexer": "ipython3",
   "version": "3.7.3"
  }
 },
 "nbformat": 4,
 "nbformat_minor": 2
}
