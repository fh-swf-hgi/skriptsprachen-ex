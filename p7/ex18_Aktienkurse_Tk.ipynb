{
 "cells": [
  {
   "cell_type": "markdown",
   "id": "distinguished-recorder",
   "metadata": {},
   "source": [
    "<figure>\n",
    "  <IMG SRC=\"https://upload.wikimedia.org/wikipedia/commons/thumb/d/d5/Fachhochschule_Südwestfalen_20xx_logo.svg/320px-Fachhochschule_Südwestfalen_20xx_logo.svg.png\" WIDTH=250 ALIGN=\"right\">\n",
    "</figure>\n",
    "\n",
    "# Skriptsprachen\n",
    "### Sommersemester 2021\n",
    "Prof. Dr. Heiner Giefers"
   ]
  },
  {
   "cell_type": "markdown",
   "id": "smart-innocent",
   "metadata": {},
   "source": [
    "## Aktienkurse mit Tkinter\n",
    "\n",
    "\n",
    "In dieser Aufgabe wollen wir die Entwicklung von Aktienkursen mit einer grafischen Oberfläche in Python umsetzen.\n",
    "Dazu werden wir eine Pakete einsetzen, die uns die Umsetzung der Aufgabe deutlich erleichtern:\n",
    "\n",
    " - Mit dem Modul **Tkinter** aus der Standardbibliothek können mit recht einfachen Mitteln grafische Oberflächen erstellt werden. Intern wird dabei das Tk-Toolkit verwendet.\n",
    " - Die **Matplotlib**-Bibliothek stellt Möglichkeiten zum Plotten verschiedenster Arten von Graphen zur Verfügung.\n",
    " - Für den Abruf von aktuellen Aktienkursen könnte man Reguläre Ausdrücke oder Web-Scraping Bibliotheken (wie etwas *Beautiful Soup*) verwenden. Wir wollen in dieser Aufgabe aber historische Kursdaten anzeigen. Daher verwenden wir das Modul **YFinance** (für *Yahoo Finance*) mit dem man auf Aktienkurs-Informationen aus der Vergangenheit zugreifen kann.\n",
    " - Wir werden sehen, dass *yfinance* ein **Pandas** *DataFrame* Objekt zurückliefert. Wir werden also auch diese Bibliothek, die in Python sehr verbreitet für das Verarbeiten Tabellarischer Daten eingesetzt wird, verwenden.\n"
   ]
  },
  {
   "cell_type": "markdown",
   "id": "peripheral-czech",
   "metadata": {},
   "source": [
    "Fangen wir mit `yfinance` an. Zunächst muss die Bibliothek mit `pip install yfinance` installiert werden.\n",
    "Wir importieren Sie unter dem Namen `yf`, erzeugen mit `yf.Ticker` ein Marktdaten-Objekt und laden die Daten der letzten fünf Jahre mit der Methode `history` herunter.\n",
    "Das resultierende Objekt `prices` ist ein Pandas *DataFrame* mit diversen Aktienkurs-Informationen von, in diesem Fall, der Firma Apple. "
   ]
  },
  {
   "cell_type": "code",
   "execution_count": null,
   "id": "incredible-history",
   "metadata": {},
   "outputs": [],
   "source": [
    "import yfinance as yf\n",
    "\n",
    "\n",
    "stock     = 'AAPL'\n",
    "stockname = 'Apple'\n",
    "timespan  = '5y'\n",
    "\n",
    "stock = yf.Ticker(stock)\n",
    "prices = stock.history(period=timespan)"
   ]
  },
  {
   "cell_type": "markdown",
   "id": "special-while",
   "metadata": {},
   "source": [
    "**Aufgabe: Welche Informationen enthält der Dataframe? Geben Sie eine Liste `cols` mit den Spaltennamen der Tabelle an. Setzen Sie den Wert `nrows` auf die Anzahl der Zeilen (=Datenpunkte) in der Tabelle.**"
   ]
  },
  {
   "cell_type": "code",
   "execution_count": null,
   "id": "floppy-program",
   "metadata": {
    "deletable": false,
    "nbgrader": {
     "cell_type": "code",
     "checksum": "c599b3801aab9767d24d6879813f93e7",
     "grade": false,
     "grade_id": "cell-948955c10511dc4d",
     "locked": false,
     "schema_version": 3,
     "solution": true,
     "task": false
    }
   },
   "outputs": [],
   "source": [
    "cols = None\n",
    "nrows = None\n",
    "# YOUR CODE HERE\n",
    "raise NotImplementedError()\n",
    "\n",
    "list(cols.values)"
   ]
  },
  {
   "cell_type": "code",
   "execution_count": null,
   "id": "minute-involvement",
   "metadata": {
    "deletable": false,
    "editable": false,
    "nbgrader": {
     "cell_type": "code",
     "checksum": "2a77e80e2996000df0b38005447b249b",
     "grade": true,
     "grade_id": "cell-ce0a52a39d8007b2",
     "locked": true,
     "points": 0,
     "schema_version": 3,
     "solution": false,
     "task": false
    }
   },
   "outputs": [],
   "source": [
    "# Test Zelle\n",
    "### BEGIN HIDDEN TEST\n",
    "for c in prices.columns:\n",
    "    assert c in cols, \"Spaltennamen stimmen nicht\"\n",
    "assert nrows == len(prices), \"Anzahl der Datenpunkte stimmt nicht\"\n",
    "### END HIDDEN TEST"
   ]
  },
  {
   "cell_type": "markdown",
   "id": "amended-tracker",
   "metadata": {},
   "source": [
    "Pandas implementiert für *DataFrames* und *Series* (das sind eindimensionale Daten, z.B. eine Spalte eines DataFrames) eine `plot`-Funktion.\n",
    "Dabei handelt es sich eigentlich um einen Wrapper für die `plot`-Funktion auf der *Matplotlib*."
   ]
  },
  {
   "cell_type": "code",
   "execution_count": null,
   "id": "generous-setting",
   "metadata": {},
   "outputs": [],
   "source": [
    "prices.Close.plot()"
   ]
  },
  {
   "cell_type": "markdown",
   "id": "technical-bargain",
   "metadata": {},
   "source": [
    "Nun wollen wir den Kursverlauf etwas schöner anzeigen un dabei auch die geglätteten Kurzen über einen Zeitraum von 14 und 100 Tagen anzeigen.\n",
    "\n",
    "Wir plotten hier übrigens etwas umständlicher als normalerweise.\n",
    "Das *Pyplot* Modul von Matplotlib liefert eine Schnittstelle, die sich an MATLAB orientiert und mit der in wenigen Zeilen ein Graph plotten lässt.\n",
    "`plt.figure()` liefert eine solche *Pyplot* Grafik.\n",
    "Über die Klasse `Figure` von Matplotlib können wir aber ein Grafikobjekt erstelln, dass sich später einfacher mit *Tkinter* darstellen lässt.\n",
    "Daher plotten wir den Graphen zuerst in dieses *Figure* Objekt und stellen es dann über *Pyplot* dar.\n"
   ]
  },
  {
   "cell_type": "code",
   "execution_count": null,
   "id": "silver-processing",
   "metadata": {},
   "outputs": [],
   "source": [
    "from matplotlib.figure import Figure\n",
    "import matplotlib.pyplot as plt\n",
    "\n",
    "\n",
    "fig = Figure(figsize=(10, 4), dpi=100)\n",
    "fig.add_subplot(111)\n",
    "prices['14d'] = prices['Close'].rolling(14).mean()\n",
    "prices['100d'] = prices['Close'].rolling(100).mean()\n",
    "charts = fig.get_axes()[0].plot(prices[['Close','14d','100d']])\n",
    "fig.get_axes()[0].set_title(f'Kursverlauf von {stockname}')\n",
    "fig.get_axes()[0].legend(iter(charts), ('Schlusskurs','7-Tage','100-Tage'))\n",
    "\n",
    "dummy = plt.figure()\n",
    "figmanager = dummy.canvas.manager\n",
    "figmanager.canvas.figure = fig\n",
    "fig.set_canvas(figmanager.canvas)\n",
    "plt.show(fig)"
   ]
  },
  {
   "cell_type": "markdown",
   "id": "certified-campus",
   "metadata": {},
   "source": [
    "**Aufgabe: Implementieren Sie die Funktion `stock_plot`, die einen Graphen für einen Aktienkurs erstellt. Die Funktion erhält als Parameter ein `Figure`-Objekt und das Kürzel `stock` eines Aktienkurses. Die optionalen Parameter sind die Dauer `span` für die Daten aus der Vergangenheit abgerufen werden sollen sowie der Name der Kurses. Ist keine Dauer angegeben, sollen die letzten 5 Jahre abgerufen werden. Als Name kann defaultmäßig das Kürzel der Aktie verwendet werden.**"
   ]
  },
  {
   "cell_type": "code",
   "execution_count": null,
   "id": "animated-indiana",
   "metadata": {
    "deletable": false,
    "nbgrader": {
     "cell_type": "code",
     "checksum": "2da90cfb7f65b63a27f8f02d34f31a5a",
     "grade": true,
     "grade_id": "cell-13c44cb9f46515ee",
     "locked": false,
     "points": 0,
     "schema_version": 3,
     "solution": true,
     "task": false
    }
   },
   "outputs": [],
   "source": [
    "from matplotlib.figure import Figure\n",
    "import matplotlib.pyplot as plt\n",
    "\n",
    "fig = Figure(figsize=(10, 4), dpi=100)\n",
    "fig.add_subplot(111)\n",
    "\n",
    "def stock_plot(fig, stock, span=None, stockname=None):\n",
    "    # YOUR CODE HERE\n",
    "    raise NotImplementedError()\n",
    "\n",
    "stock_plot(fig, 'GOOG', '2y', 'Google')\n",
    "    \n",
    "dummy = plt.figure()\n",
    "figmanager = dummy.canvas.manager\n",
    "figmanager.canvas.figure = fig\n",
    "fig.set_canvas(figmanager.canvas)\n",
    "plt.show(fig)"
   ]
  },
  {
   "cell_type": "markdown",
   "id": "cardiovascular-narrow",
   "metadata": {},
   "source": [
    "Wir haben nun eine Grafik, die wir im Notebook anzeigen lassen können.\n",
    "Unser nächstes Ziel ist nun, diese Grafik in eine *Tkinter* GUI zu integrieren.\n",
    "\n",
    "**Achtung: Für die nächsten Aufgaben benötigen Sie eine lokale Python Installation.**\n",
    "\n",
    "Schauen Wir uns zunächst ein kleines Beispiel an.\n",
    "Die folgende Code-Zelle verwendet ein *Tkinter* um ein einfaches Fenster mit zwei Elementen anzuzeigen.\n",
    "Der Obere Teil ist eine Matplotlib Abbildung, die eine Sinuskurze zeigt.\n",
    "Im unteren Teil wird ein Button *Quit* angezeigt, mir dem das Fenster geschlossen werden kann.\n",
    "Dazu registrieren wir die Funktion `_quit` im Button-Objekt als `command`."
   ]
  },
  {
   "cell_type": "code",
   "execution_count": null,
   "id": "atmospheric-orange",
   "metadata": {},
   "outputs": [],
   "source": [
    "import tkinter\n",
    "\n",
    "from matplotlib.backends.backend_tkagg import FigureCanvasTkAgg\n",
    "from matplotlib.figure import Figure\n",
    "import numpy as np\n",
    "\n",
    "root = tkinter.Tk()\n",
    "root.wm_title(\"Sinus\")\n",
    "\n",
    "fig = Figure(figsize=(5, 4), dpi=100)\n",
    "t = np.arange(-np.pi, np.pi, .01)\n",
    "fig.add_subplot(111).plot(t, np.sin(t))\n",
    "\n",
    "canvas = FigureCanvasTkAgg(fig, master=root)\n",
    "canvas.draw()\n",
    "canvas.get_tk_widget().pack(side=tkinter.TOP, fill=tkinter.BOTH, expand=1)\n",
    "\n",
    "def _quit():\n",
    "    root.quit()\n",
    "    root.destroy()\n",
    "\n",
    "button = tkinter.Button(master=root, text=\"Quit\", command=_quit)\n",
    "button.pack(side=tkinter.BOTTOM)\n",
    "\n",
    "tkinter.mainloop()\n"
   ]
  },
  {
   "cell_type": "markdown",
   "id": "therapeutic-melbourne",
   "metadata": {},
   "source": [
    "Matplotlib bietet neben der Klasse `FigureCanvasTkAgg` für `Tk`-Objekte, auch die die Klasse `NavigationToolbar2Tk` zum *navigieren* in Matplotlib Graphen.\n",
    "Damit können Sie in den Graphen hineinzoomen oder die Kurven verschieben."
   ]
  },
  {
   "cell_type": "code",
   "execution_count": null,
   "id": "liberal-attribute",
   "metadata": {},
   "outputs": [],
   "source": [
    "import tkinter\n",
    "\n",
    "from matplotlib.backends.backend_tkagg import FigureCanvasTkAgg, NavigationToolbar2Tk\n",
    "from matplotlib.backend_bases import key_press_handler\n",
    "from matplotlib.figure import Figure\n",
    "import numpy as np\n",
    "\n",
    "\n",
    "root = tkinter.Tk()\n",
    "root.wm_title(\"Sinus\")\n",
    "\n",
    "fig = Figure(figsize=(5, 4), dpi=100)\n",
    "t = np.arange(-np.pi, np.pi, .01)\n",
    "fig.add_subplot(111).plot(t, np.sin(t))\n",
    "\n",
    "canvas = FigureCanvasTkAgg(fig, master=root)\n",
    "canvas.draw()\n",
    "canvas.get_tk_widget().pack(side=tkinter.TOP, fill=tkinter.BOTH, expand=1)\n",
    "\n",
    "toolbar = NavigationToolbar2Tk(canvas, root)\n",
    "toolbar.update()\n",
    "canvas.get_tk_widget().pack(side=tkinter.TOP, fill=tkinter.BOTH, expand=1)\n",
    "\n",
    "\n",
    "def _quit():\n",
    "    root.quit()\n",
    "    root.destroy()\n",
    "\n",
    "button = tkinter.Button(master=root, text=\"Quit\", command=_quit)\n",
    "button.pack(side=tkinter.BOTTOM)\n",
    "\n",
    "tkinter.mainloop()"
   ]
  },
  {
   "cell_type": "markdown",
   "id": "veterinary-lindsay",
   "metadata": {},
   "source": [
    "Bisher ist unsere GUI sehr statisch.\n",
    "Wir fügen nun Radio-Buttons ein, mit den wir den Graphen von *Sinus* aud *Cosiunus* umstellen können.\n",
    "Die Werte der Radio-Buttons sind an die *TKinter* String-Variable `funktion` gebunden.\n",
    "Außerdem ist als Kommando eine Funktion `_refresh` abgegebe, mit welcher der Matplotlib Graph neu gezeichnet werden kann."
   ]
  },
  {
   "cell_type": "code",
   "execution_count": null,
   "id": "requested-verse",
   "metadata": {},
   "outputs": [],
   "source": [
    "import tkinter\n",
    "\n",
    "from matplotlib.backends.backend_tkagg import FigureCanvasTkAgg, NavigationToolbar2Tk\n",
    "from matplotlib.backend_bases import key_press_handler\n",
    "from matplotlib.figure import Figure\n",
    "import numpy as np\n",
    "\n",
    "\n",
    "root = tkinter.Tk()\n",
    "root.wm_title(\"Sinus\")\n",
    "\n",
    "fig = Figure(figsize=(5, 4), dpi=100)\n",
    "t = np.arange(-np.pi, np.pi, .01)\n",
    "fig.add_subplot(111).plot(t, np.sin(t))\n",
    "\n",
    "canvas = FigureCanvasTkAgg(fig, master=root)\n",
    "canvas.draw()\n",
    "canvas.get_tk_widget().pack(side=tkinter.TOP, fill=tkinter.BOTH, expand=1)\n",
    "\n",
    "toolbar = NavigationToolbar2Tk(canvas, root)\n",
    "toolbar.update()\n",
    "canvas.get_tk_widget().pack(side=tkinter.TOP, fill=tkinter.BOTH, expand=1)\n",
    "\n",
    "funktion = tkinter.StringVar(value='sinus')\n",
    "\n",
    "\n",
    "def _quit():\n",
    "    root.quit()\n",
    "    root.destroy()\n",
    "\n",
    "def _refresh():\n",
    "    global fig\n",
    "    global canvas\n",
    "    fig.get_axes()[0].clear()\n",
    "    t = np.arange(-np.pi, np.pi, .01)\n",
    "    if funktion.get()=='sinus':\n",
    "        fig.get_axes()[0].plot(t, np.sin(t))\n",
    "    else:\n",
    "        fig.get_axes()[0].plot(t, np.cos(t))\n",
    "    canvas.draw()\n",
    "\n",
    "    \n",
    "sin = tkinter.Radiobutton(root, text=\"Sinus\", variable=funktion, value='sinus', command=_refresh)\n",
    "cos = tkinter.Radiobutton(root, text=\"Cosinus\", variable=funktion, value='cosinus', command=_refresh)\n",
    "sin.pack(side=tkinter.LEFT)\n",
    "cos.pack(side=tkinter.LEFT)\n",
    "    \n",
    "button = tkinter.Button(master=root, text=\"Quit\", command=_quit)\n",
    "button.pack(side=tkinter.BOTTOM)\n",
    "\n",
    "\n",
    "tkinter.mainloop()\n"
   ]
  },
  {
   "cell_type": "markdown",
   "id": "indie-addition",
   "metadata": {},
   "source": [
    "**Aufgabe: Übernehmen Sie oben verwendeten Funktionen um eine *TKinter* GUI zu entwickeln, mit der Sie die Aktienkurse von \n",
    "Apple (`aapl`), Facebook (`fb`), Google (`goog`), Netflix (`nflx`) und Microsoft (`msft`) anzeigen lassen können.\n",
    "Als Zeitspanne sollen die letzten fünf, zwei und ein Jahre ausgewählt werden können.**"
   ]
  },
  {
   "cell_type": "code",
   "execution_count": null,
   "id": "regional-signal",
   "metadata": {
    "deletable": false,
    "nbgrader": {
     "cell_type": "code",
     "checksum": "a175b2233ca7480fb7cf618767dbd27c",
     "grade": true,
     "grade_id": "cell-4c321ad6d82f2a34",
     "locked": false,
     "points": 0,
     "schema_version": 3,
     "solution": true,
     "task": false
    }
   },
   "outputs": [],
   "source": [
    "# YOUR CODE HERE\n",
    "raise NotImplementedError()"
   ]
  },
  {
   "cell_type": "code",
   "execution_count": null,
   "id": "dominican-rings",
   "metadata": {},
   "outputs": [],
   "source": []
  },
  {
   "cell_type": "code",
   "execution_count": null,
   "id": "working-clone",
   "metadata": {},
   "outputs": [],
   "source": []
  }
 ],
 "metadata": {
  "kernelspec": {
   "display_name": "Python 3",
   "language": "python",
   "name": "python3"
  },
  "language_info": {
   "codemirror_mode": {
    "name": "ipython",
    "version": 3
   },
   "file_extension": ".py",
   "mimetype": "text/x-python",
   "name": "python",
   "nbconvert_exporter": "python",
   "pygments_lexer": "ipython3",
   "version": "3.7.3"
  }
 },
 "nbformat": 4,
 "nbformat_minor": 5
}
