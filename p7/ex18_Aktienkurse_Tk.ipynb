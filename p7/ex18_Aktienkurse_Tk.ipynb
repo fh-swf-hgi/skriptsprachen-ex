{
 "cells": [
  {
   "cell_type": "markdown",
   "id": "hairy-complaint",
   "metadata": {},
   "source": [
    "<figure>\n",
    "  <IMG SRC=\"https://upload.wikimedia.org/wikipedia/commons/thumb/d/d5/Fachhochschule_Südwestfalen_20xx_logo.svg/320px-Fachhochschule_Südwestfalen_20xx_logo.svg.png\" WIDTH=250 ALIGN=\"right\">\n",
    "</figure>\n",
    "\n",
    "# Skriptsprachen\n",
    "### Sommersemester 2021\n",
    "Prof. Dr. Heiner Giefers"
   ]
  },
  {
   "cell_type": "markdown",
   "id": "scientific-provision",
   "metadata": {},
   "source": [
    "## Aktienkurse mit Tkinter\n",
    "\n",
    "\n",
    "In dieser Aufgabe wollen wir die Entwicklung von Aktienkursen mit einer grafischen Oberfläche in Python umsetzen.\n",
    "Dazu werden wir eine Pakete einsetzen, die uns die Umsetzung der Aufgabe deutlich erleichtern:\n",
    "\n",
    " - Mit dem Modul **Tkinter** aus der Standardbibliothek können mit recht einfachen Mitteln grafische Oberflächen erstellt werden. Intern wird dabei das Tk-Toolkit verwendet.\n",
    " - Die **Matplotlib**-Bibliothek stellt Möglichkeiten zum Plotten verschiedenster Arten von Graphen zur Verfügung.\n",
    " - Für den Abruf von aktuellen Aktienkursen könnte man Reguläre Ausdrücke oder Web-Scraping Bibliotheken (wie etwas *Beautiful Soup*) verwenden. Wir wollen in dieser Aufgabe aber historische Kursdaten anzeigen. Daher verwenden wir das Modul **YFinance** (für *Yahoo Finance*) mit dem man auf Aktienkurs-Informationen aus der Vergangenheit zugreifen kann.\n",
    " - Wir werden sehen, dass *yfinance* ein **Pandas** *DataFrame* Objekt zurückliefert. Wir werden also auch diese Bibliothek, die in Python sehr verbreitet für das Verarbeiten Tabellarischer Daten eingesetzt wird, verwenden.\n"
   ]
  },
  {
   "cell_type": "markdown",
   "id": "sharp-deposit",
   "metadata": {},
   "source": [
    "Fangen wir mit `yfinance` an. Zunächst muss die Bibliothek mit `pip install yfinance` installiert werden.\n",
    "Wir importieren Sie unter dem Namen `yf`, erzeugen mit `yf.Ticker` ein Marktdaten-Objekt und laden die Daten der letzten fünf Jahre mit der Methode `history` herunter.\n",
    "Das resultierende Objekt `prices` ist ein Pandas *DataFrame* mit diversen Aktienkurs-Informationen von, in diesem Fall, der Firma Apple. "
   ]
  },
  {
   "cell_type": "code",
   "execution_count": 3,
   "id": "funky-penalty",
   "metadata": {},
   "outputs": [
    {
     "data": {
      "text/html": [
       "<div>\n",
       "<style scoped>\n",
       "    .dataframe tbody tr th:only-of-type {\n",
       "        vertical-align: middle;\n",
       "    }\n",
       "\n",
       "    .dataframe tbody tr th {\n",
       "        vertical-align: top;\n",
       "    }\n",
       "\n",
       "    .dataframe thead th {\n",
       "        text-align: right;\n",
       "    }\n",
       "</style>\n",
       "<table border=\"1\" class=\"dataframe\">\n",
       "  <thead>\n",
       "    <tr style=\"text-align: right;\">\n",
       "      <th></th>\n",
       "      <th>Open</th>\n",
       "      <th>High</th>\n",
       "      <th>Low</th>\n",
       "      <th>Close</th>\n",
       "      <th>Volume</th>\n",
       "      <th>Dividends</th>\n",
       "      <th>Stock Splits</th>\n",
       "    </tr>\n",
       "    <tr>\n",
       "      <th>Date</th>\n",
       "      <th></th>\n",
       "      <th></th>\n",
       "      <th></th>\n",
       "      <th></th>\n",
       "      <th></th>\n",
       "      <th></th>\n",
       "      <th></th>\n",
       "    </tr>\n",
       "  </thead>\n",
       "  <tbody>\n",
       "    <tr>\n",
       "      <th>2016-06-06</th>\n",
       "      <td>22.885193</td>\n",
       "      <td>23.796023</td>\n",
       "      <td>22.782434</td>\n",
       "      <td>23.034662</td>\n",
       "      <td>93170000</td>\n",
       "      <td>0.0</td>\n",
       "      <td>0.0</td>\n",
       "    </tr>\n",
       "    <tr>\n",
       "      <th>2016-06-07</th>\n",
       "      <td>23.179465</td>\n",
       "      <td>23.324264</td>\n",
       "      <td>23.111736</td>\n",
       "      <td>23.128084</td>\n",
       "      <td>89638000</td>\n",
       "      <td>0.0</td>\n",
       "      <td>0.0</td>\n",
       "    </tr>\n",
       "    <tr>\n",
       "      <th>2016-06-08</th>\n",
       "      <td>23.125751</td>\n",
       "      <td>23.251867</td>\n",
       "      <td>23.046346</td>\n",
       "      <td>23.107069</td>\n",
       "      <td>83392400</td>\n",
       "      <td>0.0</td>\n",
       "      <td>0.0</td>\n",
       "    </tr>\n",
       "    <tr>\n",
       "      <th>2016-06-09</th>\n",
       "      <td>23.004304</td>\n",
       "      <td>23.352287</td>\n",
       "      <td>22.994962</td>\n",
       "      <td>23.272882</td>\n",
       "      <td>106405600</td>\n",
       "      <td>0.0</td>\n",
       "      <td>0.0</td>\n",
       "    </tr>\n",
       "    <tr>\n",
       "      <th>2016-06-10</th>\n",
       "      <td>23.011312</td>\n",
       "      <td>23.202820</td>\n",
       "      <td>22.999636</td>\n",
       "      <td>23.081377</td>\n",
       "      <td>126851600</td>\n",
       "      <td>0.0</td>\n",
       "      <td>0.0</td>\n",
       "    </tr>\n",
       "    <tr>\n",
       "      <th>...</th>\n",
       "      <td>...</td>\n",
       "      <td>...</td>\n",
       "      <td>...</td>\n",
       "      <td>...</td>\n",
       "      <td>...</td>\n",
       "      <td>...</td>\n",
       "      <td>...</td>\n",
       "    </tr>\n",
       "    <tr>\n",
       "      <th>2021-05-28</th>\n",
       "      <td>125.570000</td>\n",
       "      <td>125.800003</td>\n",
       "      <td>124.550003</td>\n",
       "      <td>124.610001</td>\n",
       "      <td>71311100</td>\n",
       "      <td>0.0</td>\n",
       "      <td>0.0</td>\n",
       "    </tr>\n",
       "    <tr>\n",
       "      <th>2021-06-01</th>\n",
       "      <td>125.080002</td>\n",
       "      <td>125.349998</td>\n",
       "      <td>123.940002</td>\n",
       "      <td>124.279999</td>\n",
       "      <td>67637100</td>\n",
       "      <td>0.0</td>\n",
       "      <td>0.0</td>\n",
       "    </tr>\n",
       "    <tr>\n",
       "      <th>2021-06-02</th>\n",
       "      <td>124.279999</td>\n",
       "      <td>125.239998</td>\n",
       "      <td>124.050003</td>\n",
       "      <td>125.059998</td>\n",
       "      <td>59278900</td>\n",
       "      <td>0.0</td>\n",
       "      <td>0.0</td>\n",
       "    </tr>\n",
       "    <tr>\n",
       "      <th>2021-06-03</th>\n",
       "      <td>124.680000</td>\n",
       "      <td>124.849998</td>\n",
       "      <td>123.129997</td>\n",
       "      <td>123.540001</td>\n",
       "      <td>76229200</td>\n",
       "      <td>0.0</td>\n",
       "      <td>0.0</td>\n",
       "    </tr>\n",
       "    <tr>\n",
       "      <th>2021-06-04</th>\n",
       "      <td>124.070000</td>\n",
       "      <td>126.160004</td>\n",
       "      <td>123.849998</td>\n",
       "      <td>125.889999</td>\n",
       "      <td>75087300</td>\n",
       "      <td>0.0</td>\n",
       "      <td>0.0</td>\n",
       "    </tr>\n",
       "  </tbody>\n",
       "</table>\n",
       "<p>1259 rows × 7 columns</p>\n",
       "</div>"
      ],
      "text/plain": [
       "                  Open        High         Low       Close     Volume  \\\n",
       "Date                                                                    \n",
       "2016-06-06   22.885193   23.796023   22.782434   23.034662   93170000   \n",
       "2016-06-07   23.179465   23.324264   23.111736   23.128084   89638000   \n",
       "2016-06-08   23.125751   23.251867   23.046346   23.107069   83392400   \n",
       "2016-06-09   23.004304   23.352287   22.994962   23.272882  106405600   \n",
       "2016-06-10   23.011312   23.202820   22.999636   23.081377  126851600   \n",
       "...                ...         ...         ...         ...        ...   \n",
       "2021-05-28  125.570000  125.800003  124.550003  124.610001   71311100   \n",
       "2021-06-01  125.080002  125.349998  123.940002  124.279999   67637100   \n",
       "2021-06-02  124.279999  125.239998  124.050003  125.059998   59278900   \n",
       "2021-06-03  124.680000  124.849998  123.129997  123.540001   76229200   \n",
       "2021-06-04  124.070000  126.160004  123.849998  125.889999   75087300   \n",
       "\n",
       "            Dividends  Stock Splits  \n",
       "Date                                 \n",
       "2016-06-06        0.0           0.0  \n",
       "2016-06-07        0.0           0.0  \n",
       "2016-06-08        0.0           0.0  \n",
       "2016-06-09        0.0           0.0  \n",
       "2016-06-10        0.0           0.0  \n",
       "...               ...           ...  \n",
       "2021-05-28        0.0           0.0  \n",
       "2021-06-01        0.0           0.0  \n",
       "2021-06-02        0.0           0.0  \n",
       "2021-06-03        0.0           0.0  \n",
       "2021-06-04        0.0           0.0  \n",
       "\n",
       "[1259 rows x 7 columns]"
      ]
     },
     "execution_count": 3,
     "metadata": {},
     "output_type": "execute_result"
    }
   ],
   "source": [
    "import yfinance as yf\n",
    "\n",
    "\n",
    "stock     = 'AAPL'\n",
    "stockname = 'Apple'\n",
    "timespan  = '5y'\n",
    "\n",
    "stock = yf.Ticker(stock)\n",
    "prices = stock.history(period=timespan)\n",
    "prices"
   ]
  },
  {
   "cell_type": "markdown",
   "id": "agricultural-pathology",
   "metadata": {},
   "source": [
    "**Aufgabe: Welche Informationen enthält der Dataframe? Geben Sie eine Liste `cols` mit den Spaltennamen der Tabelle an. Setzen Sie den Wert `nrows` auf die Anzahl der Zeilen (=Datenpunkte) in der Tabelle.**"
   ]
  },
  {
   "cell_type": "code",
   "execution_count": null,
   "id": "subject-cedar",
   "metadata": {
    "deletable": false,
    "nbgrader": {
     "cell_type": "code",
     "checksum": "c599b3801aab9767d24d6879813f93e7",
     "grade": false,
     "grade_id": "cell-948955c10511dc4d",
     "locked": false,
     "schema_version": 3,
     "solution": true,
     "task": false
    }
   },
   "outputs": [],
   "source": [
    "cols = None\n",
    "nrows = None\n",
    "# YOUR CODE HERE\n",
    "raise NotImplementedError()\n",
    "\n",
    "list(cols.values)"
   ]
  },
  {
   "cell_type": "code",
   "execution_count": null,
   "id": "protective-cherry",
   "metadata": {
    "deletable": false,
    "editable": false,
    "nbgrader": {
     "cell_type": "code",
     "checksum": "27b4c95e4ca3bf887cc20bb7e78c0b9b",
     "grade": true,
     "grade_id": "cell-ce0a52a39d8007b2",
     "locked": true,
     "points": 0,
     "schema_version": 3,
     "solution": false,
     "task": false
    }
   },
   "outputs": [],
   "source": [
    "# Test Zelle"
   ]
  },
  {
   "cell_type": "markdown",
   "id": "spanish-warrant",
   "metadata": {},
   "source": [
    "Pandas implementiert für *DataFrames* und *Series* (das sind eindimensionale Daten, z.B. eine Spalte eines DataFrames) eine `plot`-Funktion.\n",
    "Dabei handelt es sich eigentlich um einen Wrapper für die `plot`-Funktion auf der *Matplotlib*."
   ]
  },
  {
   "cell_type": "code",
   "execution_count": 2,
   "id": "south-bible",
   "metadata": {},
   "outputs": [
    {
     "data": {
      "text/plain": [
       "<AxesSubplot:xlabel='Date'>"
      ]
     },
     "execution_count": 2,
     "metadata": {},
     "output_type": "execute_result"
    },
    {
     "data": {
      "image/png": "[encoded data removed]",
      "text/plain": [
       "<Figure size 432x288 with 1 Axes>"
      ]
     },
     "metadata": {
      "needs_background": "light"
     },
     "output_type": "display_data"
    }
   ],
   "source": [
    "prices.Close.plot()"
   ]
  },
  {
   "cell_type": "markdown",
   "id": "hollywood-premises",
   "metadata": {},
   "source": [
    "Nun wollen wir den Kursverlauf etwas schöner anzeigen un dabei auch die geglätteten Kurzen über einen Zeitraum von 14 und 100 Tagen anzeigen.\n",
    "\n",
    "Wir plotten hier übrigens etwas umständlicher als normalerweise.\n",
    "Das *Pyplot* Modul von Matplotlib liefert eine Schnittstelle, die sich an MATLAB orientiert und mit der in wenigen Zeilen ein Graph plotten lässt.\n",
    "`plt.figure()` liefert eine solche *Pyplot* Grafik.\n",
    "Über die Klasse `Figure` von Matplotlib können wir aber ein Grafikobjekt erstelln, dass sich später einfacher mit *Tkinter* darstellen lässt.\n",
    "Daher plotten wir den Graphen zuerst in dieses *Figure* Objekt und stellen es dann über *Pyplot* dar.\n"
   ]
  },
  {
   "cell_type": "code",
   "execution_count": 4,
   "id": "german-heritage",
   "metadata": {},
   "outputs": [
    {
     "data": {
      "image/png": "[encoded data removed]",
      "text/plain": [
       "<Figure size 1000x400 with 1 Axes>"
      ]
     },
     "metadata": {
      "needs_background": "light"
     },
     "output_type": "display_data"
    }
   ],
   "source": [
    "from matplotlib.figure import Figure\n",
    "import matplotlib.pyplot as plt\n",
    "\n",
    "\n",
    "fig = Figure(figsize=(10, 4), dpi=100)\n",
    "fig.add_subplot(111)\n",
    "prices['14d'] = prices['Close'].rolling(14).mean()\n",
    "prices['100d'] = prices['Close'].rolling(100).mean()\n",
    "charts = fig.get_axes()[0].plot(prices[['Close','14d','100d']])\n",
    "fig.get_axes()[0].set_title(f'Kursverlauf von {stockname}')\n",
    "fig.get_axes()[0].legend(iter(charts), ('Schlusskurs','7-Tage','100-Tage'))\n",
    "\n",
    "dummy = plt.figure()\n",
    "figmanager = dummy.canvas.manager\n",
    "figmanager.canvas.figure = fig\n",
    "fig.set_canvas(figmanager.canvas)\n",
    "plt.show(fig)"
   ]
  },
  {
   "cell_type": "markdown",
   "id": "arctic-enterprise",
   "metadata": {},
   "source": [
    "**Aufgabe: Implementieren Sie die Funktion `stock_plot`, die einen Graphen für einen Aktienkurs erstellt. Die Funktion erhält als Parameter ein `Figure`-Objekt und das Kürzel `stock` eines Aktienkurses. Die optionalen Parameter sind die Dauer `span` für die Daten aus der Vergangenheit abgerufen werden sollen sowie der Name der Kurses. Ist keine Dauer angegeben, sollen die letzten 5 Jahre abgerufen werden. Als Name kann defaultmäßig das Kürzel der Aktie verwendet werden.**"
   ]
  },
  {
   "cell_type": "code",
   "execution_count": 5,
   "id": "wooden-therapy",
   "metadata": {
    "deletable": false,
    "nbgrader": {
     "cell_type": "code",
     "checksum": "2da90cfb7f65b63a27f8f02d34f31a5a",
     "grade": true,
     "grade_id": "cell-13c44cb9f46515ee",
     "locked": false,
     "points": 0,
     "schema_version": 3,
     "solution": true,
     "task": false
    }
   },
   "outputs": [
    {
     "ename": "NotImplementedError",
     "evalue": "",
     "output_type": "error",
     "traceback": [
      "\u001b[0;31m---------------------------------------------------------------------------\u001b[0m",
      "\u001b[0;31mNotImplementedError\u001b[0m                       Traceback (most recent call last)",
      "\u001b[0;32m<ipython-input-5-c257b5ffd3ba>\u001b[0m in \u001b[0;36m<module>\u001b[0;34m\u001b[0m\n\u001b[1;32m      9\u001b[0m     \u001b[0;32mraise\u001b[0m \u001b[0mNotImplementedError\u001b[0m\u001b[0;34m(\u001b[0m\u001b[0;34m)\u001b[0m\u001b[0;34m\u001b[0m\u001b[0;34m\u001b[0m\u001b[0m\n\u001b[1;32m     10\u001b[0m \u001b[0;34m\u001b[0m\u001b[0m\n\u001b[0;32m---> 11\u001b[0;31m \u001b[0mstock_plot\u001b[0m\u001b[0;34m(\u001b[0m\u001b[0mfig\u001b[0m\u001b[0;34m,\u001b[0m \u001b[0;34m'GOOG'\u001b[0m\u001b[0;34m,\u001b[0m \u001b[0;34m'2y'\u001b[0m\u001b[0;34m,\u001b[0m \u001b[0;34m'Google'\u001b[0m\u001b[0;34m)\u001b[0m\u001b[0;34m\u001b[0m\u001b[0;34m\u001b[0m\u001b[0m\n\u001b[0m\u001b[1;32m     12\u001b[0m \u001b[0;34m\u001b[0m\u001b[0m\n\u001b[1;32m     13\u001b[0m \u001b[0mdummy\u001b[0m \u001b[0;34m=\u001b[0m \u001b[0mplt\u001b[0m\u001b[0;34m.\u001b[0m\u001b[0mfigure\u001b[0m\u001b[0;34m(\u001b[0m\u001b[0;34m)\u001b[0m\u001b[0;34m\u001b[0m\u001b[0;34m\u001b[0m\u001b[0m\n",
      "\u001b[0;32m<ipython-input-5-c257b5ffd3ba>\u001b[0m in \u001b[0;36mstock_plot\u001b[0;34m(fig, stock, span, stockname)\u001b[0m\n\u001b[1;32m      7\u001b[0m \u001b[0;32mdef\u001b[0m \u001b[0mstock_plot\u001b[0m\u001b[0;34m(\u001b[0m\u001b[0mfig\u001b[0m\u001b[0;34m,\u001b[0m \u001b[0mstock\u001b[0m\u001b[0;34m,\u001b[0m \u001b[0mspan\u001b[0m\u001b[0;34m=\u001b[0m\u001b[0;32mNone\u001b[0m\u001b[0;34m,\u001b[0m \u001b[0mstockname\u001b[0m\u001b[0;34m=\u001b[0m\u001b[0;32mNone\u001b[0m\u001b[0;34m)\u001b[0m\u001b[0;34m:\u001b[0m\u001b[0;34m\u001b[0m\u001b[0;34m\u001b[0m\u001b[0m\n\u001b[1;32m      8\u001b[0m     \u001b[0;31m# YOUR CODE HERE\u001b[0m\u001b[0;34m\u001b[0m\u001b[0;34m\u001b[0m\u001b[0;34m\u001b[0m\u001b[0m\n\u001b[0;32m----> 9\u001b[0;31m     \u001b[0;32mraise\u001b[0m \u001b[0mNotImplementedError\u001b[0m\u001b[0;34m(\u001b[0m\u001b[0;34m)\u001b[0m\u001b[0;34m\u001b[0m\u001b[0;34m\u001b[0m\u001b[0m\n\u001b[0m\u001b[1;32m     10\u001b[0m \u001b[0;34m\u001b[0m\u001b[0m\n\u001b[1;32m     11\u001b[0m \u001b[0mstock_plot\u001b[0m\u001b[0;34m(\u001b[0m\u001b[0mfig\u001b[0m\u001b[0;34m,\u001b[0m \u001b[0;34m'GOOG'\u001b[0m\u001b[0;34m,\u001b[0m \u001b[0;34m'2y'\u001b[0m\u001b[0;34m,\u001b[0m \u001b[0;34m'Google'\u001b[0m\u001b[0;34m)\u001b[0m\u001b[0;34m\u001b[0m\u001b[0;34m\u001b[0m\u001b[0m\n",
      "\u001b[0;31mNotImplementedError\u001b[0m: "
     ]
    }
   ],
   "source": [
    "from matplotlib.figure import Figure\n",
    "import matplotlib.pyplot as plt\n",
    "\n",
    "fig = Figure(figsize=(10, 4), dpi=100)\n",
    "fig.add_subplot(111)\n",
    "\n",
    "def stock_plot(fig, stock, span=None, stockname=None):\n",
    "    # YOUR CODE HERE\n",
    "    raise NotImplementedError()\n",
    "\n",
    "stock_plot(fig, 'GOOG', '2y', 'Google')\n",
    "    \n",
    "dummy = plt.figure()\n",
    "figmanager = dummy.canvas.manager\n",
    "figmanager.canvas.figure = fig\n",
    "fig.set_canvas(figmanager.canvas)\n",
    "plt.show(fig)"
   ]
  },
  {
   "cell_type": "markdown",
   "id": "historical-organization",
   "metadata": {},
   "source": [
    "Wir haben nun eine Grafik, die wir im Notebook anzeigen lassen können.\n",
    "Unser nächstes Ziel ist nun, diese Grafik in eine *Tkinter* GUI zu integrieren.\n",
    "\n",
    "**Achtung: Für die nächsten Aufgaben benötigen Sie eine lokale Python Installation.**\n",
    "\n",
    "Schauen Wir uns zunächst ein kleines Beispiel an.\n",
    "Die folgende Code-Zelle verwendet ein *Tkinter* um ein einfaches Fenster mit zwei Elementen anzuzeigen.\n",
    "Der Obere Teil ist eine Matplotlib Abbildung, die eine Sinuskurze zeigt.\n",
    "Im unteren Teil wird ein Button *Quit* angezeigt, mir dem das Fenster geschlossen werden kann.\n",
    "Dazu registrieren wir die Funktion `_quit` im Button-Objekt als `command`."
   ]
  },
  {
   "cell_type": "code",
   "execution_count": null,
   "id": "simplified-cigarette",
   "metadata": {},
   "outputs": [],
   "source": [
    "import tkinter\n",
    "\n",
    "from matplotlib.backends.backend_tkagg import FigureCanvasTkAgg\n",
    "from matplotlib.figure import Figure\n",
    "import numpy as np\n",
    "\n",
    "root = tkinter.Tk()\n",
    "root.wm_title(\"Sinus\")\n",
    "\n",
    "fig = Figure(figsize=(5, 4), dpi=100)\n",
    "t = np.arange(-np.pi, np.pi, .01)\n",
    "fig.add_subplot(111).plot(t, np.sin(t))\n",
    "\n",
    "canvas = FigureCanvasTkAgg(fig, master=root)\n",
    "canvas.draw()\n",
    "canvas.get_tk_widget().pack(side=tkinter.TOP, fill=tkinter.BOTH, expand=1)\n",
    "\n",
    "def _quit():\n",
    "    root.quit()\n",
    "    root.destroy()\n",
    "\n",
    "button = tkinter.Button(master=root, text=\"Quit\", command=_quit)\n",
    "button.pack(side=tkinter.BOTTOM)\n",
    "\n",
    "tkinter.mainloop()\n"
   ]
  },
  {
   "cell_type": "markdown",
   "id": "logical-flush",
   "metadata": {},
   "source": [
    "Matplotlib bietet neben der Klasse `FigureCanvasTkAgg` für `Tk`-Objekte, auch die die Klasse `NavigationToolbar2Tk` zum *navigieren* in Matplotlib Graphen.\n",
    "Damit können Sie in den Graphen hineinzoomen oder die Kurven verschieben."
   ]
  },
  {
   "cell_type": "code",
   "execution_count": null,
   "id": "nasty-knife",
   "metadata": {},
   "outputs": [],
   "source": [
    "import tkinter\n",
    "\n",
    "from matplotlib.backends.backend_tkagg import FigureCanvasTkAgg, NavigationToolbar2Tk\n",
    "from matplotlib.backend_bases import key_press_handler\n",
    "from matplotlib.figure import Figure\n",
    "import numpy as np\n",
    "\n",
    "\n",
    "root = tkinter.Tk()\n",
    "root.wm_title(\"Sinus\")\n",
    "\n",
    "fig = Figure(figsize=(5, 4), dpi=100)\n",
    "t = np.arange(-np.pi, np.pi, .01)\n",
    "fig.add_subplot(111).plot(t, np.sin(t))\n",
    "\n",
    "canvas = FigureCanvasTkAgg(fig, master=root)\n",
    "canvas.draw()\n",
    "canvas.get_tk_widget().pack(side=tkinter.TOP, fill=tkinter.BOTH, expand=1)\n",
    "\n",
    "toolbar = NavigationToolbar2Tk(canvas, root)\n",
    "toolbar.update()\n",
    "canvas.get_tk_widget().pack(side=tkinter.TOP, fill=tkinter.BOTH, expand=1)\n",
    "\n",
    "\n",
    "def _quit():\n",
    "    root.quit()\n",
    "    root.destroy()\n",
    "\n",
    "button = tkinter.Button(master=root, text=\"Quit\", command=_quit)\n",
    "button.pack(side=tkinter.BOTTOM)\n",
    "\n",
    "tkinter.mainloop()"
   ]
  },
  {
   "cell_type": "markdown",
   "id": "cooperative-particle",
   "metadata": {},
   "source": [
    "Bisher ist unsere GUI sehr statisch.\n",
    "Wir fügen nun Radio-Buttons ein, mit den wir den Graphen von *Sinus* aud *Cosiunus* umstellen können.\n",
    "Die Werte der Radio-Buttons sind an die *TKinter* String-Variable `funktion` gebunden.\n",
    "Außerdem ist als Kommando eine Funktion `_refresh` abgegebe, mit welcher der Matplotlib Graph neu gezeichnet werden kann."
   ]
  },
  {
   "cell_type": "code",
   "execution_count": null,
   "id": "gentle-aging",
   "metadata": {},
   "outputs": [],
   "source": [
    "import tkinter\n",
    "\n",
    "from matplotlib.backends.backend_tkagg import FigureCanvasTkAgg, NavigationToolbar2Tk\n",
    "from matplotlib.backend_bases import key_press_handler\n",
    "from matplotlib.figure import Figure\n",
    "import numpy as np\n",
    "\n",
    "\n",
    "root = tkinter.Tk()\n",
    "root.wm_title(\"Sinus\")\n",
    "\n",
    "fig = Figure(figsize=(5, 4), dpi=100)\n",
    "t = np.arange(-np.pi, np.pi, .01)\n",
    "fig.add_subplot(111).plot(t, np.sin(t))\n",
    "\n",
    "canvas = FigureCanvasTkAgg(fig, master=root)\n",
    "canvas.draw()\n",
    "canvas.get_tk_widget().pack(side=tkinter.TOP, fill=tkinter.BOTH, expand=1)\n",
    "\n",
    "toolbar = NavigationToolbar2Tk(canvas, root)\n",
    "toolbar.update()\n",
    "canvas.get_tk_widget().pack(side=tkinter.TOP, fill=tkinter.BOTH, expand=1)\n",
    "\n",
    "funktion = tkinter.StringVar(value='sinus')\n",
    "\n",
    "\n",
    "def _quit():\n",
    "    root.quit()\n",
    "    root.destroy()\n",
    "\n",
    "def _refresh():\n",
    "    global fig\n",
    "    global canvas\n",
    "    fig.get_axes()[0].clear()\n",
    "    t = np.arange(-np.pi, np.pi, .01)\n",
    "    if funktion.get()=='sinus':\n",
    "        fig.get_axes()[0].plot(t, np.sin(t))\n",
    "    else:\n",
    "        fig.get_axes()[0].plot(t, np.cos(t))\n",
    "    canvas.draw()\n",
    "\n",
    "    \n",
    "sin = tkinter.Radiobutton(root, text=\"Sinus\", variable=funktion, value='sinus', command=_refresh)\n",
    "cos = tkinter.Radiobutton(root, text=\"Cosinus\", variable=funktion, value='cosinus', command=_refresh)\n",
    "sin.pack(side=tkinter.LEFT)\n",
    "cos.pack(side=tkinter.LEFT)\n",
    "    \n",
    "button = tkinter.Button(master=root, text=\"Quit\", command=_quit)\n",
    "button.pack(side=tkinter.BOTTOM)\n",
    "\n",
    "\n",
    "tkinter.mainloop()\n"
   ]
  },
  {
   "cell_type": "markdown",
   "id": "romance-liquid",
   "metadata": {},
   "source": [
    "**Aufgabe: Übernehmen Sie oben verwendeten Funktionen um eine *TKinter* GUI zu entwickeln, mit der Sie die Aktienkurse von \n",
    "Apple (`aapl`), Facebook (`fb`), Google (`goog`), Netflix (`nflx`) und Microsoft (`msft`) anzeigen lassen können.\n",
    "Als Zeitspanne sollen die letzten fünf, zwei und ein Jahre ausgewählt werden können.**"
   ]
  },
  {
   "cell_type": "code",
   "execution_count": null,
   "id": "surface-wings",
   "metadata": {
    "deletable": false,
    "nbgrader": {
     "cell_type": "code",
     "checksum": "bf9266fa5c2010c5a85650327143b9fd",
     "grade": true,
     "grade_id": "cell-8797a94bf6789e0d",
     "locked": false,
     "points": 0,
     "schema_version": 3,
     "solution": true,
     "task": false
    }
   },
   "outputs": [],
   "source": [
    "# YOUR CODE HERE\n",
    "raise NotImplementedError()"
   ]
  },
  {
   "cell_type": "code",
   "execution_count": null,
   "id": "pretty-response",
   "metadata": {},
   "outputs": [],
   "source": []
  },
  {
   "cell_type": "code",
   "execution_count": null,
   "id": "shared-calvin",
   "metadata": {},
   "outputs": [],
   "source": []
  }
 ],
 "metadata": {
  "kernelspec": {
   "display_name": "Python 3",
   "language": "python",
   "name": "python3"
  },
  "language_info": {
   "codemirror_mode": {
    "name": "ipython",
    "version": 3
   },
   "file_extension": ".py",
   "mimetype": "text/x-python",
   "name": "python",
   "nbconvert_exporter": "python",
   "pygments_lexer": "ipython3",
   "version": "3.7.3"
  }
 },
 "nbformat": 4,
 "nbformat_minor": 5
}
