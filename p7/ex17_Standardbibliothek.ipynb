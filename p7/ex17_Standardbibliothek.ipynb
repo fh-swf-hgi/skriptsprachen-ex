{
 "cells": [
  {
   "cell_type": "markdown",
   "id": "distinguished-recorder",
   "metadata": {},
   "source": [
    "<figure>\n",
    "  <IMG SRC=\"https://upload.wikimedia.org/wikipedia/commons/thumb/d/d5/Fachhochschule_Südwestfalen_20xx_logo.svg/320px-Fachhochschule_Südwestfalen_20xx_logo.svg.png\" WIDTH=250 ALIGN=\"right\">\n",
    "</figure>\n",
    "\n",
    "# Skriptsprachen\n",
    "### Sommersemester 2021\n",
    "Prof. Dr. Heiner Giefers"
   ]
  },
  {
   "cell_type": "markdown",
   "metadata": {
    "slideshow": {
     "slide_type": "-"
    }
   },
   "source": [
    "# Beispiele für Pakete aus der Standardbibliothek (und Drittanbieter-Pakete)\n",
    "In diesem Arbeitsblatt geht es um weiterführende Themen rund um die Programmiersprache Python. Zu der enormen Popularität von Python hat nicht zuletzt die Vielzahl an frei verfügbaren Paketen zu verschiedensten Anwendungsgebieten beigetragen. Durch den Einsatz bestehender Module lassen sich Entwicklungszeiten drastisch verkürzen. Zusammen mit der relativ leichten Erlernbarkeit, hat dies Python den Ruf eingebracht, eine sehr produktive Programmiersprache zu sein.\n",
    "\n",
    "In den folgenden Abschnitten werden die Themen Web-Zugriffe, Server-seitige Programmierung, Wissenschaftliches Rechnen und GUI-Programmierung kurz angerissen. Die Behandlung der Themen ist weder vollständig noch repräsentativ. Es soll lediglich darum gehen, Einblicke in verschiedene Aspekte zu vermitteln und Sie motivieren, im Selbststudium etwas tiefer in die vorgestellten, oder auch weitere Themen rund um Python einzusteigen."
   ]
  },
  {
   "cell_type": "markdown",
   "metadata": {},
   "source": [
    "## 1. Installieren von Drittanbieter-Paketen\n",
    "\n",
    "Um Pakete von Drittanbietern zu installieren, sollten Sie in jedem Fall einen Paketmanager benutzen. Der am meisten verwendete Paketmanager für Python ist [pip](https://pip.pypa.io/en/stable/). Mit diesem Tool können Sie auf die Pakete zugreifen, die im _Python Package Index_ ([PyPI](https://pypi.org)) enthalten sind. Ab Version 3.4 ist pip bereits in der Python Standard-Distribution enthalten.\n",
    "Um ein Paket zu installieren, führen Sie folgendes Kommando (auf der Kommandozeile) aus:\n",
    "```python\n",
    "pip3 install <paketname>\n",
    "```\n",
    "So aufgerufen, versucht _pip_ das Paket _systemweit_ im Python-Installationspfad zu installieren. Falls Sie nicht als Administrator auf Ihrem Computer angemeldet sind, kann dies zu Problemen führen. Daher wird allgemein empfohlen, dass Nutzer zusätzliche Pakete innerhalb von _Virtuellen Umgebungen_ ([virtualenv](https://packaging.python.org/guides/installing-using-pip-and-virtualenv/)) zu installieren.\n",
    "Eine Alternative dazu ist, neue Pakete in einem Dateipfad zu installieren, auf den der Benutzer vollen Zugriff hat. Im  Python-Interpreter sind verschiedene Suchpfade bereits voreingestellt, in denen zur Laufzeit eines Programms nach verwendeten Paketen (siehe `import`-Anweisung) gesucht wird. Die entsprechenden Dateipfade sind natürlich vom dem verwendeten Betriebssystem abhängig und können z.B. wie folgt mit Python selbst gelistet werden:"
   ]
  },
  {
   "cell_type": "code",
   "execution_count": null,
   "metadata": {},
   "outputs": [],
   "source": [
    "import sys\n",
    "for path in sys.path:\n",
    "    print(path)"
   ]
  },
  {
   "cell_type": "markdown",
   "metadata": {},
   "source": [
    "Um ein Paket zu installieren, können Sie prinzipiell `!pip install` aufrufen.\n",
    "Dies hat aber einen Nachteil: Ihr Jupyter Notebook könnte eine Python Installation verwenden, die nicht die standard Python Installation auf Ihrem System ist. Der `pip`-Aufruf würde das Paket dann in diese Installation integrieren und Sie könnten es aus dem Notebook heraus nicht verwenden.\n",
    "\n",
    "Daher ist es besser, die Python-Version zu verwenden, die Ihr Notebook benutzt.\n",
    "Unter welchem Programmpfad der Python-Interpreter abgelegt ist, den das Notebook verwendet, kann man ebenfalls über das Modul `sys` herausfinden. `sys.executable` lifert den kompletten Pfad zum Python-Kommando.\n",
    "Dies ruft man über das `!` Zeichen in der *Shell* auf und verwendet die Option `-m` mit dem Modul `pip`.\n",
    "Mit `-m` kann man ein Modul wie ein Skript ausführen.\n",
    "Über das Kommando `install` kann dann ein Modul, z.B. `python-chess` installiert werden."
   ]
  },
  {
   "cell_type": "code",
   "execution_count": null,
   "metadata": {},
   "outputs": [],
   "source": [
    "import sys\n",
    "!{sys.executable} -m pip install --user python-chess"
   ]
  },
  {
   "cell_type": "markdown",
   "metadata": {},
   "source": [
    "Mit _pip_ können Sie bequem Python Pakete installieren und verwalten. _pip_ stößt aber an seine Grenzen, wenn man Abhängigkeiten installieren möchte, die nicht als Python Paket vorliegen. Beispiele dafür sind laufzeitoptimierte Bibliotheken für mathematisch/wissenschaftliche Zwecke, die oftmals in maschinennahen Code vorliegen (z.B. in C entwickelt und für eine entsprechende _Hardware Architektur_ kompiliert).\n",
    "\n",
    "Hier schaffen Python Distributionen Abhilfe, die auch diese Abhängigkeiten enthalten und bei Bedarf mitinstallieren.\n",
    "[Anaconda](https://www.anaconda.com/distribution/) ist ein Beispiel für eine solche Distribution. Der Paketmanager in Anaconda heißt _conda_ und lässt sich ähnlich wie _pip_ bedienen."
   ]
  },
  {
   "cell_type": "markdown",
   "metadata": {},
   "source": [
    "## 2. Bibliotheken einsetzen"
   ]
  },
  {
   "cell_type": "markdown",
   "metadata": {},
   "source": [
    "Dank Pythons großer Entwickler-Community existiert eine riesige Menge an nützlichen Modulen, nicht nur in der umfangreichen Standardbibliothek sinder vor allem in den öffentlichen Repositories wie dem *Python Package Index*.\n",
    "\n",
    "Wenn Sie ein Drittanbieter-Paket wie *python-chess* verwenden, ist die zugehöre Dokumentation in der Regel über das Web verfügbar."
   ]
  },
  {
   "cell_type": "code",
   "execution_count": null,
   "metadata": {},
   "outputs": [],
   "source": [
    "import webbrowser\n",
    "url = 'https://python-chess.readthedocs.io/en/latest/'\n",
    "webbrowser.open(url)"
   ]
  },
  {
   "cell_type": "markdown",
   "metadata": {},
   "source": [
    "**Achtung:** Wenn an dieser Stelle False erscheint, ist das ein Zeichen dafür, dass Sie die Funktion servereseitig nicht ausführen können. Laden Sie sich dieses Notebook herunter, und verwenden Sie Ihre lokale Python Installation."
   ]
  },
  {
   "cell_type": "markdown",
   "metadata": {},
   "source": [
    "Wenn Sie ein passendes Paket gefunden haben, können Sie dies häufig mit recht wenigen Schritten für Ihre Anwendung verwenden.\n",
    "\n",
    "Im Folgenden Beispiel wollen wir ein Simples Schachprogramm schreiben. Es soll einen menschlichen und einen Computer-Spieler geben.\n",
    "Das Modul *python-chess* liefert fast alles, was man dazu benötigt."
   ]
  },
  {
   "cell_type": "code",
   "execution_count": null,
   "metadata": {},
   "outputs": [],
   "source": [
    "import chess\n",
    "board = chess.Board()\n",
    "board"
   ]
  },
  {
   "cell_type": "code",
   "execution_count": null,
   "metadata": {},
   "outputs": [],
   "source": [
    "move = chess.Move.from_uci('e2e4')\n",
    "board.push(move)\n",
    "board"
   ]
  },
  {
   "cell_type": "markdown",
   "metadata": {},
   "source": [
    "Schwieriger ist es an dieser Stelle, die Ein- und Ausgaben für das Modul entsprechend einzustellen.\n",
    "Die Züge sollen schließlich nicht über den Quelltext des Programms eingegeben werden.\n",
    "Außerdem ist es unübersichtlich, wenn jede neue Spielsituation in einer neuen, zusätzlichen Ausgabe erscheinen.\n",
    "\n",
    "Die Eingabe des Zuges können wir über die Python Eingabe-Funktion `input()` erledigen, die vom Benutzer eine Tastatureingabe abfragt."
   ]
  },
  {
   "cell_type": "code",
   "execution_count": null,
   "metadata": {},
   "outputs": [],
   "source": [
    "text = input()\n",
    "print(\"Sie haben \" + text + \" eingegeben!\")"
   ]
  },
  {
   "cell_type": "markdown",
   "metadata": {},
   "source": [
    "Um die Ausagben in einem Notebook schöner darzustellen kann man einige Funktionen aus dem Modul `IPython.display` verwenden:\n",
    "\n",
    "- `IPython.display.SVG` Stellt ein svg-Bild dar\n",
    "- `clear_output` löscht die Ausgabe einer Code-Zelle"
   ]
  },
  {
   "cell_type": "code",
   "execution_count": null,
   "metadata": {},
   "outputs": [],
   "source": [
    "import webbrowser\n",
    "url = 'https://ipython.readthedocs.io/en/stable/api/generated/IPython.display.html'\n",
    "webbrowser.open(url)"
   ]
  },
  {
   "cell_type": "markdown",
   "metadata": {},
   "source": [
    "Um Züge darzustellen, kann man dann folgendes Muster verwenden."
   ]
  },
  {
   "cell_type": "code",
   "execution_count": null,
   "metadata": {},
   "outputs": [],
   "source": [
    "import chess, time\n",
    "from IPython.display import SVG, clear_output\n",
    "\n",
    "sizilianisch = ['e2e4','c7c5','g1f3','d7d6','d2d4','c5d4']\n",
    "\n",
    "board = chess.Board()\n",
    "display(SVG(board._repr_svg_()))\n",
    "for zug in sizilianisch:\n",
    "    time.sleep(1)\n",
    "    board.push(chess.Move.from_uci(zug))\n",
    "    clear_output(wait=True)\n",
    "    display(SVG(board._repr_svg_()))"
   ]
  },
  {
   "cell_type": "markdown",
   "metadata": {},
   "source": [
    "Um nun ein sipmples Schachprogramm zu schreiben, ist die Funktion `list(board.legal_moves)` hilfreich.\n",
    "Damit kann man eine Liste der aktuell auf dem Speilbrett gültigemn Züge berechen lassen.\n",
    "\n",
    "Nutzen Sie die beschribenen (und weitere) Funktionen, um ein Schachprogramm zu schreiben.\n",
    "Es ist Ihnen überlassen, wie *schlau* Ihr Computerprogramm spielt und welchen Funktionsumfang es hat."
   ]
  },
  {
   "cell_type": "code",
   "execution_count": null,
   "metadata": {
    "deletable": false,
    "nbgrader": {
     "cell_type": "code",
     "checksum": "1ddbda05f33f5d65cc09bf77ff9ad24b",
     "grade": true,
     "grade_id": "cell-aa291117e58eef45",
     "locked": false,
     "points": 0,
     "schema_version": 3,
     "solution": true,
     "task": false
    }
   },
   "outputs": [],
   "source": [
    "import chess\n",
    "import time\n",
    "import random\n",
    "from IPython.display import SVG, clear_output\n",
    "\n",
    "board = chess.Board()\n",
    "\n",
    "# YOUR CODE HERE\n",
    "raise NotImplementedError()"
   ]
  },
  {
   "cell_type": "markdown",
   "metadata": {},
   "source": [
    "## 3. Web-Zugriffe mit der *Requests* Bibliothek\n",
    "**Hinweis: Das Lehrbuch behandelt ausschließlich die *urllib* und zwar auf den Seiten 643-651.**\n",
    "\n",
    "[Requests](http://docs.python-requests.org/de/latest/user/quickstart.html) ist eine frei verfügbare Python Bibliothek zum Durchführen von HTTP-Anfragen. Im Vergleich zu der in der Standardbibliothek enthaltenen _urllib_ führt der Einsatz der _requests_ Bibliothek meistens zu etwas kürzerem und übersichtlicherem Code.\n",
    "\n",
    "Vom Funktionsumfang sind beide Bibliotheken sehr ähnlich. Sie erlauben den (lesenden und schreibenden) Zugriff auf URL-Ressourcen über verschiedene Methoden.\n",
    "\n",
    "Mittels `r = requests.get(<URL>)` kann eine Internetseite gelesen werden. Auf den Inhalt der Seite kann dann z.B. mit `r.text` (Inhalt als Schriftzeichen) oder `r.content` (Inhalt als Rohdaten/Bytes) zugegriffen werden."
   ]
  },
  {
   "cell_type": "markdown",
   "metadata": {},
   "source": [
    "Im folgenden Beispiel wird der aktuelle Börsenkurs einiger US-Unternehmen vom [Yahoo! Finance Portal](finance.yahoo.com) ausgelesen.\n",
    "Die Börsen-Kürzel von *Apple*, *Facebook*, *Google*, *Netflix* und *Microsoft* stehen im Dictionary `stocks`.\n",
    "Mit der `get`-Methode laden wir die entsprechende Seite unter Angabe des Query -Parameters `s` herunter.\n",
    "\n",
    "Den Inhalt (ASCII-Text) der Seite erhalten wor über das Attribut `page.text`.\n",
    "Darauf wir ein [Regulärer Ausdruck](https://docs.python.org/3/library/re.html) angewendet, der im html-Code nach dem ersten Auftreten eines HTML-Tags `<span class=\"Trsdu` sucht.\n",
    "Wir überspringen die nächsten Zeichen, bis zum abschließenden `>` des Tags.\n",
    "Die nächsten Zeichen (bis ausschließlich dem abschließenden `</span>` markieren wir mit dem Regulären Ausdruck `(.*?)` als Gruppe.\n",
    "\n",
    "Mit `re.search(pattern,page.text)` finden wir das erste Auftreten des Musters im HTML-Text.\n",
    "Aus der Fundstelle wird dann die erste Gruppe mit `group(1)` extrahiert und ausgegeben."
   ]
  },
  {
   "cell_type": "code",
   "execution_count": null,
   "metadata": {},
   "outputs": [],
   "source": [
    "import requests\n",
    "import re\n",
    "\n",
    "stocks = {'Apple': 'aapl', 'Facebook':'fb', 'Google':'goog', 'Netflix':'nflx', 'Microsoft':'msft'}\n",
    "\n",
    "for comp in stocks:\n",
    "    r = requests.get(\"https://stocktwits.com/symbol/{}\".format(stocks[comp]))\n",
    "    regex = '<span class=\"st_3zYaKAL\">(.*?)</span>'\n",
    "    pattern = re.compile(regex)\n",
    "    match = re.search(pattern,r.text)\n",
    "    print(\"Der Kurs von {} ist ${}\".format(comp, match.group(1)))"
   ]
  },
  {
   "cell_type": "markdown",
   "metadata": {},
   "source": [
    "Das gleiche kann man auch über die _urllib_ aus der Standardbibliothek erreichen, allerdings ist der Code etwas komplexer. Hier sind z.B. einige zusätzliche Aufrufe nötig um den Zugriff auf eine verschlüsselte _https_ Seite zu ermöglichen."
   ]
  },
  {
   "cell_type": "code",
   "execution_count": null,
   "metadata": {},
   "outputs": [],
   "source": [
    "import urllib\n",
    "import ssl\n",
    "import re   \n",
    "    \n",
    "stocks = {'Apple': 'aapl', 'Facebook':'fb', 'Google':'goog', 'Netflix':'nflx', 'Microsoft':'msft'}\n",
    "\n",
    "for comp in stocks:\n",
    "    url = \"https://stocktwits.com/symbol/{}\".format(stocks[comp])\n",
    "    ssl_handler = urllib.request.HTTPSHandler(context=ssl.SSLContext())\n",
    "    opener = urllib.request.build_opener(ssl_handler)\n",
    "    urllib.request.install_opener(opener)\n",
    "    resp = opener.open(url)\n",
    "    page = resp.read().decode('utf-8')\n",
    "\n",
    "    regex = '<span class=\"st_3zYaKAL\">(.*?)</span>'\n",
    "    pattern = re.compile(regex)\n",
    "    match = re.search(pattern,page)\n",
    "    print(\"Der Kurs von {} ist ${}\".format(comp, match.group(1)))\n"
   ]
  },
  {
   "cell_type": "markdown",
   "metadata": {},
   "source": [
    "Das Parsen von Web-Inhalten allein mit regulären Ausdrücken ist recht umständlich.\n",
    "Hierfür gibt es besserer Bibliotheken, die die Verarbeitung von HTML oder XML Texten deutlich vereinfachen.\n",
    "Die am verbreitetsten Bibliothek für diese Zwecke ist Beautiful Soup 4 (oder kurz *bs4*)."
   ]
  },
  {
   "cell_type": "code",
   "execution_count": null,
   "metadata": {},
   "outputs": [],
   "source": [
    "import requests\n",
    "from bs4 import BeautifulSoup as bs\n",
    "\n",
    "stocks = {'Apple': 'aapl', 'Facebook':'fb', 'Google':'goog', 'Netflix':'nflx', 'Microsoft':'msft'}\n",
    "\n",
    "for comp in stocks:\n",
    "    r = requests.get(\"https://finance.yahoo.com/q?s={}\".format(stocks[comp]))\n",
    "    soup = bs(r.content, 'lxml')\n",
    "    stock = soup.select_one('.Mb\\(-4px\\)').text\n",
    "    print(\"Der Kurs von {} ist ${}\".format(comp,  stock))"
   ]
  },
  {
   "cell_type": "markdown",
   "metadata": {},
   "source": [
    "Man kann die _requests_ Bibliothek auch verwenden um Binärdaten, wie z.B. Bilder, aus dem Internet zu laden. Im folgenden Beispiel laden wir eine _png_ Datei von _wikimedia.org_ und speichern sie lokal ab."
   ]
  },
  {
   "cell_type": "code",
   "execution_count": null,
   "metadata": {},
   "outputs": [],
   "source": [
    "import requests\n",
    "url = \"https://upload.wikimedia.org/wikipedia/commons/thumb/8/87/Karl_Marx.png/478px-Karl_Marx.png\"\n",
    "r = requests.get(url)\n",
    "if r.status_code == 200:\n",
    "    try:\n",
    "        f = open(\"image.png\", 'wb')\n",
    "        f.write(r.content)\n",
    "    except:\n",
    "        print(\"Irgendetwas ist schief gegangen!\")\n",
    "\n",
    "from IPython.display import Image\n",
    "Image(filename = \"image.png\")"
   ]
  },
  {
   "cell_type": "markdown",
   "metadata": {},
   "source": [
    "### 4. Webserver-Entwicklung mit _Flask_\n",
    "**Hinweis: Das Lehrbuch verwendet _Django_ (Kapitel 40, Seiten 889-938) als Beispiel für die Web-Anwendungsentwicklung mit Python. Flask wird im Lehrbuch nicht behandelt.**\n",
    "\n",
    "Mit den Paketen _request_ oder _urllib_ können Sie Zugriffe auf Inhalte durchführen, die auf Web-Servern verfügbar sind. Sie können aber auch mit sehr einfachen Mitteln eigene Web-Anwendungen mit Python implementieren. Ein Paket dazu, dass sich in den letzten Jahren wachsender Beliebtheit erfreut, ist [_Flask_](http://flask.pocoo.org). \n",
    "\n",
    "Flask bezeichnet sich als Micro-Framework für Web-Anwendungen. Das Paket enthält einen elementaren Web-Server, der vor allem bei der Entwicklung der Web-Anwendungen benutzt wird. Im Produktiveinsatz können Flask-Anwendungen über nahezu beliebige Webserver bereitgestellt werden.\n",
    "\n",
    "Flask und seine Abhängigkeiten (z.B. die [_Template Engine_](https://de.wikipedia.org/wiki/Template-Engine) _Jinja2_ und die [_WSGI_](https://de.wikipedia.org/wiki/Web_Server_Gateway_Interface) Bibliothek _Werkzeug_) können bequem über den Paketmanager _pip_ installiert werden. (Hinweis: Die aktuelle flask Version scheint ein Problem mit Jupyter zu haben. [Hier](https://github.com/plotly/dash/issues/257) ist ein work-around beschrieben um das \"Not writable\"-Problem zu umgehen.)"
   ]
  },
  {
   "cell_type": "code",
   "execution_count": null,
   "metadata": {},
   "outputs": [],
   "source": [
    "import sys\n",
    "!{sys.executable} -m pip install --user python-chess flask"
   ]
  },
  {
   "cell_type": "markdown",
   "metadata": {},
   "source": [
    "Mit dem Dekorator `route` kann eine Funktion an eine bestimmten URL-Pfad gebunden werden. Wird diese URL zugegriffen, so wird die entsprechende Funktion serverseitig ausgeführt. Der URL-Pfad kann auch Variablen enthalten, diese sind mit spitzen Klammern markiert (z.B. `<name>`).  "
   ]
  },
  {
   "cell_type": "code",
   "execution_count": null,
   "metadata": {},
   "outputs": [],
   "source": [
    "import webbrowser\n",
    "from flask import Flask\n",
    "app = Flask(__name__)\n",
    "\n",
    "\n",
    "@app.route('/')\n",
    "def hello():\n",
    "    return \"Hello World!\"\n",
    "\n",
    "@app.route('/<name>')\n",
    "def hello_name(name):\n",
    "    return \"Hallo %s!\" % name\n",
    "\n",
    "webbrowser.open(\"http://127.0.0.1:5000/Heiner\")\n",
    "\n",
    "# Der folgende Aufruf blockiert und muss über\n",
    "# Kernel->Interrupt gestoppt werden:\n",
    "app.run()"
   ]
  },
  {
   "cell_type": "markdown",
   "metadata": {},
   "source": [
    "**Aufgabe (funktioniert nur mit lokaler Python Installation auf Ihrem PC/Laptop): Erweitern Sie die obige Flask-Applikation um eine Methode `umdrehen` die ein Wort \"umgedreht\" ausgibt. Die Methode soll über die URL `/umdrehen/<wort>` erreichbar sein.**"
   ]
  },
  {
   "cell_type": "code",
   "execution_count": null,
   "metadata": {
    "deletable": false,
    "nbgrader": {
     "cell_type": "code",
     "checksum": "163ba699bd0e3ac68281573b45ba33ff",
     "grade": true,
     "grade_id": "cell-bb64874728a4792a",
     "locked": false,
     "points": 0,
     "schema_version": 3,
     "solution": true,
     "task": false
    }
   },
   "outputs": [],
   "source": [
    "from flask import Flask\n",
    "app = Flask(__name__)\n",
    "\n",
    "\n",
    "@app.route('/')\n",
    "def hello():\n",
    "    return \"Hello World!\"\n",
    "\n",
    "@app.route('/<name>')\n",
    "def hello_name(name):\n",
    "    return \"Hallo %s!\" % name\n",
    "\n",
    "# YOUR CODE HERE\n",
    "raise NotImplementedError()\n",
    "\n",
    "app.run()"
   ]
  },
  {
   "cell_type": "markdown",
   "metadata": {},
   "source": [
    "### 5. Wissenschaftliches Rechnen mit Numpy, Scipy und Matplotlib\n",
    "**Hinweis: Dieses Thema wird im Lehrbuch auf den Seiten 939-959 behandelt.**\n",
    "\n",
    "Python hat sich in den letzten Jahren als Standard-Programmiersprache in Bereichen des Wissenschaftlichen Rechnens und der Datenanalysen etabliert. Dies ist auch schon anhand der Vielzahl von Buchveröffentlichungen zu dem Thema zu erkennen."
   ]
  },
  {
   "cell_type": "markdown",
   "metadata": {},
   "source": [
    "Auf den ersten Blick erscheint der Einsatz von Python in diesem Bereich etwas unerwartet, denn ingenieursmäßige oder naturwissenschaftliche Anwendungen erfordern oft eine hohe Rechenleistung. Python, als interpretierte Programmiersprache ist in Punkto Performanz kompilierten Sprachen (wie etwa C/C++) normalerweise unterlegen. \n",
    "Mehrere Aspekte sprechen allerdings für den Einsatz von Skriptsprachen im wissenschaftlichen Rechnen:\n",
    "1. Skriptsprachen erlauben häufig eine deutlich kompaktere und übersichtliche Programmstruktur. Bei Aufgaben, in denen es vor allem um eine korrekte und nachvollziehbare Implementierung eines algorithmischen Verfahrens geht, ist dies besonders wichtig.\n",
    "2. Der Umfang an (frei verfügbaren) Bibliotheken und Paketen für Python ist enorm, was Entwicklern die Arbeit ungemein erleichtert. Außerdem ist der Einsatz von Drittanbieter-Software sehr einfach. Pakete sind direkt auf allen Plattformen lauffähig und müssen nicht, wie in kompilierten Programmiersprachen, zunächst in Maschinencode übersetzt werden. \n",
    "3. Die laufzeitkritischen Elemente vieler Algorithmen lassen sich auf wenige *Standardroutinen* reduzieren. Für diese Routinen gibt es oft hoch-effiziente Implementationen, die sogar auf die speziellen Eigenschaften der vorliegen CPU optimiert werden. Sind solche Bibliotheken auf dem Computer verfügbar, so können sie von Python aus benutzt werden. Die rechenintensiven Teile eines Programms werden dann nicht mehr im Python Interpreter ausgeführt, sondern durch eine externe Bibliothek. Somit können die Performanz-Nachteile, die Python als interpretierte Sprache mitbringt, weitestgehend bereinigt werden.\n",
    "\n",
    "In der Vielzahl der verfügbaren Pakete für numerische Berechnungen mit Python gibt es einige Bibliotheken, die als quasi-Standard die Basis für viele Anwendungen und andere Pakete bilden:\n",
    "\n",
    "**NumPy** ist die elementare Python-Bibliothek für wissenschaftliches Rechnen. NumPy definiert Objekte für mehrdimensionale Arrays und Matrizen sowie mathematische Grundoperationen auf diesen Objekten. NumPy's \"Datentypen\" sind zwar eingeschränkter als die bekannten sequentiellen Typen in Python (*list*, *tuple*, etc.), dafür sind die Daten aber kompakter im Hauptspeicher abgelegt, so dass Operationen auf mehrdimensionalen Arrays effizienter durchgeführt werden können. Für Vektor- und Matrix-Operationen besitzt NumPy effiziente Implementierungen und benutzt, sofern auf dem Computer installiert, optimierte Bibliotheken für *Lineare Algebra* ([BLAS](https://de.wikipedia.org/wiki/Basic_Linear_Algebra_Subprograms) und [LAPACK](https://de.wikipedia.org/wiki/LAPACK))\n",
    "\n",
    "**SciPy** ist eine Bibliothek von Mathematischen Algorithmen die größtenteils auf NumPy aufbauen. SciPy ist sehr umfangreich und enthält unter anderem Module zur numerischen Berechnung von Integralen, zum Lösen von Differentialgleichungen, zur Berechnung von Optimierungsproblemen, zur digitalen Signalverarbeitung und zur Datenvisualisierung.\n",
    "\n",
    "**Matplotlib** ist die Standard-Bibliothek zum Erstellen von (mathematischen) Diagrammen. Sie Syntax von matplotlib orientiert sich an den Diagramm-Funktionen von [Matlab](https://de.mathworks.com) was Entwicklern den Umstieg von dem kommerziellen Tool auf Python deutlich erleichtert."
   ]
  },
  {
   "cell_type": "markdown",
   "metadata": {
    "collapsed": true
   },
   "source": [
    "### NumPy"
   ]
  },
  {
   "cell_type": "markdown",
   "metadata": {},
   "source": [
    "Im wissenschaftlichen Rechnen und in den datengetriebenen Wissenschaften sind Berechnungen mit Vektoren und Matrizen allgegenwärtig.\n",
    "In NumPy werden diese mathematischen Datenstrukturen als n-dimensionale Arrays mit dem Datentyp `ndarray` abgebildet. Wenn Sie die NumPy-Bibliothek mittels `import numpy as np` eingebunden haben, können Sie ein NumPy Array mit der Funktion `np.array()` anlegen:"
   ]
  },
  {
   "cell_type": "code",
   "execution_count": null,
   "metadata": {},
   "outputs": [],
   "source": [
    "import numpy as np\n",
    "x = np.array([1,2,3])\n",
    "print(x, type(x))"
   ]
  },
  {
   "cell_type": "markdown",
   "metadata": {},
   "source": [
    "Es gibt auch den Datentyp `matrix` in NumPy. Dieser Typ ist von `ndarray` abgeleiteten.\n",
    "Matrizen haben immer 2-dimensionale Struktur und Operatoren funktionieren etwas anders als bei \"normalen\" NumPy Arrays.\n",
    "Um Missverständnisse zu vermeiden, werden wir im folgenden vornehmlich den Typ `ndarray` benutzen."
   ]
  },
  {
   "cell_type": "markdown",
   "metadata": {},
   "source": [
    "Ein `ndarray` kann aus Folgen von Zahlen gebildet werden. Dies sind üblicherweise Tupel oder Listen. Die Dokumentation zur Funktion `array` sagt, dass ein *Array-artiger* Parameter übergeben werden soll. Es ist also so, dass alle Objekte, *die NumPy zu einem Array konvertieren kann*, an dieser Stelle Funktionieren:"
   ]
  },
  {
   "cell_type": "code",
   "execution_count": null,
   "metadata": {},
   "outputs": [],
   "source": [
    "a = np.array([1, 7, 1, 2])\n",
    "b = np.array((1, 7, 1, 2))\n",
    "print(\"a: %s\" % a)\n",
    "print(\"b: %s\" % b)"
   ]
  },
  {
   "cell_type": "markdown",
   "metadata": {},
   "source": [
    "Auf einzelne Elemente von eindimensionalen Arrays greift man über einen \"einfachen\" Index in `[]`-Klammern zu.\n",
    "Bei mehrdimensionalen Arrays werden die Zugriffe etwas komplizierter."
   ]
  },
  {
   "cell_type": "code",
   "execution_count": null,
   "metadata": {},
   "outputs": [],
   "source": [
    "b[2]"
   ]
  },
  {
   "cell_type": "markdown",
   "metadata": {},
   "source": [
    "NumPy liefert auch einige Funktionen, um spezielle Arrays zu erzeugen. Über `arange` können z.B. Arrays über Zahlenfolgen gebildet werden:"
   ]
  },
  {
   "cell_type": "code",
   "execution_count": null,
   "metadata": {},
   "outputs": [],
   "source": [
    "a = np.arange(8)\n",
    "a"
   ]
  },
  {
   "cell_type": "markdown",
   "metadata": {},
   "source": [
    "Die Länge eines Arrays erhält man über das Attribut `size`:\n"
   ]
  },
  {
   "cell_type": "code",
   "execution_count": null,
   "metadata": {},
   "outputs": [],
   "source": [
    "a.size"
   ]
  },
  {
   "cell_type": "markdown",
   "metadata": {},
   "source": [
    "Die Dimension wiederum, kann man mit dem Attribut `ndim` abfragen. Eindimensionalen Arrays haben die Dimension 1. Wir werden diese Arrays von nun an auch **Vektoren** nennen. Für zweidimensionale Arrays verwenden wir auch den Begriff **Matrix**."
   ]
  },
  {
   "cell_type": "code",
   "execution_count": null,
   "metadata": {},
   "outputs": [],
   "source": [
    "a.ndim"
   ]
  },
  {
   "cell_type": "markdown",
   "metadata": {},
   "source": [
    "Als eine Art Kombination der Attribute `size` und `ndim` kann man `shape` verstehen.\n",
    "Dieses Attribut liefert ein Tupel mit `ndim`-Elementen zurück, wobei das $i$-te Element die Größe der $i$-ten Dimension angibt. (Vielleicht fragen Sie sich, warum in dem Tupel `(8,)` das einzelne Komma steht? Das ist dazu da, die Schriftweise eindeutig zu halten. Ansonsten könnte man die Ausgabe mit einem `int` in Klammern verwechseln.)"
   ]
  },
  {
   "cell_type": "code",
   "execution_count": null,
   "metadata": {},
   "outputs": [],
   "source": [
    "a.shape"
   ]
  },
  {
   "cell_type": "markdown",
   "metadata": {},
   "source": [
    "Die Indizierung von NumPy Arrays beginnt immer bei der $0$.\n",
    "Neben der Adressierung von konkreten Indizes gibt es noch weitere Zugriffsregeln:"
   ]
  },
  {
   "cell_type": "code",
   "execution_count": null,
   "metadata": {},
   "outputs": [],
   "source": [
    "print(a[0])     # Das erste Element\n",
    "print(a[-1])    # Das letzte Element\n",
    "print(a[2:7])   # Die Elemente von Index 2 bis 7 (ausschließlich)\n",
    "print(a[2:7:2]) # Wie oben, nur mit einer Schrittweite von 2\n",
    "print(a[::3])   # Alle Elemente mit einer Schrittweite von 3"
   ]
  },
  {
   "cell_type": "markdown",
   "metadata": {},
   "source": [
    "### Mehrdimensionale Arrays\n",
    "\n",
    "Wie schon angesprochen, ist `ndarray` ein mehrdimensionaler Datentyp. Sie können also ohne Weiteres NumPy Arrays aus verschachtelten Listen oder Array erzeugen:"
   ]
  },
  {
   "cell_type": "code",
   "execution_count": null,
   "metadata": {},
   "outputs": [],
   "source": [
    "a = np.arange(6)\n",
    "b = np.arange(6,12)\n",
    "c = np.arange(12,18)\n",
    "d = np.arange(18,24)\n",
    "A = np.array((a,b,c,d))\n",
    "A"
   ]
  },
  {
   "cell_type": "markdown",
   "metadata": {},
   "source": [
    "Dabei müssen aber immer alle niedrigeren Dimensionen voll besetzt sein, damit `np.array` ein \"echtes\" Array generieren kann:"
   ]
  },
  {
   "cell_type": "code",
   "execution_count": null,
   "metadata": {},
   "outputs": [],
   "source": [
    "A = np.array([[ 0,  1,  2,  3,  4,  5],\n",
    "       [ 6,  7,  8,  9, 10, 11],\n",
    "       [12, 13, 14, 15, 16, 17],\n",
    "       [18, 19, 20, 21, 22, 23]])\n",
    "A"
   ]
  },
  {
   "cell_type": "markdown",
   "metadata": {},
   "source": [
    "Passen die Größen der einzelnen Vektoren oder Matrizen nicht zusammen, so liefert die Funktion ein vermutlich ungewolltes Resultat. Im folgenden Beispiel, hat die 3. Zeile der Matrix nur 2 Elemente, und nicht 6 wie alle anderen. `np.array` legt daher ein eindimensionales Array mit Listen als Elemente an: "
   ]
  },
  {
   "cell_type": "code",
   "execution_count": null,
   "metadata": {},
   "outputs": [],
   "source": [
    "B = np.array([[ 0,  1,  2,  3,  4,  5],\n",
    "       [ 6,  7,  8,  9, 10, 11],\n",
    "       [12, 13],\n",
    "       [18, 19, 20, 21, 22, 23]])\n",
    "B"
   ]
  },
  {
   "cell_type": "markdown",
   "metadata": {},
   "source": [
    "Einzelne Elemente eines mehrdimensionalen `ndarrays` adressieren Sie mit einer Folge von Index-Klammern. `A[3][1]` z.B. liefert das zweite Element der vierten Zeile der Matrix."
   ]
  },
  {
   "cell_type": "code",
   "execution_count": null,
   "metadata": {},
   "outputs": [],
   "source": [
    "A[3][1]"
   ]
  },
  {
   "cell_type": "markdown",
   "metadata": {},
   "source": [
    "Etwas komplizierter wird es, wenn wir nicht nur auf einzelne Werte, sondern ganze Bereiche einer Matrix zugreifen wollen.\n",
    "Mit `[x:y]` greift man auf die Zeilen $X$ bis einschließlich $y-1$ zu. Der $x$-Wert kann auch weg gelassen werden, `[:2]` liefert z.B. die ersten 2 Zeilen der Matrix"
   ]
  },
  {
   "cell_type": "code",
   "execution_count": null,
   "metadata": {},
   "outputs": [],
   "source": [
    "print(A[:3])"
   ]
  },
  {
   "cell_type": "code",
   "execution_count": null,
   "metadata": {},
   "outputs": [],
   "source": [
    "print(A[1:3])"
   ]
  },
  {
   "cell_type": "markdown",
   "metadata": {},
   "source": [
    "Auf einzelne Spalten der Matrix greift man über den Komma-Operator:"
   ]
  },
  {
   "cell_type": "code",
   "execution_count": null,
   "metadata": {},
   "outputs": [],
   "source": [
    "print(A[:,3])"
   ]
  },
  {
   "cell_type": "markdown",
   "metadata": {},
   "source": [
    "Das ist in etwa so zu verstehen, dass das Komma die einzelnen Dimensionen voneinander abgrenzt.\n",
    "Man nimmt also von der ersten Dimension alle Elemente (angegeben durch das Fehlen vonj Grenzen bei dem `:`-Operator) und von der zweiten Dimension nur die \"dritten\".\n",
    "Das folgende Beispiel liefert von den Elementen der dritten Zeile die Elemente im Bereich der zweiten bis dritten Spalte."
   ]
  },
  {
   "cell_type": "code",
   "execution_count": null,
   "metadata": {},
   "outputs": [],
   "source": [
    "print(A[2,1:3])"
   ]
  },
  {
   "cell_type": "markdown",
   "metadata": {},
   "source": [
    "### Arrays Anlegen"
   ]
  },
  {
   "cell_type": "markdown",
   "metadata": {},
   "source": [
    "Wir haben bereits gesehen, wie man NumPy Arrays mit den Funktionen `array` und `arange` anlegen kann.\n",
    "Es gibt aber noch weitere Methoden, mit denen Arrays angelegt werden können.\n",
    "So kann man z.B. Arrays generieren, die nur aus Nullen oder Einsen bestehen"
   ]
  },
  {
   "cell_type": "code",
   "execution_count": null,
   "metadata": {},
   "outputs": [],
   "source": [
    "np.zeros(9)"
   ]
  },
  {
   "cell_type": "code",
   "execution_count": null,
   "metadata": {},
   "outputs": [],
   "source": [
    "np.ones((4,4))"
   ]
  },
  {
   "cell_type": "markdown",
   "metadata": {},
   "source": [
    "Die Methode `linspace(Start, Ende, Anzahl-Werte)` ist eine Erweiterung von `arange` mit der fortlaufende Folgen von Zahlen generiert werden können. Die Funktion liefert `Anzahl-Werte` Zahlen im Bereich `[Start,Ende]`."
   ]
  },
  {
   "cell_type": "code",
   "execution_count": null,
   "metadata": {},
   "outputs": [],
   "source": [
    "x = np.linspace(-1,1,20)\n",
    "x"
   ]
  },
  {
   "cell_type": "markdown",
   "metadata": {},
   "source": [
    "Die Werte steigen bei `linspace` linear an. Falls Sie eine logarithmische Skalierung benötigen, können Sie die Funktion `logspace` verwenden. Dabei ist darauf zu achten, dass `Start` und `Ende` als Exponenten angenommen werden. `np.logspace(0,2,20)` etwa, generiert 20 Werte im Bereich 1 (10 hoch 0) bis 100 (10 hoch 2)."
   ]
  },
  {
   "cell_type": "code",
   "execution_count": null,
   "metadata": {},
   "outputs": [],
   "source": [
    "start = 0 # 10^0 = 1\n",
    "ende = 2 # 10^2 = 100\n",
    "n = 20\n",
    "\n",
    "np.logspace(0,2,20)"
   ]
  },
  {
   "cell_type": "markdown",
   "metadata": {},
   "source": [
    "Wir haben gesehen, wie wir eindimensionale Arrays generieren können.\n",
    "Oftmals benötigt man aber mehrdimensionale Arrays.\n",
    "NumPy stellt einige Methoden bereit, um die Struktur von Arrays zu verändern.\n",
    "Die Daten selbst, bleiben von diesen Operationen unverändert.\n",
    "\n",
    "Die wichtigsten Funktionen zum Umstrukturieren von Matrizen sind `reshape` und `flatten`."
   ]
  },
  {
   "cell_type": "code",
   "execution_count": null,
   "metadata": {},
   "outputs": [],
   "source": [
    "a = np.arange(20)\n",
    "b = a.reshape((4,5))\n",
    "print(\"b als 4x5 Matrix:\\n\", b)\n",
    "b = b.reshape((5,4))\n",
    "print(\"\\nb als 5x4 Matrix:\\n\", b)"
   ]
  },
  {
   "cell_type": "markdown",
   "metadata": {},
   "source": [
    "Eine Wichtige Operation in der Linearen Algebra ist das Transponieren von Matrizen. Dabei werden die Spalten und Zeilen der Matrix vertauscht. Die Werte in der Matrix bleiben gleich, werden aber in einer umgedrehten Rehenfolge durchlaufen.\n",
    "In NumPy greift man auf die Transponierte Form eines Arrays über das Attribut `T` zu."
   ]
  },
  {
   "cell_type": "code",
   "execution_count": null,
   "metadata": {},
   "outputs": [],
   "source": [
    "b.T"
   ]
  },
  {
   "cell_type": "markdown",
   "metadata": {},
   "source": [
    "Das Umstrukturieren und Transponieren funktioniert auch bei Arrays mit einer Dimension >2 "
   ]
  },
  {
   "cell_type": "code",
   "execution_count": null,
   "metadata": {},
   "outputs": [],
   "source": [
    "a = np.arange(24).reshape((2,3,4))\n",
    "a"
   ]
  },
  {
   "cell_type": "code",
   "execution_count": null,
   "metadata": {},
   "outputs": [],
   "source": [
    "a = a.T\n",
    "a"
   ]
  },
  {
   "cell_type": "markdown",
   "metadata": {},
   "source": [
    "Mit der Methode `flatten` kann man mehrdimensionale Arrys linearisieren."
   ]
  },
  {
   "cell_type": "code",
   "execution_count": null,
   "metadata": {},
   "outputs": [],
   "source": [
    "a.flatten()"
   ]
  },
  {
   "cell_type": "markdown",
   "metadata": {},
   "source": [
    "### Zufallszahlen"
   ]
  },
  {
   "cell_type": "markdown",
   "metadata": {},
   "source": [
    "Zufallszahlen und die Erzeugung von bestimmten Wahrscheinlichkeitsverteilungen ist an vielen Stellen der Mathematik wichtig.\n",
    "Das *Modul* `np.random` liefert Methoden um Zufallswerte und -verteilungen zu generieren.\n",
    "\n",
    "Wie es Ihnen vielleicht aus Sprachen wie C oder Java geläufig ist, köönen Sie auch in Python vor Benutzung des Zufallszahlengenerators mit einem Ausgangswert, dem sogenannten *seed*, initialisieren. Der Zufallszahlengenerator selbst ist  *deterministisch*, d.h., er erzeugt zu einem seed immer die gleiche Folge von Zufallszahlen."
   ]
  },
  {
   "cell_type": "code",
   "execution_count": null,
   "metadata": {},
   "outputs": [],
   "source": [
    "np.random.seed(seed=1)\n",
    "np.random.random(4)"
   ]
  },
  {
   "cell_type": "code",
   "execution_count": null,
   "metadata": {},
   "outputs": [],
   "source": [
    "np.random.random(5)"
   ]
  },
  {
   "cell_type": "code",
   "execution_count": null,
   "metadata": {},
   "outputs": [],
   "source": [
    "np.random.seed(seed=1)\n",
    "np.random.random(5)"
   ]
  },
  {
   "cell_type": "markdown",
   "metadata": {},
   "source": [
    "`random` liefert gleichverteilte Werte im Bereich `[0,1[`.\n",
    "Wenn Sie normalverteilte (also nach der Gaußschen Normalverteilung verteilte) Werte benötigen, können Sie die Funktion `np.random.normal(loc, scale, size)` verwenden. Der Parameter `loc` bezeichnet den Erwartungswert und `scale` die Standardabweichung. Mit `size` können Sie die Anzahl der zu generierenden Werte angeben."
   ]
  },
  {
   "cell_type": "code",
   "execution_count": null,
   "metadata": {},
   "outputs": [],
   "source": [
    "np.random.normal(0.0, 4.0, 10)"
   ]
  },
  {
   "cell_type": "markdown",
   "metadata": {},
   "source": [
    "Über ihre Namen, können Sie in Python auch nur einzelne Parameter angeben. Z.B. funktioniert auch der folgende Aufruf, in dem wir nur die Anzahl der Zahlen in der Funktion `normal` angeben. Für die Standardabweichung und die Varianz werden dann Default-Werte angenommen (0 bzw. 1)."
   ]
  },
  {
   "cell_type": "code",
   "execution_count": null,
   "metadata": {},
   "outputs": [],
   "source": [
    "np.random.normal(size=20)"
   ]
  },
  {
   "cell_type": "markdown",
   "metadata": {},
   "source": [
    "NumPy bietet auch einige elementare statistische Funktionen, z.B. für den Mittelwert (`mean`) oder die Standardabweichung (`std`)."
   ]
  },
  {
   "cell_type": "code",
   "execution_count": null,
   "metadata": {},
   "outputs": [],
   "source": [
    "a = np.random.normal(3,7,10000)\n",
    "print(\"Erwartungswert: \", a.mean())\n",
    "print(\"Standardabweichung: \", a.std())"
   ]
  },
  {
   "cell_type": "markdown",
   "metadata": {},
   "source": [
    "### Operationen\n",
    "\n",
    "Wir haben nun sehr ausführlich betrachtet, wie man Arrays anlegt und mit Werten füllen kann.\n",
    "Was wir bisher ausgelassen haben ist, wie man Operationen mit und auf NumPy Arrays durchführt.\n",
    "Dies wollen wir nun nachholen.\n",
    "\n",
    "Wenn man mit Vektoren und Matrizen rechnet, unterscheidet man Skalar- und Matrix-Operationen.\n",
    "Eine Skalar-Addition mit einem Vektor führt z.B. zu folgendem Resultat:"
   ]
  },
  {
   "cell_type": "code",
   "execution_count": null,
   "metadata": {},
   "outputs": [],
   "source": [
    "np.arange(8) + 10"
   ]
  },
  {
   "cell_type": "markdown",
   "metadata": {},
   "source": [
    "Addieren wir 2 Vektoren, so werden alle Werte an ihrer jeweiligen Stelle miteinander addiert."
   ]
  },
  {
   "cell_type": "code",
   "execution_count": null,
   "metadata": {},
   "outputs": [],
   "source": [
    "np.arange(8) + np.arange(8)"
   ]
  },
  {
   "cell_type": "markdown",
   "metadata": {},
   "source": [
    "Gleiches gilt für die Multiplikation"
   ]
  },
  {
   "cell_type": "code",
   "execution_count": null,
   "metadata": {},
   "outputs": [],
   "source": [
    "np.arange(10) * 5"
   ]
  },
  {
   "cell_type": "code",
   "execution_count": null,
   "metadata": {},
   "outputs": [],
   "source": [
    "np.arange(8) * np.arange(8)"
   ]
  },
  {
   "cell_type": "markdown",
   "metadata": {},
   "source": [
    "Arrays kann man auch mit Skalaren und Arrays vergleichen"
   ]
  },
  {
   "cell_type": "code",
   "execution_count": null,
   "metadata": {},
   "outputs": [],
   "source": [
    "np.arange(8) > 2"
   ]
  },
  {
   "cell_type": "code",
   "execution_count": null,
   "metadata": {},
   "outputs": [],
   "source": [
    "np.arange(8) == (np.arange(8) *2)"
   ]
  },
  {
   "cell_type": "markdown",
   "metadata": {},
   "source": [
    "Das Skalarprodukt (auch inneres Produkt genannt) ist eine eigene Form der Multiplikation zweier Vektoren. Dabei wird die Summe der Produkte aller Komponenten der beiden Vektoren."
   ]
  },
  {
   "cell_type": "code",
   "execution_count": null,
   "metadata": {},
   "outputs": [],
   "source": [
    "a = np.arange(5)\n",
    "print(\"a: \", a)\n",
    "b = np.arange(5)*2\n",
    "print(\"b: \", b)\n",
    "c=a*b\n",
    "print(\"c = a*b: \", c)\n",
    "d=a.dot(b)\n",
    "print(\"d = a.b: \", d)"
   ]
  },
  {
   "cell_type": "markdown",
   "metadata": {},
   "source": [
    "Die Summe aller Elemente eines Arrays bilden Sie mit der Funktion `sum`."
   ]
  },
  {
   "cell_type": "code",
   "execution_count": null,
   "metadata": {},
   "outputs": [],
   "source": [
    "np.arange(8).sum()"
   ]
  },
  {
   "cell_type": "markdown",
   "metadata": {},
   "source": [
    "Darüberhinaus gibt es noch Operationen für Matrizen"
   ]
  },
  {
   "cell_type": "code",
   "execution_count": null,
   "metadata": {},
   "outputs": [],
   "source": [
    "A = np.arange(20).reshape((4,5))\n",
    "B = np.arange(20).reshape((4,5))\n",
    "print(\"A+B:\\n\", A+B)\n",
    "print(\"A∘B:\\n\", A*B)"
   ]
  },
  {
   "cell_type": "markdown",
   "metadata": {},
   "source": [
    "Beachten Sie, dass die Multiplikation mit dem `*`-Operator die elementweise Multiplikation ist. Diese Operation wird auch Hadamard-Produkt oder Schur-Produkt genannt. Bei der elementweisen Multiplikation müssen beide Matrizen dieselbe Struktur besitzen.\n",
    "\n",
    "Unter einer Matrixmultiplikation versteht man eine andere Operation. Zwei Matrizen $A$ und $B$ werden miteinander multipliziert, indem man sämtliche Skalarprodukte der Zeilenvektoren von $A$ mit den Spaltenvektoren von $B$ bildet.\n",
    "Die Spaltenzahl von $A$ muss daher mit der Zeilenzahl von $B$ übereinstimmen."
   ]
  },
  {
   "cell_type": "code",
   "execution_count": null,
   "metadata": {},
   "outputs": [],
   "source": [
    "A = np.arange(20).reshape((4,5))\n",
    "B = np.arange(20).reshape((5,4))\n",
    "print(\"A⋅B:\\n\", A@B)"
   ]
  },
  {
   "cell_type": "markdown",
   "metadata": {},
   "source": [
    "### Warum ist NumPy effizient"
   ]
  },
  {
   "cell_type": "markdown",
   "metadata": {},
   "source": [
    "Im folgenden wollen wir kurz analysieren, warum NumPy-Datentypen für Operationen auf großen Datensätzen besser geeignet sind, als die eingebauten Typen von Python.\n",
    "Wir Vergleichen hier 2 Vektoren $X$ und $Y$: $X$ wird dabei als NumPy Array erzeugt, $Y$ ist ein reguläres Tupel-Objekt. Die Daten/Werte in $X$ und $Y$ sind aber gleich."
   ]
  },
  {
   "cell_type": "code",
   "execution_count": null,
   "metadata": {},
   "outputs": [],
   "source": [
    "import math\n",
    "N = 1000000\n",
    "# X ist ein NumPy Array\n",
    "X = np.linspace(0,N-1,num=N)/N\n",
    "# Y Ist ein Tupel\n",
    "Y = tuple(y/N for y in range(0,N))\n",
    "print(sum(X-Y)) # X und Y sind 'gleich'"
   ]
  },
  {
   "cell_type": "markdown",
   "metadata": {},
   "source": [
    "Dass die unterschiedlichen Datentypen (im Beisiel, Tupel und NumPy Array) sehr unterschiedliche Speicherbedarfe haben, ist nicht ganz leicht nachzuprüfen. Zwar besitzt das Modul `sys` die Funktion `getsizeof`, welche auf beliebeige Objekte angewendet werden kann. Wenn man aber `getsizeof` auf ein Objekt eines Sequentiellen Datentyps anwendet, so werden nur die enthaltenen Objektreferenzen in die Berechnung der _Größe_ miteinbezogen; nicht die referenzierte Objekte selbst. Die folgende Funktion `deep_getsizeof` analysiert die Größe eines Objekts und exploriert dabei alle enthaltenen Objekte in rekursiever Weise. Damit erhält man den \"echten\" Speicherbedarf eines Objektes."
   ]
  },
  {
   "cell_type": "code",
   "execution_count": null,
   "metadata": {},
   "outputs": [],
   "source": [
    "from sys import getsizeof\n",
    "from collections.abc import Mapping, Container\n",
    "def deep_getsizeof(o, ids=None):\n",
    "    if not ids:\n",
    "        ids = set()\n",
    "                   \n",
    "    d = deep_getsizeof\n",
    "    if id(o) in ids:\n",
    "        return 0\n",
    "\n",
    "    r = getsizeof(o)\n",
    "    ids.add(id(o))\n",
    "\n",
    "    if isinstance(o, str) or isinstance(0, str):\n",
    "        return r\n",
    "\n",
    "    if isinstance(o, Mapping):\n",
    "        return r + sum(d(k, ids) + d(v, ids) for k, v in o.iteritems())\n",
    "\n",
    "    if isinstance(o, Container):\n",
    "        return r + sum(d(x, ids) for x in o)\n",
    "\n",
    "    return r"
   ]
  },
  {
   "cell_type": "code",
   "execution_count": null,
   "metadata": {},
   "outputs": [],
   "source": [
    "sX = deep_getsizeof(X)\n",
    "sY = deep_getsizeof(Y)\n",
    "print(\"NumPy Array X ist %d kByte groß.\" % (sX/1024))\n",
    "print(\"Tupel Y ist %d kByte groß.\" % (sY/1024))"
   ]
  },
  {
   "cell_type": "markdown",
   "metadata": {},
   "source": [
    "Wenn Sie wissen möchten, welche mathematischen Bibliotheken NumPy intern verwendet, können Sie sich die entsprechenden Systempfade mit `np.__config__.show()` ausgeben lassen."
   ]
  },
  {
   "cell_type": "code",
   "execution_count": null,
   "metadata": {},
   "outputs": [],
   "source": [
    "np.__config__.show()"
   ]
  },
  {
   "cell_type": "markdown",
   "metadata": {},
   "source": [
    "### Matplotlib"
   ]
  },
  {
   "cell_type": "markdown",
   "metadata": {},
   "source": [
    "Mit der Matplotlib Bibliothek können in Python mit recht einfachen Mitteln gutaussehende Grafiken erstellt werden. Der Funktionsumfang der Bibliothek ist sehr groß, daher werden wir Sie hier nur anhand einiger Beispiele vorstellen. Für die Darstellung spezieller Graphen gibt es viele Beispiele in der [Matplotlib Galerie](https://matplotlib.org/gallery/index.html).\n",
    "\n",
    "Denken Sie daran, zuerst die Bibliotheksfunktionen einzubindnen."
   ]
  },
  {
   "cell_type": "code",
   "execution_count": null,
   "metadata": {},
   "outputs": [],
   "source": [
    "import numpy as np\n",
    "import matplotlib as mpl\n",
    "import matplotlib.pyplot as plt\n",
    "%matplotlib inline\n",
    "#%matplotlib notebook"
   ]
  },
  {
   "cell_type": "markdown",
   "metadata": {},
   "source": [
    "Die obigen `import` Anweisungen sind _boilerplate code_, also ein Textbaustein, den Sie immer in gleicher Form verwenden, wenn Sie mit _numpy_ und _matplotlib_ arbeiten. Auch die Abkürzungen der Modulnamen haben sich in dieser Form etabliert.\n",
    "\n",
    "`%matplotlib` hingegen ist eine _magic function_ in ipython. Mit diesen Funktionen lassen sich generelle Einstellungen für die interaktive shell vornehmen. Mit dem Parameter `inline` stellt man ein, das die Grafiken im interaktiven Modus direkt unter dem Code dargestellt werden. Die Option `notebook` ist eine erweiterte Variante mit interaktiven Elementen für Python Notebooks."
   ]
  },
  {
   "cell_type": "markdown",
   "metadata": {},
   "source": [
    "Die folgende Code-Zelle zeigt ein einfaches Beispiel, in dem eine Sinus- und eine Cosinus-Funktion mittels NumPy erzeugt und die Graphen der Funktionen mit dem Modul _pyplot_ aus dem Paket matplotlib dargestellt werden."
   ]
  },
  {
   "cell_type": "code",
   "execution_count": null,
   "metadata": {},
   "outputs": [],
   "source": [
    "x = np.linspace(0,2*np.pi)\n",
    "fig = plt.figure()\n",
    "plt.plot(x,np.sin(x),label=\"Sinus\")\n",
    "plt.plot(x,np.cos(x),label=\"Cosinus\")\n",
    "l_sine, l_cos = plt.gca().lines\n",
    "l_cos.set_linewidth(10)\n",
    "plt.legend(loc='lower left')\n",
    "plt.show()"
   ]
  },
  {
   "cell_type": "markdown",
   "metadata": {},
   "source": [
    "Numpy stellt den Dekorator `numpy.vectorize` zur Vektorisierung von Funktionen zur Verfügung. Wird dieser Dekorator auf eine Funktion angewendet, so wird die Funktion zur Laufzeit auf alle Elemente der als Argumente übergebenen NumPy Arrays angewendet. Dieser Dekorator dient nicht unbedingt der Effizienz (intern ist der Dekorator als einfache Schleife über alle Elemente implementiert) erlaubt es aber, Funktionen mit skalaren Parametern auch auf Vektoren anzuwenden."
   ]
  },
  {
   "cell_type": "code",
   "execution_count": null,
   "metadata": {},
   "outputs": [],
   "source": [
    "@np.vectorize\n",
    "def vect_exp(x,y):\n",
    "    return np.exp(x) * np.sin(y)\n",
    "\n",
    "print(\"Mit List Comprehension:\")\n",
    "%time A = tuple(math.exp(a)*math.sin(a) for a in Y)\n",
    "\n",
    "print(\"\\nMit der map Funktion:\")\n",
    "%time B = tuple(map(lambda a,b: math.exp(a)*math.sin(b), Y, Y))\n",
    "\n",
    "print(\"\\nMit numpy Funktionen:\")\n",
    "%time C = np.exp(X)*np.sin(X)\n",
    "\n",
    "print(\"\\nMit einer vektorisierten Funktion:\")\n",
    "%time D = vect_exp(X,X)\n",
    "\n",
    "print(\"\\nTesten, ob die Arrays gleich sind:\")\n",
    "if sum(B-C)==0.0 and sum(B-D)==0.0:\n",
    "    print(\"OK\")\n",
    "else:\n",
    "    print(\"Der Fehler ist %e\" % max(sum(B-C),sum(B-D)))"
   ]
  },
  {
   "cell_type": "markdown",
   "metadata": {},
   "source": [
    "Matplotlib kann nicht nur Funktionsgraphen zeichnen, sondern bietet eine Fülle von verschiedenen Diagrammtypen. Eine gute Übersicht finden Sie [hier](https://matplotlib.org/gallery.html). Im folgenden Beispiel benutzen wir ein Histogramm um die Verteilung einer Zufallsvariablen darzustellen. Mit dem NumPy Modul _random_ generieren wir uns einen Vektor mit 20000 Einträgen auf Basis der Normal-Verteilung (auch Gauß-Verteilung genannt). Ein Histogramm ist ein Säulendiagramm, das darstellt, wie viele Elemente in einen bestimmten Wertebereich fallen. Der Parameter `bins` gibt an, in wie viele Bereiche die Darstellung aufgeteilt werden soll. Im Beispiel wollen wir also ein Sälendiagramm mit 200 Säulen zeichnen. Man erkennt im Diagramm die typische _Glockenkurve_ mit dem Erwartungswert (hier: 0) in der \"Mitte\"."
   ]
  },
  {
   "cell_type": "code",
   "execution_count": null,
   "metadata": {},
   "outputs": [],
   "source": [
    "fig = plt.figure()\n",
    "N = 20000\n",
    "W = np.random.standard_normal(size=N)\n",
    "plt.hist(W,bins=(N//100))\n",
    "plt.show()"
   ]
  },
  {
   "cell_type": "markdown",
   "metadata": {},
   "source": [
    "Zufallszahlen sind in vielen Bereichen des wissenschaftlichen Rechnens und der angewandten Mathematik (z.B. in der Finanzmathematik) wichtig. Häufig geht es darum, komplexe Prozesse zu simulieren, deren Ausgang von Wahrscheinlichkeiten abhängt.\n",
    "Im nächsten Beispiel, generieren wir wieder Folgen von (normalverteilten) Zufallszahlen. Auf dieser Folge berechnen wir dann mit `numpy.cumsum` die kumulierte Summe (auch [Präfixsumme](https://de.wikipedia.org/wiki/Präfixsumme) genannt). Das bedeutet, wir berechnen für jede Position in der Folge die Summe aller Folgenglieder bis zu dieser Position. Dazu addieren wir noch einen Startwert. Da der Erwartungswert der Normalverteilung Null ist und die einzelnen Elemente der Folge unabhängig sind, ist auch der Erwartungswert der Summe gleich Null.\n",
    "Wir sehen aber im Beispiel, dass sich einige der Zufallsprozesse extremer in positive oder negative Richtung entwickeln."
   ]
  },
  {
   "cell_type": "code",
   "execution_count": null,
   "metadata": {},
   "outputs": [],
   "source": [
    "fig = plt.figure()\n",
    "N = 100\n",
    "Startwert=10\n",
    "Runden=100\n",
    "Mittelwert=0\n",
    "for i in range(0,Runden):\n",
    "    X = np.random.standard_normal(size=N)\n",
    "    X = np.cumsum(X)+Startwert\n",
    "    plt.plot(X)\n",
    "    Mittelwert += np.average(X)\n",
    "Mittelwert /= Runden\n",
    "plt.show()\n",
    "Mittelwert"
   ]
  },
  {
   "cell_type": "markdown",
   "metadata": {},
   "source": [
    "Wenn Sie diese Zufallsprozesse mathematisch etwas erweitern kommen Sie zu Modellen, die heutzutage von Banken und Finanzdienstleistern eingesetzt werden, um Optionspapiere zu bewerten.\n",
    "\n",
    "Auch wenn an dieser Stelle die Details des Beispiels nicht weiter behandelt werden, sehen Sie, dass der Code sehr übersichtlich ist. Das ist sowohl bei der Entwicklung, als auch beim Verstehen von Algorithmen sehr vorteilhaft. Python, mit den Erweiterungen NumPy, SciPy und Matplotlib, hat sich für Ingenieure und Wissenschaftler zu einer echten Alternative zu kommerziellen Tools wie etwa Matlab entwickelt.\n"
   ]
  },
  {
   "cell_type": "code",
   "execution_count": null,
   "metadata": {},
   "outputs": [],
   "source": [
    "fig = plt.figure()\n",
    "Laufzeit = 250\n",
    "Drift = 0.0005\n",
    "Volatilitaet = 0.01\n",
    "Startpreis = 20\n",
    "t = np.linspace(0, Laufzeit-1, Laufzeit)\n",
    "Endpreis = 0\n",
    "Simulationen=200\n",
    "for i in range(0,Simulationen):\n",
    "    # Standard-Wiener-Prozess simuliert durch einen Gaußschen Random Walk\n",
    "    W = np.random.standard_normal(size = Laufzeit)\n",
    "    W = np.cumsum(W)\n",
    "    # # Geometrische Brownsche Bewegung mit Drift\n",
    "    X = (Drift-0.5*Volatilitaet**2)*t + Volatilitaet*W \n",
    "    S = Startpreis*np.exp(X)\n",
    "    plt.plot(t, S)\n",
    "    Endpreis += S[-1]\n",
    "plt.plot(t, [Startpreis]*Laufzeit, lw=3, color='black')\n",
    "plt.show()\n",
    "print(\"Erwarteter Preis: %f\" % (Endpreis/Simulationen))"
   ]
  },
  {
   "cell_type": "markdown",
   "metadata": {},
   "source": [
    "Das Paket **SciPy** liefert eine Reihe weiterer mathematischer Funktionen, die über den Umfang von NumPy hinaus gehen.\n",
    "Ein relativ einfaches Beispiel ist das Ableiten von Funktionen mit der Methode `derivative` aus dem Module `scipy.misc`. Im Beispiel erzeugen wir eine Kubische Funktion $f(x)=x^3+x^2$ und stellen sie dann, zusammen mit ihrer ersten und zweiten Ableitung' mit der _matplotlib_ dar."
   ]
  },
  {
   "cell_type": "code",
   "execution_count": null,
   "metadata": {},
   "outputs": [],
   "source": [
    "import sys\n",
    "!{sys.executable} -m pip install --user Scipy"
   ]
  },
  {
   "cell_type": "code",
   "execution_count": null,
   "metadata": {},
   "outputs": [],
   "source": [
    "from scipy.misc import derivative\n",
    "def f(x):\n",
    "    return x**3 + x**2\n",
    "\n",
    "fig = plt.figure()\n",
    "X = np.linspace(-3,3)\n",
    "plt.plot(X,f(X),label=\"f\",lw=3)\n",
    "plt.plot(X,derivative(f,X),label=\"f'\")\n",
    "plt.plot(X,derivative(f,X,n=2),label=\"f''\")\n",
    "plt.legend(loc='best',fontsize='large')\n",
    "plt.show()"
   ]
  },
  {
   "cell_type": "markdown",
   "metadata": {},
   "source": [
    "### Interaktion"
   ]
  },
  {
   "cell_type": "markdown",
   "metadata": {},
   "source": [
    "Das die Plots direkt im Jupyter Notebook erscheinen ist sehr praktisch.\n",
    "So können Sie Ihre Daten analysieren und direkt in nächsten Code-Zelle weiter bearbeiten.\n",
    " \n",
    "Jupyter bietet aber noch mehr Möglichkeiten, um auf Ausgaben einzuwirken.\n",
    "Für IPython kibt es Zusatzmodule, die interaktive Widgets im Browser bereitstellen.\n",
    "Mit diesen Widgets kann man den Code-Zellen Bedienelemente hinzufügen, mit denen der Code interaktiv gesteuert werden kann.\n",
    "\n",
    "Ein recht einfaches Bedienelement ist ein Schieberegler, mit sich ein skalarer Parameter einstellen lässt.\n",
    "Ein solcher Slider lässt sich mit der Methode `interact` aus dem Modul `ipywidgets.widgets` leicht umsetzen.\n",
    "`interact` ist dabei recht flexibel.\n",
    "Falls der Parameter kein Skalar, sonder ein Boolean ist, wird eine Chackbox dargestellt.\n",
    "Bei einem String entsprechend ein Eingabefeld.\n",
    "\n",
    "Die Methode verlangt als erstes Argument eine Funktionsreferenz, danach folgen die einzustellenden Parameter der Funktion."
   ]
  },
  {
   "cell_type": "code",
   "execution_count": null,
   "metadata": {},
   "outputs": [],
   "source": [
    "import webbrowser\n",
    "url = 'https://jupyter-tutorial.readthedocs.io/de/latest/workspace/jupyter/ipywidgets/examples.html'\n",
    "webbrowser.open(url)"
   ]
  },
  {
   "cell_type": "code",
   "execution_count": null,
   "metadata": {},
   "outputs": [],
   "source": [
    "from ipywidgets.widgets import interact, interactive, fixed\n",
    "from ipywidgets import widgets\n",
    "def f(x):\n",
    "    print(x)\n",
    "    \n",
    "interact(f, x=10)"
   ]
  },
  {
   "cell_type": "markdown",
   "metadata": {},
   "source": [
    "`interact` kann übrigens auch als Dekorator verwendet werden:"
   ]
  },
  {
   "cell_type": "code",
   "execution_count": null,
   "metadata": {},
   "outputs": [],
   "source": [
    "@interact\n",
    "def f(x=10):\n",
    "    print(x)"
   ]
  },
  {
   "cell_type": "markdown",
   "metadata": {},
   "source": [
    "In der folgenden Code-Zelle greifen wir das Beispiel mit der Ableitung von oben nochmal auf.\n",
    "Statt einer festen Funktion $f(x)=x^3+x^2$ nehmen wir hier eine allgemeine Polynomfunktion $f(x)=ax^3+bx^2+cx+d$ an.\n",
    "Die Parameter $a$ bis $d$ werden über einzelne Regler interaktiv bedienbar gemacht."
   ]
  },
  {
   "cell_type": "code",
   "execution_count": null,
   "metadata": {},
   "outputs": [],
   "source": [
    "%matplotlib notebook\n",
    "from scipy.misc import derivative\n",
    "\n",
    "def g(a,b,c,d):\n",
    "    def foo(x):\n",
    "        return a*x**3 + b*x**2 + c*x +d\n",
    "    return foo\n",
    "\n",
    "def plotte_funktionen(a,b,c,d):\n",
    "    fig = plt.figure()\n",
    "    X = np.linspace(-3,3)\n",
    "    f = g(a,b,c,d)\n",
    "    plt.plot(X,f(X),label=\"f\",lw=5)\n",
    "    plt.plot(X,derivative(f,X),label=\"f'\")\n",
    "    plt.plot(X,derivative(f,X,n=2),label=\"f''\")\n",
    "    plt.legend(loc='best',fontsize='large')\n",
    "    plt.draw()\n",
    "\n",
    "interact(plotte_funktionen, a=1.0, b=1.0, c=1.0, d=1.0)    \n"
   ]
  },
  {
   "cell_type": "markdown",
   "metadata": {},
   "source": [
    "In einem abschließenden Beispiel geht es nochmal um Matrix-Berechnungen mit NumPy.\n",
    "Wir wollen Bilder bearbeiten und mit matplotlib anzeigen. Hierzu laden wir zuerst das Graustufen Bild aus dem Beispiel in [Abschnit 3](#3.-Web-Zugriffe-mit-der-Requests-Bibliothek) als Instanz `img`. Im zweiten Schritt formen wir das Graustufenbild in ein RGB-Format um, indem wir aus dem Grauwert eines Pixels ein Array mit 3 identischen Werten generieren (hierzu benutzen wir die `stack`Funktion)."
   ]
  },
  {
   "cell_type": "code",
   "execution_count": null,
   "metadata": {},
   "outputs": [],
   "source": [
    "import matplotlib.pyplot as plt\n",
    "import matplotlib.image as mpimg\n",
    "import numpy as np\n",
    "%matplotlib inline\n",
    "\n",
    "img=mpimg.imread('image.png')\n",
    "#Mache aus dem Graustufenbild ein RGB Bild\n",
    "#Dazu muss der \"Grau-Kanal\" verdreifacht werden\n",
    "#(in Form eines 3-Tupels):\n",
    "rgb_img = np.stack((img,)*3, axis=-1)\n",
    "imgplot = plt.imshow(rgb_img)"
   ]
  },
  {
   "cell_type": "markdown",
   "metadata": {},
   "source": [
    "Nun können wir z.B. die Farbgebung der Bilder verändern, indem wir einzelnen Farbkanäle im additiven RGB (Rot-Grün-Blau) Farbraum, auf Null setzen:\n",
    "\n",
    "<!-- ![](https://upload.wikimedia.org/wikipedia/commons/2/28/RGB_illumination.jpg) -->"
   ]
  },
  {
   "cell_type": "code",
   "execution_count": null,
   "metadata": {},
   "outputs": [],
   "source": [
    "rg_img = np.copy(rgb_img)\n",
    "#Blau-Kanal auf Null -> Gelb\n",
    "rg_img[:,:,2] = 0\n",
    "rb_img = np.copy(rgb_img)\n",
    "#Grün-Kanal auf Null -> Violett\n",
    "rb_img[:,:,1] = 0\n",
    "gb_img = np.copy(rgb_img)\n",
    "#Rot-Kanal auf Null -> Türkis\n",
    "gb_img[:,:,0] = 0\n",
    "\n",
    "plt.figure()\n",
    "plt.subplot(131)\n",
    "plt.imshow(rg_img)\n",
    "plt.gca().axes.get_xaxis().set_visible(False)\n",
    "plt.gca().axes.get_yaxis().set_visible(False)\n",
    "\n",
    "plt.subplot(132)\n",
    "plt.imshow(rb_img)\n",
    "plt.gca().axes.get_xaxis().set_visible(False)\n",
    "plt.gca().axes.get_yaxis().set_visible(False)\n",
    "\n",
    "plt.subplot(133)\n",
    "plt.imshow(gb_img)\n",
    "plt.gca().axes.get_xaxis().set_visible(False)\n",
    "plt.gca().axes.get_yaxis().set_visible(False)"
   ]
  },
  {
   "cell_type": "markdown",
   "metadata": {},
   "source": [
    "**Aufgabe: Erzeugen Sie ein neues Bild, indem Sie Bereiche (horizontale \"Streifen\") aus den Arrays `rg_img`, `rb_img` und `gb_img` selektieren und zu einem neuen Bild zusammenfügen.**"
   ]
  },
  {
   "cell_type": "code",
   "execution_count": null,
   "metadata": {
    "deletable": false,
    "nbgrader": {
     "cell_type": "code",
     "checksum": "ed0fbc235ba5c0b397eec8f5541abb55",
     "grade": true,
     "grade_id": "cell-7a2f19c119a3089c",
     "locked": false,
     "points": 0,
     "schema_version": 3,
     "solution": true,
     "task": false
    }
   },
   "outputs": [],
   "source": [
    "# YOUR CODE HERE\n",
    "raise NotImplementedError()"
   ]
  },
  {
   "cell_type": "markdown",
   "metadata": {},
   "source": [
    "### 6. Grafische Benutzeroberflächen mit Tkinter\n",
    "**Tkinter wird auf den Seiten 791-839 im Lehrbuch behandelt.**\n",
    "\n",
    "Für Python existieren mehrere Toolkits zur Programmierung grafischer Oberflächen. Im Lehrbuch finden Sie auf den Seiten 791-793 eine gute Übersicht dazu.\n",
    "In der Standardbibliothek enthalten ist das Paket Tkinter, das eine objektorientierte Schnittstelle für Tk-Anwendungen bereitstellt. Tk ist ein GUI-Toolkit das ursprünglich für die Skriptsprache _Tcl_ entworfen wurde. \n",
    "\n",
    "Die Programmierung graphischer Benutzerschnittstellen ist ein komplexes Thema, das weit über den Umfang dieser Veranstaltung hinausgeht. Daher wird an dieser Stelle nur ein Minimalbeispiel kommentarlos vorgestellt."
   ]
  },
  {
   "cell_type": "code",
   "execution_count": null,
   "metadata": {},
   "outputs": [],
   "source": [
    "import tkinter\n",
    "class CtoF(tkinter.Frame):\n",
    "    def __init__(self, master=None):\n",
    "        super().__init__(master)\n",
    "        self.pack()\n",
    "        self.createWidgets()\n",
    "    def createWidgets(self):\n",
    "        self.celEntry = tkinter.Entry(self)\n",
    "        self.celEntry.pack()\n",
    "        self.cel = tkinter.DoubleVar()\n",
    "        self.cel.set(\"Temperatur in Celsius\")\n",
    "        self.celEntry[\"textvariable\"] = self.cel\n",
    "        self.ok = tkinter.Button(self)\n",
    "        self.ok[\"text\"] = \"Schließen\"\n",
    "        self.ok[\"command\"] = self.master.destroy\n",
    "        self.ok.pack(side=\"right\")\n",
    "        self.conv = tkinter.Button(self)\n",
    "        self.conv[\"text\"] = \"Umrechnen\"\n",
    "        self.conv[\"command\"] = self.convert\n",
    "        self.conv.pack(side=\"right\")\n",
    "    def convert(self):\n",
    "        self.cel.set(self.cel.get()*1.8+32)"
   ]
  },
  {
   "cell_type": "code",
   "execution_count": null,
   "metadata": {},
   "outputs": [],
   "source": [
    "root = tkinter.Tk()\n",
    "app = CtoF(root)\n",
    "app.mainloop()"
   ]
  },
  {
   "cell_type": "markdown",
   "metadata": {},
   "source": [
    "**Aufgabe (funktioniert nur mit lokaler Python Installation auf Ihrem PC/Laptop): Schreiben Sie ein GUI-Anwendung mit Tkinter, die in einem Textfeld einen String erwartet. Fügen Sie einen Button hinzu der bewirkt, dass der String im Text umgedreht erscheint.**"
   ]
  },
  {
   "cell_type": "code",
   "execution_count": null,
   "metadata": {
    "deletable": false,
    "nbgrader": {
     "cell_type": "code",
     "checksum": "7e97be6c7b6e5d3f962d0f01761512c3",
     "grade": true,
     "grade_id": "cell-fcd878b50d199a28",
     "locked": false,
     "points": 0,
     "schema_version": 3,
     "solution": true,
     "task": false
    }
   },
   "outputs": [],
   "source": [
    "import tkinter\n",
    "\n",
    "class MyApp(tkinter.Frame):\n",
    "# YOUR CODE HERE\n",
    "raise NotImplementedError()"
   ]
  },
  {
   "cell_type": "code",
   "execution_count": null,
   "metadata": {},
   "outputs": [],
   "source": [
    "root = tkinter.Tk()\n",
    "app = MyApp(root)\n",
    "app.mainloop()"
   ]
  }
 ],
 "metadata": {
  "kernelspec": {
   "display_name": "Python 3",
   "language": "python",
   "name": "python3"
  },
  "language_info": {
   "codemirror_mode": {
    "name": "ipython",
    "version": 3
   },
   "file_extension": ".py",
   "mimetype": "text/x-python",
   "name": "python",
   "nbconvert_exporter": "python",
   "pygments_lexer": "ipython3",
   "version": "3.7.3"
  }
 },
 "nbformat": 4,
 "nbformat_minor": 2
}
