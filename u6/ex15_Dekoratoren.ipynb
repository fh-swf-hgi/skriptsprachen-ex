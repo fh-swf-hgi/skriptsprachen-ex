{
 "cells": [
  {
   "cell_type": "markdown",
   "id": "distinguished-recorder",
   "metadata": {},
   "source": [
    "<figure>\n",
    "  <IMG SRC=\"https://upload.wikimedia.org/wikipedia/commons/thumb/d/d5/Fachhochschule_Südwestfalen_20xx_logo.svg/320px-Fachhochschule_Südwestfalen_20xx_logo.svg.png\" WIDTH=250 ALIGN=\"right\">\n",
    "</figure>\n",
    "\n",
    "# Skriptsprachen\n",
    "### Sommersemester 2021\n",
    "Prof. Dr. Heiner Giefers"
   ]
  },
  {
   "cell_type": "markdown",
   "metadata": {},
   "source": [
    "# Dekoratoren\n",
    "Mit Dekoratoren kann man die Kernfunktionalität von Funktionen und Klassen um bestimmte Aspekte erweitern. Das Programmierparadigma hinter dieser Idee heißt daher auch [_Aspektorientierte Programmierung_](https://de.wikipedia.org/wiki/Aspektorientierte_Programmierung).\n",
    "\n",
    "Dekoratoren sind Funktionen, die andere Funktionen \"abändern\" bzw. erweitern können. Wie normale Funktionen können auch Dekoratoren über einen Funktionsaufruf benutzt werden. Angenommen, `f()` ist eine Funktion und `mydecorator()` unsere Dekoratorfunktion. Wir können nun `f()` \"dekorieren\", indem wir\n",
    "```python\n",
    "f = mydecorator(f)\n",
    "```\n",
    "aufrufen. Das gleiche erreicht man, indem man der Funktionsdefinition ein `@mydecorator` voranstellt. Also z.B.:\n",
    "```python\n",
    "@mydecorator\n",
    "def f():\n",
    "    pass\n",
    "```"
   ]
  },
  {
   "cell_type": "markdown",
   "metadata": {},
   "source": [
    "## Funktionsdekoratoren\n",
    "Bevor wir uns anschauen, wie man Funktionsdkoratoren entwickelt, sollten wir uns nochmals einige Aspekte von Funktionen in Python vor Augen führen.\n",
    "\n",
    "*1.* Funktionsnamen sind Referenzen auf Funktionen, daher kann ein und dieselbe Funktion über mehrere Namen aufgerufen werden."
   ]
  },
  {
   "cell_type": "code",
   "execution_count": null,
   "metadata": {},
   "outputs": [],
   "source": [
    "def original():\n",
    "    print(\"Hallo vom Original!\")\n",
    "\n",
    "original()\n",
    "kopie=original\n",
    "kopie()"
   ]
  },
  {
   "cell_type": "markdown",
   "metadata": {},
   "source": [
    "Ein Funktionsname ist nur ein Zeiger auf ein ausführbares Objekt - die eigentliche Funktion - und kann ggf. auch gelöscht werden. Das eigentliche Funktionsobjekt bleibt erhalten, solange noch eine Referenz auf das Objekt existiert."
   ]
  },
  {
   "cell_type": "code",
   "execution_count": null,
   "metadata": {},
   "outputs": [],
   "source": [
    "del original\n",
    "kopie()"
   ]
  },
  {
   "cell_type": "markdown",
   "metadata": {},
   "source": [
    "*2.* Funktionen können innerhalb von Funktionen definiert werden."
   ]
  },
  {
   "cell_type": "code",
   "execution_count": null,
   "metadata": {},
   "outputs": [],
   "source": [
    "def f():\n",
    "    def g():\n",
    "        print(\"Hallo aus g()\", end='')\n",
    "    g()\n",
    "\n",
    "f()"
   ]
  },
  {
   "cell_type": "markdown",
   "metadata": {},
   "source": [
    "*3.* Funktionen können Referenzen auf Funktionen als Resultat zurückgeben."
   ]
  },
  {
   "cell_type": "code",
   "execution_count": null,
   "metadata": {},
   "outputs": [],
   "source": [
    "def f():\n",
    "    def g():\n",
    "        print(\"Hallo aus g()\", end='')\n",
    "    return g\n",
    "\n",
    "x=f()\n",
    "x()"
   ]
  },
  {
   "cell_type": "markdown",
   "metadata": {},
   "source": [
    "*4.* Funktionsreferenzen können als Argument an andere Funktionen übergeben werden."
   ]
  },
  {
   "cell_type": "code",
   "execution_count": null,
   "metadata": {},
   "outputs": [],
   "source": [
    "def g():\n",
    "    print(\"Hallo aus g()\", end='')\n",
    "def h():\n",
    "    print(\"Hallo aus h()\", end='')   \n",
    "def f(x):\n",
    "    x()\n",
    "    print(\" in f()\")\n",
    "          \n",
    "f(g)\n",
    "f(h)"
   ]
  },
  {
   "cell_type": "markdown",
   "metadata": {},
   "source": [
    "Mittels dieser vier Eigenschaften lassen sich nun Funktionsdekoratoren wie im folgenden Beispiel definieren."
   ]
  },
  {
   "cell_type": "markdown",
   "metadata": {},
   "source": [
    "## Logging-Dekorator\n",
    "Ein Anwendungsfall für Dekoratoren ist z.B. die Erzeugung von Debug-Informationen (_Logging_). Angenommen man möchte, dass bestimmte Funktionen zur Laufzeit eine Ausgabe generieren, wenn sie Betreten und Verlassen werden. Dazu müssten normalerweise die entsprechenden Funktionen durch `print`-Anweisungen am Anfang und Ende des Funktionskörpers versehen werden. Solche Änderungen sind aufwendig zu implementieren, da sie in jeder Funktion gleichartig hinzugefügt und, nach dem Testen, wieder entfernt werden müssen.\n",
    "\n",
    "Viel eleganter ist es, die Logging-Funktionalität zentral zu definieren und auf die entsprechenden Funktionen zu übertragen; die folgende Funktion `mylogger` ist ein Beispiel dafür. "
   ]
  },
  {
   "cell_type": "code",
   "execution_count": null,
   "metadata": {},
   "outputs": [],
   "source": [
    "def mylogger(func):\n",
    "    def foo(*args, **kwargs):\n",
    "        print(\"Betrete %s\" %  func.__name__)\n",
    "        func(*args, **kwargs)\n",
    "        print(\"Verlasse %s\" % func.__name__)\n",
    "    return foo"
   ]
  },
  {
   "cell_type": "markdown",
   "metadata": {},
   "source": [
    "`mylogger` bekommt als Argument eine Referenz auf ein Funktionsobjekt `func`. Der Funktionskörper von `mylogger` besteht hauptsächlich aus der Definition einer neuen Funktion `foo`. Diese Funktion führt die Funktion `func` mit ihrem eigenen Parameter-Tupel `(*args, **kwargs)` aus und erzeugt vor und nach dem Aufruf eine Ausgabe.\n",
    "Die generelle Formulierung der Parameter mit `(*args, **kwargs)` erlaubt es, die Funktion `foo` mit einer beliebigen, gültigen Liste von Parametern aufzurufen.\n",
    "Am Ende gibt `mylogger` eine Referenz auf die Funktion `foo` als Resultat zurück.\n",
    "Wenn man also `mylogger` folgendermaßen auf eine Funktion `f` anwendet, definiert man die ursprüngliche Funktion um, und `f` erhält eine veränderte Funktionalität:"
   ]
  },
  {
   "cell_type": "code",
   "execution_count": null,
   "metadata": {},
   "outputs": [],
   "source": [
    "def f():\n",
    "    pass\n",
    "    \n",
    "f=mylogger(f)\n",
    "f()"
   ]
  },
  {
   "cell_type": "markdown",
   "metadata": {},
   "source": [
    "Ein etwas umfangreicheres Beispiel mit mehreren Funktionen:"
   ]
  },
  {
   "cell_type": "code",
   "execution_count": null,
   "metadata": {},
   "outputs": [],
   "source": [
    "def g():\n",
    "    print(\"Hallo aus g()\", end='')\n",
    "def h():\n",
    "    print(\"Hallo aus h()\", end='')  \n",
    "def f(x):\n",
    "    x()\n",
    "    print(\" in f()\")\n",
    "    \n",
    "g=mylogger(g)\n",
    "f=mylogger(f)\n",
    "\n",
    "f(g)\n",
    "f(h)"
   ]
  },
  {
   "cell_type": "code",
   "execution_count": null,
   "metadata": {},
   "outputs": [],
   "source": [
    "@mylogger\n",
    "def g():\n",
    "    print(\"Hallo aus g()\", end='')\n",
    "def h():\n",
    "    print(\"Hallo aus h()\", end='')\n",
    "@mylogger    \n",
    "def f(x):\n",
    "    x()\n",
    "    print(\" in f()\")\n",
    "\n",
    "f(g)\n",
    "f(h)"
   ]
  },
  {
   "cell_type": "markdown",
   "metadata": {},
   "source": [
    "**Aufgabe 1**\n",
    "\n",
    "**Entwickeln Sie einen Funktionsdekorator mit dem Sie die Laufzeit von Funktionsaufrufen auf der Standardausgabe ausgeben können.**\n",
    "\n",
    "Hinweise: Aus einer früheren Aufgabe kennen Sie bereits das Modul _time_. Wir hatten die Methoden _strftime()_ und _gmtime()_ folgendermaßen benutzt, um einen Zeitstempel zu erzeugen:\n",
    "```python\n",
    "import time\n",
    "time.strftime(\"%d.%m.%Y %H:%M:%S\", time.gmtime())\n",
    "```\n",
    "Für Laufzeitmessungen bietet sich eher die Methode _time()_ aus dem _time_-Modul an. Sie liefert ein _float_-Wert zurück, der den vergangenen Sekunden seit beginn der [UNIX Zeit](https://de.wikipedia.org/wiki/Unixzeit) entspricht."
   ]
  },
  {
   "cell_type": "code",
   "execution_count": null,
   "metadata": {},
   "outputs": [],
   "source": [
    "import time\n",
    "help(time.time)"
   ]
  },
  {
   "cell_type": "markdown",
   "metadata": {},
   "source": [
    "Um einen Code-Abschnitt zu messen, können sie _time()_ z.B. so einsetzen:"
   ]
  },
  {
   "cell_type": "code",
   "execution_count": null,
   "metadata": {},
   "outputs": [],
   "source": [
    "import time\n",
    "zeiten={'millisec':{'faktor':1e-3, 'einheit':'ms'},\n",
    "        'microsec':{'faktor':1e-6, 'einheit':'mu'}}\n",
    "ordn='millisec'\n",
    "t0 = time.time()\n",
    "print(\"Die Laufzeit für die Ausgabe dieses Textes wird gemessen.\")\n",
    "t1 = time.time()\n",
    "print(\"Start: %f Ende: %f Dauer: %f%s\" % (t0, t1, (t1-t0)/zeiten[ordn]['faktor'], zeiten[ordn]['einheit']))"
   ]
  },
  {
   "cell_type": "code",
   "execution_count": null,
   "metadata": {
    "deletable": false,
    "nbgrader": {
     "cell_type": "code",
     "checksum": "1c61b439d0ba963786ef49897c3d13be",
     "grade": false,
     "grade_id": "cell-78df98999b94a0c8",
     "locked": false,
     "schema_version": 3,
     "solution": true,
     "task": false
    }
   },
   "outputs": [],
   "source": [
    "def function_timer(func):\n",
    "    '''\n",
    "    This decorator prints execution time in ms.\n",
    "    '''\n",
    "    # YOUR CODE HERE\n",
    "    raise NotImplementedError()"
   ]
  },
  {
   "cell_type": "code",
   "execution_count": null,
   "metadata": {
    "deletable": false,
    "editable": false,
    "nbgrader": {
     "cell_type": "code",
     "checksum": "13b9bc3a26da78da93f70eff7e8f7b12",
     "grade": true,
     "grade_id": "cell-057a147b2fdd1d30",
     "locked": true,
     "points": 1,
     "schema_version": 3,
     "solution": false,
     "task": false
    }
   },
   "outputs": [],
   "source": [
    "# Test Cell\n",
    "#----------\n",
    "from io import StringIO\n",
    "from mock import patch\n",
    "#----------\n",
    "# testing function\n",
    "@function_timer\n",
    "def test(a, b, *p):\n",
    "    time.sleep(0.1)\n",
    "    return a+b\n",
    "#----------\n",
    "# callability\n",
    "assert callable(test), 'Decorator should return a callable object.'\n",
    "#----------\n",
    "# argument flexibility\n",
    "try: test(1,2,3,4,5,6)\n",
    "except TypeError: raise AssertionError('The decorator should pass the arguments of the')\n",
    "#----------\n",
    "assert test('Test ', 'successful!') == 'Test successful!', 'The result of the function should be returned'\n",
    "\n",
    "with patch('sys.stdout', new_callable=StringIO) as screen:\n",
    "    test(1,1)\n",
    "    assert '10' in screen.getvalue(), 'Timer should print approx 100 ms'\n",
    "#----------"
   ]
  },
  {
   "cell_type": "markdown",
   "metadata": {},
   "source": [
    "**Aufgabe 2**\n",
    "\n",
    "**Testen Sie ihren Dekorator Funktion**\n",
    "\n",
    "Hinweise: Zum Testen Ihres Dekorators ist eine Funktion mit relativ langer Laufzeit hilfreich. In _Übungsblatt 1_ haben Sie eine rekursive Variante der Fibonacci-Funktion kennengelernt und bereits das Laufzeitverhalten analysiert. Verwenden Sie die folgende funktion `fib(n)` mit Ihrem Dekorator. Was fällt Ihnen auf? Wie kann man Problem umgehen?"
   ]
  },
  {
   "cell_type": "code",
   "execution_count": null,
   "metadata": {
    "deletable": false,
    "nbgrader": {
     "cell_type": "code",
     "checksum": "f3fd16892a2d93522925e5c1b03fef88",
     "grade": false,
     "grade_id": "cell-a9a6212d10e8af3d",
     "locked": false,
     "schema_version": 3,
     "solution": true,
     "task": false
    }
   },
   "outputs": [],
   "source": [
    "def fib(n):\n",
    "    if n == 0:\n",
    "        return 0\n",
    "    elif n == 1:\n",
    "        return 1\n",
    "    else:\n",
    "        return fib(n-1) + fib(n-2)\n",
    "    \n",
    "fib_timed = None #implement your timer here\n",
    "# YOUR CODE HERE\n",
    "raise NotImplementedError()\n",
    "fib_timed(20)"
   ]
  },
  {
   "cell_type": "code",
   "execution_count": null,
   "metadata": {
    "deletable": false,
    "editable": false,
    "nbgrader": {
     "cell_type": "code",
     "checksum": "85470748da86210cc0d0a0cc46fc3f21",
     "grade": true,
     "grade_id": "cell-3ab392b418b706cc",
     "locked": true,
     "points": 1,
     "schema_version": 3,
     "solution": false,
     "task": false
    }
   },
   "outputs": [],
   "source": [
    "# Test Cell\n",
    "#----------\n",
    "\n",
    "assert callable(fib_timed)\n",
    "assert fib_timed.__code__.co_nlocals > 1"
   ]
  },
  {
   "cell_type": "markdown",
   "metadata": {},
   "source": [
    "## Caching\n",
    "Ein weiteres Anwendungsgebiet für das sich Dekoratoren gut eignen ist _Caching_. Caches sind für den Benutzer transparente (also \"unsichtbare\") Puffer Speicher, die den Zugriff auf Informationen beschleunigen. In der Informatik werden viele verschiedene Formen von Cache-Speichern angewendet. Nahezu jeder Prozessor besitzt einen oder mehrere Cache Speicher; aber auch in Software sind Caching-Methoden allgegenwärtig. Ein Cache ist immer vor eine Informationsquelle geschaltet. Also in Hardware z.B. vor den Hauptspeicher, in Software z.B. als sogenannter look-up Speicher vor einen Funktionsaufruf."
   ]
  },
  {
   "cell_type": "markdown",
   "metadata": {},
   "source": [
    "Der folgende Dekorator `cached` implementiert einen Cache für Funktionen mit einem Parameter. Wird eine \"dekorierte\" Funktion ausgeführt, so wird zunächst im Dictionary _cache_ nachgeschaut, ob ein Eintrag für den aktuellen Wert des Parameters `x` existiert. Ist das der Fall, so wird der Wert an der Stelle `x` im Dictionary _cache_ ausgelesen und als Resultat zurück gegeben. Ist der Wert des Parameters `x` nicht im cache (d.h., die Funktion wurde zuvor noch nicht mit dem Argument `x` aufgerufen) wird zuerst die Funktion `f(x)` berechnet und ihr Ergebnis in `cache[x]` eingetragen."
   ]
  },
  {
   "cell_type": "code",
   "execution_count": null,
   "metadata": {},
   "outputs": [],
   "source": [
    "def cached(f):\n",
    "    cache = {}\n",
    "    global debug\n",
    "    if debug: print(\"Erzeuge cache Objekt @%s\" % id(cache))\n",
    "    def foo(x): \n",
    "        if x not in cache:            \n",
    "            cache[x] = f(x)\n",
    "            if debug: print('Packe \"%s\" in den cache %s' % (x, id(cache)))\n",
    "        else:\n",
    "            if debug: print('\"%s\" ist im cache %s' % (x, id(cache)))\n",
    "        return cache[x]\n",
    "    return foo"
   ]
  },
  {
   "cell_type": "markdown",
   "metadata": {},
   "source": [
    "Der Dekorator wird jeweils nur einmal, zu dem Zeitpunkt, wenn eine Funktion \"dekoriert\" wird angewendet. Daher existiert auch das Dictionary _cache_ nur einmal pro Funktionsobjekt. Im folgenden Beispiel dekorieren wir die Funktionen _m1_ und _m2_ mit _cached_. Somit wird zweimal ein Dictionary _cache_ angelegt. Die Dictionaries sind aber nicht lokal innerhalb der Funktionen _m1_ und _m2_ definiert. In dem Fall würde bei jedem Funktionsaufruf ein neues Dictionary Objekt angelegt (was die Funktion des Caches zerstören würde). Vielmehr verweisen die Funktionen  _m1_ und _m2_ nur auf die beiden _cache_-Objekte, die bei den beiden Aufrufen der _cached_-Funktion erzeugt wurden."
   ]
  },
  {
   "cell_type": "code",
   "execution_count": null,
   "metadata": {},
   "outputs": [],
   "source": [
    "debug=True\n",
    "\n",
    "@cached\n",
    "def m1(s):\n",
    "    return s\n",
    "@cached\n",
    "def m2(s):\n",
    "    return s\n",
    "    \n",
    "print(m1(\"Hello\"))\n",
    "print(m2(\"Hello\"))\n",
    "print(m1(\"Hello\"))\n",
    "print(m2(\"Hello\"))\n",
    "\n",
    "# Zusätzliche Ausgaben abschalten:\n",
    "debug=False"
   ]
  },
  {
   "cell_type": "markdown",
   "metadata": {},
   "source": [
    "Nun können wir die Fibonacci-Funktion mit dem Cache benutzen."
   ]
  },
  {
   "cell_type": "code",
   "execution_count": null,
   "metadata": {},
   "outputs": [],
   "source": [
    "@cached\n",
    "def fib(n):\n",
    "    if n == 0:\n",
    "        return 0\n",
    "    elif n == 1:\n",
    "        return 1\n",
    "    else:\n",
    "        return fib(n-1) + fib(n-2)"
   ]
  },
  {
   "cell_type": "markdown",
   "metadata": {},
   "source": [
    "**Aufgabe 3**\n",
    "\n",
    "**Vergleichen Sie das Laufzeitverhalten der Fibonacci-Funktion mit und ohne Caching**"
   ]
  },
  {
   "cell_type": "code",
   "execution_count": null,
   "metadata": {},
   "outputs": [],
   "source": [
    "@cached\n",
    "def fib(n):\n",
    "    return n if n <=1 else (fib(n-1) + fib(n-2))\n",
    "\n",
    "fib.__name__"
   ]
  },
  {
   "cell_type": "code",
   "execution_count": null,
   "metadata": {
    "deletable": false,
    "nbgrader": {
     "cell_type": "code",
     "checksum": "08d4bf965b2d887de597f84c41d1f021",
     "grade": false,
     "grade_id": "cell-bd6dfc5a9aa71a4c",
     "locked": false,
     "schema_version": 3,
     "solution": true,
     "task": false
    }
   },
   "outputs": [],
   "source": [
    "@cached\n",
    "def fib(n):\n",
    "    return n if n <=1 else (fib(n-1) + fib(n-2))\n",
    "\n",
    "# YOUR CODE HERE\n",
    "raise NotImplementedError()"
   ]
  },
  {
   "cell_type": "code",
   "execution_count": null,
   "metadata": {
    "deletable": false,
    "editable": false,
    "nbgrader": {
     "cell_type": "code",
     "checksum": "b5a20b02cec7305f275fe9b6f82d8155",
     "grade": true,
     "grade_id": "cell-e472612ace113bad",
     "locked": true,
     "points": 1,
     "schema_version": 3,
     "solution": false,
     "task": false
    }
   },
   "outputs": [],
   "source": [
    "# Test Cell\n",
    "#----------\n",
    "\n",
    "assert fib.__name__ == 'fib', 'fib function should be defined twice, with and without the cached!'"
   ]
  }
 ],
 "metadata": {
  "kernelspec": {
   "display_name": "Python 3",
   "language": "python",
   "name": "python3"
  },
  "language_info": {
   "codemirror_mode": {
    "name": "ipython",
    "version": 3
   },
   "file_extension": ".py",
   "mimetype": "text/x-python",
   "name": "python",
   "nbconvert_exporter": "python",
   "pygments_lexer": "ipython3",
   "version": "3.7.6"
  }
 },
 "nbformat": 4,
 "nbformat_minor": 2
}
