{
 "cells": [
  {
   "cell_type": "markdown",
   "id": "distinguished-recorder",
   "metadata": {},
   "source": [
    "<figure>\n",
    "  <IMG SRC=\"https://upload.wikimedia.org/wikipedia/commons/thumb/d/d5/Fachhochschule_Südwestfalen_20xx_logo.svg/320px-Fachhochschule_Südwestfalen_20xx_logo.svg.png\" WIDTH=250 ALIGN=\"right\">\n",
    "</figure>\n",
    "\n",
    "# Skriptsprachen\n",
    "### Sommersemester 2021\n",
    "Prof. Dr. Heiner Giefers"
   ]
  },
  {
   "cell_type": "markdown",
   "metadata": {},
   "source": [
    "# Generatoren und Iteratoren\n",
    "Iteratoren erlauben es, alle Elemente eines Datenverbundes zu \"durchlaufen\", ohne Genaueres über die Implementierung der Datenstruktur zu kennen. Innerhalb einer Programmschleife angewendet, generiert der Iterator eines Objektes eine Sequenz von Referenzen. Diese Referenzen können auf Objekte zeigen, die vom Iterator selbst erzeugt werden, oder auch auf Elemente, die in Datenstrukturen innerhalb des Objektes existieren.\n",
    "\n",
    "Dieses Übungsblatt behandelt mehrere Aspekte des _Iterierens_ in Python. Zuerst schauen wir uns die sogenannten **Comprehensions** an, ein Konstrukt um aus iterierbaren Objekten Container Objekte zu generieren, die selbst wieder iterierbar sind. **Generatoren** sind Funktionen, die Sequenzen von Objekten nach einem bestimmten Schema erzeugen. Die viel-benutzte _range()_-Funktion ist ein Beispiel für eine Generatorfunktion. Im letzten Teil des Übungsblattes geht es darum, wie man eigene **Iteratoren** innerhalb von Klassen definieren und anwenden kann."
   ]
  },
  {
   "cell_type": "markdown",
   "metadata": {},
   "source": [
    "## Comprehensions\n",
    "Im Übungsblatt zum Thema _Funktionen_ haben Sie lambda-Funktionen kennengelernt. Ein Beispiel für die Anwendung von lambda Funktionen war die eine _map_ Funktion `mymap`:"
   ]
  },
  {
   "cell_type": "code",
   "execution_count": null,
   "metadata": {},
   "outputs": [],
   "source": [
    "def mymap(l, f):\n",
    "    local_l = []\n",
    "    for e in l: local_l.append(f(e))\n",
    "    return local_l"
   ]
  },
  {
   "cell_type": "markdown",
   "metadata": {},
   "source": [
    "Eine solche Funktion kann benutzt werden, um neue Listen-Objekte aus bestehenden iterierbaren Objekten zu generieren."
   ]
  },
  {
   "cell_type": "code",
   "execution_count": null,
   "metadata": {},
   "outputs": [],
   "source": [
    "mymap(range(0,10), lambda x: x**2)"
   ]
  },
  {
   "cell_type": "markdown",
   "metadata": {},
   "source": [
    "Da Operationen dieser Art recht häufig benötigt werden, besitzt Python eingebaute Konstrukte um neue iterierbare Objekte zu erzeugen. **List-Comprehensions** etwa erzeugen neue Listen-Objekte nach folgendem Muster:"
   ]
  },
  {
   "cell_type": "code",
   "execution_count": null,
   "metadata": {},
   "outputs": [],
   "source": [
    "[x**2 for x in range(0,10)]"
   ]
  },
  {
   "cell_type": "code",
   "execution_count": null,
   "metadata": {},
   "outputs": [],
   "source": [
    "satz = [\"Mit\", \"freundlichen\", \"Grüßen\"]\n",
    "[s[0] for s in satz]"
   ]
  },
  {
   "cell_type": "markdown",
   "metadata": {},
   "source": [
    "Die eckigen Klammern deuten an, dass das Ergebnis eine List ist. Innerhalb der Klammern steht ein Iterator-Aufruf, dem vorangestellt ist eine _Zuordnungsvorschrift_ wie Sie sie aus lambda-Funktionen kennen. "
   ]
  },
  {
   "cell_type": "markdown",
   "metadata": {},
   "source": [
    "Es ist möglich, die _for_-Schleifen der Iteratoren zu verschachteln. Durch einfaches \"Anhängen\" einer _for_-Schleife, wird eine innere Schleife erzeugt:"
   ]
  },
  {
   "cell_type": "code",
   "execution_count": null,
   "metadata": {},
   "outputs": [],
   "source": [
    "boolean = ['0', '1']\n",
    "[ \"x=%s y=%s z=%s\"%(x,y,z) for x in boolean if x!='1' for y in boolean for z in boolean]"
   ]
  },
  {
   "cell_type": "markdown",
   "metadata": {},
   "source": [
    "Ferner ist es möglich, das Erzeugen eines neuen Elementes an Bedingungen zu knüpfen. Die Bedingungen werden dabei einfach an die entsprechende Schleife angehängt:"
   ]
  },
  {
   "cell_type": "code",
   "execution_count": null,
   "metadata": {},
   "outputs": [],
   "source": [
    "[x*y for x in range(0,10) if x%2==0 for y in range(0,10) if y%2==0 if y>5]"
   ]
  },
  {
   "cell_type": "markdown",
   "metadata": {},
   "source": [
    "**Aufgabe 1**\n",
    "\n",
    "**Benutzen Sie List-Comprehensions um eine Wahrheitstabelle für die XOR-Funktion mit 3 Variablen $x$, $y$ und $z$ zu erzeugen**"
   ]
  },
  {
   "cell_type": "markdown",
   "metadata": {},
   "source": [
    "<pre>\n",
    "XOR =\n",
    "['x = 0 y = 0 z = 0 xor = 0',\n",
    " 'x = 0 y = 0 z = 1 xor = 1',\n",
    "              .\n",
    "              .\n",
    "              .\n",
    "              .\n",
    "              .\n",
    " 'x = 1 y = 1 z = 1 xor = 1']\n",
    " </pre>"
   ]
  },
  {
   "cell_type": "code",
   "execution_count": null,
   "metadata": {
    "deletable": false,
    "nbgrader": {
     "cell_type": "code",
     "checksum": "03fdf5157fc7e86dfce088191c82cadf",
     "grade": false,
     "grade_id": "cell-f602ae40eb54c387",
     "locked": false,
     "schema_version": 3,
     "solution": true,
     "task": false
    }
   },
   "outputs": [],
   "source": [
    "XOR = None\n",
    "# YOUR CODE HERE\n",
    "raise NotImplementedError()\n",
    "XOR"
   ]
  },
  {
   "cell_type": "code",
   "execution_count": null,
   "metadata": {
    "deletable": false,
    "editable": false,
    "nbgrader": {
     "cell_type": "code",
     "checksum": "69b059bb50b034215eb6009fb7144ab4",
     "grade": true,
     "grade_id": "cell-8de2344401e86f75",
     "locked": true,
     "points": 1,
     "schema_version": 3,
     "solution": false,
     "task": false
    }
   },
   "outputs": [],
   "source": [
    "from io import StringIO\n",
    "from unittest.mock import patch\n",
    "from IPython import get_ipython\n",
    "ipython = get_ipython()\n",
    "\n",
    "\n",
    "with patch('sys.stdout', new_callable=StringIO) as screen:\n",
    "    ipython.magic('rerun')\n",
    "    \n",
    "assert '):' not in screen.getvalue(), 'Use List-Comprehensions, NOT for blocks, to create the XOR list'\n",
    "tru = [[int(x) for x in y if x in '01'] for y in XOR]\n",
    "for t in tru: assert ((t[0] != t[1]) != t[2]) == t[3], f'{t[0]} xor {t[1]} xor {t[2]} is not {t[3]}!'"
   ]
  },
  {
   "cell_type": "markdown",
   "metadata": {},
   "source": [
    "## Generatoren\n",
    "Comprehensions erzeugen iterierbare Objekte aus bestehenden iterierbaren Objekten. Es gibt aber auch Funktionen, die iterierbare Objekte erzeugen; diese Funktionen nennt man Generatoren.\n",
    "\n",
    "Die Besonderheit bei Generator-Funktionen ist die `yield` Anweisung. `yield` verhält sich ähnlich zu der `return`-Anweisung, mit dem Unterschied, das `yield` zwar Rückgabewerte erzeugt, die Generator-Funktion aber nicht terminiert. Springt der Kontrollfluss erneut zu der Generator-Funktion, wird sie im vorherigen Zustand fortgesetzt."
   ]
  },
  {
   "cell_type": "code",
   "execution_count": null,
   "metadata": {},
   "outputs": [],
   "source": [
    "def gruss():\n",
    "    yield \"Mit\"\n",
    "    yield \"freundlichen\"\n",
    "    yield \"Grüßen\"\n",
    "\n",
    "for wort in gruss(): print(wort, end=' ')"
   ]
  },
  {
   "cell_type": "code",
   "execution_count": null,
   "metadata": {},
   "outputs": [],
   "source": [
    "def zahlen_bis(max):\n",
    "    i = 1\n",
    "    while i <= max:\n",
    "        yield i\n",
    "        i += 1\n",
    "\n",
    "for i in zahlen_bis(20):\n",
    "    print(i, end=' ')"
   ]
  },
  {
   "cell_type": "markdown",
   "metadata": {},
   "source": [
    "**Aufgabe 2**\n",
    "\n",
    "**Entwickeln Sie eine Generator-Funktion, die alle ungeraden Zahlen von `nmin` bis `nmax` mit der Schrittweite `nstep` generiert.**"
   ]
  },
  {
   "cell_type": "code",
   "execution_count": null,
   "metadata": {
    "deletable": false,
    "nbgrader": {
     "cell_type": "code",
     "checksum": "5313bf1cd409ad3f909be55a17b48de1",
     "grade": false,
     "grade_id": "cell-0cc10e66ec3fe468",
     "locked": false,
     "schema_version": 3,
     "solution": true,
     "task": false
    }
   },
   "outputs": [],
   "source": [
    "def ungerade(nmin, nmax, nstep):\n",
    "    # YOUR CODE HERE\n",
    "    raise NotImplementedError()\n",
    "\n",
    "for i in ungerade(4,200,30):\n",
    "    print(i, end=' ')"
   ]
  },
  {
   "cell_type": "code",
   "execution_count": null,
   "metadata": {
    "deletable": false,
    "editable": false,
    "nbgrader": {
     "cell_type": "code",
     "checksum": "dddd1037fe7641c7e99d61f05ca364c4",
     "grade": true,
     "grade_id": "cell-5645fba98bcbf8bb",
     "locked": true,
     "points": 1,
     "schema_version": 3,
     "solution": false,
     "task": false
    }
   },
   "outputs": [],
   "source": [
    "assert '__iter__' in dir(ungerade(1,101,11)), 'The function is not iterable, make sure you use yield!'\n",
    "for i in ungerade(1,101,11): assert i%2 == 0, 'All items should be even!'\n",
    "assert len(list(ungerade(1,101,11))) == 5, 'This set has only 5 elements!'"
   ]
  },
  {
   "cell_type": "markdown",
   "metadata": {},
   "source": [
    "## Iteratoren\n",
    "Wir haben Iteratoren bereits mehrfach benutzt, bisher aber noch offen gelassen, wie Iteratoren implementiert werden. Instanzen von eingebauten _Container_ Klassen, wie z.B. Listen, Mengen und Dictionaries, können Iteratoren erzeugen. Sie verwenden dazu eine definierte Schnittstelle, die man auch benutzen kann um Objekte von selbst-entwickelten Klassen iterierbar zu machen.\n",
    "Dazu muss die Klasse die beiden _Magic Methods_ `__iter__()` und `__next__()` definieren. `__iter__()` initialisiert den Iterator und gibt eine Referenz auf das eigene Objekt zurück. Das eigentliche Iterieren durch die Sequenz geschieht durch die Methode `__next__()`. Immer, wenn sie aufgerufen wird, liefert sie das aktuelle Objekt der Sequenz zurück und speichert den neuen Zustand so, dass bei einem folgenden Aufruf das nächste Element der Sequenz berechnet werden kann. Welche Objekte zurückgegeben werden und wie die Reihenfolge der Sequenz strukturiert ist, definiert der Programmierer.\n",
    "Das Ende eines Iterators wird durch das Erzeugen der `StopIteration`-Ausnahme erreicht. Diese Ausnahme erzeugt keinen Fehler im Interpreter, sondern dient als Abbruchkriterium der for-Schleife, die den Iterator aufruft."
   ]
  },
  {
   "cell_type": "markdown",
   "metadata": {},
   "source": [
    "Durch Implementieren der Iterator-Schnittstelle, kann eine Klasse die Funktionalität erhalten, Datensätze innerhalb der Objekte sinnvoll zu durchlaufen, ohne dass der Benutzer die internen Datenstrukturen der Klasse kennen muss. Die Klasse _FifaWm_ im folgenden Beispiel legt in Ihren Objekten ein Tupel-Attribut _sieger_ an, in dem wiederum 2-Tupel der Form (_Jahr_,_Weltmeister_) abgelegt sind. Möchte man eine Liste der Sieger-Länder von einem Objekt der Klasse erhalten, so muss dem Benutzer der Klasse diese Struktur bekannt sein. Durch Implementieren der `__iter__()` und `__next__()` Methoden wird die Klasse iterierbar."
   ]
  },
  {
   "cell_type": "code",
   "execution_count": null,
   "metadata": {},
   "outputs": [],
   "source": [
    "class FifaWm:\n",
    "    def __init__(self):\n",
    "        self.sieger=(\n",
    "            (1930,\"Uruguay\"),(1934,\"Italien\"),(1938,\"Italien\"),(1950,\"Uruguay\"),\n",
    "            (1954,\"Deutschland\"),(1958,\"Brasilien\"),(1962,\"Brasilien\"),(1966,\"England\"),\n",
    "            (1970,\"Brasilien\"),(1974,\"Deutschland\"),(1978,\"Argentinien\"),(1982,\"Italien\"),\n",
    "            (1986,\"Argentinien\"),(1990,\"Deutschland\"),(1994,\"Brasilien\"),(1998,\"Frankreich\"),\n",
    "            (2002,\"Brasilien\"),(2006,\"Italien\"),(2010,\"Spanien\"),(2014,\"Deutschland\"))\n",
    "    def __iter__(self):\n",
    "        #print(\"__iter__() für die Klasse %s aufgerufen\" % self.__class__.__name__)\n",
    "        self.curr=0\n",
    "        return self\n",
    "    def __next__(self):\n",
    "        if self.curr<len(self.sieger):\n",
    "            r = self.sieger[self.curr][1]\n",
    "            self.curr += 1\n",
    "            return r\n",
    "        else:\n",
    "            raise StopIteration"
   ]
  },
  {
   "cell_type": "code",
   "execution_count": null,
   "metadata": {},
   "outputs": [],
   "source": [
    "s = FifaWm()\n",
    "for land in s: print(\"%s, \" % land, end='')"
   ]
  },
  {
   "cell_type": "markdown",
   "metadata": {},
   "source": [
    "Man erkennt in der Implementierung der Iterator-Funktionen, dass ein Iterator keine vollständige Kopie des Objektes erzeugt, sondern nur Zeiger \"innerhalb\" des Objektes selbst verwaltet. Man sollte daher vermeiden, ein und dasselbe Objekt in verschiedenen Schleifen zu iterieren, wie etwa in folgendem Beispiel:"
   ]
  },
  {
   "cell_type": "code",
   "execution_count": null,
   "metadata": {},
   "outputs": [],
   "source": [
    "matches = set()\n",
    "s = FifaWm()\n",
    "for land0 in s:\n",
    "    for land1 in s:\n",
    "        if land0!=land1:\n",
    "            matches.add((\"%s-%s\" % (land0,land1)))\n",
    "print(matches)"
   ]
  },
  {
   "cell_type": "markdown",
   "metadata": {},
   "source": [
    "Hier sollten ursprünglich Paarung der Sieger-Länder generiert werden; allerdings sieht man, dass das Ergebnis nicht stimmen kann. Das Problem hier ist, dass die innere Schleife den Iterator koplet \"konsumiert\". D.h., nachdem die Schleife terminiert, ist in dem Objekt die Abbruchbedingung für den Iterator gültig. Es werden daher keine neuen Objekte erzeugt und so terminiert auch die äußere Schleife nach nur einem Schleifendurchlauf.\n",
    "\n",
    "Besser ist es an dieser Stelle, 2 Iterator-Ojekte zu erzeugen und diese jeweils in der inneren, bzw. der äußeren Schleife zu verwenden:"
   ]
  },
  {
   "cell_type": "code",
   "execution_count": null,
   "metadata": {},
   "outputs": [],
   "source": [
    "matches = set()\n",
    "s0 = FifaWm()\n",
    "s1 = FifaWm()\n",
    "for land0 in s0:\n",
    "    for land1 in s1:\n",
    "        if land0!=land1:\n",
    "            matches.add((\"%s-%s\" % (land0,land1)))\n",
    "print(matches)"
   ]
  },
  {
   "cell_type": "markdown",
   "metadata": {},
   "source": [
    "**Aufgabe 3**\n",
    "\n",
    "**Schreiben Sie eine Klasse _Potenzieren_ dessen Konstruktor zwei Parameter besitzt und die entsprechenden Argumente als Attribute `Basis` und `MaxExponent` speichert. Die Klasse soll die Iterator-Schnittstelle in der Form implementieren, dass ein Iterator über die Potenzen der Basis `Basis` von 0 bis `MaxExponent` erzeugt wird**"
   ]
  },
  {
   "cell_type": "code",
   "execution_count": null,
   "metadata": {
    "deletable": false,
    "nbgrader": {
     "cell_type": "code",
     "checksum": "2e8a8ad6cb5a4c01061feb0fb942af92",
     "grade": false,
     "grade_id": "cell-aed2418398231485",
     "locked": false,
     "schema_version": 3,
     "solution": true,
     "task": false
    }
   },
   "outputs": [],
   "source": [
    "class Potenzieren:\n",
    "    # YOUR CODE HERE\n",
    "    raise NotImplementedError()"
   ]
  },
  {
   "cell_type": "code",
   "execution_count": null,
   "metadata": {
    "deletable": false,
    "editable": false,
    "nbgrader": {
     "cell_type": "code",
     "checksum": "ce9c0f47ad795cb21a544139d265e6c5",
     "grade": true,
     "grade_id": "cell-84f5c6b11a59201f",
     "locked": true,
     "points": 1,
     "schema_version": 3,
     "solution": false,
     "task": false
    }
   },
   "outputs": [],
   "source": [
    "assert '__iter__' in dir(Potenzieren(5,10)), 'The function is not iterable, define iter magic method!'\n",
    "assert '__next__' in dir(Potenzieren(5,10)), 'The function does not have a next magic method!'\n",
    "assert len(list(Potenzieren(5,10))) == 11, 'This set has only 11 elements!'\n",
    "for i, p in enumerate(list(Potenzieren(5,10))): assert p == 5**i, f'element number {i} should be {5**i} not {p}'"
   ]
  },
  {
   "cell_type": "code",
   "execution_count": null,
   "metadata": {},
   "outputs": [],
   "source": [
    "p = Potenzieren(7,12)\n",
    "for p in p: print(p)"
   ]
  }
 ],
 "metadata": {
  "kernelspec": {
   "display_name": "Python 3",
   "language": "python",
   "name": "python3"
  },
  "language_info": {
   "codemirror_mode": {
    "name": "ipython",
    "version": 3
   },
   "file_extension": ".py",
   "mimetype": "text/x-python",
   "name": "python",
   "nbconvert_exporter": "python",
   "pygments_lexer": "ipython3",
   "version": "3.7.6"
  }
 },
 "nbformat": 4,
 "nbformat_minor": 2
}
