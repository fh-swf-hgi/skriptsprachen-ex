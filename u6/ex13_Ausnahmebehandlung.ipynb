{
 "cells": [
  {
   "cell_type": "markdown",
   "id": "distinguished-recorder",
   "metadata": {},
   "source": [
    "<figure>\n",
    "  <IMG SRC=\"https://upload.wikimedia.org/wikipedia/commons/thumb/d/d5/Fachhochschule_Südwestfalen_20xx_logo.svg/320px-Fachhochschule_Südwestfalen_20xx_logo.svg.png\" WIDTH=250 ALIGN=\"right\">\n",
    "</figure>\n",
    "\n",
    "# Skriptsprachen\n",
    "### Sommersemester 2021\n",
    "Prof. Dr. Heiner Giefers"
   ]
  },
  {
   "cell_type": "markdown",
   "metadata": {},
   "source": [
    "# Ausnahmebehandlung\n",
    "\n",
    "Bei der Softwareentwicklung und leider auch beim Produktiveinsatz von Software, kann es zu Fehlern im Programmablauf kommen. Die Ursachen von Fehlern können z.B. unerwartete Benutzereingaben oder ein mangelhafter Programmentwurf sein. Auch die Auswirkungen der Fehler können sehr unterschiedlich sein. Manche Fehler sind unkritisch und können vom Programm ignoriert werden. Andere Fehler sind kritisch für den Fortlauf des Programms und benötigen zwingend eine Fehlerbehandlung, damit das Programm nicht unkontrolliert beendet wird.\n",
    "\n",
    "Die meisten modernen Programmiersprachen ermöglichen eine _Fehler-_, bzw. _Ausnahmebehandlung_ um unerwartete Programmzustände zur Laufzeit des Programms abzufangen und gegebenenfalls aktiv darauf zu reagieren. Besteht die Gefahr, dass ein bestimmter Teil des Programmcodes zu einem Ausnahmefall führen könnte, so kann der entsprechende Code-Abschnitt in einen _try_-Block eingebettet werden. Falls es innerhalb dieses Blockes zu einer Ausnahme kommt, so springt der Kontrollfluss in einen folgenden _except_ (in C++ oder Java, _catch_) Block, in dem auf die Ausnahme reagiert werden kann. Es ist möglich, verschiedene Fehlerarten zu unterscheiden und, je nach Fehler-Typ, zu reagieren.\n",
    "\n",
    "In Python ist es auch möglich, im Programm aktiv Ausnahmen zu erzeugen. Dies können eingebaute _Exceptions_ sein, es lassen sich aber auch eigene Ausnahme-Klassen definieren."
   ]
  },
  {
   "cell_type": "markdown",
   "metadata": {},
   "source": [
    "Um mit der Ausnahmebehandlung zu experimentieren, stellen wir zunächst die Jupyter Umgebung so ein, dass möglichst umfangreiche Ausgaben im Fehlerfall erzeugt werden. `%xmode` ist ein internes ipython Kommando mit dem der Ausgabemodus gesetzt und abgefragt werden kann."
   ]
  },
  {
   "cell_type": "code",
   "execution_count": null,
   "metadata": {},
   "outputs": [],
   "source": [
    "%xmode Verbose"
   ]
  },
  {
   "cell_type": "markdown",
   "metadata": {},
   "source": [
    "Fragt man im Interpreter eine unbekannte Referenz ab, so erzeugt dies eine _NameError_ Ausnahme."
   ]
  },
  {
   "cell_type": "code",
   "execution_count": null,
   "metadata": {},
   "outputs": [],
   "source": [
    "a_name"
   ]
  },
  {
   "cell_type": "markdown",
   "metadata": {},
   "source": [
    "## Ausnahmen abfangen\n",
    "Um diese Ausnahme abzufangen, kann man die Anweisung in einen _try_-Block einbetten und im folgenden _except_-Block auf die Ausnahme reagieren. Im folgenden Beispiel fangen wir die _NameError_ Ausnahme ab und reagieren mit einer print Anweisung. Damit wird der Fehler _behandelt_ und das Programm nach verlassen des Blocks normal fortgesetzt."
   ]
  },
  {
   "cell_type": "code",
   "execution_count": null,
   "metadata": {},
   "outputs": [],
   "source": [
    "try:\n",
    "    a_name\n",
    "except NameError:\n",
    "    print(\"Es liegt ein Bezeichnerfehler vor\")"
   ]
  },
  {
   "cell_type": "markdown",
   "metadata": {},
   "source": [
    "`NameError` ist nichts weiter als eine spezielle Klasse von Ausnahmen. Die Basisklasse aller Ausnahmen ist die Klasse `BaseException`. Das Attribut `_bases__`  liefert für eine Klasse ein Tupel mit allen Basisklassen zurück. Angewendet auf die Klasse `NameError` sehen wir, dass `NameError` von `Exception` erbt, und diese Klasse wiederum von `BaseException`."
   ]
  },
  {
   "cell_type": "code",
   "execution_count": null,
   "metadata": {},
   "outputs": [],
   "source": [
    "print(NameError.__bases__)\n",
    "print(NameError.__bases__[0])\n",
    "print(NameError.__bases__[0].__bases__[0])"
   ]
  },
  {
   "cell_type": "markdown",
   "metadata": {},
   "source": [
    "Wenn zur Laufzeit eine bestimmte Ausnahme auftritt, wird ein Objekt der entsprechenden Fehlerklasse erzeugt. Diesem Objekt kann über das Schlüsselwort `as` ein Bezeichner zugewiesen werden, über den im Folgenden auf das Exception-Objekt zugegriffen werden kann."
   ]
  },
  {
   "cell_type": "code",
   "execution_count": null,
   "metadata": {},
   "outputs": [],
   "source": [
    "try:\n",
    "    a_name\n",
    "except NameError as e:\n",
    "    print(e)"
   ]
  },
  {
   "cell_type": "markdown",
   "metadata": {},
   "source": [
    "Bisher haben wir in den try-Blöcken einen _NameError_ erwartet und auch nur Ausnahmen dieses Typs abgefangen. Stimmt der angegebene Typ im _except_-Block nicht mit der konkreten Ausnahme zur Laufzeit überein, wird vom Interpreter ein Fehler erzeugt."
   ]
  },
  {
   "cell_type": "code",
   "execution_count": null,
   "metadata": {},
   "outputs": [],
   "source": [
    "try:\n",
    "    open(\"KeinFile\")\n",
    "except NameError as e:\n",
    "    print(e)"
   ]
  },
  {
   "cell_type": "markdown",
   "metadata": {},
   "source": [
    "Um dies zu umgehen, kann man über generellere Basisklassen Ausnahmen verschiedenen Typs abfangen. Wird kein Exception-Typ angegeben, werden alle Ausnahmen (`BaseException`) abgefangen."
   ]
  },
  {
   "cell_type": "code",
   "execution_count": null,
   "metadata": {},
   "outputs": [],
   "source": [
    "try:\n",
    "    #a_name\n",
    "    open(\"KeinFile\")\n",
    "except Exception as e:\n",
    "    print(e)\n",
    "    print(e.__class__.__bases__)\n",
    "    print(e.__class__.__bases__[0].__bases__)"
   ]
  },
  {
   "cell_type": "markdown",
   "metadata": {},
   "source": [
    "Man kann auf mehrere Ausnahme-Typen getrennt reagieren indem man mehrere `except <Exception-Type>` Blöcke definiert. Tritt keine Ausnahme auf, so wird in einen optionalen `else`-Block gesprungen. Verwendet man zusätzlich einen ebenfalls optionalen `finally`-Block, so wird der eingeschlossene Code in jedem Fall am Ende des kompletten try-Konstrukts ausgeführt."
   ]
  },
  {
   "cell_type": "code",
   "execution_count": null,
   "metadata": {},
   "outputs": [],
   "source": [
    "try:\n",
    "    a\n",
    "    #open(\"KeinFile\")\n",
    "    print(\"OK\")\n",
    "except NameError:\n",
    "    print(\"Es liegt ein Bezeichnerfehler vor\")\n",
    "except:\n",
    "    print(\"Es liegt irgend ein Fehler vor\")\n",
    "else:\n",
    "    print(\"Es liegt kein Fehler vor\")\n",
    "finally:\n",
    "    print(\"Das war's\")"
   ]
  },
  {
   "cell_type": "markdown",
   "metadata": {},
   "source": [
    "## Callstack \n",
    "Wird eine Ausnahme in einer Funktion (unterhalb des _main_ Moduls) ausgelöst, so gibt der Interpreter die komplette Funktionshierarchie zur Laufzeit (den sogenannten _Callstack_) vom _main_ Modul bis hin zur Funktion, in der die Ausnahme ausgelöst wird, aus. Dies ist besonders hilfreich, da eine Ausnahme an jeder Stelle des Callstacks abgefangen und behandelt werden kann."
   ]
  },
  {
   "cell_type": "code",
   "execution_count": null,
   "metadata": {},
   "outputs": [],
   "source": [
    "def a(): b()\n",
    "def b(): c()\n",
    "def c(): d()\n",
    "def d(): x\n",
    "a()"
   ]
  },
  {
   "cell_type": "markdown",
   "metadata": {},
   "source": [
    "Tritt zur Laufzeit eine Ausnahme auf, so wird sie zuerst durch den Callstack \"nach oben\" hoch gereicht. Erst, wenn die exception beim _main_ Modul ankommt, wird der eigentliche Fehler erzeugt. Wird der _NameError_ im obigen Beispiel z.B. in der Funktion `a()` abgefangen, so wird keine Fehlerausgabe erzeugt, obwohl der Fehler seine Ursache in einer tiefer geschachtelten Funktion hat."
   ]
  },
  {
   "cell_type": "code",
   "execution_count": null,
   "metadata": {},
   "outputs": [],
   "source": [
    "def a():\n",
    "    try:\n",
    "        b()\n",
    "    except NameError:\n",
    "        print(\"NameError in a() abgefangen\")\n",
    "def b(): c()\n",
    "def c(): d()\n",
    "def d(): x\n",
    "a()\n"
   ]
  },
  {
   "cell_type": "markdown",
   "metadata": {},
   "source": [
    "## Werfen einer Exception\n",
    "\n",
    "Neben den eingebauten Ausnahmefällen ist es auch möglich, Ausnahmen im eigenen Programmcode auszulösen. Mit der `raise` Anweisung kann eine neue Instanz eines Exception-Typs erzeugt und ausgelöst werden (das Auslösen von Ausnahmefällen nennt man auch \"werfen\")."
   ]
  },
  {
   "cell_type": "code",
   "execution_count": null,
   "metadata": {},
   "outputs": [],
   "source": [
    "def myprint(s):\n",
    "    if (s.lower()==\"hello world\"):\n",
    "        raise ValueError(\"Nicht schon wieder!\")\n",
    "    else:\n",
    "        print(s)\n",
    "\n",
    "myprint(\"Ein Test\")\n",
    "myprint(\"Hello World\")"
   ]
  },
  {
   "cell_type": "markdown",
   "metadata": {},
   "source": [
    "**Aufgabe 1**\n",
    "\n",
    "**Implementieren Sie die folgende Klasse `myarray` so aus, dass die Listen `oeffentlich` und `privat` zusammengefasst in einem privaten Attribut von Typ `list` gespeichert werden.**\n",
    "- **Schreibzugriffe auf den \"privaten Bereich\" dieser Liste sollen einen `IndexError` auslösen.**\n",
    "- **Lesezugriffe sollen auf den gesamten Bereich möglich sein.**\n",
    "- **Implementieren Sie die `__str__()` Methode um die Liste geeignet auszugeben.** \n",
    "- **Testen Sie Ihre Implementierung.**\n",
    "- **Um einen komfortablen Zugriff auf die Listen-Elemente zu ermöglichen, können Sie die [__getitem__()](https://docs.python.org/3/reference/datamodel.html#object.__getitem__) und [__setitem__()](https://docs.python.org/3/reference/datamodel.html#object.__setitem__) Magic-Methods implementieren.**"
   ]
  },
  {
   "cell_type": "code",
   "execution_count": null,
   "metadata": {
    "deletable": false,
    "nbgrader": {
     "cell_type": "code",
     "checksum": "afd55fc72d8028eaed0a8f15beaea7e7",
     "grade": false,
     "grade_id": "cell-db43b0fb497ff07d",
     "locked": false,
     "schema_version": 3,
     "solution": true,
     "task": false
    }
   },
   "outputs": [],
   "source": [
    "class myarray():\n",
    "    # YOUR CODE HERE\n",
    "    raise NotImplementedError()\n",
    "            \n",
    "#a = myarray()\n",
    "#print(a)\n",
    "#a[1] = '?'\n",
    "#print(a)\n",
    "#a[8] = '?'"
   ]
  },
  {
   "cell_type": "code",
   "execution_count": null,
   "metadata": {
    "deletable": false,
    "editable": false,
    "nbgrader": {
     "cell_type": "code",
     "checksum": "c405febbba114db5fc07f4543ec0f305",
     "grade": true,
     "grade_id": "cell-e9de69bdf967b94d",
     "locked": true,
     "points": 1,
     "schema_version": 3,
     "solution": false,
     "task": false
    }
   },
   "outputs": [],
   "source": [
    "assert '__len__' in dir(myarray()), 'implement __len__() method for array length.'\n",
    "assert '__getitem__' in dir(myarray()), ' implement the getitem () magic methods.'\n",
    "assert '__setitem__' in dir(myarray()), 'implement the setitem () magic methods.'\n",
    "\n",
    "test = myarray()\n",
    "try:\n",
    "    for i in range(len(test)): test[i] = '*'\n",
    "except IndexError:\n",
    "    assert i>2, 'IndexError should only be raised for elements of the privat list!'\n",
    "else:\n",
    "    assert False, 'IndexError should be raised for elements of the privat list!'\n",
    "    \n",
    "assert test.__str__().count('*') > 2, 'implement the __str__() magic methods.'"
   ]
  },
  {
   "cell_type": "markdown",
   "metadata": {},
   "source": [
    "## Eigene Exceptions definieren"
   ]
  },
  {
   "cell_type": "markdown",
   "metadata": {},
   "source": [
    "Es können auch eigene Ausnahmen definiert werden"
   ]
  },
  {
   "cell_type": "code",
   "execution_count": null,
   "metadata": {},
   "outputs": [],
   "source": [
    "class MyException(Exception):\n",
    "    def __init__(self,x):\n",
    "        self.X = x\n",
    "    def __str__(self):\n",
    "        return (\"Dies ist eine selbst-definierte exception mit dem Attribut: %s.\" % self.X)\n",
    "    \n",
    "raise MyException(\"Test\")"
   ]
  },
  {
   "cell_type": "markdown",
   "metadata": {},
   "source": [
    "**Aufgabe 2**\n",
    "\n",
    "**Entwickeln Sie eine Klasse die einen positiven Integer Wert als Attribut speichert. Überprüfen Sie im Konstruktor, ob der Wert der übergebenen Zahl negativ ist. Ist dies der Fall, so werfen Sie die von Ihnen zu definierende _NegativeValueException_. Testen Sie Ihre Implementierung.**"
   ]
  },
  {
   "cell_type": "code",
   "execution_count": null,
   "metadata": {
    "deletable": false,
    "nbgrader": {
     "cell_type": "code",
     "checksum": "c3e5e254b67c7dfcd6770468cd8263e5",
     "grade": false,
     "grade_id": "cell-bc5549516ffd2db5",
     "locked": false,
     "schema_version": 3,
     "solution": true,
     "task": false
    }
   },
   "outputs": [],
   "source": [
    "class PosInt():\n",
    "    # YOUR CODE HERE\n",
    "    raise NotImplementedError()"
   ]
  },
  {
   "cell_type": "code",
   "execution_count": null,
   "metadata": {},
   "outputs": [],
   "source": [
    "NegativeValueException.__base__"
   ]
  },
  {
   "cell_type": "code",
   "execution_count": null,
   "metadata": {
    "deletable": false,
    "editable": false,
    "nbgrader": {
     "cell_type": "code",
     "checksum": "66f187d226a7bf7b8141e6c2f844e9de",
     "grade": true,
     "grade_id": "cell-49588b41dc18f1aa",
     "locked": true,
     "points": 1,
     "schema_version": 3,
     "solution": false,
     "task": false
    }
   },
   "outputs": [],
   "source": [
    "try:\n",
    "    assert NegativeValueException.__base__ == Exception, 'the error defined must inheret Exception'\n",
    "    raise NegativeValueException(1)\n",
    "except NameError:\n",
    "    print('define the NegativeValueException class!')\n",
    "    raise\n",
    "except NegativeValueException:\n",
    "    pass\n",
    "    \n",
    "test = PosInt(1)\n",
    "try:\n",
    "    test = PosInt(-1)\n",
    "except NegativeValueException:\n",
    "    pass\n",
    "else:\n",
    "    print('Error should be thrown for negative values!')"
   ]
  },
  {
   "cell_type": "code",
   "execution_count": null,
   "metadata": {},
   "outputs": [],
   "source": [
    "a = PosInt(1)\n",
    "b = PosInt(-2)"
   ]
  },
  {
   "cell_type": "markdown",
   "metadata": {},
   "source": [
    "## Erneutes Werfen einer Ausnahme\n",
    "In einigen Fällen ist es sinnvoll, auf eine Ausnahme zu reagieren, sie dann aber trotzdem weiterzureichen. Dazu kann im `except`-Block eine `raise` benutzt werden, die "
   ]
  },
  {
   "cell_type": "code",
   "execution_count": null,
   "metadata": {},
   "outputs": [],
   "source": [
    "class VariableGibtsNichtError(NameError):\n",
    "    def __str__(self):\n",
    "        return (\"Diese Variable gibt es nicht!\")\n",
    "    \n",
    "def a():\n",
    "    try:\n",
    "        b()\n",
    "    except NameError:\n",
    "        print(\"NameError in a() aufgetreten\")\n",
    "        ### Option 1: Ausnahme weiterleiten\n",
    "        raise\n",
    "        ### Option 2: Neue Ausnahme erzeugen\n",
    "        #raise NameError\n",
    "        ### Option 3: Neue Ausnahme in einem leeren \n",
    "        #raise NameError from None\n",
    "        ### Option 3: Neue Ausnahme in bestehenden Kontext erzeugen \n",
    "        #raise VariableGibtsNichtError from NameError\n",
    "def b(): c()\n",
    "def c(): d()\n",
    "def d(): x\n",
    "a()"
   ]
  },
  {
   "cell_type": "markdown",
   "metadata": {},
   "source": [
    "## Assertions\n",
    "Assertions sind hilfreich, wenn man sicherstellen möchte, dass bestimmte Bedingungen an bestimmten Stellen innerhalb des Programms. Über das Schlüselwort `assert` kann eine Bedingung angegeben werden, die zur Laufzeit überprüft wird. Ist die Bedingung nicht erfüllt, so wird eine Ausnahme ausgelöst.\n",
    "\n",
    "Assertions bieten eine kompakte Möglichkeit, um im Programmcode (Sonder-)Zustände zu überprüfen, die zwar semantisch korrekt sind, aber im Verlauf des Programms möglicherweise zu einem Fehler führen könnten. Tut man dies nicht, muss im Fehlerfall ggf. sehr langwierig nach der Fehlerursache gesucht werden. Daher ist es sinnvoll, diese \"problematischen Zustände\" von vornherein auszuschließen.\n"
   ]
  },
  {
   "cell_type": "code",
   "execution_count": null,
   "metadata": {},
   "outputs": [],
   "source": [
    "x = int(input())\n",
    "assert x>0\n",
    "assert x<=365, \"Achtung, diese Zahl könnte falsch sein\"\n",
    "print(\"%d Tage sind ein %d-tel des Jahres\" % (x, 356//x))"
   ]
  }
 ],
 "metadata": {
  "kernelspec": {
   "display_name": "Python 3",
   "language": "python",
   "name": "python3"
  },
  "language_info": {
   "codemirror_mode": {
    "name": "ipython",
    "version": 3
   },
   "file_extension": ".py",
   "mimetype": "text/x-python",
   "name": "python",
   "nbconvert_exporter": "python",
   "pygments_lexer": "ipython3",
   "version": "3.7.6"
  }
 },
 "nbformat": 4,
 "nbformat_minor": 2
}
