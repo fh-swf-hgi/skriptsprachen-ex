{
 "cells": [
  {
   "cell_type": "markdown",
   "id": "distinguished-recorder",
   "metadata": {},
   "source": [
    "<figure>\n",
    "  <IMG SRC=\"https://upload.wikimedia.org/wikipedia/commons/thumb/d/d5/Fachhochschule_Südwestfalen_20xx_logo.svg/320px-Fachhochschule_Südwestfalen_20xx_logo.svg.png\" WIDTH=250 ALIGN=\"right\">\n",
    "</figure>\n",
    "\n",
    "# Skriptsprachen\n",
    "### Sommersemester 2021\n",
    "Prof. Dr. Heiner Giefers"
   ]
  },
  {
   "cell_type": "markdown",
   "metadata": {
    "slideshow": {
     "slide_type": "slide"
    }
   },
   "source": [
    "## Modularisierung"
   ]
  },
  {
   "cell_type": "markdown",
   "metadata": {
    "slideshow": {
     "slide_type": "fragment"
    }
   },
   "source": [
    "Als Modul bezeichnete man in Python eine Datei mit Definitionen und Anweisungen. Jedes Python Script ist somit auch ein Modul. In Module kapselt man für gewöhnlich Code, der einem bestimmten Zweck dient. Module können andere Module importieren und somit auf deren Funktionalität zugreifen.\n",
    "\n",
    "Dabei unterscheidet man in Python *globale* und *lokale* Module, wobei der einzige Unterschied darin besteht, wo die Dateien im System abgelegt sind. Lokale Module befinden sich im Verzeichnisbaum des Hauptprogramms, globale Module (auch Bibliotheken genannt) sind systemweit installiert und werden über den sogenannten Suchpfad gefunden.\n",
    "\n",
    "Aus welchen Dateisystempfaden sich der Suchpfad zusammensetzt, hängt von Ihrem System ab. Sie können die voreingestellten Pfade durch setzen der Umgebungsvariablen `PYTHONPATH` erweitern."
   ]
  },
  {
   "cell_type": "code",
   "execution_count": null,
   "metadata": {
    "slideshow": {
     "slide_type": "-"
    }
   },
   "outputs": [],
   "source": [
    "!echo $PYTHONPATH  #Linux\n",
    "!echo %PYTHONPATH% #Windows"
   ]
  },
  {
   "cell_type": "markdown",
   "metadata": {
    "slideshow": {
     "slide_type": "slide"
    }
   },
   "source": [
    "Mit `!` können Kommandos eingeleitet werden, die auf der System-Shell ausgeführt werden sollen.\n",
    "\n",
    "Das Sonderzeichen gehört zu den sogenannten *magic commands* der interaktiven *ipython* Umgebung (die auch in Jupyter verwendet wird).\n",
    "Fast alle dieser Kommandos werden mit einem `%` eingeleitet.\n",
    "Eine Liste aller verfügbaren magic commands bekommand über `%lsmagic`:"
   ]
  },
  {
   "cell_type": "code",
   "execution_count": null,
   "metadata": {
    "slideshow": {
     "slide_type": "-"
    }
   },
   "outputs": [],
   "source": [
    "%lsmagic"
   ]
  },
  {
   "cell_type": "markdown",
   "metadata": {
    "slideshow": {
     "slide_type": "subslide"
    }
   },
   "source": [
    "Ein Beispiel für ein *magic command* ist `%time`.\n",
    "Damit kann die Laufzeit einer Python Anweisung gemessen werden."
   ]
  },
  {
   "cell_type": "code",
   "execution_count": null,
   "metadata": {
    "slideshow": {
     "slide_type": "-"
    }
   },
   "outputs": [],
   "source": [
    "def harm_reihe(n):\n",
    "    x=0\n",
    "    for i in range(1,n+1): x+=1/i\n",
    "    return x\n",
    "\n",
    "%time harm_reihe(100000)"
   ]
  },
  {
   "cell_type": "markdown",
   "metadata": {
    "slideshow": {
     "slide_type": "subslide"
    }
   },
   "source": [
    "Die Laufzeiten können allerdings stark schwanken.\n",
    "Es gibt mit `timeit` eine weitere Funktion, die die Anweisung mehrfach wiederholt und den Mittelwert der Laufzeiten berechnet."
   ]
  },
  {
   "cell_type": "code",
   "execution_count": null,
   "metadata": {
    "slideshow": {
     "slide_type": "-"
    }
   },
   "outputs": [],
   "source": [
    "%timeit harm_reihe(100000)"
   ]
  },
  {
   "cell_type": "markdown",
   "metadata": {
    "slideshow": {
     "slide_type": "subslide"
    }
   },
   "source": [
    "Um den kompletten Suchpfad auszugeben, können Sie sich die Liste `path` aus dem Modul `sys` anzeigen lassen:"
   ]
  },
  {
   "cell_type": "code",
   "execution_count": null,
   "metadata": {
    "slideshow": {
     "slide_type": "-"
    }
   },
   "outputs": [],
   "source": [
    "import sys\n",
    "for path in sys.path:\n",
    "    print(path)"
   ]
  },
  {
   "cell_type": "markdown",
   "metadata": {
    "slideshow": {
     "slide_type": "subslide"
    }
   },
   "source": [
    "Wie Sie am besten ihre eigenen Module zum Suchpfad hinzufügen hängt auch mit der Python-Installation zusammen.\n",
    "\n",
    "Auf Linux und dem Standard *CPython* ist der `PYTHONPATH` eine gute Wahl.\n",
    "Bei *Anaconda* gibt es ein kleines Werkzeug namens `conda-develop`, mit dem eigene Module zum Suchpfad hinzugefügt werden können."
   ]
  },
  {
   "cell_type": "code",
   "execution_count": null,
   "metadata": {
    "slideshow": {
     "slide_type": "-"
    }
   },
   "outputs": [],
   "source": [
    "!conda-develop --help"
   ]
  },
  {
   "cell_type": "code",
   "execution_count": null,
   "metadata": {
    "slideshow": {
     "slide_type": "fragment"
    }
   },
   "outputs": [],
   "source": [
    "!conda-develop \"~\\dev\\python_modules\"\n",
    "#!conda-develop -u \"C:\\Users\\hgief\\dev\\python_modules\"\n",
    "## RESTART KERNEL!"
   ]
  },
  {
   "cell_type": "markdown",
   "metadata": {
    "slideshow": {
     "slide_type": "subslide"
    }
   },
   "source": [
    "Sobald Sie ein Modul importiert haben, können Sie sich Informationen über das Modul anzeigen lassen. Verwenden Sie dazu z.B. folgende Funktion:"
   ]
  },
  {
   "cell_type": "code",
   "execution_count": null,
   "metadata": {
    "slideshow": {
     "slide_type": "-"
    }
   },
   "outputs": [],
   "source": [
    "def modul_info(*mypackages):\n",
    "    for p in mypackages:\n",
    "        try:\n",
    "            p = __import__(p)\n",
    "            fs = \"Modulname: {}  ---  Dateipfad: {}\"\n",
    "            print( fs.format(p.__name__, p.__file__))\n",
    "        except Exception:\n",
    "            print(\"Fehler bei Modul: %s\" % p)"
   ]
  },
  {
   "cell_type": "code",
   "execution_count": null,
   "metadata": {
    "slideshow": {
     "slide_type": "subslide"
    }
   },
   "outputs": [],
   "source": [
    "modul_info(\"site\")\n",
    "modul_info(\"math\")\n",
    "modul_info(\"sys\")"
   ]
  },
  {
   "cell_type": "markdown",
   "metadata": {
    "slideshow": {
     "slide_type": "fragment"
    }
   },
   "source": [
    "Diese Funktion verwendet die Modul-internen Referenzen `__name__` und `__file__`. Der Aufruf `modul_info(\"sys\")` erzeugt eine Fehlermeldung, da `sys` ein eingebautes Modul ist und damit fest in den (benutzten) Python Interpreter kompiliert ist.  "
   ]
  },
  {
   "cell_type": "markdown",
   "metadata": {
    "slideshow": {
     "slide_type": "fragment"
    }
   },
   "source": [
    "Eine Liste der eingebauten Module finden Sie in `sys.builtin_module_names`."
   ]
  },
  {
   "cell_type": "code",
   "execution_count": null,
   "metadata": {
    "slideshow": {
     "slide_type": "-"
    }
   },
   "outputs": [],
   "source": [
    "import sys\n",
    "print(sys.builtin_module_names)"
   ]
  },
  {
   "cell_type": "markdown",
   "metadata": {
    "slideshow": {
     "slide_type": "subslide"
    }
   },
   "source": [
    "\n",
    "Neben den eingebauten Modulen gibt es noch eine Reihe weiterer Module die (normalerweise) in jeder Python Distribution zur Verfügung stehen. Diese Zusammenfassung von Modulen nennt man auch Standardbibliothek. Das Lehrbuch gibt in Teil IV einen Einblick in einige Module der Standardbibliothek."
   ]
  },
  {
   "cell_type": "markdown",
   "metadata": {
    "slideshow": {
     "slide_type": "slide"
    }
   },
   "source": [
    "### Einbinden von Modulen\n",
    "\n",
    "Module werden mittels der `import` Anweisung eingebunden. ```import math``` z.B., erlaubt den Zugriff auf wichtige mathematische Funktionen und Konstanten:"
   ]
  },
  {
   "cell_type": "code",
   "execution_count": null,
   "metadata": {
    "slideshow": {
     "slide_type": "-"
    }
   },
   "outputs": [],
   "source": [
    "import math\n",
    "print(\"Pi = %s\" % math.pi)\n",
    "print(\"Die Quadratwurzel auf 16 ist %s\" % math.sqrt(16))"
   ]
  },
  {
   "cell_type": "markdown",
   "metadata": {
    "slideshow": {
     "slide_type": "slide"
    }
   },
   "source": [
    "Wenn Sie ein Modul auf o.g. Weise importieren wird ein neuer Namensraum erzeugt, über den Sie Zugriff auf die Inhalte des Moduls bekommen. Ohne die Angabe des Namensraumes können lokale Referenzen des eingebundenen Moduls vom Interpreter nicht aufgelöst werden:"
   ]
  },
  {
   "cell_type": "code",
   "execution_count": null,
   "metadata": {
    "slideshow": {
     "slide_type": "-"
    }
   },
   "outputs": [],
   "source": [
    "import math\n",
    "sqrt(16)"
   ]
  },
  {
   "cell_type": "markdown",
   "metadata": {
    "slideshow": {
     "slide_type": "subslide"
    }
   },
   "source": [
    "Falls Ihnen die Schreibweise mit dem vorangestellten Namensraum zu lang ist, können Sie den Namensraum mit dem Zusatz `as` umbenennen:"
   ]
  },
  {
   "cell_type": "code",
   "execution_count": null,
   "metadata": {
    "slideshow": {
     "slide_type": "-"
    }
   },
   "outputs": [],
   "source": [
    "import math as m\n",
    "m.sqrt(16)"
   ]
  },
  {
   "cell_type": "markdown",
   "metadata": {
    "slideshow": {
     "slide_type": "subslide"
    }
   },
   "source": [
    "Mithilfe der `from`-Anweisung können aber auch Referenzen aus einem Modul in den lokalen Namensraum übernommen werden. \n",
    "Es gibt mehrere Möglichkeiten `from` im Zusammenhang mit `import` zu nutzen.  \n",
    "Sie können alle Referenzen des importierten Moduls mit dem `*`-Operator einbinden:"
   ]
  },
  {
   "cell_type": "code",
   "execution_count": null,
   "metadata": {
    "slideshow": {
     "slide_type": "-"
    }
   },
   "outputs": [],
   "source": [
    "#Die nächsten 2 Zeilen bewirken, dass die zuvor importierten Referenzen aus dem Namensraum gelöscht werden\n",
    "try: del pi, sqrt, math\n",
    "except: pass\n",
    "\n",
    "import math\n",
    "from math import *\n",
    "sqrt(pi)"
   ]
  },
  {
   "cell_type": "markdown",
   "metadata": {
    "slideshow": {
     "slide_type": "subslide"
    }
   },
   "source": [
    "Der Ausdruck `del pi, sqrt, math` funktioniert nur korrekt, wenn alle Namen auch definiert sind. Beim ersten undefinierten Namen bricht der try/except block ab und belässt ggf. existierende weitere Namen definiert. Daher bietet es sich an, eine Funktion zu entwickeln, die alle Namen durchläuft und alle existierende Definitionen löscht:"
   ]
  },
  {
   "cell_type": "code",
   "execution_count": null,
   "metadata": {
    "slideshow": {
     "slide_type": "-"
    }
   },
   "outputs": [],
   "source": [
    "def del_tokens(*tnames):\n",
    "    for mname in tnames:\n",
    "        try:\n",
    "            del globals()[mname]\n",
    "            print(\"Deleted reference %s\" % mname)\n",
    "        except: pass"
   ]
  },
  {
   "cell_type": "markdown",
   "metadata": {
    "slideshow": {
     "slide_type": "subslide"
    }
   },
   "source": [
    "Allerdings sollten Sie es möglichst vermeiden, alle Referenzen eines Moduls zu importieren (wenn Sie nur einen Teil benutzen wollen). Sie könnten damit, ohne es zu beabsichtigen, bestehende lokale Referenzen überschreiben: "
   ]
  },
  {
   "cell_type": "code",
   "execution_count": null,
   "metadata": {
    "slideshow": {
     "slide_type": "-"
    }
   },
   "outputs": [],
   "source": [
    "del_tokens(\"pi\", \"sqrt\", \"math\")\n",
    "\n",
    "def sqrt(n):\n",
    "    return 42\n",
    "\n",
    "from math import *\n",
    "\n",
    "sqrt(4)\n"
   ]
  },
  {
   "cell_type": "markdown",
   "metadata": {
    "slideshow": {
     "slide_type": "subslide"
    }
   },
   "source": [
    "Es ist daher ratsam, nur diejenigen Referenzen einzubinden, die Sie benötigen:"
   ]
  },
  {
   "cell_type": "code",
   "execution_count": null,
   "metadata": {
    "slideshow": {
     "slide_type": "-"
    }
   },
   "outputs": [],
   "source": [
    "del_tokens(\"pi\", \"sqrt\", \"math\")\n",
    "\n",
    "import math\n",
    "from math import sqrt\n",
    "sqrt(pi) "
   ]
  },
  {
   "cell_type": "markdown",
   "metadata": {
    "slideshow": {
     "slide_type": "subslide"
    }
   },
   "source": [
    "Übrigens können Sie auch hier den Namen der importierten Referenz überschreiben:"
   ]
  },
  {
   "cell_type": "code",
   "execution_count": null,
   "metadata": {
    "slideshow": {
     "slide_type": "-"
    }
   },
   "outputs": [],
   "source": [
    "del_tokens(\"pi\", \"sqrt\", \"math\")\n",
    "from math import sqrt as wurzel\n",
    "wurzel(16)"
   ]
  },
  {
   "cell_type": "markdown",
   "metadata": {
    "slideshow": {
     "slide_type": "slide"
    }
   },
   "source": [
    "### Eigene Module Definieren\n",
    "Die einfachste Art der Modularisierung in Python sind lokale Module. Sie werden implementiert, indem man einzelne Programmteile in Dateien kapselt, die sich im Verzeichnis (oder in Unterverzeichnissen) des Hauptprogramms befinden."
   ]
  },
  {
   "cell_type": "markdown",
   "metadata": {
    "slideshow": {
     "slide_type": "slide"
    }
   },
   "source": [
    "#### Aufgabe 1\n",
    "**Erstellen Sie ein Modul \"mystrangemath.py\" im Verzeichnis Ihres Hauptprogramms. Das Modul soll eine Funktion `sqrt(n)` enthalten, die, statt der Quadratwurzel von n, eine beliebige Konstante zurück gibt. Schreiben Sie einen Test in dem die \"echte\", sowie die fehlerhafte Version der `sqrt`-Funktion benutzt werden.**\n",
    "\n",
    "Hinweise: Wenn Sie auf Ihrem lokalen Computer arbeiten, können Sie die Verzeichnisse und Dateien auf \"normalem Weg\" (Dateibrowser, Shell, Editor...) erstellen und editieren. Falls das nicht möglich ist, weil Sie z.B. auf einem Notebook-Server arbeiten und keinen expliziten Zugriff auf Ihre Dateien haben, können Sie shell-Kommandos innerhalb von ipython/Jupyter nutzen. Mit `!cmd` können Sie eine Kommando `cmd` in der shell ausführen. Der folgende Code-Abschnitt enthält einige Beispiele:"
   ]
  },
  {
   "cell_type": "code",
   "execution_count": null,
   "metadata": {
    "slideshow": {
     "slide_type": "-"
    }
   },
   "outputs": [],
   "source": [
    "#Gibt den aktuellen Verzeichnispfad aus\n",
    "!pwd\n",
    "#Löscht die Datei test.py aus dem aktuellen Verzeichnis\n",
    "!rm test.py"
   ]
  },
  {
   "cell_type": "markdown",
   "metadata": {
    "slideshow": {
     "slide_type": "subslide"
    }
   },
   "source": [
    "Den Inhalt einer lokalen Datei zu schreiben können Sie z.B. mittels der Datei Ein-/Ausgabe in Python realisieren:"
   ]
  },
  {
   "cell_type": "code",
   "execution_count": null,
   "metadata": {
    "slideshow": {
     "slide_type": "-"
    }
   },
   "outputs": [],
   "source": [
    "c = \"\"\"Dies is\n",
    "ein mehrzeiliger Text,\n",
    "    mit Einrückungen!\"\"\"\n",
    "f = open('./test.py', 'w')\n",
    "f.write(c)\n",
    "f.close()\n",
    "!cat test.py\n",
    "!rm test.py"
   ]
  },
  {
   "cell_type": "code",
   "execution_count": null,
   "metadata": {
    "deletable": false,
    "nbgrader": {
     "cell_type": "code",
     "checksum": "6d917089b4a8cd9be82aae89750d4f5b",
     "grade": false,
     "grade_id": "cell-18dcfcb1f60f9a1f",
     "locked": false,
     "schema_version": 3,
     "solution": true,
     "task": false
    },
    "slideshow": {
     "slide_type": "slide"
    }
   },
   "outputs": [],
   "source": [
    "# YOUR CODE HERE\n",
    "raise NotImplementedError()"
   ]
  },
  {
   "cell_type": "code",
   "execution_count": null,
   "metadata": {
    "deletable": false,
    "editable": false,
    "nbgrader": {
     "cell_type": "code",
     "checksum": "05b36e870e10eb3d167d798ddeae3084",
     "grade": true,
     "grade_id": "cell-fce2f6b6b4cee664",
     "locked": true,
     "points": 1,
     "schema_version": 3,
     "solution": false,
     "task": false
    }
   },
   "outputs": [],
   "source": [
    "from mystrangemath import sqrt\n",
    "assert sqrt(4) == sqrt(9) == sqrt(100), 'sqrt function should return an arbitrary constant instead of the square root of n'\n",
    "del_tokens(\"sqrt\")"
   ]
  },
  {
   "cell_type": "code",
   "execution_count": null,
   "metadata": {
    "slideshow": {
     "slide_type": "-"
    }
   },
   "outputs": [],
   "source": [
    "from mystrangemath import sqrt as sqrt_falsch\n",
    "from math import sqrt\n",
    "print(\"Die Quadratwurzel auf 16 ist %s und nicht %s\" % (sqrt(16), sqrt_falsch(16)))"
   ]
  },
  {
   "cell_type": "markdown",
   "metadata": {
    "slideshow": {
     "slide_type": "slide"
    }
   },
   "source": [
    "### Pakete\n",
    "Sie können ein oder mehrere Module zu einem Paket zusammenfassen. Um ein Paket zu erstellen, muss ein Unterordner im Programmverzeichnis erzeugt werden, welcher eine Datei namens `__init__.py` enthält. Der Name des Ordners entspricht dem Namen des Pakets."
   ]
  },
  {
   "cell_type": "markdown",
   "metadata": {
    "slideshow": {
     "slide_type": "slide"
    }
   },
   "source": [
    "#### Aufgabe 2\n",
    "**Erstellen Sie ein Paket welches das Modul \"mystrangemath.py\" enthält. Testen Sie Ihre Implementierung indem Sie das Paket importieren und eine Funktion daraus Aufrufen.**"
   ]
  },
  {
   "cell_type": "code",
   "execution_count": null,
   "metadata": {
    "deletable": false,
    "nbgrader": {
     "cell_type": "code",
     "checksum": "49fc96454cc5763c1429f6fa694b1887",
     "grade": false,
     "grade_id": "cell-c3f1295ae16609cd",
     "locked": false,
     "schema_version": 3,
     "solution": true,
     "task": false
    },
    "slideshow": {
     "slide_type": "fragment"
    }
   },
   "outputs": [],
   "source": [
    "#Diese Aufgabe kann, aber muss nicht über das Notebook realisiert werden.\n",
    "\n",
    "# YOUR CODE HERE\n",
    "raise NotImplementedError()"
   ]
  },
  {
   "cell_type": "code",
   "execution_count": null,
   "metadata": {
    "deletable": false,
    "editable": false,
    "nbgrader": {
     "cell_type": "code",
     "checksum": "967cedb700427054653881737930e5dc",
     "grade": true,
     "grade_id": "cell-2bafdf6147222f29",
     "locked": true,
     "points": 1,
     "schema_version": 3,
     "solution": false,
     "task": false
    }
   },
   "outputs": [],
   "source": [
    "import os\n",
    "assert os.path.isdir('./meinPaket'), 'meinPaket package does not exist!\\nUse shell command to create a directory.'\n",
    "assert os.path.isfile('./meinPaket/mystrangemath.py'), 'mystrangemath module is not moved!\\nUse shell command to move the file.'"
   ]
  },
  {
   "cell_type": "code",
   "execution_count": null,
   "metadata": {
    "slideshow": {
     "slide_type": "fragment"
    }
   },
   "outputs": [],
   "source": [
    "c = \"from . import mystrangemath\"\n",
    "f = open('./meinPaket/__init__.py', 'w')\n",
    "f.write(c)\n",
    "f.write(\"\")\n",
    "f.close()"
   ]
  },
  {
   "cell_type": "code",
   "execution_count": null,
   "metadata": {
    "slideshow": {
     "slide_type": "subslide"
    }
   },
   "outputs": [],
   "source": [
    "del_tokens(\"mystrangemath\", \"sqrt\")\n",
    "\n",
    "from meinPaket import *\n",
    "mystrangemath.sqrt(16)"
   ]
  },
  {
   "cell_type": "code",
   "execution_count": null,
   "metadata": {
    "slideshow": {
     "slide_type": "fragment"
    }
   },
   "outputs": [],
   "source": [
    "from meinPaket.mystrangemath import sqrt\n",
    "sqrt.__module__"
   ]
  },
  {
   "cell_type": "markdown",
   "metadata": {
    "slideshow": {
     "slide_type": "slide"
    }
   },
   "source": [
    "Beachten Sie, dass Python `.py` Skripte bei erstmalige Ausführung Bytecode compiliert.\n",
    "\n",
    "Wenn Sie die Python-Dateien eines Moduls ändern, während es an anderer Stelle eingebunden ist, werden dort die Änderungen ggf. nicht wirksam."
   ]
  },
  {
   "cell_type": "code",
   "execution_count": null,
   "metadata": {
    "slideshow": {
     "slide_type": "fragment"
    }
   },
   "outputs": [],
   "source": [
    "c = \"\"\"def testprint():\n",
    "    print(\"Dies ist ein Text\")\"\"\"\n",
    "f = open('./dummy.py', 'w')\n",
    "f.write(c)\n",
    "f.close()\n",
    "!cat C:\\Users\\hgief\\dev\\python_modules\\dummy.py"
   ]
  },
  {
   "cell_type": "code",
   "execution_count": null,
   "metadata": {
    "slideshow": {
     "slide_type": "fragment"
    }
   },
   "outputs": [],
   "source": [
    "import dummy\n",
    "dummy.testprint()"
   ]
  },
  {
   "cell_type": "markdown",
   "metadata": {
    "slideshow": {
     "slide_type": "slide"
    }
   },
   "source": [
    "Mit dem *magic command* `autoload` können die das Neuladen eines Moduls erzwingen. "
   ]
  },
  {
   "cell_type": "code",
   "execution_count": null,
   "metadata": {
    "slideshow": {
     "slide_type": "fragment"
    }
   },
   "outputs": [],
   "source": [
    "%load_ext autoreload\n",
    "%autoreload 2\n",
    "c = \"\"\"def testprint():\n",
    "    print(\"Dies ist ein Text\")\"\"\"\n",
    "f = open('C:\\\\Users\\\\hgief\\\\dev\\\\python_modules\\\\dummy.py', 'w')\n",
    "f.write(c)\n",
    "f.close()\n",
    "!cat C:\\Users\\hgief\\dev\\python_modules\\dummy.py"
   ]
  },
  {
   "cell_type": "code",
   "execution_count": null,
   "metadata": {
    "slideshow": {
     "slide_type": "fragment"
    }
   },
   "outputs": [],
   "source": [
    "import dummy\n",
    "dummy.testprint()"
   ]
  },
  {
   "cell_type": "code",
   "execution_count": null,
   "metadata": {},
   "outputs": [],
   "source": []
  }
 ],
 "metadata": {
  "kernelspec": {
   "display_name": "Python 3",
   "language": "python",
   "name": "python3"
  },
  "language_info": {
   "codemirror_mode": {
    "name": "ipython",
    "version": 3
   },
   "file_extension": ".py",
   "mimetype": "text/x-python",
   "name": "python",
   "nbconvert_exporter": "python",
   "pygments_lexer": "ipython3",
   "version": "3.7.3"
  }
 },
 "nbformat": 4,
 "nbformat_minor": 4
}
