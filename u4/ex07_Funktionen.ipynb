{
 "cells": [
  {
   "cell_type": "markdown",
   "id": "distinguished-recorder",
   "metadata": {},
   "source": [
    "<figure>\n",
    "  <IMG SRC=\"https://upload.wikimedia.org/wikipedia/commons/thumb/d/d5/Fachhochschule_Südwestfalen_20xx_logo.svg/320px-Fachhochschule_Südwestfalen_20xx_logo.svg.png\" WIDTH=250 ALIGN=\"right\">\n",
    "</figure>\n",
    "\n",
    "# Skriptsprachen\n",
    "### Sommersemester 2021\n",
    "Prof. Dr. Heiner Giefers"
   ]
  },
  {
   "cell_type": "markdown",
   "metadata": {
    "slideshow": {
     "slide_type": "slide"
    }
   },
   "source": [
    "# Funkionen\n",
    "\n",
    "Funktionen in Python werden über das Schlüsselwort `def` definiert. Die Syntax einer Funktions-Definition sieht folgendermaßen aus:\n",
    "\n",
    "```python\n",
    "def myfunc(arg1, arg2,... argN):  \n",
    "  '''Dokumentation'''  \n",
    "\n",
    "  #Programmcode  \n",
    "\n",
    "  return <Rückgabewert>  \n",
    "```\n",
    "\n",
    "Hier wird die Funktion \"myfunc\" definiert, welche mit den Parametern \"arg1,arg2,....argN\" aufgerufen werden kann. Im Funktionsrumpf kann vor dem eigentlichen Programmcode noch eine Dokumentation zu der Funktion angegeben werden. (Siehe auch: Kapitel 36 _Dokumentation_ in: Ernesti und Kaiser, \"Python 3: Das umfassende Handbuch\", Rheinwerk 2018)"
   ]
  },
  {
   "cell_type": "markdown",
   "metadata": {
    "slideshow": {
     "slide_type": "subslide"
    }
   },
   "source": [
    "Die Dokumentation sowie der Rückgabewert sind optional. Eine Funktion muss aber mindestends eine Anweisung enthalten. Deshalb ist die folgende Definition ungültig:"
   ]
  },
  {
   "cell_type": "code",
   "execution_count": null,
   "metadata": {
    "slideshow": {
     "slide_type": "-"
    }
   },
   "outputs": [],
   "source": [
    "def leer():\n",
    "      "
   ]
  },
  {
   "cell_type": "markdown",
   "metadata": {
    "slideshow": {
     "slide_type": "-"
    }
   },
   "source": [
    "Falls Sie eine Funktion definieren, aber nicht ausimplementieren wollen, können Sie die `pass`-Anweisung benutzen. Sie wird eingesetzt, wenn die Syntax eine Anweisung verlangt, das Programm jedoch nichts tun soll."
   ]
  },
  {
   "cell_type": "code",
   "execution_count": null,
   "metadata": {
    "slideshow": {
     "slide_type": "-"
    }
   },
   "outputs": [],
   "source": [
    "def fastleer():\n",
    "    pass"
   ]
  },
  {
   "cell_type": "markdown",
   "metadata": {
    "slideshow": {
     "slide_type": "slide"
    }
   },
   "source": [
    "## Schreiben einer Funktion"
   ]
  },
  {
   "cell_type": "markdown",
   "metadata": {
    "slideshow": {
     "slide_type": "-"
    }
   },
   "source": [
    "Hier ist noch einmal die Beispiel-Funktion aus Kapitel 19.1 des Lehrbuchs."
   ]
  },
  {
   "cell_type": "code",
   "execution_count": null,
   "metadata": {
    "slideshow": {
     "slide_type": "-"
    }
   },
   "outputs": [],
   "source": [
    "def fak(zahl):\n",
    "    '''Berechnet die Fakultät einer Zahl'''\n",
    "    ergebnis = 1\n",
    "    for i in range(2, zahl+1):\n",
    "        ergebnis *= i\n",
    "    print(ergebnis)\n",
    "\n",
    "#Ein einfacher Test:\n",
    "fak(10)"
   ]
  },
  {
   "cell_type": "markdown",
   "metadata": {
    "slideshow": {
     "slide_type": "subslide"
    }
   },
   "source": [
    "Diese Funktion ist allerdings nur bedingt nützlich, da sie das Resultat der Berechnung nur auf die Standardausgabe schreibt, aber keinen Rückgabewert definiert. Daher ist es sinnvoll, die Funktion so zu umzuschreiben:\n"
   ]
  },
  {
   "cell_type": "code",
   "execution_count": null,
   "metadata": {
    "slideshow": {
     "slide_type": "-"
    }
   },
   "outputs": [],
   "source": [
    "def fak(zahl):\n",
    "    '''Berechnet die Fakultät einer Zahl'''\n",
    "    ergebnis = 1\n",
    "    for i in range(2, zahl+1):\n",
    "        ergebnis *= i\n",
    "    return ergebnis\n",
    "\n",
    "#Ein einfacher Test:\n",
    "fak(10)"
   ]
  },
  {
   "cell_type": "markdown",
   "metadata": {
    "slideshow": {
     "slide_type": "subslide"
    }
   },
   "source": [
    "Natürlich können Sie die Fakultät-Funktion auch rekursiv definieren:"
   ]
  },
  {
   "cell_type": "code",
   "execution_count": null,
   "metadata": {
    "slideshow": {
     "slide_type": "-"
    }
   },
   "outputs": [],
   "source": [
    "def fak(n):\n",
    "    '''Berechnet die Fakultät der Zahl n'''\n",
    "    if n > 0:\n",
    "        return fak(n - 1) * n\n",
    "    else:\n",
    "        return 1\n",
    "    \n",
    "print(fak(10))"
   ]
  },
  {
   "cell_type": "markdown",
   "metadata": {
    "slideshow": {
     "slide_type": "subslide"
    }
   },
   "source": [
    "Da wir einen *Docstring* angegeben haben, können wir Informationen zur Funktion über das Hilfesystem abfragen:"
   ]
  },
  {
   "cell_type": "code",
   "execution_count": null,
   "metadata": {
    "slideshow": {
     "slide_type": "-"
    }
   },
   "outputs": [],
   "source": [
    "help(fak)"
   ]
  },
  {
   "cell_type": "markdown",
   "metadata": {
    "slideshow": {
     "slide_type": "fragment"
    }
   },
   "source": [
    "Auf den Docstring kann man auch innerhalb eines Programms zugreifen:"
   ]
  },
  {
   "cell_type": "code",
   "execution_count": null,
   "metadata": {
    "slideshow": {
     "slide_type": "-"
    }
   },
   "outputs": [],
   "source": [
    "print(fak.__doc__)"
   ]
  },
  {
   "cell_type": "markdown",
   "metadata": {
    "slideshow": {
     "slide_type": "subslide"
    }
   },
   "source": [
    "**Aufgabe 1**\n",
    "\n",
    "**Schreiben Sie eine Funktion `ggt(a,b)`, die den größten gemeinsamen Teiler (ggT) zweier Zahlen berechnet.**\n",
    "\n",
    "**Hinweise:** Eine effiziente Möglichkeit, den ggT zu berechnen ist der euklidische Algorithmus. Das Verfahren funktioniert folgendermaßen:\n",
    "1. Spezialfälle abfangen: Wenn (a==0) gilt, ist das Ergebnis der Funktion `b`; wenn (b==0) gilt, ist das Ergebnis `a`.  \n",
    "2. Solange `b!=0` (\"b ungleich 0\") gilt, wiederhole folgende Schritte:  \n",
    "    1. Berechne r als den ganzzahligen Rest der Division $\\frac{a}{b}$ (\"r = a modulo b\")  \n",
    "    2. Setze a=b und b=r\n",
    "3. Gebe a als Ergebnis zurück\n",
    "\n",
    "\n",
    "Weitere Informationen finden Sie z.B. auf [Wikipedia](https://de.wikipedia.org/wiki/Gr%C3%B6%C3%9Fter_gemeinsamer_Teiler)"
   ]
  },
  {
   "cell_type": "code",
   "execution_count": null,
   "metadata": {
    "deletable": false,
    "nbgrader": {
     "cell_type": "code",
     "checksum": "a0c371dd6f951ae2c41b88f9270b70f1",
     "grade": false,
     "grade_id": "cell-0552cdc5f259730f",
     "locked": false,
     "schema_version": 3,
     "solution": true,
     "task": false
    },
    "slideshow": {
     "slide_type": "subslide"
    }
   },
   "outputs": [],
   "source": [
    "def ggt(a, b):\n",
    "    # YOUR CODE HERE\n",
    "    raise NotImplementedError()"
   ]
  },
  {
   "cell_type": "code",
   "execution_count": null,
   "metadata": {
    "deletable": false,
    "editable": false,
    "nbgrader": {
     "cell_type": "code",
     "checksum": "dba12c7c19d84fc64c43d054a65a9aea",
     "grade": true,
     "grade_id": "cell-e21595e4a64976be",
     "locked": true,
     "points": 1,
     "schema_version": 3,
     "solution": false,
     "task": false
    }
   },
   "outputs": [],
   "source": [
    "assert ggt(22,0) == ggt(0, 22) == 22, 'Catch special cases!'\n",
    "test_cases = [(123, 321, 3),(545,654, 109),(459,666, 9)]\n",
    "assert all([ggt(a,b)==c for a, b, c in test_cases]), ''"
   ]
  },
  {
   "cell_type": "markdown",
   "metadata": {
    "slideshow": {
     "slide_type": "subslide"
    }
   },
   "source": [
    "Überprüfen Sie die Funktion anhand von Beispielen."
   ]
  },
  {
   "cell_type": "code",
   "execution_count": null,
   "metadata": {
    "slideshow": {
     "slide_type": "-"
    }
   },
   "outputs": [],
   "source": [
    "print(\"ggT von 168 und 546 ist %d (richtig ist 42)\" % ggt(168,546))"
   ]
  },
  {
   "cell_type": "markdown",
   "metadata": {
    "slideshow": {
     "slide_type": "slide"
    }
   },
   "source": [
    "## Funktionsparameter"
   ]
  },
  {
   "cell_type": "markdown",
   "metadata": {
    "slideshow": {
     "slide_type": "-"
    }
   },
   "source": [
    "Sie haben nun eine `ggt` Funktion, die den größten gemeinsamen Teiler zweier Zahlen berechnet. Falls Sie den ggT von mehr als 2 Zahlen berechnen wollen, können Sie die Funktion `ggt` mehrfach benutzen.  \n",
    "Nehmen wir an Sie wollen den ggt der Zahlen a, b, und c berechnen. Es gilt $ggT(a,b,c)=ggT(ggT(a,b),c)$  \n",
    "Da für die ggT Funktion das Assoziativgesetz gilt, ist es unerheblich, in welcher \"Reihenfolge\" Sie die Funktion aufrufen. Es gilt also $ggT(ggT(a,b),c)=ggT(a,ggT(b,c)$."
   ]
  },
  {
   "cell_type": "markdown",
   "metadata": {
    "slideshow": {
     "slide_type": "subslide"
    }
   },
   "source": [
    "Um die ggT Funktion nun allgemeiner, für mehrere Parameter zu definieren, benennen wir zunächst die ursprüngliche Funktion `ggt` in `ggt2` um:"
   ]
  },
  {
   "cell_type": "code",
   "execution_count": null,
   "metadata": {
    "slideshow": {
     "slide_type": "-"
    }
   },
   "outputs": [],
   "source": [
    "ggt2=ggt"
   ]
  },
  {
   "cell_type": "markdown",
   "metadata": {
    "slideshow": {
     "slide_type": "fragment"
    }
   },
   "source": [
    "Das funktioniert, weil der Funktionsname nur ein Zeiger auf das eigentliche Funktionsobjekt ist. Sie können nun die Funktion über beide \"Namen\" aufrufen:"
   ]
  },
  {
   "cell_type": "code",
   "execution_count": null,
   "metadata": {
    "slideshow": {
     "slide_type": "-"
    }
   },
   "outputs": [],
   "source": [
    "print(ggt(168,546))\n",
    "print(ggt2(168,546))"
   ]
  },
  {
   "cell_type": "markdown",
   "metadata": {
    "slideshow": {
     "slide_type": "subslide"
    }
   },
   "source": [
    "Der \"alte\" Name kann weiter bestehen, Sie können ihn aber auch explizit löschen:"
   ]
  },
  {
   "cell_type": "code",
   "execution_count": null,
   "metadata": {
    "slideshow": {
     "slide_type": "-"
    }
   },
   "outputs": [],
   "source": [
    "del ggt\n",
    "print(ggt(168,546))\n",
    "print(ggt2(168,546))"
   ]
  },
  {
   "cell_type": "markdown",
   "metadata": {
    "slideshow": {
     "slide_type": "subslide"
    }
   },
   "source": [
    "**Aufgabe 2**\n",
    "\n",
    "**Schreiben Sie eine Funktion `ggt3(a,b,c)`, die den ggT dreier Zahlen a, b und c berechnet. Die Funktion soll auch ein korrektes Ergebnis zurückgeben, wenn nur 2 der 3 Parameter beim Funktionsaufruf gesetzt werden.**"
   ]
  },
  {
   "cell_type": "code",
   "execution_count": null,
   "metadata": {
    "deletable": false,
    "nbgrader": {
     "cell_type": "code",
     "checksum": "8f28d425cb7d5921ad70995c4727bb45",
     "grade": false,
     "grade_id": "cell-7fe9b0fc2f92e21d",
     "locked": false,
     "schema_version": 3,
     "solution": true,
     "task": false
    },
    "slideshow": {
     "slide_type": "fragment"
    }
   },
   "outputs": [],
   "source": [
    "def ggt3(a=0, b=0, c=0):\n",
    "    # YOUR CODE HERE\n",
    "    raise NotImplementedError()"
   ]
  },
  {
   "cell_type": "code",
   "execution_count": null,
   "metadata": {
    "deletable": false,
    "editable": false,
    "nbgrader": {
     "cell_type": "code",
     "checksum": "5a0b6607fce3469c1126d4f44e296794",
     "grade": true,
     "grade_id": "cell-f8495582928dda65",
     "locked": true,
     "points": 1,
     "schema_version": 3,
     "solution": false,
     "task": false
    }
   },
   "outputs": [],
   "source": [
    "try:\n",
    "    ggt3()\n",
    "except NameError:\n",
    "    print('ggt function has been deleted, use ggt2 to refer to the function object of ggt.')\n",
    "    raise\n",
    "\n",
    "assert ggt3(545,654) == ggt3(b=545,c=654) == ggt3(a=545,c=654), 'Incorrect!'"
   ]
  },
  {
   "cell_type": "markdown",
   "metadata": {
    "slideshow": {
     "slide_type": "fragment"
    }
   },
   "source": [
    "Überprüfen Sie ihre Funktion anhand einiger Beispiele:"
   ]
  },
  {
   "cell_type": "code",
   "execution_count": null,
   "metadata": {
    "slideshow": {
     "slide_type": "-"
    }
   },
   "outputs": [],
   "source": [
    "ggt3(168,546)"
   ]
  },
  {
   "cell_type": "code",
   "execution_count": null,
   "metadata": {
    "slideshow": {
     "slide_type": "fragment"
    }
   },
   "outputs": [],
   "source": [
    "ggt3(b=168,c=546)"
   ]
  },
  {
   "cell_type": "markdown",
   "metadata": {
    "slideshow": {
     "slide_type": "-"
    }
   },
   "source": [
    "Die ggT-Funktion um einen Parameter zu erweitern ist nicht gerade sinnvoll. Besser wäre es, wenn man `ggt()` mit einer beliebigen Anzahl von Parametern aufrufen könnte.  "
   ]
  },
  {
   "cell_type": "markdown",
   "metadata": {
    "slideshow": {
     "slide_type": "subslide"
    }
   },
   "source": [
    "**Aufgabe 3**\n",
    "\n",
    "**Schreiben Sie eine Funktion `ggt`, die den ggT von 2 und mehr Zahlen berechnet.**\n",
    "\n",
    "**Hinweise:** Verwenden Sie variable (Positions-) Parameter mit dem `*<parameter-tupel>` Konstrukt."
   ]
  },
  {
   "cell_type": "code",
   "execution_count": null,
   "metadata": {
    "deletable": false,
    "nbgrader": {
     "cell_type": "code",
     "checksum": "6681b0b4a00f3c0243bb3e13793e1d3d",
     "grade": false,
     "grade_id": "cell-3b8fec3cff001ac9",
     "locked": false,
     "schema_version": 3,
     "solution": true,
     "task": false
    },
    "slideshow": {
     "slide_type": "subslide"
    }
   },
   "outputs": [],
   "source": [
    "def ggt(a, b, *p, **kwp):\n",
    "    # YOUR CODE HERE\n",
    "    raise NotImplementedError()"
   ]
  },
  {
   "cell_type": "code",
   "execution_count": null,
   "metadata": {
    "deletable": false,
    "editable": false,
    "nbgrader": {
     "cell_type": "code",
     "checksum": "97bbcc0c804110715e5572e21546a131",
     "grade": true,
     "grade_id": "cell-0ccc5e186ba71ef7",
     "locked": true,
     "points": 1,
     "schema_version": 3,
     "solution": false,
     "task": false
    }
   },
   "outputs": [],
   "source": [
    "assert ggt(120, 540) == 60, 'implement the case of two parameters.'\n",
    "assert ggt(120, 540, 1200, 3420, 5620) == 20, 'implement multiple parameters using p list.'\n",
    "assert ggt(120, 540, 1200, 3420, c=5620) == 20, 'catch keyworded parameters using kwp dict.'"
   ]
  },
  {
   "cell_type": "code",
   "execution_count": null,
   "metadata": {
    "slideshow": {
     "slide_type": "skip"
    }
   },
   "outputs": [],
   "source": [
    "tupel = ()\n",
    "if tupel:\n",
    "    print(\"Nicht leer\")"
   ]
  },
  {
   "cell_type": "markdown",
   "metadata": {
    "slideshow": {
     "slide_type": "skip"
    }
   },
   "source": [
    "Testen Sie ihre Implementierung:"
   ]
  },
  {
   "cell_type": "code",
   "execution_count": null,
   "metadata": {
    "slideshow": {
     "slide_type": "fragment"
    }
   },
   "outputs": [],
   "source": [
    "ggt(16, 20, 4, letzter=2)"
   ]
  },
  {
   "cell_type": "markdown",
   "metadata": {
    "slideshow": {
     "slide_type": "subslide"
    }
   },
   "source": [
    "Sie können sich auch zu Testzwecken eine Eingabe für ihre Funktion generieren. Im nächsten Code Abschnitt wird eine Liste von 4er Potenzen erzeugt. Dieses Beispiel zeigt im Übrigen auch eine sinnvollere Anwendung von benannten Parametern: Die `print` Funktion gibt im Normalfall ihren ersten Parameter auf der Standardausgabe aus und schließt die Ausgabe mit einem Zeilenumbruch ab. Wenn Sie statt des Umbruchs eine andere Zeichenkette verwenden wollen, so können Sie den `end` Parameter überschreiben."
   ]
  },
  {
   "cell_type": "code",
   "execution_count": null,
   "metadata": {
    "slideshow": {
     "slide_type": "-"
    }
   },
   "outputs": [],
   "source": [
    "for z in range(1,10): print(4**z, end=\", \")\n",
    "print(4**10)"
   ]
  },
  {
   "cell_type": "code",
   "execution_count": null,
   "metadata": {
    "slideshow": {
     "slide_type": "-"
    }
   },
   "outputs": [],
   "source": [
    "ggt(4, 16, 64, 256, 1024, 4096, 16384, 65536, 262144)"
   ]
  },
  {
   "cell_type": "markdown",
   "metadata": {
    "slideshow": {
     "slide_type": "skip"
    }
   },
   "source": [
    "Im vorherigen Schritt haben wir die eine \"Liste\" von Argumenten generiert. Diese Liste ist aber nur eine Reihe von ausgegebenen Werten, kein Listen-Objekt in Python."
   ]
  },
  {
   "cell_type": "markdown",
   "metadata": {
    "slideshow": {
     "slide_type": "subslide"
    }
   },
   "source": [
    "**Aufgabe 4**\n",
    "\n",
    "**Wandeln Sie den Test-Code für die `ggt` Funktion so um, dass sie ein Tupel-Objekt `t` and den Funktionsaufruf übergeben. Testen Sie ihre Implementierung**\n"
   ]
  },
  {
   "cell_type": "code",
   "execution_count": null,
   "metadata": {
    "deletable": false,
    "nbgrader": {
     "cell_type": "code",
     "checksum": "b0da3dd443200582482e8e6b1c9ca7a8",
     "grade": false,
     "grade_id": "cell-88af1eb82eb4fb43",
     "locked": false,
     "schema_version": 3,
     "solution": true,
     "task": false
    },
    "slideshow": {
     "slide_type": "fragment"
    }
   },
   "outputs": [],
   "source": [
    "t = None\n",
    "# YOUR CODE HERE\n",
    "raise NotImplementedError()\n",
    "ggt(4,16,*t)"
   ]
  },
  {
   "cell_type": "code",
   "execution_count": null,
   "metadata": {
    "deletable": false,
    "editable": false,
    "nbgrader": {
     "cell_type": "code",
     "checksum": "3d215720f65bec9d06dd04b9c2ddbe84",
     "grade": true,
     "grade_id": "cell-78a0d93dfb3a88b0",
     "locked": true,
     "points": 1,
     "schema_version": 3,
     "solution": false,
     "task": false
    }
   },
   "outputs": [],
   "source": [
    "assert type(t) is tuple, 't should be a tuple!'\n",
    "assert len(t)>5, 'generate longer sequence!'\n",
    "assert ggt(4,16,*t) == 4, 'the generated list should be powers of 4'"
   ]
  },
  {
   "cell_type": "markdown",
   "metadata": {
    "slideshow": {
     "slide_type": "subslide"
    }
   },
   "source": [
    "Sie können zusätzlich eine variable Liste von benannten Objekten as Funktionsargument übergeben.\n",
    "Der Parameter in fer Funktion wird dann mit zwei Sternen `**` eingeleitet."
   ]
  },
  {
   "cell_type": "code",
   "execution_count": null,
   "metadata": {
    "slideshow": {
     "slide_type": "-"
    }
   },
   "outputs": [],
   "source": [
    "def myfunct(**kwargs):\n",
    "    print(list(kwargs.keys()))\n",
    "    print(list(kwargs.values()))\n",
    "\n",
    "myfunct(A=1, B='Zwei', C=3)"
   ]
  },
  {
   "cell_type": "markdown",
   "metadata": {
    "slideshow": {
     "slide_type": "skip"
    }
   },
   "source": [
    "Dabei können Sie auch ein Dictionary übergeben, bei dem die Keys ausschließlich aus Stings bestehen"
   ]
  },
  {
   "cell_type": "code",
   "execution_count": null,
   "metadata": {
    "slideshow": {
     "slide_type": "skip"
    }
   },
   "outputs": [],
   "source": [
    "dictionary = {'Erster':1, 'Zweiter':'2ter', 'Dritter':3.0}\n",
    "myfunct(**dictionary)\n"
   ]
  },
  {
   "cell_type": "markdown",
   "metadata": {
    "slideshow": {
     "slide_type": "skip"
    }
   },
   "source": [
    "Wenn Sie eine variable Liste unbenannter Objekte sowie eine variable Liste benannter Ojekte übergeben wollen, müssen alle unbenanten Objekte **vor** den benannten stehen."
   ]
  },
  {
   "cell_type": "code",
   "execution_count": null,
   "metadata": {
    "slideshow": {
     "slide_type": "skip"
    }
   },
   "outputs": [],
   "source": [
    "def myfunct(*args, **kwargs):\n",
    "    print(list(args))\n",
    "    print(list(kwargs.keys()))\n",
    "    print(list(kwargs.values()))\n",
    "\n",
    "myfunct(1, 'B', A=3, B='Vier', C=5)\n"
   ]
  },
  {
   "cell_type": "markdown",
   "metadata": {
    "slideshow": {
     "slide_type": "slide"
    }
   },
   "source": [
    "## Namensräume"
   ]
  },
  {
   "cell_type": "markdown",
   "metadata": {
    "slideshow": {
     "slide_type": "-"
    }
   },
   "source": [
    "Beim Aufruf einer Funktion betreten Sie einen neuen Namensraum. Das ist wichtig, damit nicht alle Variablen in Ihrem Programm eindeutig definiert sein müssen."
   ]
  },
  {
   "cell_type": "markdown",
   "metadata": {
    "slideshow": {
     "slide_type": "-"
    }
   },
   "source": [
    "Wenn Sie also in einer Funktion ein Objekt definieren, dessen Name bereits ausserhalb der Funktion benutzt wurde, hat der *lokale Kontext* Priorität."
   ]
  },
  {
   "cell_type": "code",
   "execution_count": null,
   "metadata": {
    "slideshow": {
     "slide_type": "-"
    }
   },
   "outputs": [],
   "source": [
    "a = \"a aus main\"\n",
    "def f(a):\n",
    "    a = \"a aus f\"\n",
    "    print(a)\n",
    "\n",
    "f(a)\n",
    "a"
   ]
  },
  {
   "cell_type": "markdown",
   "metadata": {
    "slideshow": {
     "slide_type": "subslide"
    }
   },
   "source": [
    "Sie haben allerdings auch innerhalb einer Funktion Zugriff auf den übergeordneten Kontext."
   ]
  },
  {
   "cell_type": "code",
   "execution_count": null,
   "metadata": {
    "slideshow": {
     "slide_type": "-"
    }
   },
   "outputs": [],
   "source": [
    "def f():\n",
    "    print(a)\n",
    "\n",
    "a = \"a aus main\"\n",
    "f()"
   ]
  },
  {
   "cell_type": "markdown",
   "metadata": {
    "slideshow": {
     "slide_type": "subslide"
    }
   },
   "source": [
    "Was der *übergeordnete Kontext* ist, hängt davon ab, wo die Funktion *definiert* wurde; nicht, in welchem Kontext sie aufgerufen wird."
   ]
  },
  {
   "cell_type": "code",
   "execution_count": null,
   "metadata": {
    "slideshow": {
     "slide_type": "-"
    }
   },
   "outputs": [],
   "source": [
    "a = \"a aus main\"\n",
    "\n",
    "def g():\n",
    "    print(a)\n",
    "    \n",
    "def f():\n",
    "    a = \"a aus f\"\n",
    "    g()\n",
    "\n",
    "f()"
   ]
  },
  {
   "cell_type": "markdown",
   "metadata": {
    "slideshow": {
     "slide_type": "fragment"
    }
   },
   "source": [
    "**Aufgabe 5**\n",
    "\n",
    "**Ändern sie die Funktion f so um, dass das Resultat des Aufrufs `f()` \"a aus f\" ist.**\n"
   ]
  },
  {
   "cell_type": "code",
   "execution_count": null,
   "metadata": {
    "deletable": false,
    "nbgrader": {
     "cell_type": "code",
     "checksum": "09e577e455cb995da792ad7a41aa2294",
     "grade": false,
     "grade_id": "cell-afc954103555b151",
     "locked": false,
     "schema_version": 3,
     "solution": true,
     "task": false
    },
    "slideshow": {
     "slide_type": "subslide"
    }
   },
   "outputs": [],
   "source": [
    "%%capture screen --no-stderr --no-display\n",
    "a = \"a aus main\"\n",
    "\n",
    "  \n",
    "def f():\n",
    "    # YOUR CODE HERE\n",
    "    raise NotImplementedError()\n",
    "f()"
   ]
  },
  {
   "cell_type": "code",
   "execution_count": null,
   "metadata": {
    "deletable": false,
    "editable": false,
    "nbgrader": {
     "cell_type": "code",
     "checksum": "5d72882a31dd1228a36ff6ec6734ef8d",
     "grade": true,
     "grade_id": "cell-823f4ddc902e7b21",
     "locked": true,
     "points": 1,
     "schema_version": 3,
     "solution": false,
     "task": false
    }
   },
   "outputs": [],
   "source": [
    "assert 'a aus f' in screen.stdout, 'make sure g is defined in proper domain!'"
   ]
  },
  {
   "cell_type": "markdown",
   "metadata": {
    "slideshow": {
     "slide_type": "-"
    }
   },
   "source": [
    "Sobald Sie aus einer Funktion heraus schreibend auf eine globale Variable zugreifen wollen, wird eine lokale Kopie der Variablen erzeugt. Der Wert der Variablen im globalen Kontext bleibt erhalten. Um auch verändernd auf den globalen Namensraum zugreifen zu können, gibt es das Schlüsselwort `global`."
   ]
  },
  {
   "cell_type": "markdown",
   "metadata": {
    "slideshow": {
     "slide_type": "subslide"
    }
   },
   "source": [
    "**Aufgabe 6**\n",
    "\n",
    "**Ändern Sie die Funktion f so um, dass das Resultat des Aufrufs `print(a)` im folgenden Code Abschnitt \"a aus f\" ist.**"
   ]
  },
  {
   "cell_type": "code",
   "execution_count": null,
   "metadata": {
    "slideshow": {
     "slide_type": "-"
    }
   },
   "outputs": [],
   "source": [
    "def f():\n",
    "    a = \"a aus f\"\n",
    "\n",
    "a = \"a aus main\"\n",
    "f()\n",
    "print(a)"
   ]
  },
  {
   "cell_type": "code",
   "execution_count": null,
   "metadata": {
    "deletable": false,
    "nbgrader": {
     "cell_type": "code",
     "checksum": "28341fed6fb22c4472691908258b1b91",
     "grade": false,
     "grade_id": "cell-c549f3ae486c687e",
     "locked": false,
     "schema_version": 3,
     "solution": true,
     "task": false
    },
    "slideshow": {
     "slide_type": "fragment"
    }
   },
   "outputs": [],
   "source": [
    "def f():\n",
    "    # YOUR CODE HERE\n",
    "    raise NotImplementedError()\n",
    "\n",
    "a = \"a aus main\"\n",
    "f()\n",
    "print(a)    "
   ]
  },
  {
   "cell_type": "code",
   "execution_count": null,
   "metadata": {
    "deletable": false,
    "editable": false,
    "nbgrader": {
     "cell_type": "code",
     "checksum": "bef2d77048f20833df092fb338f292fa",
     "grade": true,
     "grade_id": "cell-4db594722535bf27",
     "locked": true,
     "points": 1,
     "schema_version": 3,
     "solution": false,
     "task": false
    }
   },
   "outputs": [],
   "source": [
    "assert a == 'a aus f', 'Use `global a` to modify a outside the scope of f!'"
   ]
  },
  {
   "cell_type": "markdown",
   "metadata": {
    "slideshow": {
     "slide_type": "subslide"
    }
   },
   "source": [
    "Mit `global` greifen Sie immer auf den globalen Namensraum des Moduls zu. Es kann aber Fälle geben, in denen Sie nicht auf den globalen, sondern den nächst höheren Kontext zugreifen wollen. Dies kann über das Schlüsselwort `nonlocal` erreicht werden. Wenn Sie im folgenden Code Abschnitt `global` durch `nonlocal` ersetzen, erreichen Sie das gewünschte Verhalten."
   ]
  },
  {
   "cell_type": "code",
   "execution_count": null,
   "metadata": {
    "slideshow": {
     "slide_type": "-"
    }
   },
   "outputs": [],
   "source": [
    "def f():\n",
    "    a = \"Bitte überschreiben!\"\n",
    "    def g():\n",
    "        global a\n",
    "        a = \"Neues a\"\n",
    "    print(\"Altes a in f: \", a)\n",
    "    g()\n",
    "    print(\"Neues a in f: \", a)\n",
    "\n",
    "\n",
    "a = \"Bitte nicht überschreiben!\"\n",
    "f()\n",
    "print(a)"
   ]
  },
  {
   "cell_type": "markdown",
   "metadata": {
    "slideshow": {
     "slide_type": "slide"
    }
   },
   "source": [
    "## Anonyme Funktionen"
   ]
  },
  {
   "cell_type": "markdown",
   "metadata": {
    "slideshow": {
     "slide_type": "-"
    }
   },
   "source": [
    "In Python (wie auch in vielen anderen Programmiersprachen) ist es möglich, (Zeiger auf) Funktionen als Argumente an andere Funktionen zu übergeben. Normalerweise muss hierzu die zu übergebende Funktion zuvor definiert werden. Bei Funktionen mit nur sehr wenigen Anweisungen kann dies zu unübersichtlichen Code führen.  \n",
    "Anonyme Funktionen (oder auch *Lambda Funktionen*) bieten eine Möglichkeit, eine Funktion direkt in einem anderen Ausdruck anzugeben, ohne die Funktion selbst zuvor zu definieren. Eine Summenfunktion kann etwa mit dem Ausdruck `lambda x, y: x+y` beschrieben werden, besitzt aber in dieser Form keinen Namen.  "
   ]
  },
  {
   "cell_type": "markdown",
   "metadata": {
    "slideshow": {
     "slide_type": "subslide"
    }
   },
   "source": [
    "Es ist aber durchaus möglich, einer Lambda Funktion eine Variable zuzuweisen, über dessen Namen die Funktion im folgenden aufgerufen werden kann:"
   ]
  },
  {
   "cell_type": "code",
   "execution_count": null,
   "metadata": {
    "slideshow": {
     "slide_type": "-"
    }
   },
   "outputs": [],
   "source": [
    "s = lambda x, y: x+y\n",
    "s(4,5)"
   ]
  },
  {
   "cell_type": "markdown",
   "metadata": {
    "slideshow": {
     "slide_type": "subslide"
    }
   },
   "source": [
    "Eine \"generische Funktion\", die eine beliebige Funktion `f` auf 2 Argumente `a` und `b` anwendet und das Resultat zurückgibt, kann folgendermaßen beschrieben werden:"
   ]
  },
  {
   "cell_type": "code",
   "execution_count": null,
   "metadata": {
    "slideshow": {
     "slide_type": "-"
    }
   },
   "outputs": [],
   "source": [
    "def wasauchimmer(a,b,f):\n",
    "    return f(a,b)"
   ]
  },
  {
   "cell_type": "markdown",
   "metadata": {
    "slideshow": {
     "slide_type": "fragment"
    }
   },
   "source": [
    "Mittels anonymer Funktionen kann diese \"generische Funktion\" nun direkt benutzt werden, ohne die jeweiligen Funktionen `f` vorher zu definieren: "
   ]
  },
  {
   "cell_type": "code",
   "execution_count": null,
   "metadata": {
    "slideshow": {
     "slide_type": "-"
    }
   },
   "outputs": [],
   "source": [
    "wasauchimmer(4, 5, lambda x, y: x*y)"
   ]
  },
  {
   "cell_type": "markdown",
   "metadata": {
    "slideshow": {
     "slide_type": "subslide"
    }
   },
   "source": [
    "**Aufgabe 7**\n",
    "\n",
    "**Implementieren Sie die Funktion `mymap` im folgenden Code Abschnitt soweit aus, dass die Funktion `f` auf alle Elemente der Liste `l` angewendet wird. Die so berechneten Elemente sollen in einer neuen Liste zusammengefasst werden, welche als Resultat der Funktion zurückgegeben wird. Testen Sie die Funktion mit 2 verschiedenen Lambda Funktionen ($x\\mapsto{}x+1$ und $x\\mapsto{}x^2$).**"
   ]
  },
  {
   "cell_type": "code",
   "execution_count": null,
   "metadata": {
    "deletable": false,
    "nbgrader": {
     "cell_type": "code",
     "checksum": "4f9d768e037399bc1c06544ff7d37eb8",
     "grade": false,
     "grade_id": "cell-ed28b3262fff3d34",
     "locked": false,
     "schema_version": 3,
     "solution": true,
     "task": false
    },
    "slideshow": {
     "slide_type": "subslide"
    }
   },
   "outputs": [],
   "source": [
    "def mymap(l, f):\n",
    "    # YOUR CODE HERE\n",
    "    raise NotImplementedError()\n",
    "\n",
    "l = []\n",
    "for z in range(10): l.append(z)\n",
    "print(l)\n",
    "print(mymap(l, lambda x: x+1))\n",
    "print(mymap(l, lambda x: x*x))"
   ]
  },
  {
   "cell_type": "code",
   "execution_count": null,
   "metadata": {
    "deletable": false,
    "editable": false,
    "nbgrader": {
     "cell_type": "code",
     "checksum": "5de38c0a9362a87844df6949954bfe49",
     "grade": true,
     "grade_id": "cell-adb875fe5cdcfdcf",
     "locked": true,
     "points": 1,
     "schema_version": 3,
     "solution": false,
     "task": false
    }
   },
   "outputs": [],
   "source": [
    "assert type(mymap([0],lambda x:x)) is list, 'output should be a list with output of lambda on each element of l!'\n",
    "assert len(mymap(l,lambda x:x)) == len(l), 'l and mymap output should be the same length!'\n",
    "assert mymap(l, lambda x: x+1) == [1, 2, 3, 4, 5, 6, 7, 8, 9, 10]\n",
    "assert mymap(l, lambda x: x*x) == [0, 1, 4, 9, 16, 25, 36, 49, 64, 81]"
   ]
  }
 ],
 "metadata": {
  "kernelspec": {
   "display_name": "Python 3",
   "language": "python",
   "name": "python3"
  },
  "language_info": {
   "codemirror_mode": {
    "name": "ipython",
    "version": 3
   },
   "file_extension": ".py",
   "mimetype": "text/x-python",
   "name": "python",
   "nbconvert_exporter": "python",
   "pygments_lexer": "ipython3",
   "version": "3.7.3"
  }
 },
 "nbformat": 4,
 "nbformat_minor": 4
}
