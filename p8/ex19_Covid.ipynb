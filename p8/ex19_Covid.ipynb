{
 "cells": [
  {
   "cell_type": "markdown",
   "id": "distinguished-recorder",
   "metadata": {},
   "source": [
    "<figure>\n",
    "  <IMG SRC=\"https://upload.wikimedia.org/wikipedia/commons/thumb/d/d5/Fachhochschule_Südwestfalen_20xx_logo.svg/320px-Fachhochschule_Südwestfalen_20xx_logo.svg.png\" WIDTH=250 ALIGN=\"right\">\n",
    "</figure>\n",
    "\n",
    "# Skriptsprachen\n",
    "### Sommersemester 2021\n",
    "Prof. Dr. Heiner Giefers"
   ]
  },
  {
   "cell_type": "markdown",
   "id": "657bffd5",
   "metadata": {},
   "source": [
    "# Covid-19 Daten visualisieren\n",
    "\n",
    "In dieser kleinen Aufgabe geht es darum, die weltweiten Covid-19 Zahlen zu visualisieren.\n",
    "Wir wollen die die Daten von einer URL herunterladen und als *Pandas DataFrame* anlegen.\n",
    "Damit können wir die Daten vorverarbeiten und schließlich auch plotten."
   ]
  },
  {
   "cell_type": "code",
   "execution_count": null,
   "id": "21265981",
   "metadata": {},
   "outputs": [],
   "source": [
    "import numpy as np\n",
    "import csv\n",
    "import requests\n",
    "import io\n",
    "import pandas as pd\n",
    "import plotly.express as px\n",
    "import geojson"
   ]
  },
  {
   "cell_type": "code",
   "execution_count": null,
   "id": "953f7531",
   "metadata": {},
   "outputs": [],
   "source": [
    "url = \"https://covid.ourworldindata.org/data/owid-covid-data.csv\"\n",
    "s=requests.get(url).content\n",
    "df=pd.read_csv(io.StringIO(s.decode('utf-8')))"
   ]
  },
  {
   "cell_type": "code",
   "execution_count": null,
   "id": "b4deee02",
   "metadata": {},
   "outputs": [],
   "source": [
    "print(f\"Die Anzahl aller Einträge ist {df.size}\")   "
   ]
  },
  {
   "cell_type": "markdown",
   "id": "a52cf28e",
   "metadata": {},
   "source": [
    "Um sich einen ersten Eindruck von der Tabelle zu machen, kann man eine Reihe von Pandas-Methoden aufrufen:\n",
    "- `df.head(k)` zeigt die ersten `k` Einträge der Tabelle. Sie werden sehen, dass die Daten nach Ländern sortiert sind\n",
    "- `df.info()` zeigt Informationen zu den Spalten der Tabelle\n",
    "- `df.describe()` Gibt einige statistische Kennzahlen zu den Daten aus"
   ]
  },
  {
   "cell_type": "code",
   "execution_count": null,
   "id": "30849314",
   "metadata": {},
   "outputs": [],
   "source": [
    "df.head(10)"
   ]
  },
  {
   "cell_type": "markdown",
   "id": "86d58e46",
   "metadata": {},
   "source": [
    "Wenn Sie die Daten nach einer anderen Spalte sortieren wollen, geht das mit der `sort_by_values` Methode:"
   ]
  },
  {
   "cell_type": "code",
   "execution_count": null,
   "id": "6b1f9b3d",
   "metadata": {},
   "outputs": [],
   "source": [
    "df_date = df.sort_values(by='date')\n",
    "df_date"
   ]
  },
  {
   "cell_type": "markdown",
   "id": "81134daa",
   "metadata": {},
   "source": [
    "Wir wollen nun das in Deutschland häufig verwendete Maß der *7-Tage Inzidenz* darstellen. Dieses ist in der Tabelle aber nicht direkt enthalten.\n",
    "Wir können es allerdings aus den neuen Fällen pro Tag berechnen. Um eine Normalisierung gemäß der Einwohnerzahlen zu erreichen, verwendenden wir die Spalte `new_cases_per_million`.\n",
    "Diese kann allerdings fehlende Werte enthalten, z.B. weil für einige Länder an bestimmten Tagen keine Daten vorlagen.\n",
    "Um diese fehlenden Werte zu *schätzen*, interpolieren wir. D.h. wir nehmen an, bei einer *Lücke* würden sie Werte linear fortlaufen. Also bei der folge `1, 2, 3, NaN, 7, 8, 9` würde das `NaN` durch `5` ersetzt.\n",
    "\n",
    "Nun gibt es noch ein weiteres Problem: Wir haben die Tabelle nach Daten sortiert, alle Länder stehen also vermischt in der Tabelle.\n",
    "Beim Aufsummieren der *7-Tage-Inzidenz* sollen aber natürlich nur Daten innerhalb eines Landes betrachtet werden.\n",
    "Um dies zu erreichen, können wir die `groupby`-Methode verwenden.\n",
    "Als Parameter erfhält `groupby` eine Funktion, die auf die gruppierten Daten angewendet wird.\n",
    "\n",
    "**Aufgabe:** Implementieren Sie die Funktion `berechne_inzidenz(x)`, die dem DataFrame `x` eine Spalte `Inzidenz` hinzufügt. Dazu soll zuerst die Spalte `new_cases_per_million` mit der Funktion `interpolate()` interpoliert werden. Anschließend soll die 7-Tage Inzidenz ausgerechnet werden. Sie können dazu die Methode `rolling(k)` verwenden, die ein gleitendes *Fenster* über `k`-Werte der Spalte liefert."
   ]
  },
  {
   "cell_type": "code",
   "execution_count": null,
   "id": "6b8307ff",
   "metadata": {
    "deletable": false,
    "nbgrader": {
     "cell_type": "code",
     "checksum": "ee710a9c8de8b063a06f9b5b6c8ec7a1",
     "grade": true,
     "grade_id": "cell-d4ebfcfed7bac650",
     "locked": false,
     "points": 0,
     "schema_version": 3,
     "solution": true,
     "task": false
    }
   },
   "outputs": [],
   "source": [
    "# Falsche Werte aussortieren\n",
    "indexEntries = df_date[df_date['new_cases_per_million'] < 0 ].index\n",
    "df_cleaned = df_date.drop(indexEntries)\n",
    "\n",
    "def berechne_inzidenz(x):\n",
    "    # YOUR CODE HERE\n",
    "    raise NotImplementedError()\n",
    "    return x\n",
    "    \n",
    "df_cleaned = df_cleaned.groupby('iso_code').apply(berechne_inzidenz)"
   ]
  },
  {
   "cell_type": "markdown",
   "id": "6c75a758",
   "metadata": {},
   "source": [
    "Nun können wir die Inzidenz-Werte anzeigen.\n",
    "Dafür eignet sich gut eine Darstellung als Weltkarte, die wir z.B. mit der *Plotly* Methode `choropleth` erzeugen können."
   ]
  },
  {
   "cell_type": "code",
   "execution_count": null,
   "id": "d39e7b79",
   "metadata": {},
   "outputs": [],
   "source": [
    "fig = px.choropleth(df_cleaned, locations=\"iso_code\",\n",
    "                    color=\"Inzidenz\",\n",
    "                    #scope='europe',\n",
    "                    range_color = [0,200],\n",
    "                    hover_name=\"location\",\n",
    "                    animation_frame=\"date\",\n",
    "                    title = \"Corvid: weltweite 7-Tages Inzidenz\",\n",
    "                    color_continuous_scale=px.colors.sequential.Jet)\n",
    " \n",
    " \n",
    "fig[\"layout\"].pop(\"updatemenus\")\n",
    "fig.show()"
   ]
  },
  {
   "cell_type": "markdown",
   "id": "e5ea85ce",
   "metadata": {},
   "source": [
    "Um bestimmte Zeilen eines DataFrames herauszufiltern, kann man bei der Auswahl der Spalten Bedingungen angeben.\n",
    "So können wir z.B. die Werte aus Deutschland aus der Tabelle herausfiltern:"
   ]
  },
  {
   "cell_type": "code",
   "execution_count": null,
   "id": "b7718b6f",
   "metadata": {},
   "outputs": [],
   "source": [
    "df_de = df[df['iso_code']=='DEU']\n",
    "\n",
    "print(f\"Die Anzahl aller Einträge aus Deutschland ist {df_de.size}\")\n",
    "df_de.head()"
   ]
  },
  {
   "cell_type": "markdown",
   "id": "503b8565",
   "metadata": {},
   "source": [
    "**Aufgabe:** Plotten Sie die Inzidenz-Werte für Deutschland (`DEU`), Großbritannien (`GBR`) und USA (`USA`) in einen gemeinsamen Graphen.\n",
    "Verwenden sie dau die *Matplotlib*-Methode `plot()`."
   ]
  },
  {
   "cell_type": "code",
   "execution_count": null,
   "id": "cd34af76",
   "metadata": {
    "deletable": false,
    "nbgrader": {
     "cell_type": "code",
     "checksum": "66898431d7dbc5fb9dd4fd9651128a41",
     "grade": true,
     "grade_id": "cell-0f6d805a8467a625",
     "locked": false,
     "points": 0,
     "schema_version": 3,
     "solution": true,
     "task": false
    }
   },
   "outputs": [],
   "source": [
    "import matplotlib.pyplot as plt\n",
    "from matplotlib.ticker import MaxNLocator\n",
    "%matplotlib inline\n",
    "\n",
    "fig, axes = plt.subplots(1,1,figsize=(16,8))\n",
    "\n",
    "df_cleaned['dedate'] =  pd.to_datetime(df_cleaned.date).dt.strftime('%d.%m.%Y')\n",
    "# YOUR CODE HERE\n",
    "raise NotImplementedError()\n",
    "axes.xaxis.set_major_locator(MaxNLocator(15))\n",
    "plt.xticks(rotation = 45) \n",
    "plt.legend()\n",
    "plt.show()"
   ]
  },
  {
   "cell_type": "markdown",
   "id": "7aa3a789",
   "metadata": {},
   "source": [
    "## Datenquelle\n",
    "\n",
    "Die verwendeten Daten stammen von [_Our World in Data_](https://ourworldindata.org/) und wurden dem Git-Repository [https://github.com/owid/covid-19-data](https://github.com/owid/covid-19-data) entnommen\n",
    "\n",
    "Details zum Datensatz findet man in der folgenden Publikation:\n",
    "\n",
    "> Hasell, J., Mathieu, E., Beltekian, D. _et al._ A cross-country database of COVID-19 testing. _Sci Data_ **7**, 345 (2020). [https://doi.org/10.1038/s41597-020-00688-8](https://doi.org/10.1038/s41597-020-00688-8)\n",
    "\n"
   ]
  }
 ],
 "metadata": {
  "kernelspec": {
   "display_name": "Python 3",
   "language": "python",
   "name": "python3"
  },
  "language_info": {
   "codemirror_mode": {
    "name": "ipython",
    "version": 3
   },
   "file_extension": ".py",
   "mimetype": "text/x-python",
   "name": "python",
   "nbconvert_exporter": "python",
   "pygments_lexer": "ipython3",
   "version": "3.7.6"
  }
 },
 "nbformat": 4,
 "nbformat_minor": 5
}
