{
 "cells": [
  {
   "cell_type": "markdown",
   "id": "distinguished-recorder",
   "metadata": {},
   "source": [
    "<figure>\n",
    "  <IMG SRC=\"https://upload.wikimedia.org/wikipedia/commons/thumb/d/d5/Fachhochschule_Südwestfalen_20xx_logo.svg/320px-Fachhochschule_Südwestfalen_20xx_logo.svg.png\" WIDTH=250 ALIGN=\"right\">\n",
    "</figure>\n",
    "\n",
    "# Skriptsprachen\n",
    "### Sommersemester 2021\n",
    "Prof. Dr. Heiner Giefers"
   ]
  },
  {
   "cell_type": "markdown",
   "metadata": {},
   "source": [
    "# Einführung\n",
    "\n",
    "In diesem Modul wird es um das Thema Skriptsprachen gehen.\n",
    "Es stellt sich die Frage, was sind Skriptsprachen und vor allem, was unterscheidet Skriptsprachen von \"normalen\" Programmiersprachen?\n",
    "Tatsächlich ist der Begriff *Skriptsprache* nicht ganz eindeutig definiert.\n",
    "Es gibt aber einige charakteristische Eigenschaften, die man üblicherweise einer Skriptsprache zuordnet:\n",
    "\n",
    "**1. Skriptprogramme werden nicht in Maschinencode compiliert**\n",
    "\n",
    "Das bedeutet, dass ein Skriptprogramm auf einem Computer nicht allein lauffähig ist.\n",
    "Es benötigt immer eine Laufzeitumgebung, die das Programm auf einem konkreten Computer ausführt.\n",
    "Die Komponente der Laufzeitumgebung, die die Befehle des Skriptprogramms in Maschinencode übersetzt, nennt man Interpreter.\n",
    "\n",
    "Als Maschinencode eines Computers bezeichnet man diejenigen Befehle, die direkt vom Prozessor ausgeführt werden können.\n",
    "Je nach Prozessortyp ist dieser *Befehlssatz* unterschiedlich und daher sind Programme, die in Maschinencode kompiliert sind, nicht auf allen Computern lauffähig.\n",
    "Außerdem greifen kompilierte Programme auf Schnittstellenfunktionen des Betriebssystems zu und sind daher noch vom Typ und der Version des installierten Betriebssystems abhängig.\n",
    "\n",
    "Im Fall einer Skriptsprache ist die Laufzeitumgebung im Normalfall ein kompiliertes Programm, dass Sie vorab auf Ihrem Computer installieren müssen.\n",
    "Die Skriptprogramme selbst sind aber völlig unabhängig vom Computertyp und auch vom Betriebssystem, lassen sich also in gleicher Form auf verschiedenen *Zielplattformen* ausführen.\n",
    "Dieser Aspekt hat stark zur Verbreitung von Skriptsprachen geführt, denn ein Programmierer muss sich nicht darum Gedanken machen, ob sein Programm auf einem Windows oder Linux Betriebssystem läuft, oder ob die Architektur x86, ARM, oder irgend ein weiterer Prozessortyp ist.\n",
    "Wenn ein Interpreter für die Zielplattform existiert, kann auch das Skriptprogramm ausgeführt werden.\n",
    "\n",
    "Nach dieser Definition wäre auch Java eine Skriptsprache, denn Java-Programme sind auch nur innerhalb einer Java Virtuellen Maschine (der *JVM*) lauffähig.\n",
    "es gibt aber noch einen weiteren Aspekt, der typische Skriptsprachen ausmacht.\n",
    "\n",
    "**2. Skriptprogramme dienen häufig dazu, komplexere Aufgaben durch eine festgelegte Abfolge von Funktions- und Unterprogrammaufrufen zu automatisieren**\n",
    "\n",
    "Im einfachsten Fall sind Skiptprogramme Stapelverarbeitungsdateien (engl. *batch file*) die eine Abfolge von Befehlen enthalten, die als Sequenz durch den Kommandozeileninterpreter eines Betriebssystems ausgeführt werden.\n",
    "Auf Windows Systemen verbreitet ist die (aus MS-DOS-Zeiten stammende) Command Shell, die Skriptdateien, üblicherweise mit der Dateiendung `*.bat` verarbeiten kann.\n",
    "Das folgende Beispiel zeigt ein Batch-Skript, dass von einer Command-Shell aus aufgerufen kann.\n",
    "Die Shell *interpretiert*, also verarbeitet alle Befehle hintereinander.\n",
    "So wird z.B. mit `CLS` zuerst der Ausgabebildschirm gelöscht, danach wird die Farbgestaltung der Ausgabe verändert und die Ausgabe \"Hello, World\" mit einer zusätzlichen Leerzeile erzeugt. Mit `PAUSE` wartet man auf einen Tastendruck des Benutzers.\n",
    "Schließlich wird die Farbgebung wieder zurückgesetzt und das Skript (durch das erfolgreiche Abarbeiten des letzten Befehls) beendet.\n",
    "<!--- PowerShell --->\n",
    "```\n",
    "@ECHO OFF\n",
    "CLS\n",
    "COLOR 5E\n",
    "ECHO Hello, World\n",
    "ECHO.\n",
    "PAUSE\n",
    "COLOR 07\n",
    "```\n",
    "\n",
    "Die neuere Windows PowerShell ist ebenfalls Skript-fähig (engl. *scriptable*), die übliche Dateiendung ist hierbei `.ps`.\n",
    "Sehr verbreitet sind Shell-Skripte auf UNIX-artigen Betriebssystemen, wie etwa GNU/Linux.\n",
    "Bash-Skripte z.B., sollten Ihnen aus früheren Vorlesungen vertraut sein.\n",
    " \n",
    "Shell-Skripte für Kommandozeileninterpreter können auch Kontrollstrukturen (Bedingungen, Schleifen, etc.) enthalten und damit etwas komplexer sein.\n",
    "Sie dienen aber immer der automatisierten Hintereinanderausführung von Kommandozeilenbefehlen.\n",
    "Anders ist dies bei Skriptsprachen, die eher den Ansatz von Programmiersprache verfolgen.\n",
    "Die meisten Skriptsprachen besitzen zwar auch einen interaktiven Modus, d.h. es gibt eine Art Shell, in die der Benutzer eine Sequenz von Befehlen *interaktiv* eingeben kann, dies ist aber nicht der normale Anwendungsfall.\n",
    "Programme in Skriptsprachen wie etwa Python, Perl, PHP oder Ruby sind häufig deutlich umfangreicher als Shell-Skripte und enthalten komplexere Datenstrukturen."
   ]
  },
  {
   "cell_type": "markdown",
   "metadata": {},
   "source": [
    "## Vor- und Nachteile von Skriptsprachen\n",
    "\n",
    "Häufig werden Shell-Skripte und Skiptprogramme eingesetzt, um kleinere Aufgaben zu automatisieren.\n",
    "Da sie nicht zuerst kompiliert werden müssen, lassen sich Skripte schnell anpassen und sukzessive zur gewünschten Funktionalität ausbauen.\n",
    "Skriptprogramme sind äußerst portabel, sie lassen sich unverändert auf allen Plattformen ausführen, für die ein Interpreter der Sprache existiert.\n",
    "\n",
    "Ein Nachteil von Skriptsprachen ist, dass interpretierter Code deutlich (einer groben Schätzung nach ca. 100-mal) langsamer verarbeitet wird als in Maschinenbefehle kompilierter Code.\n",
    "Die einzelnen Anweisungen des Programms müssen zuerst vom Interpreter analysiert und *verstanden* werden, bevor sie ausgeführt werden können.\n",
    "\n",
    "Die Laufzeitumgebungen der meisten Skriptsprachen setzen aber verschiedene Tricks ein, um das Laufzeitproblem jedenfalls teilweise zu verbessern.\n",
    "Python, Perl, Ruby, PHP und viele weiter Skriptsprachen werden nicht direkt interpretiert, sondern zuerst in eine Zwischenrepräsentation, den sogenannten *Bytecode* übersetzt.\n",
    "Die Übersetzung beinhaltet, anders als z.B. beim Kompilieren eines C-Programms, wenige Analyse- und Optimierungsschritte, und kann daher relativ schnell durchgeführt werden.\n",
    "Der resultierende Binärcode ist allerdings deutlich effizienter interpretierbar als der ursprüngliche Quellcode, was die Abarbeitung des Programms im Normalfall deutlich beschleunigt.\n",
    "\n",
    "Manche Laufzeitumgebungen gehen sogar noch einen Schritt weiter und übersetzen den Binärcode zur Laufzeit des Programms in Maschinencode.\n",
    "Dieser Mehraufwand lohnt sich vor allem für diejenigen Programmstellen, die sehr häufig ausgeführt werden.\n"
   ]
  },
  {
   "cell_type": "markdown",
   "metadata": {},
   "source": [
    "## Python\n",
    "\n",
    "In diesem Modul werden wir uns hauptsächlich mit der Skriptsprache Python beschäftigen.\n",
    "Python ist eine sogenannte Multiparadigmensprache, was bedeutet, dass mehrerer Programmieransätze von der Sprache unterstützt werden.\n",
    "In Python kann man sowohl imperativ, als auch objektorientiert, funktional und aspektorientiert programmieren.\n",
    "Was das im einzelnen bedeutet, werden wir im Verlauf des Moduls noch genauer sehen.\n",
    "\n",
    "Die Sprache selbst frei verfügbar und der Sprachstandard ist open-source.\n",
    "Die Python Software Foundation steht als gemeinnützige Organisation hinter der Weiterentwicklung des Sprachstandards und der Referenzimplementation des Interpreters (CPython).\n",
    "\n",
    "Zu etwas Verwirrung führt gelegentlich die Tatsache, dass mit der Version 3.0 im Jahre 2008 der Python-Standard von Grund auf überarbeitet wurde und damit nicht mehr abwärtskompatibel ist.\n",
    "Das bedeutet, dass Python Programme, die den (heute immer noch verbreiteten) Standard 2.7 verwenden, nicht mehr mit Interpretern des neueren Standards ausgeführt werden können.\n",
    "\n",
    "Es steht bereits fest, dass die 2er-Version von Python im Jahr 2019 erscheinen wird und dass ab dem Jahr 2020 Python2 nicht mehr unterstützt werden soll.\n",
    "Wir werden daher aus guten Gründen in diesem Modul den neueren 3-er Standard der Sprache vorstellen und einsetzen.\n",
    "\n"
   ]
  },
  {
   "cell_type": "markdown",
   "metadata": {},
   "source": [
    "## Literatur und Lehrbuch\n",
    "Für dieses Modul werde ich Ihnen zu den einzelnen Themen Lehreinheiten (wie diese hier) zur Verfügung stellen.\n",
    "Zum tieferen Verständnis und weiteren Nachschlagen gibt es eine Vielzahl von Python3 Lehrbüchern, einige davon finden Sie als Print- oder Online-Ressource in der Bibliothek.\n",
    "\n",
    "Als Ersatz für den Lehrbrief dient das Lehrbuch **Ernesti und Kaiser, \"Python 3: Das umfassende Handbuch\", Rheinwerk 2018**, dass Sie in der Bibliothek ausleihen können.\n",
    "Ich werde Ihnen zu jedem Präsenztermin die Abschnitt aus dem Lehrbuch nennen, in denen die jeweiligen Themen vertieft erklärt werden.\n",
    "Das Buch enthält auch eine Vielzahl von Beispielen.\n",
    "Es ist sehr empfehlenswert, einige dieser Beispiele selbst auszuprobieren und abzuwandeln.\n",
    "So können Sie die Einzelheiten der Programmiersprache erproben und Praxiserfahrung sammeln."
   ]
  },
  {
   "cell_type": "markdown",
   "metadata": {},
   "source": [
    "### Auswahl und Installation einer Python-Distribution\n",
    "\n",
    "Eine Hauptinformationsquelle und der erste Anlaufpunkt zum Thema Python ist www.python.org.\n",
    "Dort finden Sie Links zum Sprachstandard, Dokumentationen und zur Referenzimplementation der Laufzeitumgebung mit dem Interpreter CPython.\n",
    "Da Python eine offene Sprache ist, gibt es aber noch weitere Implementationen der Sprache, eine Auswahl finden Sie auf wiki.python.org/moin/PythonDistributions.\n",
    "\n",
    "Eine Distribution, die sich in letzter Zeit besonderer Beliebtheit erfreut ist Anaconda [https://www.anaconda.com/distribution].\n",
    "Die Distribution beinhaltet u.a. die integrierte Entwicklungsumgebung (IDE)  Spyder, den Kommandozeileninterpreter IPython, das webbasierte Umgebung Jupyter, sowie mächtige Werkzeuge für die Installation und Verwaltung von zusätzlichen Softwarepaketen.\n",
    "\n",
    "Die Beispiele im Lehrbuch, sowie in den weiteren Lehrmaterialien verwenden die Anaconda Distribution.\n",
    "Um Kompatibilitätsproblemen  vorzubeugen, empfehle ich Ihnen, auf Ihren privaten Geräten ebenfalls die Anaconda distribution zu verwenden.\n"
   ]
  },
  {
   "cell_type": "markdown",
   "metadata": {},
   "source": [
    "**Aufgabe 1**\n",
    "\n",
    "**Installieren Sie eine Python Distribution, vorzugsweise Anaconda, auf Ihrem Notebook.**"
   ]
  },
  {
   "cell_type": "markdown",
   "metadata": {},
   "source": [
    "## Python im interaktiven Modus nutzen\n",
    "\n",
    "Rufen Sie das Programm `ipython` auf.\n",
    "Wenn Sie einen Anaconda auf einem Windows Computer installiert haben, finden Sie ein ausführbares Programm *ipython.exe* standardmäßig unter folgendem Dateipfad: `C:\\Users\\<Benutzername>\\Anaconda3\\Scripts\\`.\n",
    "Bei der Installation fügt Anaconda normalerweise das `Scripts`-Verzeichnis Ihrem Suchpfad hinzu, sodass die Programme von überall aus (also z.B. über die Windows-Suche) starten können.\n",
    "\n",
    "Ebenfalls in der Anaconda Distribution mitgeliefert, ist die Standard Python Shell, die Sie mit dem Kommando `python.exe` aufrufen können.\n",
    "Im Vergleich dazu bietet ihnen die ipython Shell eine farbige Hervorhebung von Schlüsselwörtern, eine formatierte Code-Darstellung und Auto-Vervollständigung.\n",
    "Für die ersten Schritte in Python bietet es sich an, die interaktive Shell zu verwenden.\n",
    "\n",
    "<br>\n",
    "<br>\n",
    "<figure>\n",
    "  <IMG SRC=\"ipython.png\" WIDTH=800 ALIGN=\"center\">\n",
    "</figure>\n",
    "<br>\n",
    "    \n"
   ]
  },
  {
   "cell_type": "markdown",
   "metadata": {},
   "source": [
    "**Aufgabe 2**\n",
    "\n",
    "**Starten Sie eine interaktive Python Shell und benutzten Sie sie als Taschenrechner.\n",
    "Was passiert, wenn Sie das Zeichen `_` anstelle eines Operanden verwenden?**"
   ]
  },
  {
   "cell_type": "markdown",
   "metadata": {},
   "source": [
    "## Python Skripte\n",
    "\n",
    "Die interaktive Python-Shell ist im Grunde nichts anderes als ein Konsolenprogramm, dass Ihre Kommandos an den Python-Interpreter weiterleitet und dessen Ausgaben anzeigt.\n",
    "Neben der interaktiven Verarbeitung können aber auch Anweisungen in einer Datei zusammengefasst werden und als Ganzes an den Interpreter übergeben werden.\n",
    "Diese Dateien werden dann auch Skriptdatei oder kurz, Skript genannt.\n",
    "Im Fall von Python ist die Dateiendung `.py` üblich, aber nicht vorgeschrieben.\n",
    "Der Name des Skripts wird normalerweise als Argument an den Interpreter übergeben, als z.B. `python.exe myscript.py`.\n",
    "\n",
    "Auf UNIX-artigen Betriebssystemen ist es möglich und üblich, am Anfang der Skriptdatei den zur Ausführung benötigten Interpreter über einen sogenannten *Shebang* (oder auch *Hashbang*) anzugeben.\n",
    "Wenn man das Skript selbst, als ausführbares Programm in einer UNIX-Shell startet, so wird zuerst über das Kommando nach den beiden Zeichen `#!` die Ausführungsumgebung gestartet und dann das Skript als Argument an diese Umgebung übergeben.\n",
    "Folgendes Beispiel zeigt ein einfaches Python-Skript, das die Versionsnummer des Interpreters auf der Kommandozeile ausgibt:\n",
    "\n",
    "```python\n",
    "#!/usr/bin/env python\n",
    "import sys\n",
    "print(sys.version)\n",
    "```"
   ]
  },
  {
   "cell_type": "markdown",
   "metadata": {},
   "source": [
    "### Python Notebooks\n",
    "\n",
    "Jupyter Notebook ist eine Webanwendung, die eine grafische Benutzeroberfläche für Python (und andere Programmier-/Skriptsprachen) bietet.\n",
    "Notebooks sind Dokumente die aus einer Folge von Zellen bestehen und einem Ausführungskernel zugeordnet sind.\n",
    "Häufig wird als Kernel ein Python Interpreter verwendet, Jupyter unterstützt aber eine Reihe weiterer [Kernels](https://github.com/jupyter/jupyter/wiki/Jupyter-kernels).\n",
    "Die einzelnen Zellen sind unterschiedlichen Typen zugeordnet, die wichtigsten Typen sind Code-Zellen und Markdown-Zellen.\n",
    "Code-Zellen werden durch Drückern der Tastenkombination *Umschalttaste+Enter* (oder durch Klicken des *Run*-Buttons) auf dem assoziierten Kernel ausgeführt.\n",
    "Markdown-Zellen enthalten neben reinem Text noch Formatierungsanweisungen; sie werden ebenso wie Code-Zellen durch *Umschalttaste+Enter* bestätigt und daraufhin vom Jupyter System gerendert.\n",
    "Die [Markdown Syntax](https://jupyter-notebook.readthedocs.io/en/stable/examples/Notebook/Working%20With%20Markdown%20Cells.html) ist relativ leicht zu erlernen, bietet aber gleichzeitig alle wichtigen Funktionen zum Erstellen optisch ansprechender Dokumente.\n",
    "\n",
    "<br>\n",
    "<br>\n",
    "<figure>\n",
    "  <IMG SRC=\"notebooks.png\" WIDTH=800 ALIGN=\"center\">\n",
    "</figure>\n",
    "<br>"
   ]
  },
  {
   "cell_type": "markdown",
   "metadata": {},
   "source": [
    "**Aufgabe 3**\n",
    "\n",
    "**Öffnen Sie dieses Notebook in Jupyter. Schreiben Sie einige Zeilen Python Code in die folgende Code-Zelle und führen Sie den Code aus.**"
   ]
  },
  {
   "cell_type": "code",
   "execution_count": null,
   "metadata": {},
   "outputs": [],
   "source": []
  }
 ],
 "metadata": {
  "kernelspec": {
   "display_name": "Python 3",
   "language": "python",
   "name": "python3"
  },
  "language_info": {
   "codemirror_mode": {
    "name": "ipython",
    "version": 3
   },
   "file_extension": ".py",
   "mimetype": "text/x-python",
   "name": "python",
   "nbconvert_exporter": "python",
   "pygments_lexer": "ipython3",
   "version": "3.7.3"
  }
 },
 "nbformat": 4,
 "nbformat_minor": 2
}
