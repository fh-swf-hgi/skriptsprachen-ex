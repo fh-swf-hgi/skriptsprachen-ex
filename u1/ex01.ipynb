{
 "cells": [
  {
   "cell_type": "markdown",
   "metadata": {},
   "source": [
    "<figure>\n",
    "  <IMG SRC=\"https://upload.wikimedia.org/wikipedia/commons/thumb/d/d5/Fachhochschule_Südwestfalen_20xx_logo.svg/320px-Fachhochschule_Südwestfalen_20xx_logo.svg.png\" WIDTH=250 ALIGN=\"right\">\n",
    "</figure>\n",
    "\n",
    "# Skriptsprachen\n",
    "### Sommersemester 2021\n",
    "Prof. Dr. Heiner Giefers"
   ]
  },
  {
   "cell_type": "markdown",
   "metadata": {},
   "source": [
    "# Aufgabenblatt 1"
   ]
  },
  {
   "cell_type": "markdown",
   "metadata": {},
   "source": [
    "## Aufgabe 1: Formatierung\n",
    "\n",
    "Warum benötigt z. B. eine for-Schleife der Form\n",
    "\n",
    "```python\n",
    "for i in range (1, 10):\n",
    "    print (i)\n",
    "    print (i, \"mal 2 ist\", i*2)\n",
    "```\n",
    "keine geschweiften Klammern, Schlüsselwörter begin und end oder andere syntaktische Hilfsmittel, um zu erkennen, welche Befehle innerhalb der Schleife ausgeführt werden sollen?"
   ]
  },
  {
   "cell_type": "markdown",
   "metadata": {},
   "source": [
    "*Tragen Sie hier Ihre Lösung ein*"
   ]
  },
  {
   "cell_type": "markdown",
   "metadata": {},
   "source": [
    "## Aufgabe 2: Bash-Skript in Python Skript umwandeln\n",
    "\n",
    "Wandeln Sie das folgende Shell-Skript, das die Fakultät $i!$ für die Werte $𝑖 \\in \\{1, 2, \\dots, 20\\}$ berechnet, in ein Python-Skript um:\n",
    "\n",
    "```bash\n",
    "for i in $( seq 1 20 ); do\n",
    "  count=$i; ergebnis=1\n",
    "  while [ $count -gt 1 ]; do\n",
    "    ergebnis=$((ergebnis * count))\n",
    "    count=$((count-1))\n",
    "  done\n",
    "  echo \"fakultaet\" $i \"=\" $ergebnis\n",
    "done\n",
    "```"
   ]
  },
  {
   "cell_type": "code",
   "execution_count": null,
   "metadata": {
    "deletable": false,
    "nbgrader": {
     "cell_type": "code",
     "checksum": "e0f538218f33fc76b8931419fc02f97e",
     "grade": false,
     "grade_id": "cell-c3ed84867410823a",
     "locked": false,
     "schema_version": 3,
     "solution": true,
     "task": false
    }
   },
   "outputs": [],
   "source": [
    "# YOUR CODE HERE\n",
    "raise NotImplementedError()"
   ]
  },
  {
   "cell_type": "code",
   "execution_count": null,
   "metadata": {
    "deletable": false,
    "editable": false,
    "nbgrader": {
     "cell_type": "code",
     "checksum": "aa3fd891f74d7014452d4a0c58e31445",
     "grade": true,
     "grade_id": "cell-026b282fd4ee3bd5",
     "locked": true,
     "points": 1,
     "schema_version": 3,
     "solution": false,
     "task": false
    }
   },
   "outputs": [],
   "source": [
    "assert i == 20, 'range function does not include the upper limit'\n",
    "assert ergebnis == 243290200817664e4, 'factorial of 20 is incorrect'\n",
    "assert count == 1, 'count should reduce to 1'\n",
    "if '%(' not in _i.replace(' ',''):\n",
    "    print('Pass your variables in a tuple to print statement')"
   ]
  },
  {
   "cell_type": "markdown",
   "metadata": {},
   "source": [
    "## Aufgabe 3: Gleichheit und Identität\n",
    "\n",
    "1. Testen Sie die beiden Vergleichsoperatoren `==` (Gleichheit) und `is` (Identität) mit folgenden Befehlen:\n",
    "\n",
    "```python\n",
    "a = 3\n",
    "b = 3\n",
    "a == b # Test auf Gleichheit, True oder False?\n",
    "a is b # Test auf Identität, True oder False?\n",
    "\n",
    "c = [3,4]\n",
    "d = [3,4]\n",
    "e = d\n",
    "c == d\n",
    "d == e\n",
    "c is d\n",
    "d is e\n",
    "```"
   ]
  },
  {
   "cell_type": "code",
   "execution_count": null,
   "metadata": {
    "deletable": false,
    "nbgrader": {
     "cell_type": "code",
     "checksum": "772051cfc167def2c0dfead5376f468f",
     "grade": false,
     "grade_id": "cell-a2a84a461a150adc",
     "locked": false,
     "schema_version": 3,
     "solution": true,
     "task": false
    }
   },
   "outputs": [],
   "source": [
    "# YOUR CODE HERE\n",
    "raise NotImplementedError()"
   ]
  },
  {
   "cell_type": "code",
   "execution_count": null,
   "metadata": {
    "deletable": false,
    "editable": false,
    "nbgrader": {
     "cell_type": "code",
     "checksum": "166bf5e84280a293387b79dffcff3640",
     "grade": true,
     "grade_id": "cell-af246e1bcd365cd4",
     "locked": true,
     "points": 0,
     "schema_version": 3,
     "solution": false,
     "task": false
    }
   },
   "outputs": [],
   "source": [
    "assert type(a) == int\n",
    "assert type(a) == int\n",
    "assert a is b, 'Try smaller integers'"
   ]
  },
  {
   "cell_type": "markdown",
   "metadata": {},
   "source": [
    "2. Sie haben das Ergebnis von `a is b` für den Fall `a=3` und `b=3` gesehen. Wiederholen Sie den Test für größere Werte von `a` und `b`. Fällt das Ergbenist von `a is b` immer gleich aus?"
   ]
  },
  {
   "cell_type": "code",
   "execution_count": null,
   "metadata": {
    "deletable": false,
    "nbgrader": {
     "cell_type": "code",
     "checksum": "fe48a0fda3735353ea9ec69f98cabff3",
     "grade": false,
     "grade_id": "cell-516ae13f0714dcc5",
     "locked": false,
     "schema_version": 3,
     "solution": true,
     "task": false
    }
   },
   "outputs": [],
   "source": [
    "# YOUR CODE HERE\n",
    "raise NotImplementedError()"
   ]
  },
  {
   "cell_type": "code",
   "execution_count": null,
   "metadata": {
    "deletable": false,
    "editable": false,
    "nbgrader": {
     "cell_type": "code",
     "checksum": "66469f5c19ff4570af494dc3d349d593",
     "grade": true,
     "grade_id": "cell-e2d206b5e6776880",
     "locked": true,
     "points": 1,
     "schema_version": 3,
     "solution": false,
     "task": false
    }
   },
   "outputs": [],
   "source": [
    "assert a == b, 'assign the same integer'\n",
    "assert a > 256, 'choose larger number'"
   ]
  },
  {
   "cell_type": "markdown",
   "metadata": {},
   "source": [
    "## Aufgabe 4: Divisionsoperator\n",
    "\n",
    "Wie unterscheiden sich die beiden Operatoren `/` und `//`?\n",
    "\n",
    "Rechnen Sie dazu mit Integern `5/3` und `5//3` sowie mit Float-Zahlen `5.0/3.0` und `5.0//3.0` aus."
   ]
  },
  {
   "cell_type": "code",
   "execution_count": null,
   "metadata": {},
   "outputs": [],
   "source": []
  },
  {
   "cell_type": "markdown",
   "metadata": {},
   "source": [
    "**Achtung:** Der Divisionsoperator `/` hat eine unterschiedliche Bedeutung in Python2.\n",
    "Dort ergibt `5/3 = 1`.\n",
    "\n",
    "Manchmal sehen Sie zu Begin eines Python Codes folgendes:\n",
    "```python\n",
    "from __future__ import division\n",
    "```\n",
    "Damit kann man für einzelne Aspekte (z.B. die Division) in Python2 das gleiche Verhalten erreichen wie in Python3."
   ]
  },
  {
   "cell_type": "code",
   "execution_count": null,
   "metadata": {},
   "outputs": [],
   "source": []
  },
  {
   "cell_type": "markdown",
   "metadata": {},
   "source": [
    "## Aufgabe 5: Zahlensysteme\n",
    "\n",
    "Für die häufig benötigten Zahlensysteme mit Basis 2, 8 und 16 können Sie in Python Zahlen mit den Präfixen `0b` (binär, Basis 2), `0o` (oktal, Basis 8) und `0x` (hexadezimal, Basis 16) darstellen (z. B. `0xa = 0o12 = 0b1010 = 10`). Alternativ verwenden Sie die int-Funktion, die einen String und die gewünschte Zahlenbasis als Parameter akzeptiert (z. B. `int(\"a\",16)` oder `int(\"1010\",2)` für hexadezimale und binäre Zahlen).\n",
    "\n",
    "Lassen Sie sich mit beiden Methoden (Präfix bzw. int-Funktion) die Dezimaldarstellungen der folgenden Zahlen ausgeben:\n",
    "- `10010101` (binär)\n",
    "- `7777` (oktal)\n",
    "- `c000` (hexadezimal)"
   ]
  },
  {
   "cell_type": "code",
   "execution_count": null,
   "metadata": {
    "deletable": false,
    "nbgrader": {
     "cell_type": "code",
     "checksum": "811bb9b7eabb24a369c6bd2c89717b24",
     "grade": false,
     "grade_id": "cell-4e845cd6f5cc5e66",
     "locked": false,
     "schema_version": 3,
     "solution": true,
     "task": false
    }
   },
   "outputs": [],
   "source": [
    "# YOUR CODE HERE\n",
    "raise NotImplementedError()"
   ]
  },
  {
   "cell_type": "code",
   "execution_count": null,
   "metadata": {
    "deletable": false,
    "editable": false,
    "nbgrader": {
     "cell_type": "code",
     "checksum": "ba794cceb84459f953c0ebf12ba23e06",
     "grade": true,
     "grade_id": "cell-bd3d248d37627184",
     "locked": true,
     "points": 1,
     "schema_version": 3,
     "solution": false,
     "task": false
    }
   },
   "outputs": [],
   "source": [
    "assert ('0b' or '0o' or '0x') in _i, 'Use one of three prefix'\n",
    "assert type(_) is int, 'cell output should be integer'"
   ]
  },
  {
   "cell_type": "code",
   "execution_count": null,
   "metadata": {},
   "outputs": [],
   "source": [
    "int(\"10010101\",2)"
   ]
  },
  {
   "cell_type": "code",
   "execution_count": null,
   "metadata": {
    "deletable": false,
    "editable": false,
    "nbgrader": {
     "cell_type": "code",
     "checksum": "82e51b97cd497e09b4a8b318d5b92ddb",
     "grade": true,
     "grade_id": "cell-4bd6c1a7445e8e29",
     "locked": true,
     "points": 1,
     "schema_version": 3,
     "solution": false,
     "task": false
    }
   },
   "outputs": [],
   "source": [
    "assert 'int(' in _i, 'use int function'\n",
    "assert type(_) is int, 'cell output should be integer'"
   ]
  },
  {
   "cell_type": "markdown",
   "metadata": {},
   "source": [
    "Umgekehrt können Sie über Format-Strings mit `%o` und `%x` Zahlen im Oktal- und Hexadezimalformat ausgeben. Testen Sie z. B.\n",
    "die folgenden Befehle:\n",
    "- `\"%x\" % 49152`\n",
    "- `\"%o\" % 18056`"
   ]
  },
  {
   "cell_type": "code",
   "execution_count": null,
   "metadata": {},
   "outputs": [],
   "source": []
  },
  {
   "cell_type": "markdown",
   "metadata": {},
   "source": [
    "Der Einsatz des Operators `%` gilt in Python 3 allerdings als veraltet – stattdessen wird hier die auf Strings anwendbare Methode `format()` verwendet, z. B. wie folgt:\n",
    "```\n",
    "formatstring = \"dezimal: {}, hex.: {:x}, oktal: {:o}, binär: {:b}\"\n",
    "w = 99\n",
    "formatstring.format (w,w,w,w)\n",
    "```"
   ]
  },
  {
   "cell_type": "markdown",
   "metadata": {},
   "source": [
    "Rufen Sie mit `help('FORMATTING')` die eingebaute Hilfe zur Formatierung auf und schauen Sie sich die Syntax und die am Ende\n",
    "gezeigten Beispiele an."
   ]
  },
  {
   "cell_type": "code",
   "execution_count": null,
   "metadata": {},
   "outputs": [],
   "source": []
  },
  {
   "cell_type": "markdown",
   "metadata": {},
   "source": [
    "# Aufgabe 6: Schleifen\n",
    "\n",
    "Programmieren Sie eine geschachtelte Schleife, die unten stehende Tabelle erzeugt.\n",
    "\n",
    "|   x   |   y   |   z   | x and y or ((y and z) and not x) |\n",
    "| ----- | ----- | ----- | -------------------- |\n",
    "| True  | True  | True  | True| \n",
    "| False  | True  | True  | True| \n",
    "| True  | False  | True  | False| \n",
    "| False  | False  | True  | False| \n",
    "| True  | True  | False  | True| \n",
    "| False  | True  | False  | False| \n",
    "| True  | False  | False  | False| \n",
    "| False  | False  | False  | False | \n"
   ]
  },
  {
   "cell_type": "code",
   "execution_count": null,
   "metadata": {
    "deletable": false,
    "nbgrader": {
     "cell_type": "code",
     "checksum": "db8ab401f879b77bc1acc899b283291e",
     "grade": false,
     "grade_id": "cell-9de9edb007024bca",
     "locked": false,
     "schema_version": 3,
     "solution": true,
     "task": false
    }
   },
   "outputs": [],
   "source": [
    "print(\"x\", \"\\t\", \"y\", \"\\t\", \"z\", \"\\t\", \"x and y or ((y and z) and not x)\")\n",
    "print('---------------------------------------------------------')\n",
    "# YOUR CODE HERE\n",
    "raise NotImplementedError()"
   ]
  },
  {
   "cell_type": "code",
   "execution_count": null,
   "metadata": {
    "deletable": false,
    "editable": false,
    "nbgrader": {
     "cell_type": "code",
     "checksum": "c986864c37896a2991d4a8f846c5e2a7",
     "grade": false,
     "grade_id": "cell-cbaa9a8ad814c9e0",
     "locked": true,
     "schema_version": 3,
     "solution": false,
     "task": false
    }
   },
   "outputs": [],
   "source": [
    "%%capture screen --no-stderr --no-display\n",
    "# rerunning the code in the last cell to capture the output\n",
    "c = _i\n",
    "exec(c)"
   ]
  },
  {
   "cell_type": "code",
   "execution_count": null,
   "metadata": {
    "deletable": false,
    "editable": false,
    "nbgrader": {
     "cell_type": "code",
     "checksum": "062b9bf70304f7425a79bfdf26f3c04c",
     "grade": true,
     "grade_id": "cell-2e1e33745a47e24e",
     "locked": true,
     "points": 1,
     "schema_version": 3,
     "solution": false,
     "task": false
    }
   },
   "outputs": [],
   "source": [
    "assert c.count('for')>2, 'Use nested loops'\n",
    "\n",
    "# str is converted to bool\n",
    "s = screen.stdout.split('\\n')\n",
    "s = [[i == 'True' for i in line.split()] for line in s[2:-1]]\n",
    "for i in s:\n",
    "    if ((i[0] and i[1]) or ((i[1] and i[2]) and not i[0])) != i[3]:\n",
    "        print('Results are not consistent!')\n",
    "        raise\n",
    "\n",
    "assert screen.stdout.count('\\t') > 24, 'Use \\\\t to seperate values'"
   ]
  },
  {
   "cell_type": "markdown",
   "metadata": {},
   "source": [
    "## Aufgabe 7: Dateien\n",
    "\n",
    "Schreiben Sie mehrere Strings als Zeilen in eine Datei und schließen Sie die Datei."
   ]
  },
  {
   "cell_type": "code",
   "execution_count": null,
   "metadata": {
    "deletable": false,
    "nbgrader": {
     "cell_type": "code",
     "checksum": "ce586747a9fbaf900516c174e46263b7",
     "grade": false,
     "grade_id": "cell-98b3d0ad08dea97e",
     "locked": false,
     "schema_version": 3,
     "solution": true,
     "task": false
    }
   },
   "outputs": [],
   "source": [
    "file_name = \"ausgabe.txt\"\n",
    "\n",
    "fobj = None #Use this variable for your file\n",
    "# YOUR CODE HERE\n",
    "raise NotImplementedError()"
   ]
  },
  {
   "cell_type": "code",
   "execution_count": null,
   "metadata": {
    "deletable": false,
    "editable": false,
    "nbgrader": {
     "cell_type": "code",
     "checksum": "211fc8ca606a972db4fd6692c1bb9d63",
     "grade": true,
     "grade_id": "cell-c6e009aa21f30a9b",
     "locked": true,
     "points": 1,
     "schema_version": 3,
     "solution": false,
     "task": false
    }
   },
   "outputs": [],
   "source": [
    "assert fobj.closed, 'File is not closed'\n",
    "try:\n",
    "    file = open(file_name, \"r\")\n",
    "    assert file.read().count('\\n')>2, '\"ausgabe.txt\" does not contain at least three lines'\n",
    "    file.close()\n",
    "except FileNotFoundError:\n",
    "    print('\"ausgabe.txt\" has not been created')\n",
    "    raise"
   ]
  },
  {
   "cell_type": "markdown",
   "metadata": {},
   "source": [
    "Öffnen Sie die Datei zum Lesen und geben Sie den Inhalt aus."
   ]
  },
  {
   "cell_type": "code",
   "execution_count": null,
   "metadata": {
    "deletable": false,
    "nbgrader": {
     "cell_type": "code",
     "checksum": "ea9b825e2a57612688ba4f9a20b8035d",
     "grade": false,
     "grade_id": "cell-07b94271a607a39c",
     "locked": false,
     "schema_version": 3,
     "solution": true,
     "task": false
    }
   },
   "outputs": [],
   "source": [
    "fobj = None\n",
    "# YOUR CODE HERE\n",
    "raise NotImplementedError()"
   ]
  },
  {
   "cell_type": "code",
   "execution_count": null,
   "metadata": {
    "deletable": false,
    "editable": false,
    "nbgrader": {
     "cell_type": "code",
     "checksum": "9e9458564421702d9bfefb9003b590c4",
     "grade": false,
     "grade_id": "cell-19a8949fc816a3f4",
     "locked": true,
     "schema_version": 3,
     "solution": false,
     "task": false
    }
   },
   "outputs": [],
   "source": [
    "%%capture screen --no-stderr --no-display\n",
    "# rerunning the code in the last cell to capture the output\n",
    "c = _i\n",
    "exec(c)"
   ]
  },
  {
   "cell_type": "code",
   "execution_count": null,
   "metadata": {
    "deletable": false,
    "editable": false,
    "nbgrader": {
     "cell_type": "code",
     "checksum": "7459cfbf4ad8574b4f360e860a3e0aab",
     "grade": true,
     "grade_id": "cell-ec00e685159461d9",
     "locked": true,
     "points": 1,
     "schema_version": 3,
     "solution": false,
     "task": false
    }
   },
   "outputs": [],
   "source": [
    "assert fobj.closed, 'File is not closed'\n",
    "assert screen.stdout.count('\\n')>2, 'Not all lines are printed'"
   ]
  },
  {
   "cell_type": "markdown",
   "metadata": {},
   "source": [
    "## Aufgabe 8: Funktionen\n",
    "\n",
    "Geben Sie die folgende Funktion mit unendlicher Rekursion in ipython ein und testen Sie sie durch Aufruf von `unendlich(0)`.\n",
    "```python\n",
    "def unendlich(n):\n",
    "    return unendlich(n+1)\n",
    "```"
   ]
  },
  {
   "cell_type": "code",
   "execution_count": null,
   "metadata": {
    "deletable": false,
    "nbgrader": {
     "cell_type": "code",
     "checksum": "f4d250bc6aec4d13151d4484bafaf20d",
     "grade": false,
     "grade_id": "cell-63f20cc0d8f4b0b3",
     "locked": false,
     "schema_version": 3,
     "solution": true,
     "task": false
    }
   },
   "outputs": [],
   "source": [
    "# YOUR CODE HERE\n",
    "raise NotImplementedError()"
   ]
  },
  {
   "cell_type": "markdown",
   "metadata": {},
   "source": [
    "Die Fibonacci-Funktion ist durch\n",
    "\n",
    "$\\large\n",
    "fib(n) = \n",
    "\\begin{cases}\n",
    "    0,& \\text{if } n = 0\\\\\n",
    "    1,& \\text{if } n = 1\\\\\n",
    "    fib (n–1) + fib (n–2), & \\text{if } n \\geq 2\n",
    "\\end{cases}$\n",
    "\n",
    "definiert. Betrachten Sie die folgenden zwei Implementierungen von `fib`:\n",
    "```python\n",
    "def fib_a(n):\n",
    "    if n == 0:\n",
    "        return 0\n",
    "    elif n == 1:\n",
    "        return 1\n",
    "    else:\n",
    "        return fib_a(n-1) + fib_a(n-2)\n",
    "```\n",
    "\n",
    "```python\n",
    "def fib_b(n):\n",
    "    (a,b) = (0,1)\n",
    "    for i in range(n):\n",
    "        (a,b) = (b,a+b)\n",
    "    return a\n",
    "```\n",
    "\n",
    "1. Welche der beiden Funktionen ist rekursiv?\n",
    "2. Geben Sie beide Funktionen in eine Code-Zelle ein und rufen Sie sie mit den Argumenten 20, 30 und 35 auf. Sie werden sehr unterschiedliche Laufzeiten beobachten. Haben Sie dafür eine Erklärung?"
   ]
  },
  {
   "cell_type": "code",
   "execution_count": null,
   "metadata": {
    "deletable": false,
    "nbgrader": {
     "cell_type": "code",
     "checksum": "5fe916420e9dfc40693e1a86c8272151",
     "grade": false,
     "grade_id": "cell-0455db3dc971ae3a",
     "locked": false,
     "schema_version": 3,
     "solution": true,
     "task": false
    }
   },
   "outputs": [],
   "source": [
    "# YOUR CODE HERE\n",
    "raise NotImplementedError()"
   ]
  },
  {
   "cell_type": "code",
   "execution_count": null,
   "metadata": {
    "deletable": false,
    "nbgrader": {
     "cell_type": "code",
     "checksum": "ecc7b0fc018a586220b4f5cd2f54f66a",
     "grade": false,
     "grade_id": "cell-d667e3a0b5606420",
     "locked": false,
     "schema_version": 3,
     "solution": true,
     "task": false
    }
   },
   "outputs": [],
   "source": [
    "# YOUR CODE HERE\n",
    "raise NotImplementedError()"
   ]
  },
  {
   "cell_type": "markdown",
   "metadata": {},
   "source": [
    "3. Schreiben Sie eine bessere rekursive Implementierung von fib, die ein Dictionary verwendet,\n",
    "welches als\n",
    "```python\n",
    "fib_dict = {}\n",
    "fib_dict[0] = 0\n",
    "fib_dict[1] = 1\n",
    "```\n",
    "initialisiert wird. Die neue Funktion fib_c() soll prüfen, ob der gesuchte Wert bereits im Dictionary enthalten ist – wenn ja, kann sie ihn einfach zurückgeben. (Zur Erinnerung: Ob ein Schlüssel / Key im Dictionary enthalten ist, testen Sie mit `key in dict`.) Wenn nicht, soll sie ihn rekursiv, also durch Aufruf von fib_c(), berechnen.\n",
    "4. Das Dictionary fib_dict deklarieren Sie außerhalb der Funktion. Warum ist das\n",
    "vorteilhaft?"
   ]
  },
  {
   "cell_type": "code",
   "execution_count": null,
   "metadata": {
    "deletable": false,
    "nbgrader": {
     "cell_type": "code",
     "checksum": "addc444750cb3028cafc71bc02f69435",
     "grade": false,
     "grade_id": "cell-9a396222d44ded2f",
     "locked": false,
     "schema_version": 3,
     "solution": true,
     "task": false
    }
   },
   "outputs": [],
   "source": [
    "fib_dict = {}\n",
    "fib_dict[0] = 0\n",
    "fib_dict[1] = 1\n",
    "\n",
    "def fib_c(n):\n",
    "    # YOUR CODE HERE\n",
    "    raise NotImplementedError()"
   ]
  },
  {
   "cell_type": "code",
   "execution_count": null,
   "metadata": {
    "deletable": false,
    "editable": false,
    "nbgrader": {
     "cell_type": "code",
     "checksum": "9aca3f9f1209d15484738e99a732c424",
     "grade": true,
     "grade_id": "cell-2dcea799bd9d4a77",
     "locked": true,
     "points": 1,
     "schema_version": 3,
     "solution": false,
     "task": false
    }
   },
   "outputs": [],
   "source": [
    "try:\n",
    "    fib_c(0)\n",
    "    fib_c(1)\n",
    "except:\n",
    "    print('add cases of 0 and 1')\n",
    "    raise\n",
    "\n",
    "test = [(0,0),(1,1),(10, 55),(20, 6765),(30, 832040)]\n",
    "assert not [a for a, b in test if fib_c(a) != b], 'Results are incorrect!'\n",
    "fib_c(30)"
   ]
  },
  {
   "cell_type": "markdown",
   "metadata": {},
   "source": [
    "## Aufgabe 9: Strings und Konvertierung\n",
    "\n",
    "Implementieren Sie eine Funktion `sternchen()`, die als Argument einen String oder eine Zahl akzeptiert. Sie soll als Rückgabewert einen String liefern, der vorne und hinten je drei Sternchen und dazwischen, durch Leerzeichen abgetrennt, den Parameter enthält. Also z. B.:\n",
    "```python\n",
    "sternchen(\"Hallo\") = \"*** Hallo ***\"\n",
    "sternchen(42) = \"*** 42 ***\"\n",
    "sternchen(4.123) = \"*** 4.123 ***\"\n",
    "```\n",
    "Sie können für die Umwandlung von Zahlen in Strings die Funktion `str()` verwenden, sollen diese aber nur aufrufen, wenn der Parameter kein String ist. Bei der Implementierung wird Ihnen die Funktion `type()` helfen."
   ]
  },
  {
   "cell_type": "code",
   "execution_count": null,
   "metadata": {
    "deletable": false,
    "nbgrader": {
     "cell_type": "code",
     "checksum": "850868bf39503eca9a125ce5894a4a62",
     "grade": false,
     "grade_id": "cell-eea9ddfde999dfcd",
     "locked": false,
     "schema_version": 3,
     "solution": true,
     "task": false
    }
   },
   "outputs": [],
   "source": [
    "def sternchen(x):\n",
    "    # YOUR CODE HERE\n",
    "    raise NotImplementedError()"
   ]
  },
  {
   "cell_type": "code",
   "execution_count": null,
   "metadata": {
    "deletable": false,
    "editable": false,
    "nbgrader": {
     "cell_type": "code",
     "checksum": "4a20c617ddfe7a71d522be06bb072ef5",
     "grade": true,
     "grade_id": "cell-a3fff1ffc95e35e0",
     "locked": true,
     "points": 1,
     "schema_version": 3,
     "solution": false,
     "task": false
    }
   },
   "outputs": [],
   "source": [
    "assert not [a for a in [15, 'Yes'] if sternchen(a) != f'*** {a} ***'], 'consider converting integers'\n",
    "sternchen(\"HAllo\")"
   ]
  },
  {
   "cell_type": "code",
   "execution_count": null,
   "metadata": {},
   "outputs": [],
   "source": []
  }
 ],
 "metadata": {
  "kernelspec": {
   "display_name": "Python 3",
   "language": "python",
   "name": "python3"
  },
  "language_info": {
   "codemirror_mode": {
    "name": "ipython",
    "version": 3
   },
   "file_extension": ".py",
   "mimetype": "text/x-python",
   "name": "python",
   "nbconvert_exporter": "python",
   "pygments_lexer": "ipython3",
   "version": "3.7.6"
  }
 },
 "nbformat": 4,
 "nbformat_minor": 4
}
