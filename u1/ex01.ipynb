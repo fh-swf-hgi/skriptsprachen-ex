{
 "cells": [
  {
   "cell_type": "markdown",
   "metadata": {},
   "source": [
    "# Aufgabenblatt 1"
   ]
  },
  {
   "cell_type": "code",
   "execution_count": 13,
   "metadata": {},
   "outputs": [
    {
     "name": "stdout",
     "output_type": "stream",
     "text": [
      "Collecting nose\n",
      "  Using cached https://files.pythonhosted.org/packages/15/d8/dd071918c040f50fa1cf80da16423af51ff8ce4a0f2399b7bf8de45ac3d9/nose-1.3.7-py3-none-any.whl\n",
      "Installing collected packages: nose\n",
      "\u001b[33m  WARNING: The scripts nosetests and nosetests-3.4 are installed in '/home/jupyter-giefers.heiner/.local/bin' which is not on PATH.\n",
      "  Consider adding this directory to PATH or, if you prefer to suppress this warning, use --no-warn-script-location.\u001b[0m\n",
      "Successfully installed nose-1.3.7\n"
     ]
    }
   ],
   "source": [
    "!pip install --user nose"
   ]
  },
  {
   "cell_type": "code",
   "execution_count": 14,
   "metadata": {},
   "outputs": [
    {
     "name": "stdout",
     "output_type": "stream",
     "text": [
      "ex00.ipynb  ex01.ipynb\tipython.png  notebooks.png\r\n"
     ]
    }
   ],
   "source": [
    "!ls"
   ]
  },
  {
   "cell_type": "markdown",
   "metadata": {},
   "source": [
    "## Aufgabe 1: Formatierung\n",
    "\n",
    "Warum benötigt z. B. eine for-Schleife der Form\n",
    "\n",
    "```python\n",
    "for i in range (1, 10):\n",
    "    print (i)\n",
    "    print (i, \"mal 2 ist\", i*2)\n",
    "```\n",
    "keine geschweiften Klammern, Schlüsselwörter `begin` und `end` oder andere syntaktische Hilfsmittel, um zu erkennen, welche Befehle innerhalb der Schleife ausgeführt werden sollen?"
   ]
  },
  {
   "cell_type": "markdown",
   "metadata": {},
   "source": [
    "## Aufgabe 2: Bash-Skript in Python Skript umwandeln\n",
    "\n",
    "Wandeln Sie das folgende Shell-Skript, das die Fakultät $i!$ für die Werte $𝑖 \\in \\{1, 2, \\dots, 20\\}$ berechnet, in ein Python-Skript um:\n",
    "\n",
    "```bash\n",
    "for i in $( seq 1 20 ); do\n",
    "  count=$i; ergebnis=1\n",
    "  while [ $count -gt 1 ]; do\n",
    "    ergebnis=$((ergebnis * count))\n",
    "    count=$((count-1))\n",
    "  done\n",
    "  echo \"fakultaet\" $i \"=\" $ergebnis\n",
    "done\n",
    "```"
   ]
  },
  {
   "cell_type": "code",
   "execution_count": 9,
   "metadata": {
    "deletable": false,
    "nbgrader": {
     "cell_type": "code",
     "checksum": "0db42638924f2f796a99754ae5dfdfbe",
     "grade": false,
     "grade_id": "cell-bcde31976cd6b7a0",
     "locked": false,
     "schema_version": 3,
     "solution": true,
     "task": false
    }
   },
   "outputs": [
    {
     "name": "stdout",
     "output_type": "stream",
     "text": [
      "fakultaet  1 =                    1\n",
      "fakultaet  2 =                    2\n",
      "fakultaet  3 =                    6\n",
      "fakultaet  4 =                   24\n",
      "fakultaet  5 =                  120\n",
      "fakultaet  6 =                  720\n",
      "fakultaet  7 =                 5040\n",
      "fakultaet  8 =                40320\n",
      "fakultaet  9 =               362880\n",
      "fakultaet 10 =              3628800\n",
      "fakultaet 11 =             39916800\n",
      "fakultaet 12 =            479001600\n",
      "fakultaet 13 =           6227020800\n",
      "fakultaet 14 =          87178291200\n",
      "fakultaet 15 =        1307674368000\n",
      "fakultaet 16 =       20922789888000\n",
      "fakultaet 17 =      355687428096000\n",
      "fakultaet 18 =     6402373705728000\n",
      "fakultaet 19 =   121645100408832000\n",
      "fakultaet 20 =  2432902008176640000\n"
     ]
    }
   ],
   "source": [
    "for i in range(1, 21):\n",
    "    count=i\n",
    "    ergebnis=1\n",
    "    while count > 1:\n",
    "        ergebnis=ergebnis * count\n",
    "        count=count-1\n",
    "    print(\"fakultaet %2d = %20d\" % (i, ergebnis))"
   ]
  },
  {
   "cell_type": "code",
   "execution_count": 7,
   "metadata": {
    "deletable": false,
    "editable": false,
    "nbgrader": {
     "cell_type": "code",
     "checksum": "dec8d3e969f89f9d048fecf9fe997eab",
     "grade": true,
     "grade_id": "cell-181c1e65c707c55d",
     "locked": true,
     "points": 0,
     "schema_version": 3,
     "solution": false,
     "task": false
    }
   },
   "outputs": [],
   "source": [
    "if '%(' not in _i.replace(' ',''):\n",
    "    print('Pass your variables in a tuple to print statement')"
   ]
  },
  {
   "cell_type": "code",
   "execution_count": 8,
   "metadata": {
    "deletable": false,
    "editable": false,
    "nbgrader": {
     "cell_type": "code",
     "checksum": "681d5dae124666f0bc6c1b3f8a6df53a",
     "grade": true,
     "grade_id": "cell-afff1b8ee835597a",
     "locked": true,
     "points": 1,
     "schema_version": 3,
     "solution": false,
     "task": false
    }
   },
   "outputs": [
    {
     "ename": "AssertionError",
     "evalue": "factorial of 20 is incorrect",
     "output_type": "error",
     "traceback": [
      "\u001b[0;31m---------------------------------------------------------------------------\u001b[0m",
      "\u001b[0;31mAssertionError\u001b[0m                            Traceback (most recent call last)",
      "\u001b[0;32m<ipython-input-8-87c0a3b7779b>\u001b[0m in \u001b[0;36m<module>\u001b[0;34m\u001b[0m\n\u001b[1;32m      1\u001b[0m \u001b[0;32massert\u001b[0m \u001b[0mi\u001b[0m \u001b[0;34m==\u001b[0m \u001b[0;36m20\u001b[0m\u001b[0;34m,\u001b[0m \u001b[0;34m'range function does not include the upper limit'\u001b[0m\u001b[0;34m\u001b[0m\u001b[0;34m\u001b[0m\u001b[0m\n\u001b[0;32m----> 2\u001b[0;31m \u001b[0;32massert\u001b[0m \u001b[0mergebnis\u001b[0m \u001b[0;34m==\u001b[0m \u001b[0;36m243290200817664e4\u001b[0m\u001b[0;34m,\u001b[0m \u001b[0;34m'factorial of 20 is incorrect'\u001b[0m\u001b[0;34m\u001b[0m\u001b[0;34m\u001b[0m\u001b[0m\n\u001b[0m\u001b[1;32m      3\u001b[0m \u001b[0;32massert\u001b[0m \u001b[0mcount\u001b[0m \u001b[0;34m==\u001b[0m \u001b[0;36m1\u001b[0m\u001b[0;34m,\u001b[0m \u001b[0;34m'count should reduce to 1'\u001b[0m\u001b[0;34m\u001b[0m\u001b[0;34m\u001b[0m\u001b[0m\n",
      "\u001b[0;31mAssertionError\u001b[0m: factorial of 20 is incorrect"
     ]
    }
   ],
   "source": [
    "assert i == 20, 'range function does not include the upper limit'\n",
    "assert ergebnis == 243290200817664e4, 'factorial of 20 is incorrect'\n",
    "assert count == 1, 'count should reduce to 1'"
   ]
  },
  {
   "cell_type": "markdown",
   "metadata": {},
   "source": [
    "## Aufgabe 3: Gleichheit und Identität\n",
    "\n",
    "1. Testen Sie die beiden Vergleichsoperatoren `==` (Gleichheit) und `is` (Identität) mit folgenden Befehlen:\n",
    "\n",
    "```python\n",
    "a = 3\n",
    "b = 3\n",
    "a == b # Test auf Gleichheit, True oder False?\n",
    "a is b # Test auf Identität, True oder False?\n",
    "\n",
    "c = [3,4]\n",
    "d = [3,4]\n",
    "e = d\n",
    "c == d\n",
    "d == e\n",
    "c is d\n",
    "d is e\n",
    "```"
   ]
  },
  {
   "cell_type": "code",
   "execution_count": 10,
   "metadata": {
    "deletable": false,
    "nbgrader": {
     "cell_type": "code",
     "checksum": "66b6fc2f698d07e2dd4b3de3e5e1ef5e",
     "grade": false,
     "grade_id": "cell-67520b0215c0edde",
     "locked": false,
     "schema_version": 3,
     "solution": true,
     "task": false
    }
   },
   "outputs": [],
   "source": [
    "a = 3\n",
    "b = 3"
   ]
  },
  {
   "cell_type": "code",
   "execution_count": 11,
   "metadata": {
    "deletable": false,
    "editable": false,
    "nbgrader": {
     "cell_type": "code",
     "checksum": "3f0814dfbe143fd4a4be04a40ac0262c",
     "grade": true,
     "grade_id": "cell-33b8663631304fb6",
     "locked": true,
     "points": 0,
     "schema_version": 3,
     "solution": false,
     "task": false
    }
   },
   "outputs": [],
   "source": [
    "assert type(a) == int\n",
    "assert type(a) == int\n",
    "assert a is b, 'Try smaller integers'"
   ]
  },
  {
   "cell_type": "markdown",
   "metadata": {},
   "source": [
    "2. Sie haben das Ergebnis von `a is b` für den Fall `a=3` und `b=3` gesehen. Wiederholen Sie den Test für größere Werte von `a` und `b`. Fällt das Ergebnis von `a is b` immer gleich aus?"
   ]
  },
  {
   "cell_type": "code",
   "execution_count": null,
   "metadata": {
    "deletable": false,
    "nbgrader": {
     "cell_type": "code",
     "checksum": "35f1452acd30408086ab2e1d2b95ac9b",
     "grade": false,
     "grade_id": "cell-05aa28e9ca5d755c",
     "locked": false,
     "schema_version": 3,
     "solution": true,
     "task": false
    }
   },
   "outputs": [],
   "source": [
    "# YOUR CODE HERE\n",
    "raise NotImplementedError()"
   ]
  },
  {
   "cell_type": "code",
   "execution_count": null,
   "metadata": {
    "deletable": false,
    "editable": false,
    "nbgrader": {
     "cell_type": "code",
     "checksum": "b00145d6f161b4d818069e1c67011c3f",
     "grade": true,
     "grade_id": "cell-8bcb82eba24b8c95",
     "locked": true,
     "points": 1,
     "schema_version": 3,
     "solution": false,
     "task": false
    }
   },
   "outputs": [],
   "source": [
    "assert a == b, 'assign the same integer'\n",
    "assert a > 256, 'choose larger number'"
   ]
  },
  {
   "cell_type": "markdown",
   "metadata": {},
   "source": [
    "## Aufgabe 4: Divisionsoperator\n",
    "\n",
    "Wie unterscheiden sich die beiden Operatoren `/` und `//`?\n",
    "\n",
    "Rechnen Sie dazu mit Integern `5/3` und `5//3` sowie mit Float-Zahlen `5.0/3.0` und `5.0//3.0` aus."
   ]
  },
  {
   "cell_type": "code",
   "execution_count": null,
   "metadata": {},
   "outputs": [],
   "source": []
  },
  {
   "cell_type": "markdown",
   "metadata": {},
   "source": [
    "**Achtung:** Der Divisionsoperator `/` hat eine unterschiedliche Bedeutung in Python2.\n",
    "Dort ergibt `5/3 = 1`.\n",
    "\n",
    "Manchmal sehen Sie zu Begin eines Python Codes folgendes:\n",
    "```python\n",
    "from __future__ import division\n",
    "```\n",
    "Damit kann man für einzelne Aspekte (z.B. die Division) in Python2 das gleiche Verhalten erreichen wie in Python3."
   ]
  },
  {
   "cell_type": "markdown",
   "metadata": {},
   "source": [
    "## Aufgabe 5: Zahlensysteme\n",
    "\n",
    "Für die häufig benötigten Zahlensysteme mit Basis 2, 8 und 16 können Sie in Python Zahlen mit den Präfixen `0b` (binär, Basis 2), `0o` (oktal, Basis 8) und `0x` (hexadezimal, Basis 16) darstellen (z. B. `0xa = 0o12 = 0b1010 = 10`). Alternativ verwenden Sie die int-Funktion, die einen String und die gewünschte Zahlenbasis als Parameter akzeptiert (z. B. `int(\"a\",16)` oder `int(\"1010\",2)` für hexadezimale und binäre Zahlen).\n",
    "\n",
    "Lassen Sie sich mit beiden Methoden (Präfix bzw. int-Funktion) die Dezimaldarstellungen der folgenden Zahlen ausgeben:\n",
    "- `10010101` (binär)\n",
    "- `7777` (oktal)\n",
    "- `c000` (hexadezimal)"
   ]
  },
  {
   "cell_type": "code",
   "execution_count": null,
   "metadata": {
    "deletable": false,
    "nbgrader": {
     "cell_type": "code",
     "checksum": "2d384af999b29967a2db8f61edaa6c34",
     "grade": false,
     "grade_id": "cell-959f50da2c18a4a6",
     "locked": false,
     "schema_version": 3,
     "solution": true,
     "task": false
    }
   },
   "outputs": [],
   "source": [
    "# YOUR CODE HERE\n",
    "raise NotImplementedError()"
   ]
  },
  {
   "cell_type": "code",
   "execution_count": null,
   "metadata": {
    "deletable": false,
    "editable": false,
    "nbgrader": {
     "cell_type": "code",
     "checksum": "4cb2805236064f4d870913f3c8fc6087",
     "grade": true,
     "grade_id": "cell-7e8dc178559ed38b",
     "locked": true,
     "points": 0,
     "schema_version": 3,
     "solution": false,
     "task": false
    }
   },
   "outputs": [],
   "source": [
    "assert ('0b' or '0o' or '0x') in _i, 'Use one of three prefix'\n",
    "assert type(_) is int, 'cell output should be integer'"
   ]
  },
  {
   "cell_type": "code",
   "execution_count": null,
   "metadata": {
    "deletable": false,
    "nbgrader": {
     "cell_type": "code",
     "checksum": "cfcbd5c58f1699e1cde85eb37e942924",
     "grade": false,
     "grade_id": "cell-dc7cd373b78cd8cb",
     "locked": false,
     "schema_version": 3,
     "solution": true,
     "task": false
    }
   },
   "outputs": [],
   "source": [
    "# YOUR CODE HERE\n",
    "raise NotImplementedError()"
   ]
  },
  {
   "cell_type": "code",
   "execution_count": null,
   "metadata": {
    "deletable": false,
    "editable": false,
    "nbgrader": {
     "cell_type": "code",
     "checksum": "5a7f85463f536941230e2c3e099f9fec",
     "grade": true,
     "grade_id": "cell-66a2150df1a514ac",
     "locked": true,
     "points": 0,
     "schema_version": 3,
     "solution": false,
     "task": false
    }
   },
   "outputs": [],
   "source": [
    "assert 'int(' in _i, 'use int function'\n",
    "assert type(_) is int, 'cell output should be integer'"
   ]
  },
  {
   "cell_type": "markdown",
   "metadata": {},
   "source": [
    "Umgekehrt können Sie über Format-Strings mit `%o` und `%x` Zahlen im Oktal- und Hexadezimalformat ausgeben. Testen Sie z. B.\n",
    "die folgenden Befehle:\n",
    "- `\"%x\" % 49152`\n",
    "- `\"%o\" % 18056`"
   ]
  },
  {
   "cell_type": "code",
   "execution_count": null,
   "metadata": {},
   "outputs": [],
   "source": []
  },
  {
   "cell_type": "markdown",
   "metadata": {},
   "source": [
    "Der Einsatz des Operators `%` gilt in Python 3 allerdings als veraltet – stattdessen wird hier die auf Strings anwendbare Methode `format()` verwendet, z. B. wie folgt:\n",
    "```\n",
    "formatstring = \"dezimal: {}, hex.: {:x}, oktal: {:o}, binär: {:b}\"\n",
    "w = 99\n",
    "formatstring.format (w,w,w,w)\n",
    "```"
   ]
  },
  {
   "cell_type": "markdown",
   "metadata": {},
   "source": [
    "Rufen Sie mit `help('FORMATTING')` die eingebaute Hilfe zur Formatierung auf und schauen Sie sich die Syntax und die am Ende\n",
    "gezeigten Beispiele an."
   ]
  },
  {
   "cell_type": "code",
   "execution_count": null,
   "metadata": {},
   "outputs": [],
   "source": []
  },
  {
   "cell_type": "markdown",
   "metadata": {},
   "source": [
    "# Aufgabe 6: Schleifen\n",
    "\n",
    "Programmieren Sie eine geschachtelte Schleife, die unten stehende Tabelle erzeugt.\n",
    "\n",
    "|   x   |   y   |   z   | x and y or ((y and z) and not x) |\n",
    "| ----- | ----- | ----- | -------------------- |\n",
    "| True  | True  | True  | True| \n",
    "| False  | True  | True  | True| \n",
    "| True  | False  | True  | False| \n",
    "| False  | False  | True  | False| \n",
    "| True  | True  | False  | True| \n",
    "| False  | True  | False  | False| \n",
    "| True  | False  | False  | False| \n",
    "| False  | False  | False  | False | \n"
   ]
  },
  {
   "cell_type": "code",
   "execution_count": null,
   "metadata": {
    "deletable": false,
    "nbgrader": {
     "cell_type": "code",
     "checksum": "d77de6287b99f128b5c67c6957543c0a",
     "grade": false,
     "grade_id": "cell-0e62f68a02ffb2fc",
     "locked": false,
     "schema_version": 3,
     "solution": true,
     "task": false
    }
   },
   "outputs": [],
   "source": [
    "print(\"x\", \"\\t\", \"y\", \"\\t\", \"z\", \"\\t\", \"x and y or ((y and z) and not x)\")\n",
    "print('---------------------------------------------------------')\n",
    "# YOUR CODE HERE\n",
    "raise NotImplementedError()"
   ]
  },
  {
   "cell_type": "code",
   "execution_count": null,
   "metadata": {
    "deletable": false,
    "editable": false,
    "nbgrader": {
     "cell_type": "code",
     "checksum": "46a629e4ad805b2f26aae058c293b9bd",
     "grade": true,
     "grade_id": "cell-47afdd9de01e6374",
     "locked": true,
     "points": 0,
     "schema_version": 3,
     "solution": false,
     "task": false
    }
   },
   "outputs": [],
   "source": [
    "assert _i.count('for')>2, 'Use nested loops'"
   ]
  },
  {
   "cell_type": "markdown",
   "metadata": {},
   "source": [
    "## Aufgabe 7: Dateien\n",
    "\n",
    "Schreiben Sie mehrere Strings als Zeilen in eine Datei und schließen Sie die Datei."
   ]
  },
  {
   "cell_type": "code",
   "execution_count": null,
   "metadata": {
    "deletable": false,
    "nbgrader": {
     "cell_type": "code",
     "checksum": "c85e9cc000a780d8f65d3aac2379bec3",
     "grade": false,
     "grade_id": "cell-cf41fcf00f6e7896",
     "locked": false,
     "schema_version": 3,
     "solution": true,
     "task": false
    }
   },
   "outputs": [],
   "source": [
    "file_name = \"ausgabe.txt\"\n",
    "\n",
    "fobj = None #Use this variable for your file\n",
    "# YOUR CODE HERE\n",
    "raise NotImplementedError()"
   ]
  },
  {
   "cell_type": "code",
   "execution_count": null,
   "metadata": {
    "deletable": false,
    "editable": false,
    "nbgrader": {
     "cell_type": "code",
     "checksum": "882873e451f41b2554150c320d958e65",
     "grade": true,
     "grade_id": "cell-468281cf0db2cad3",
     "locked": true,
     "points": 1,
     "schema_version": 3,
     "solution": false,
     "task": false
    }
   },
   "outputs": [],
   "source": [
    "assert fobj.closed, 'File is not closed'\n",
    "try:\n",
    "    file = open(file_name, \"r\")\n",
    "    assert file.read().count('\\n')>2, '\"ausgabe.txt\" does not contain at least three lines'\n",
    "    file.close()\n",
    "except FileNotFoundError:\n",
    "    print('\"ausgabe.txt\" has not been created')\n",
    "    raise"
   ]
  },
  {
   "cell_type": "markdown",
   "metadata": {},
   "source": [
    "Öffnen Sie die Datei zum Lesen und geben Sie den Inhalt aus."
   ]
  },
  {
   "cell_type": "code",
   "execution_count": null,
   "metadata": {
    "deletable": false,
    "nbgrader": {
     "cell_type": "code",
     "checksum": "0d490a409487b72302b01d1dbd70216f",
     "grade": false,
     "grade_id": "cell-9d3099a6ab399185",
     "locked": false,
     "schema_version": 3,
     "solution": true,
     "task": false
    }
   },
   "outputs": [],
   "source": [
    "# YOUR CODE HERE\n",
    "raise NotImplementedError()"
   ]
  },
  {
   "cell_type": "code",
   "execution_count": null,
   "metadata": {
    "deletable": false,
    "editable": false,
    "nbgrader": {
     "cell_type": "code",
     "checksum": "03a213ca00eb7f10140234fa63f99cd8",
     "grade": true,
     "grade_id": "cell-7b82d8c7638ff041",
     "locked": true,
     "points": 1,
     "schema_version": 3,
     "solution": false,
     "task": false
    }
   },
   "outputs": [],
   "source": [
    "assert fobj.closed, 'File is not closed'\n"
   ]
  },
  {
   "cell_type": "markdown",
   "metadata": {},
   "source": [
    "## Aufgabe 8: Funktionen\n",
    "\n",
    "Geben Sie die folgende Funktion mit unendlicher Rekursion in ipython ein und testen Sie sie durch Aufruf von `unendlich(0)`.\n",
    "```python\n",
    "def unendlich(n):\n",
    "    return unendlich(n+1)\n",
    "```"
   ]
  },
  {
   "cell_type": "code",
   "execution_count": null,
   "metadata": {},
   "outputs": [],
   "source": [
    "count = 0;\n",
    "def unendlich(n):\n",
    "    global count\n",
    "    count += 1\n",
    "    return unendlich(n+1)\n",
    "\n",
    "try:\n",
    "    unendlich(0)\n",
    "except RecursionError:\n",
    "    print(count)"
   ]
  },
  {
   "cell_type": "markdown",
   "metadata": {},
   "source": [
    "Wie Sie sehen, ist die maximale anzahl der Aufrufe begrenzt; der Aufruf `unendelich(0)` bricht nach einer Reihe von rekursiven Aufrufen mit einem Fehler ab.\n",
    "Damit an dieser Stelle der auftretende Fehler nicht zum Abbruch der Programmzelle führt, haben wir den Aufruf in einen `try`-`except` Block egstellt.\n",
    "Um mitzuzählen, wie viele Aufrufe erfolgen, verwenden wir eine globale Variable."
   ]
  },
  {
   "cell_type": "markdown",
   "metadata": {},
   "source": [
    "Widmen wir uns nun *dem* klassischen Beispiel, wenn es um Rekursion geht:\n",
    "Die **Fibonacci-Funktion** ist durch\n",
    "\n",
    "$\\large\n",
    "fib(n) = \n",
    "\\begin{cases}\n",
    "    0,& \\text{if } n = 0\\\\\n",
    "    1,& \\text{if } n = 1\\\\\n",
    "    fib (n–1) + fib (n–2), & \\text{if } n \\geq 2\n",
    "\\end{cases}$\n",
    "\n",
    "definiert. Betrachten Sie die folgenden zwei Implementierungen von `fib`:\n",
    "```python\n",
    "def fib_a(n):\n",
    "    if n == 0:\n",
    "        return 0\n",
    "    elif n == 1:\n",
    "        return 1\n",
    "    else:\n",
    "        return fib_a(n-1) + fib_a(n-2)\n",
    "```\n",
    "\n",
    "```python\n",
    "def fib_b(n):\n",
    "    (a,b) = (0,1)\n",
    "    for i in range(n):\n",
    "        (a,b) = (b,a+b)\n",
    "    return a\n",
    "```\n",
    "\n",
    "1. Welche der beiden Funktionen ist rekursiv?\n",
    "2. Geben Sie beide Funktionen in eine Code-Zelle ein und rufen Sie sie mit den Argumenten 20, 30 und 35 auf. Sie werden sehr unterschiedliche Laufzeiten beobachten. Haben Sie dafür eine Erklärung?"
   ]
  },
  {
   "cell_type": "code",
   "execution_count": null,
   "metadata": {
    "deletable": false,
    "nbgrader": {
     "cell_type": "code",
     "checksum": "1fb79cf9d3f6e8651648cdb1f3a83b2f",
     "grade": false,
     "grade_id": "cell-b461b2a96c2c33cd",
     "locked": false,
     "schema_version": 3,
     "solution": true,
     "task": false
    }
   },
   "outputs": [],
   "source": [
    "def fib_a(n):\n",
    "    if n == 0:\n",
    "        return 0\n",
    "    elif n == 1:\n",
    "        return 1\n",
    "    else:\n",
    "        return fib_a(n-1) + fib_a(n-2)\n",
    "    \n",
    "def test_fib_a():\n",
    "    # YOUR CODE HERE\n",
    "    raise NotImplementedError()\n"
   ]
  },
  {
   "cell_type": "code",
   "execution_count": null,
   "metadata": {
    "deletable": false,
    "editable": false,
    "nbgrader": {
     "cell_type": "code",
     "checksum": "331b7e653a4d99167f37179623887e6d",
     "grade": true,
     "grade_id": "cell-cd834efb521a5f20",
     "locked": true,
     "points": 1,
     "schema_version": 3,
     "solution": false,
     "task": false
    }
   },
   "outputs": [],
   "source": [
    "from unittest.mock import patch, call\n",
    "with patch('__main__.fib_a') as mock_f:\n",
    "     test_fib_a()\n",
    "calls = [call(20),call(30),call(35)]\n",
    "mock_f.assert_has_calls(calls, any_order=True)"
   ]
  },
  {
   "cell_type": "code",
   "execution_count": null,
   "metadata": {
    "deletable": false,
    "nbgrader": {
     "cell_type": "code",
     "checksum": "03468bc46e44dc35c4e8497ac565a7d8",
     "grade": false,
     "grade_id": "cell-1b47383e77a06e3c",
     "locked": false,
     "schema_version": 3,
     "solution": true,
     "task": false
    }
   },
   "outputs": [],
   "source": [
    "def fib_b(n):\n",
    "    (a,b) = (0,1)\n",
    "    for i in range(n):\n",
    "        (a,b) = (b,a+b)\n",
    "    return a\n",
    "\n",
    "def test_fib_b():\n",
    "    # YOUR CODE HERE\n",
    "    raise NotImplementedError()"
   ]
  },
  {
   "cell_type": "code",
   "execution_count": null,
   "metadata": {
    "deletable": false,
    "editable": false,
    "nbgrader": {
     "cell_type": "code",
     "checksum": "9485e8e820f330cd22d26aaf6ec019bc",
     "grade": true,
     "grade_id": "cell-db06a701be5a4838",
     "locked": true,
     "points": 1,
     "schema_version": 3,
     "solution": false,
     "task": false
    }
   },
   "outputs": [],
   "source": [
    "from unittest.mock import patch, call\n",
    "with patch('__main__.fib_b') as mock_f:\n",
    "     test_fib_b()\n",
    "calls = [call(20),call(30),call(35)]\n",
    "mock_f.assert_has_calls(calls, any_order=True)"
   ]
  },
  {
   "cell_type": "markdown",
   "metadata": {},
   "source": [
    "3. Schreiben Sie eine bessere rekursive Implementierung von fib, die ein Dictionary verwendet,\n",
    "welches als\n",
    "```python\n",
    "fib_dict = {}\n",
    "fib_dict[0] = 0\n",
    "fib_dict[1] = 1\n",
    "```\n",
    "initialisiert wird. Die neue Funktion fib_c() soll prüfen, ob der gesuchte Wert bereits im Dictionary enthalten ist – wenn ja, kann sie ihn einfach zurückgeben. (Zur Erinnerung: Ob ein Schlüssel / Key im Dictionary enthalten ist, testen Sie mit `key in dict`.) Wenn nicht, soll sie ihn rekursiv, also durch Aufruf von fib_c(), berechnen.\n",
    "4. Das Dictionary fib_dict deklarieren Sie außerhalb der Funktion. Warum ist das\n",
    "vorteilhaft?"
   ]
  },
  {
   "cell_type": "code",
   "execution_count": null,
   "metadata": {
    "deletable": false,
    "nbgrader": {
     "cell_type": "code",
     "checksum": "b110bf23c89d2f66b6e73f25833c4fec",
     "grade": false,
     "grade_id": "cell-0fd97e428251a494",
     "locked": false,
     "schema_version": 3,
     "solution": true,
     "task": false
    }
   },
   "outputs": [],
   "source": [
    "fib_dict = {}\n",
    "fib_dict[0] = 0\n",
    "fib_dict[1] = 1\n",
    "\n",
    "def fib_c(n):\n",
    "    # YOUR CODE HERE\n",
    "    raise NotImplementedError()"
   ]
  },
  {
   "cell_type": "code",
   "execution_count": null,
   "metadata": {
    "deletable": false,
    "editable": false,
    "nbgrader": {
     "cell_type": "code",
     "checksum": "bdcbf2a462df9b8bc79c528a65345160",
     "grade": true,
     "grade_id": "cell-a8684bbfcb6af051",
     "locked": true,
     "points": 1,
     "schema_version": 3,
     "solution": false,
     "task": false
    }
   },
   "outputs": [],
   "source": [
    "from nose.tools import assert_equal\n",
    "\n",
    "try:\n",
    "    fib_c(0)\n",
    "    fib_c(1)\n",
    "except:\n",
    "    print('add cases of 0 and 1')\n",
    "    raise\n",
    "\n",
    "\n",
    "assert_equal(fib_c(0), 0)\n",
    "assert_equal(fib_c(1), 1)\n",
    "assert_equal(fib_c(10), 55)\n",
    "assert_equal(fib_c(20), 6765)\n",
    "assert_equal(fib_c(30), 832040)\n"
   ]
  },
  {
   "cell_type": "markdown",
   "metadata": {},
   "source": [
    "## Aufgabe 9: Strings und Konvertierung\n",
    "\n",
    "Implementieren Sie eine Funktion `sternchen()`, die als Argument einen String oder eine Zahl akzeptiert. Sie soll als Rückgabewert einen String liefern, der vorne und hinten je drei Sternchen und dazwischen, durch Leerzeichen abgetrennt, den Parameter enthält. Also z. B.:\n",
    "```python\n",
    "sternchen(\"Hallo\") # soll \"*** Hallo ***\" zurückgeben\n",
    "sternchen(42)      # soll \"*** 42 ***\"    zurückgeben\n",
    "sternchen(4.123)   # soll \"*** 4.123 ***\" zurückgeben\n",
    "```\n",
    "Sie können für die Umwandlung von Zahlen in Strings die Funktion `str()` verwenden, sollen diese aber nur aufrufen, wenn der Parameter kein String ist. Bei der Implementierung wird Ihnen die Funktion `type()` helfen."
   ]
  },
  {
   "cell_type": "code",
   "execution_count": null,
   "metadata": {
    "deletable": false,
    "nbgrader": {
     "cell_type": "code",
     "checksum": "454bf24e3d8b29c9e85a8fe00a6a69ed",
     "grade": false,
     "grade_id": "cell-531e03f36151f79d",
     "locked": false,
     "schema_version": 3,
     "solution": true,
     "task": false
    }
   },
   "outputs": [],
   "source": [
    "def sternchen(x):\n",
    "    # YOUR CODE HERE\n",
    "    raise NotImplementedError()"
   ]
  },
  {
   "cell_type": "code",
   "execution_count": null,
   "metadata": {
    "deletable": false,
    "editable": false,
    "nbgrader": {
     "cell_type": "code",
     "checksum": "7b8ad5373f5343bba424d133452f4f2c",
     "grade": true,
     "grade_id": "cell-caadc71deef8af87",
     "locked": true,
     "points": 1,
     "schema_version": 3,
     "solution": false,
     "task": false
    }
   },
   "outputs": [],
   "source": [
    "assert not [a for a in [15, 'Yes'] if sternchen(a) != f'*** {a} ***'], 'consider converting integers'\n",
    "sternchen(\"HAllo\")"
   ]
  },
  {
   "cell_type": "code",
   "execution_count": null,
   "metadata": {},
   "outputs": [],
   "source": []
  }
 ],
 "metadata": {
  "kernelspec": {
   "display_name": "Python 3",
   "language": "python",
   "name": "python3"
  },
  "language_info": {
   "codemirror_mode": {
    "name": "ipython",
    "version": 3
   },
   "file_extension": ".py",
   "mimetype": "text/x-python",
   "name": "python",
   "nbconvert_exporter": "python",
   "pygments_lexer": "ipython3",
   "version": "3.7.3"
  }
 },
 "nbformat": 4,
 "nbformat_minor": 4
}
