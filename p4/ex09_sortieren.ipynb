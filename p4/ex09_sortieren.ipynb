{
 "cells": [
  {
   "cell_type": "markdown",
   "id": "distinguished-recorder",
   "metadata": {},
   "source": [
    "<figure>\n",
    "  <IMG SRC=\"https://upload.wikimedia.org/wikipedia/commons/thumb/d/d5/Fachhochschule_Südwestfalen_20xx_logo.svg/320px-Fachhochschule_Südwestfalen_20xx_logo.svg.png\" WIDTH=250 ALIGN=\"right\">\n",
    "</figure>\n",
    "\n",
    "# Skriptsprachen\n",
    "### Sommersemester 2021\n",
    "Prof. Dr. Heiner Giefers"
   ]
  },
  {
   "cell_type": "markdown",
   "metadata": {},
   "source": [
    "## Sortieren\n",
    "\n",
    "Eines der klassischen Probleme der Informatik ist das Sortieren von Daten. Es existierende\n",
    "dutzende Sortieralgorithmen mit unterschiedlichen Eigenschaften. Ein recht einfaches Sortierverfahren\n",
    "ist *Selection Sort*, ein in der Praxis (und bei größeren Datenmengen) sehr schnelles Verfahren ist *Quicksort*\n",
    "\n",
    "In diesem Aufgabenblatt wollen wir die beiden genannten Sortierverfahren mit Python implementieren.\n"
   ]
  },
  {
   "cell_type": "markdown",
   "metadata": {},
   "source": [
    "## Vorbereitung\n",
    "\n",
    "Um zu Sortieren benötigt man natürlich einen Datensatz, den es zu sortieren gilt.\n",
    "Häufig verwendet man dazu Arrays (oder Listen) die mit zufälligen Werten gefüllt sind.\n",
    "\n",
    "Um Zufallszahlen mit Python zu generieren, kann man das Paket `random` verwenden.\n",
    "Die folgende Zelle erzeugt zunächst ein Array mit 1.000 zufälligen Zahlen und stellt diese mit Hilfe von `matplotlib` dar.\n",
    "(Diese Bibliothek haben wir schon kurz beim letzten Termin gesehen)"
   ]
  },
  {
   "cell_type": "code",
   "execution_count": null,
   "metadata": {},
   "outputs": [],
   "source": [
    "# Wir benötigen Zufallszahlen und eine Bibliothek zum plotten\n",
    "%matplotlib inline\n",
    "import random\n",
    "import matplotlib.pyplot as plt\n",
    "\n",
    "N = 1000\n",
    "\n",
    "# Eintausend Zufallszahlen zwischen 0 und 1\n",
    "unsorted = [ random.random() for i in range(N)]\n",
    "\n",
    "# Die folgenden Zeilen zeigen die Zahlen als Scatter-Plot an\n",
    "plt.scatter(range(N), unsorted)\n",
    "plt.show()"
   ]
  },
  {
   "cell_type": "markdown",
   "metadata": {},
   "source": [
    "## Selectionsort\n",
    "\n",
    "\n",
    "*Selectionsort* funktioniert so, dass es eine Liste in zwei nebeneinanderliegende Teillisten aufteilt.\n",
    "Die linke Teilliste ist sortiert und hat am Anfang die Größe 0.\n",
    "Die rechte Teilliste ist unsortiert und hat am Anfang die Länge $N$, wobei $N$ die Anzahl der Elemente in der Liste ist.\n",
    "In jedem Schritt sucht *Selectionsort* das kleinste Element und dessen Position in der noch unsortierten Liste.\n",
    "Dazu müssen alle Elemente in der rechten Liste einmal angeschaut werden.\n",
    "Hat man das kleinste Element der unsortierten Liste gefunden, so vertauscht man es mit dem ersten Element in der unsortierten Liste.\n",
    "Danach ist die sortierte Liste um ein Element größer geworden und die unsortierten Liste um ein Element kleiner.\n",
    "Im nächsten Schritt sucht man dann das kleinste Element in der verblieben unsortierten Liste.\n",
    "Diese Abfolge wird solange wiederholt, bis die unsortierte Liste nur noch ein Element groß ist.\n",
    "Danach ist die Liste vollständig sortiert.\n",
    "\n",
    "Schreiben Sie eine Funktion `selectionsort(l)` zum Sortieren der liste `l`.\n"
   ]
  },
  {
   "cell_type": "code",
   "execution_count": null,
   "metadata": {
    "deletable": false,
    "nbgrader": {
     "cell_type": "code",
     "checksum": "b0a120317b2a2dee962b579bdc1f5ce4",
     "grade": false,
     "grade_id": "cell-75980d98c92a4e66",
     "locked": false,
     "schema_version": 3,
     "solution": true,
     "task": false
    }
   },
   "outputs": [],
   "source": [
    "def selectionsort(l):\n",
    "    \"\"\" Sortiert die Liste l ab dem Element p mit Selectionsort \"\"\"\n",
    "    # YOUR CODE HERE\n",
    "    raise NotImplementedError()"
   ]
  },
  {
   "cell_type": "code",
   "execution_count": null,
   "metadata": {
    "deletable": false,
    "editable": false,
    "nbgrader": {
     "cell_type": "code",
     "checksum": "25ea1d6c667541ae0f73fd1610300812",
     "grade": true,
     "grade_id": "cell-a9efe24d56f32c95",
     "locked": true,
     "points": 1,
     "schema_version": 3,
     "solution": false,
     "task": false
    }
   },
   "outputs": [],
   "source": [
    "l = [9,1,4,8,5,7,2,6,3,0]\n",
    "print(\"Vorher: \", l)\n",
    "selectionsort(l)\n",
    "assert l == [0, 1, 2, 3, 4, 5, 6, 7, 8, 9]\n",
    "print(\"Nachher:\", l)"
   ]
  },
  {
   "cell_type": "markdown",
   "metadata": {},
   "source": [
    "## Quicksort\n",
    "\n",
    "Der *Quicksort* Algorithmus deutlich aufwendiger zu implementieren.\n",
    "Dafür ist sein durchschnittliches asymptotisches Laufzeitverhalten mit ${\\mathcal {O}}(N\\cdot \\log(N))$ deutlich besser als das einfacher Sortieralgorithmen, wie etwa *Selcetion Sort* (${\\mathcal {O}}(N^2)$).\n",
    "\n",
    "Schreiben Sie eine Funktion `quicksort(lst)`, die eine übergebene Liste sortiert.\n",
    "VErwenden Sie **nicht** die eingebauten Sortierfunktionen von Python, sondern implementieren Sie den Algorithmus selbst."
   ]
  },
  {
   "cell_type": "markdown",
   "metadata": {},
   "source": [
    "Als Hilfestellung kann Ihnen vielleicht die folgende *IDEA-Bauanleitung* dienen.\n",
    "Diese unkonventionelle Beschreibung des Algorithmus stammt von [Sándor P. Fekete](https://www.ibr.cs.tu-bs.de/users/fekete/) von der TU Braunschweig.\n",
    "Auch wenn die Abbildung auf den ersten Blich amüsant wirkt, beschreibt sie doch recht gut, wie Quicksort funktioniert.\n",
    "\n",
    "Für eine textuelle Beschreibung (mit Pseudocode) können Sie auch [Wikipedia](https://de.wikipedia.org/wiki/Quicksort) zurate ziehen.\n",
    "\n",
    "![](quick-sort.png)\n",
    "\n"
   ]
  },
  {
   "cell_type": "code",
   "execution_count": null,
   "metadata": {
    "deletable": false,
    "nbgrader": {
     "cell_type": "code",
     "checksum": "73aeca7ab8c81a6a4ade2fdc58a5cf59",
     "grade": false,
     "grade_id": "cell-016b01013cb5dded",
     "locked": false,
     "schema_version": 3,
     "solution": true,
     "task": false
    }
   },
   "outputs": [],
   "source": [
    "def quicksort(l, links=0, rechts=-1, visual=False):\n",
    "    \"\"\"Diese Funktion sortiert die übergebene Liste ('in-place sort')\n",
    "    \n",
    "    Argumente:\n",
    "    l      -- zu sortierende Liste\n",
    "    links  -- Startindex des zu sortierenden Bereich (inklusiv)\n",
    "    rechts -- Endindex des zu sortierenden Bereichs (exklusiv)\n",
    "    \"\"\"\n",
    "    # YOUR CODE HERE\n",
    "    raise NotImplementedError()"
   ]
  },
  {
   "cell_type": "code",
   "execution_count": null,
   "metadata": {
    "deletable": false,
    "editable": false,
    "nbgrader": {
     "cell_type": "code",
     "checksum": "408ed92132e0e173cba11b060f5c4949",
     "grade": true,
     "grade_id": "cell-4d336aa434bdc1fb",
     "locked": true,
     "points": 1,
     "schema_version": 3,
     "solution": false,
     "task": false
    }
   },
   "outputs": [],
   "source": [
    "N = 1000\n",
    "data = [ random.random() for i in range(N)]\n",
    "quicksort(data)\n",
    "for i in range(len(data)-1):\n",
    "    assert data[i] <= data[i+1]"
   ]
  },
  {
   "cell_type": "markdown",
   "metadata": {},
   "source": [
    "## Ergebnis überprüfen\n",
    "Der folgende Code plotted das Ergebnis und testet, ob die Liste tatsächlich sortiert ist."
   ]
  },
  {
   "cell_type": "code",
   "execution_count": null,
   "metadata": {},
   "outputs": [],
   "source": [
    "N = 1000\n",
    "data = [ random.random() for i in range(N)]\n",
    "quicksort(data)\n",
    "\n",
    "# Die folgenden Zeilen zeigen die Zahlen als Scatter-Plot an\n",
    "plt.scatter(range(len(data)), data)\n",
    "plt.show()"
   ]
  }
 ],
 "metadata": {
  "kernelspec": {
   "display_name": "Python 3",
   "language": "python",
   "name": "python3"
  },
  "language_info": {
   "codemirror_mode": {
    "name": "ipython",
    "version": 3
   },
   "file_extension": ".py",
   "mimetype": "text/x-python",
   "name": "python",
   "nbconvert_exporter": "python",
   "pygments_lexer": "ipython3",
   "version": "3.7.3"
  }
 },
 "nbformat": 4,
 "nbformat_minor": 4
}
