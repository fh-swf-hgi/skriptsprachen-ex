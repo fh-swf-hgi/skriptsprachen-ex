{
 "cells": [
  {
   "cell_type": "markdown",
   "metadata": {},
   "source": [
    "<figure>\n",
    "  <IMG SRC=\"https://upload.wikimedia.org/wikipedia/commons/thumb/d/d5/Fachhochschule_Südwestfalen_20xx_logo.svg/320px-Fachhochschule_Südwestfalen_20xx_logo.svg.png\" WIDTH=250 ALIGN=\"right\">\n",
    "</figure>\n",
    "\n",
    "# Skriptsprachen\n",
    "### Sommersemester 2021\n",
    "Prof. Dr. Heiner Giefers"
   ]
  },
  {
   "cell_type": "markdown",
   "metadata": {},
   "source": [
    "## Buchstabenrätsel\n",
    "\n",
    "In dieser Aufgabe geht es darum, herauszufinden, ob ein Wort in einem Buchstabenquadrat gefunden werden kann.\n",
    "Ein Buchstabenquadrat ist eine quadratische Matrix, deren Werte aus einzelnen Buchstaben bestehen.\n",
    "(Die Idee dieser Aufgabe basiert auf Übungsaufgaben von Prof. Mehner und Prof. Gawron)\n",
    "\n",
    "![raetsel.png](raetsel.png)\n",
    "\n",
    "Um ein Wort zu finden, können Sie folgendermaßen vorgehen:\n",
    "1. Für den ersten Buchstaben können Sie bei jedem beliebigen Buchstaben des Quadrat starten.\n",
    "2. Wenn der erste Buchstabe des Wortes dem Buchstaben im Quadrat entspricht, können Sie von dieser Position aus weitersuchen. Dabei dürfen Sie nur zu den (maximal) acht Nachbarfeldern des gefundenen Buchstaben weiterlaufen.\n",
    "\n",
    "Wie können Sie herausfinden, ob ein gesuchtes Wort im Buchstabenquadrat vorkommt?"
   ]
  },
  {
   "cell_type": "markdown",
   "metadata": {},
   "source": [
    "## Hinweise\n",
    "\n",
    "In dieser Aufgabe können **List Comprehensions** sehr hilfreich sein.\n",
    "Mit List Comprehensions kann man recht kurz und elegant neue Listen-Objekte generieren.\n",
    "So können wir z.B. eine 2-dimensionale Liste mit Werten füllen.\n",
    "Mathematisch gesehen, entspricht dies einer Matrix."
   ]
  },
  {
   "cell_type": "code",
   "execution_count": null,
   "metadata": {},
   "outputs": [],
   "source": [
    "k = 4\n",
    "A = [ [x for x in range(k*y,k*y+k)] for y in range(k) ]\n",
    "A"
   ]
  },
  {
   "cell_type": "markdown",
   "metadata": {},
   "source": [
    "In einer zweiten Liste können wir nun alle Index-Paare der Matrix erzeugen. Ein Index-Paar ist dabei ein Tupel `(i,j)`."
   ]
  },
  {
   "cell_type": "code",
   "execution_count": null,
   "metadata": {},
   "outputs": [],
   "source": [
    "idx = [ (i,j) for i in range(k) for j in range(k) ]\n",
    "idx"
   ]
  },
  {
   "cell_type": "markdown",
   "metadata": {},
   "source": [
    "Wenn wir nur an den Indizes der Diagonalen interessiert sind, können wir der *List Comprehension* eine Bedingung hinzufügen."
   ]
  },
  {
   "cell_type": "code",
   "execution_count": null,
   "metadata": {},
   "outputs": [],
   "source": [
    "idx = [ (i,j) for i in range(k) for j in range(k) if i==j]\n",
    "idx"
   ]
  },
  {
   "cell_type": "markdown",
   "metadata": {},
   "source": [
    "Nun können wir die Index-Tupel verwenden um damit auf die Werte der Matrix zuzugreifen:"
   ]
  },
  {
   "cell_type": "code",
   "execution_count": null,
   "metadata": {},
   "outputs": [],
   "source": [
    "diag_values = [ A[i][j] for (i,j) in idx]\n",
    "diag_values"
   ]
  },
  {
   "cell_type": "markdown",
   "metadata": {},
   "source": [
    "## Implementierung\n",
    "\n",
    "Beginnen wir zunächst mit der Definition der Matrix:"
   ]
  },
  {
   "cell_type": "code",
   "execution_count": 1,
   "metadata": {},
   "outputs": [
    {
     "data": {
      "text/plain": [
       "[['S', 'R', 'G', 'D'],\n",
       " ['O', 'F', 'A', 'E'],\n",
       " ['N', 'U', 'B', 'L'],\n",
       " ['T', 'S', 'P', 'E']]"
      ]
     },
     "execution_count": 1,
     "metadata": {},
     "output_type": "execute_result"
    }
   ],
   "source": [
    "A = [ list(\"SRGD\"), list(\"OFAE\"), list(\"NUBL\"), list(\"TSPE\") ]\n",
    "A"
   ]
  },
  {
   "cell_type": "markdown",
   "metadata": {},
   "source": [
    "## Mögliche Felder generieren\n",
    "\n",
    "Ein Feld im Buchstabenquadrat wird eindeutig als Tupel `(i, j)` dargestellt.\n",
    "Schreiben Sie zwei Funktionen die jeweils eine Liste von Tupeln zurückliefern.\n",
    "Die Funktion `startfelder(A)` gibt dabei alle Felder der Matrix `A` zurück.\n",
    "Die Funktion `nachbarn(A,i,j)`, gibt alle möglichen Nachbarfelder des Feldes `(i, j)` von `A` zurück. In der *Mitte* des Buchstabenquadrats sind das acht Felder, am Rand sind es dementsprechend weniger Felder."
   ]
  },
  {
   "cell_type": "code",
   "execution_count": null,
   "metadata": {
    "deletable": false,
    "nbgrader": {
     "cell_type": "code",
     "checksum": "13a0d30f71df6b34d29d323128355fc4",
     "grade": false,
     "grade_id": "cell-44bd158093f8fe3d",
     "locked": false,
     "schema_version": 3,
     "solution": true,
     "task": false
    }
   },
   "outputs": [],
   "source": [
    "def startfelder(A):\n",
    "    \"\"\" Gibt eine Liste aller Startfelder (Tupel) zurück \"\"\"\n",
    "    # YOUR CODE HERE\n",
    "    raise NotImplementedError()"
   ]
  },
  {
   "cell_type": "code",
   "execution_count": null,
   "metadata": {
    "deletable": false,
    "editable": false,
    "nbgrader": {
     "cell_type": "code",
     "checksum": "221e08026fa413e37886cce410ee597b",
     "grade": true,
     "grade_id": "cell-7b6e3c58ccf274fd",
     "locked": true,
     "points": 1,
     "schema_version": 3,
     "solution": false,
     "task": false
    }
   },
   "outputs": [],
   "source": [
    "A_ = [ list(\"HAL\"), list(\"LOW\"), list(\"ELT\") ]\n",
    "assert startfelder(A_) == [(0,0),(0,1),(0,2),(1,0),(1,1),(1,2),(2,0),(2,1),(2,2)]"
   ]
  },
  {
   "cell_type": "code",
   "execution_count": null,
   "metadata": {
    "deletable": false,
    "nbgrader": {
     "cell_type": "code",
     "checksum": "afc0310e9782c753141f752e90cb3fd8",
     "grade": false,
     "grade_id": "cell-d3882e3f11bdbf5c",
     "locked": false,
     "schema_version": 3,
     "solution": true,
     "task": false
    }
   },
   "outputs": [],
   "source": [
    " def nachbarn(A,i,j):\n",
    "    \"\"\" Gibt eine Liste aller Nachbarfelder zurück \"\"\"\n",
    "    # YOUR CODE HERE\n",
    "    raise NotImplementedError()"
   ]
  },
  {
   "cell_type": "code",
   "execution_count": null,
   "metadata": {
    "deletable": false,
    "editable": false,
    "nbgrader": {
     "cell_type": "code",
     "checksum": "3f2b8200ce7a646fa4ca3907d01edcca",
     "grade": true,
     "grade_id": "cell-e436fa7f73634464",
     "locked": true,
     "points": 1,
     "schema_version": 3,
     "solution": false,
     "task": false
    }
   },
   "outputs": [],
   "source": [
    "A_ = [ list(\"HAL\"), list(\"LOW\"), list(\"ELT\") ]\n",
    "assert nachbarn(A_,0,1) == [(0,0),(0,2),(1,0),(1,1),(1,2)]"
   ]
  },
  {
   "cell_type": "markdown",
   "metadata": {},
   "source": [
    "## Suchfunktion\n",
    "\n",
    "Implementieren Sie nun eine Suchfunktion, die prüft, ob ein gegebenes Wort in der Matrix vorkommt.\n",
    "Es ist dabei hilfreich, sich das Problem der Suche zunächst abstrakt als Baum vorzustellen.\n",
    "Sie beginnen mit der Suche des ersten Buchstaben des Wortes an der Wurzel.\n",
    "Von dort aus haben sie $N^2$ Möglichkeiten, den Buchstaben zu finden.\n",
    "$N$ ist dabei die Kantenlänge des Buchstabenquadrats mit $N^2$ Feldern.\n",
    "\n",
    "Zu Beginn gehen Sie von der Wurzel aus zu allen Feldern und überprüfen of der Erste Buchstabe passt.\n",
    "Die Funktion `startfelder` hilft Ihnen dabei die $N^2$ möglichen Felder zu bestimmen.\n",
    "Das Ergebnis dieses Schritts ist eine Liste gültiger Startfelder.\n",
    "\n",
    "Vor allen dieser Felder können Sie nun eine rekursive Suche starten, in der Sie versuchen das Suchwort **ohne den ersten Buchstaben** zu finden.\n",
    "Am einfachsten funktioniert dies, wenn Sie eine separate Funktion für die rekursive Suche implementieren.\n",
    "Die rekursive Funktion könnte folgendermaßen arbeiten:\n",
    "1. Finde alle Nachbarfelder des aktuellen Felds\n",
    "1. Von den Nachbarfeldern, finde alle Felder die zum ersten Buchstaben des Wortes passen\n",
    "1. Wenn keine Felder gefunden werden, gib 0 zurück\n",
    "1. Wenn passender Felder gefunden werden, prüfe ob das Suchwort nur ein Zeichen lang ist.\n",
    "    1. Wenn ja ist das ursprüngliche Suchwort komplett gefunden. Gib die Anzahl der Treffer-Felder als Ergebnis zurück\n",
    "    1. wenn das aktuelle Suchwort länger als ein Zeichen ist, müssen noch weitere Buchstaben überprüft werden. Rufe für alle Treffer-Felde die Rekursive Suche mit dem aktuellen Suchwort **ohne den ersten Buchstaben** auf.\n",
    "1. Gib die Anzahl der gefundenen Worte zurück. Ein und dasselbe Wort kann öfter (d.h. über mehrere verschiedene Pfade) gefunden werden.\n",
    "\n"
   ]
  },
  {
   "cell_type": "code",
   "execution_count": null,
   "metadata": {
    "deletable": false,
    "nbgrader": {
     "cell_type": "code",
     "checksum": "7901e6cc4bfe28bb195860bbcc0633cf",
     "grade": false,
     "grade_id": "cell-9958f94baa5137a4",
     "locked": false,
     "schema_version": 3,
     "solution": true,
     "task": false
    }
   },
   "outputs": [],
   "source": [
    "def suche_rek(w,A,i,j):\n",
    "    felder = nachbarn(A,i,j)\n",
    "     # YOUR CODE HERE\n",
    "     raise NotImplementedError()"
   ]
  },
  {
   "cell_type": "code",
   "execution_count": null,
   "metadata": {
    "deletable": false,
    "editable": false,
    "nbgrader": {
     "cell_type": "code",
     "checksum": "3bba29bee6891015ccd0c8a35c337311",
     "grade": true,
     "grade_id": "cell-2e0571e310a002f7",
     "locked": true,
     "points": 1,
     "schema_version": 3,
     "solution": false,
     "task": false
    }
   },
   "outputs": [],
   "source": [
    "A_ = [ list(\"HAL\"), list(\"LOW\"), list(\"ELT\") ]\n",
    "assert suche_rek('OL',A_,0,1)==3"
   ]
  },
  {
   "cell_type": "code",
   "execution_count": null,
   "metadata": {
    "deletable": false,
    "nbgrader": {
     "cell_type": "code",
     "checksum": "ea497053eb7d535e872ffb4789a1edde",
     "grade": false,
     "grade_id": "cell-2e52da07c25da6f3",
     "locked": false,
     "schema_version": 3,
     "solution": true,
     "task": false
    }
   },
   "outputs": [],
   "source": [
    "def suche(w,A):\n",
    "    felder = startfelder(A)\n",
    "     # YOUR CODE HERE\n",
    "     raise NotImplementedError()"
   ]
  },
  {
   "cell_type": "code",
   "execution_count": null,
   "metadata": {
    "deletable": false,
    "editable": false,
    "nbgrader": {
     "cell_type": "code",
     "checksum": "97fb987e437b9b25ddefa6724b58f4dc",
     "grade": true,
     "grade_id": "cell-6c0b37e024045d05",
     "locked": true,
     "points": 1,
     "schema_version": 3,
     "solution": false,
     "task": false
    }
   },
   "outputs": [],
   "source": [
    "A_ = [ list(\"HAL\"), list(\"LOW\"), list(\"ELT\") ]\n",
    "assert suche('AOL',A_)==3"
   ]
  },
  {
   "cell_type": "code",
   "execution_count": null,
   "metadata": {},
   "outputs": [],
   "source": [
    "# ORGELBAU sollte gefunden werden\n",
    "suche(\"ORGELBAU\",A)"
   ]
  },
  {
   "cell_type": "code",
   "execution_count": null,
   "metadata": {},
   "outputs": [],
   "source": [
    "# SONATE sollte nicht gefunden werden\n",
    "suche(\"SONATE\",A)"
   ]
  },
  {
   "cell_type": "code",
   "execution_count": null,
   "metadata": {},
   "outputs": [],
   "source": [
    "# LE sollte 2-mal gefunden werden\n",
    "suche(\"LE\",A)"
   ]
  },
  {
   "cell_type": "markdown",
   "metadata": {},
   "source": [
    "## Erweiterung\n",
    "\n",
    "1. In der *echten* Version des Buchstabenrätsels dürfen einmal besuchte Felder nicht erneut besucht werden (kreuzungsfreier Weg). Erweitern Sie die Suchfunktion so, dass Felder nur einmalig besucht werden dürfen.\n",
    "1.  Das Ziel eines Buchstabenrätsels ist ursprünglich nicht, dass Sie ein bestimmtes Wort finden, sondern dass Sie alle möglichen Worte in dem Buchstabenquadrat aufspüren. Allerdings ist unsere Funktion zum Suchen eines Wortes sehr hilfreich, um auch dieses Problem zu lösen. Wir mussen *nur* alle *möglichen* Worte im Buchstabenquadrat suchen. Eine Liste aller deutschen Worte finden Sie in der Datei `german.lst`. Erweitern Sie das Programm so, dass alle Worte im Buchstabenquadrat gefunden werden. Wie viele sind es?"
   ]
  }
 ],
 "metadata": {
  "kernelspec": {
   "display_name": "Python 3",
   "language": "python",
   "name": "python3"
  },
  "language_info": {
   "codemirror_mode": {
    "name": "ipython",
    "version": 3
   },
   "file_extension": ".py",
   "mimetype": "text/x-python",
   "name": "python",
   "nbconvert_exporter": "python",
   "pygments_lexer": "ipython3",
   "version": "3.7.3"
  }
 },
 "nbformat": 4,
 "nbformat_minor": 4
}
