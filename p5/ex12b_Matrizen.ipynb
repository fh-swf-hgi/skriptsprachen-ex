{
 "cells": [
  {
   "cell_type": "markdown",
   "id": "distinguished-recorder",
   "metadata": {},
   "source": [
    "<figure>\n",
    "  <IMG SRC=\"https://upload.wikimedia.org/wikipedia/commons/thumb/d/d5/Fachhochschule_Südwestfalen_20xx_logo.svg/320px-Fachhochschule_Südwestfalen_20xx_logo.svg.png\" WIDTH=250 ALIGN=\"right\">\n",
    "</figure>\n",
    "\n",
    "# Skriptsprachen\n",
    "### Sommersemester 2021\n",
    "Prof. Dr. Heiner Giefers"
   ]
  },
  {
   "cell_type": "markdown",
   "metadata": {},
   "source": [
    "### Aufgabe: Die Klasse Matrix\n",
    "\n",
    "In dieser Aufgabe geht es darum, eine Klasse `Matrix` zur Speicherung und Verarbeitung mathematischer Matrizen zu implementieren. Python besitzt zwar mehrere sequentielle Datentypen (z.B. *tuple*) mit denen Matrizen dargestellt werden können. Allerdings sind sequentielle Datentypen *Container* für allgemeine Objekte und damit nicht sonderlich gut geeignet für mathematische Operationen.\n",
    "\n",
    "Nehmen wir z.B. zwei Tupel von Tupeln `a` und `b`, die jeweils eine $2\\times{}2$ Matrix aus Integer-Werten enthalten. Eine `+` Operation führt nicht wie gewünscht eine Matrix-Addition aus, sondern konkateniert  `a` und `b` zu einem neuen Tupel:"
   ]
  },
  {
   "cell_type": "code",
   "execution_count": null,
   "metadata": {},
   "outputs": [],
   "source": [
    "a = ((1,2),(3,4))\n",
    "b = ((5,5),(5,5))\n",
    "print(a+b)"
   ]
  },
  {
   "cell_type": "markdown",
   "metadata": {},
   "source": [
    "Ziel dieser Aufgabe ist es, eine Klasse `Matrix` zu programmieren, mit der diese `+`-Operation und weitere Operationen sinnvoll durchgeführt werden kann. Dazu sind eine Reihe von Teilaufgaben nützlich, die Sie in beliebiger Reihenfolge bearbeiten können:"
   ]
  },
  {
   "cell_type": "markdown",
   "metadata": {},
   "source": [
    "**1. Implementieren Sie einen Konstruktor**\n",
    "\n",
    "- Intern sollen die Werte der Matrix zeilenweise als eindimensionales Tupel abgelegt werden.\n",
    "- Die Form (Anzahl der Zeilen und Spalten) der Matrix soll als Attribut gespeichert werden. Es ist sinnvoll, die Form als Tupel anzulegen. Im 2-dimensionalen Fall also als Tupel $(x,y)$ wobei $x$ die Anzahl der Zeilen und $y$ die Anzahl der Spalten ist. $(1,8)$ wäre demnach die Dimension für einen Zeilenvektor mit 8 Elementen, $(8,8)$ die Dimension für eine quadratische Matrix mit 8 Zeilen und Spalten."
   ]
  },
  {
   "cell_type": "markdown",
   "metadata": {},
   "source": [
    "**2. Schreiben Sie eine Funktion `__str__` mit der Sie Matrizen formatiert ausgeben können**\n",
    "\n",
    "- Die Formatierung ist beliebig, aber es sollte klar sein, welche Form die Matrix hat. Sie können sich gerne an der [Matrix Formatierung in Matlab](https://ch.mathworks.com/help/matlab/learn_matlab/matrices-and-arrays.html) orientieren."
   ]
  },
  {
   "cell_type": "markdown",
   "metadata": {},
   "source": [
    "**3. Überschreiben Sie den `+`-Operator für die Klasse `Matrix`, sodass das Ergebnis ein neues Matrix-Objekt mit der Summe der beiden Operanden ist**\n",
    "\n",
    "- Implementieren Sie ähnliche Methode für `-` und `*`\n",
    "- Bei der Multiplikation mit dem `*`-Zeichen können Sie das elementweise Produkt (Hadamard-Produkt) annehmen. Dabei wird der Wert $a_{i,j}$ der linken Matrix $A$ mit dem Wert $b_{i,j}$ der rechten Matrix $B$ multipliziert. Das Ergebnis bildet den Wert $c_{i,j}$ in der Ergebnismatrix $C$.\n",
    "- Sie können versuchen, eine *generische Methode* für binäre Operatoren zu schreiben. Damit vermeiden Sie redundanten Code. Eine Möglichkeit dies zu tun ist, das Modul [operator](https://docs.python.org/3/library/operator.html) aus der Standardbibliothek einzusetzen."
   ]
  },
  {
   "cell_type": "markdown",
   "metadata": {},
   "source": [
    "**4. Implementieren Sie eine Methode `transpose` mit der Sie die Matrix transponieren können**\n",
    "\n",
    "- Beim Transponieren vertauschen Sie Zeilen und Spalten\n",
    "- `transpose` soll ein neues Matrix-Objekt zurückgeben\n",
    "- Führen Sie eine Kurzschreibweise `A.T` ein mit der Sie die Matrix $A$ Transponieren können. Das *property* Attribut `T` soll die `transpose`-Funktion aufgerufen werden."
   ]
  },
  {
   "cell_type": "markdown",
   "metadata": {},
   "source": [
    "**5. Ergänzen Sie die Klasse `Matrix` um eine Methode, mit der die [Matrizenmultiplikation](https://de.wikipedia.org/wiki/Matrizenmultiplikation) zweier Matrizen gebildet werden kann**\n",
    "\n",
    "- Als Operator können Sie das `@`-Zeichen Verwenden. Die zugehörige *Magic Method* ist `__matmul__(self,x)`"
   ]
  },
  {
   "cell_type": "code",
   "execution_count": null,
   "metadata": {
    "deletable": false,
    "nbgrader": {
     "cell_type": "code",
     "checksum": "ab2e26263d35a1044fd4b835a98bb8f3",
     "grade": false,
     "grade_id": "cell-382348fc9bdc8144",
     "locked": false,
     "schema_version": 3,
     "solution": true,
     "task": false
    }
   },
   "outputs": [],
   "source": [
    "import operator\n",
    "\n",
    "class Matrix():\n",
    "    # YOUR CODE HERE\n",
    "    raise NotImplementedError()"
   ]
  },
  {
   "cell_type": "code",
   "execution_count": null,
   "metadata": {
    "deletable": false,
    "editable": false,
    "nbgrader": {
     "cell_type": "code",
     "checksum": "9072366f55ae3836794db8b99d54988b",
     "grade": true,
     "grade_id": "cell-68944433517f1999",
     "locked": true,
     "points": 0,
     "schema_version": 3,
     "solution": false,
     "task": false
    }
   },
   "outputs": [],
   "source": [
    "m1 = Matrix([[1,2,3],[4,5,6]])\n",
    "assert (m1.T).data==(1,4,2,5,3,6)\n",
    "assert (m1 + m1).data==(2,4,6,8,10,12)\n",
    "assert (m1 - m1).data==(0,0,0,0,0,0)\n",
    "assert (m1 * m1).data==(1,4,9,16,25,36)\n",
    "assert (m1 @ m1.T).data==(14.0,32.0,32.0,77.0)"
   ]
  },
  {
   "cell_type": "code",
   "execution_count": null,
   "metadata": {},
   "outputs": [],
   "source": [
    "m1 = Matrix([[1,2,3],[4,5,6]])\n",
    "print(\"m1     :\", m1)\n",
    "print(\"m1'    :\", m1.T)\n",
    "print(\"m1 + m1:\", m1 + m1)\n",
    "print(\"m1 - m1:\", m1 - m1)\n",
    "print(\"m1 * m1:\", m1 * m1)\n",
    "print(\"m1 @ m1':\", m1 @ m1.T)"
   ]
  }
 ],
 "metadata": {
  "kernelspec": {
   "display_name": "Python 3",
   "language": "python",
   "name": "python3"
  },
  "language_info": {
   "codemirror_mode": {
    "name": "ipython",
    "version": 3
   },
   "file_extension": ".py",
   "mimetype": "text/x-python",
   "name": "python",
   "nbconvert_exporter": "python",
   "pygments_lexer": "ipython3",
   "version": "3.7.6"
  }
 },
 "nbformat": 4,
 "nbformat_minor": 2
}
