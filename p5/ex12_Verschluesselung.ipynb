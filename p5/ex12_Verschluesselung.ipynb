{
 "cells": [
  {
   "cell_type": "markdown",
   "id": "distinguished-recorder",
   "metadata": {},
   "source": [
    "<figure>\n",
    "  <IMG SRC=\"https://upload.wikimedia.org/wikipedia/commons/thumb/d/d5/Fachhochschule_Südwestfalen_20xx_logo.svg/320px-Fachhochschule_Südwestfalen_20xx_logo.svg.png\" WIDTH=250 ALIGN=\"right\">\n",
    "</figure>\n",
    "\n",
    "# Skriptsprachen\n",
    "### Sommersemester 2021\n",
    "Prof. Dr. Heiner Giefers"
   ]
  },
  {
   "cell_type": "markdown",
   "id": "regulated-clause",
   "metadata": {},
   "source": [
    "### Aufgabe: Caesar-Verschlüsselung\n",
    "In dieser Aufgabe soll eine Klasse zur Verschlüsselung von Textnachrichten ertellt werden.\n",
    "\n",
    "Wir verwenden dazu ein sehr einfaches Verschlüsselungsverfahren, nämlich die [Caesar-Verschlüsselung](https://de.wikipedia.org/wiki/Caesar-Verschl%C3%BCsselung).\n",
    "Bei der Caesar-Verschlüsselung wird jedes Zeichen der Textnachricht einzeln verschlüsselt, indem es einfach um einen festen Wert $k$ im Alphabet *verschoben* wird.\n",
    "Wenn das Alphabet nur aus den Kleinbuchstaben besteht, das zu verschlüsselnde Zeichen ein `a` ist und die *Verschiebungskonstante* $k=5$ gewählt ist, so ist das Ergebnis der Verschlüsselung ein `f`. Um das Zeichen wieder zu entschtschlüsseln, müssen Sie vom Zeichenwert die Konstante $5$ abziehen, um wieder das `a` zu erhalten.\n",
    "\n",
    "Natürlich kann es passieren, dass Sie bei großen Werten von $k$ oder bei Buchstaben, die recht weit hinten im Alphabet stehen, über den *Rand* des Alphabets heraus kommen. Gleiches gilt anders herum auch für die Entschlüsselung.\n",
    "Daher müssen Sie bei jedem *Verschieben* eines Buchstabens die Modulo-Operation anwenden. Der Modulo-Divisor muss dabei genauso groß sein, wie die Anzahl der Zeichen im Alphabet.\n",
    "\n",
    "*Hinweis:* Mit *Alphabet* ist hier die Menge, bzw. in unserem Fall die Liste der betrachteten Zeichen gemeint. Darin enthalten sind also alle *druckbaren* Zeichen. Am einfachsten erhalten Sie diese Liste von Zeichen über das `string` Modul. Dass Attribut `string.printable` liefert Ihnen einen String, der aus allen (standardmäßig) druckbaren Zeichen besteht. In der Mathematik bezeichnet man ein Alphabet häufig mit dem griechischen Buchstaben $\\Sigma$ (*Sigma*).\n",
    "\n",
    "Die Formeln zur Ver- und Entschlüsselung lauten also:\n",
    "\n",
    "$${\\text{encrypt}}_{K}(P)=(P+K)\\ \\mathrm{mod}\\ {N} \\ \\text{ und }$$\n",
    "\n",
    "$${\\text{decrypt}}_{K}(C)=(C-K)\\ \\mathrm{mod}\\ {N} \\ \\text{ mit }C, K, P \\in \\Sigma \\text{ und } N=|\\Sigma|$$"
   ]
  },
  {
   "cell_type": "markdown",
   "id": "prepared-kingdom",
   "metadata": {},
   "source": [
    "**Aufgabenbeschreibung:**\n",
    "\n",
    "1. Erstellen Sie eine Klasse `Cipher`, die als Klassenattribut das Alphabet enthält.\n",
    "1. Scheiben Sie einen Konstruktor, mit dem Sie ein `Cypher` Objekt erstellen können.\n",
    "   - Der Konstruktor soll als Parameter einen String als Passwort übergeben bekommen. Es soll später nur mit diesem Passwort möglich sein, eine verschlüsselte Nachricht wieder zu entschlüsseln. Falls im Konstruktor kein Passwort angegeben wird, soll das default Passwort `0000` verwendet werden.\n",
    "   - Der Konstruktor soll eine zufällige Verschiebungskonstante wählen\n",
    "   - Der Konstruktor soll außerdem einen Zähler mit $0$ initialisieren. Mit diesem Zählen sollen später fehlerhafte mitgezählt werden.\n",
    "   - Alle drei Attribute sollen als *private* Instanzattribute angelegt werden, also von *außerhalb* nicht veränderbar sein.\n",
    "1. Schreiben Sie eine Methode `encrypt`, mit der eine Textnachricht verschlüsselt werden kann. Der Text soll als String-Parameter an die methode übergeben werden. Der String wird dann als Verschlüsselte Zeichenkette unter dem Attribut `encrypted` abgelegt. Dieses Attribut muss nicht privat oder geschützt sein.\n",
    "1. Schreiben Sie eine Methode `decrypt`, die als Resultat den entschlüsselten Text zurückliefert.\n",
    "   - Die Methode soll als Parameter das Passwort übergeben bekommen. Nur wenn das Passwort dem gespeicherten Passwort im `Cipher`-Objekt ensricht, soll der Text entschlüsselt werden.\n",
    "   - Wird ein falsches Passwort übergeben, soll eine Fehlermeldung ausgegeben werden und der interne Zähler um eins erhöht werden.\n",
    "   - Ist das Passwort zum vierten Mal hintereinander (!) falsch eingegeben worden, soll die verschlüsselte Nachricht gelöscht werden.\n",
    "1. Wenn ein `Cipher` Objekt als String interpretiert wird (z.B. durch die `print`-Funktion), soll der verschlüsselte Text zurückgeliefert werden."
   ]
  },
  {
   "cell_type": "code",
   "execution_count": null,
   "id": "regulated-mounting",
   "metadata": {
    "deletable": false,
    "nbgrader": {
     "cell_type": "code",
     "checksum": "12f0f0e02be8132befb4a4c1fa826041",
     "grade": false,
     "grade_id": "cell-c3b1669bd31fdede",
     "locked": false,
     "schema_version": 3,
     "solution": true,
     "task": false
    }
   },
   "outputs": [],
   "source": [
    "import random\n",
    "import string\n",
    "\n",
    "class Cipher:\n",
    "    # YOUR CODE HERE\n",
    "    raise NotImplementedError()"
   ]
  },
  {
   "cell_type": "code",
   "execution_count": null,
   "id": "environmental-replication",
   "metadata": {
    "deletable": false,
    "editable": false,
    "nbgrader": {
     "cell_type": "code",
     "checksum": "acf79b76500653a9b1583fb726c26969",
     "grade": true,
     "grade_id": "cell-cd73e516c0641e00",
     "locked": true,
     "points": 0,
     "schema_version": 3,
     "solution": false,
     "task": false
    }
   },
   "outputs": [],
   "source": [
    "secret = Cipher('Skriptsprachen')\n",
    "secret.encrypt('Viel Spass!')\n",
    "assert secret.decrypt('Skriptsprachen')==\"Viel Spass!\""
   ]
  },
  {
   "cell_type": "markdown",
   "id": "automated-joint",
   "metadata": {},
   "source": [
    "**Erweiterung I:**\n",
    "\n",
    "Es Soll eine Klasse `ExtCypher` (für *extendable Cypher*) erstellt werden, die von der Klasse `Cipher` erbt.\n",
    "Bei `ExtCypher` Objekten soll der verschlüsselte Text erweiterbar sein.\n",
    "Wie bei Strings soll auch bei dieser Klasse der `+=`-Operator verwendet werden können.\n",
    "\n",
    "Mit `secret+=\" Neuer Text\"` soll der verschlüsselte Text im `ExtCypher` Objekte `secret` um den verschlüsselten Text \" neuer Text\" erweitert werden.\n",
    "\n",
    "*Hinweis:* Da wir in der Klasse `Cypher` einige private Attribute verwendet haben, funktioniert das Erweitern des Strings nicht ohne Weiteres. Welches Attribut muss in der Sichtbarkeit verändert werden, damit das Anhängen funktioniert? Ändern Sie die Klasse `Cipher` so geringfügig wie möglich ab."
   ]
  },
  {
   "cell_type": "code",
   "execution_count": null,
   "id": "palestinian-interim",
   "metadata": {
    "deletable": false,
    "nbgrader": {
     "cell_type": "code",
     "checksum": "51ee2e50b4b70c9839e47a78659005d6",
     "grade": false,
     "grade_id": "cell-05a8d147952445b6",
     "locked": false,
     "schema_version": 3,
     "solution": true,
     "task": false
    }
   },
   "outputs": [],
   "source": [
    "class ExtCipher(Cipher):\n",
    "    # YOUR CODE HERE\n",
    "    raise NotImplementedError()"
   ]
  },
  {
   "cell_type": "code",
   "execution_count": null,
   "id": "wooden-former",
   "metadata": {
    "deletable": false,
    "editable": false,
    "nbgrader": {
     "cell_type": "code",
     "checksum": "9e7360bcdc6d17912f0e15ddf423fc91",
     "grade": true,
     "grade_id": "cell-8ecb4f4380ba6c94",
     "locked": true,
     "points": 0,
     "schema_version": 3,
     "solution": false,
     "task": false
    }
   },
   "outputs": [],
   "source": [
    "secret = ExtCipher('Skriptsprachen')\n",
    "secret.encrypt('Viel')\n",
    "assert secret.decrypt('Skriptsprachen')==\"Viel\"\n",
    "secret+=\" Spass!\"\n",
    "assert secret.decrypt('Skriptsprachen')==\"Viel Spass!\""
   ]
  },
  {
   "cell_type": "markdown",
   "id": "handy-delivery",
   "metadata": {},
   "source": [
    "**Erweiterung II:**\n",
    "\n",
    "Es Soll eine Klasse `ICypher` (für *interactive Cypher*) erstellt werden, die von der Klasse `Cipher` erbt.\n",
    "Statt im Klartext soll nun die Eingabe des Passworts immer interaktiv erfolgen.\n",
    "\n",
    "Normalerweise können Sie Benutzereingaben mit der Funktion `input()` interaktiv abfragen.\n",
    "Dabei erscheint allerdings der eingegebene Text im Klartext.\n",
    "Über das Modul `getpass` und die darin enthaltene Funktion gleichen Namens, können Sie maskierte Eingaben tätigen.\n",
    "Verwenden Sie also die Funktion `getpass()` um die Passworte abzufragen.\n",
    "\n",
    "Schreiben Sie möglichst wenig zusätzlichen Code und übernehmen Sie möglichst Methoden und Attribute der Elternklasse."
   ]
  },
  {
   "cell_type": "code",
   "execution_count": null,
   "id": "duplicate-minister",
   "metadata": {
    "deletable": false,
    "nbgrader": {
     "cell_type": "code",
     "checksum": "067a6a2cecfede0bf1d18a16d773c12c",
     "grade": false,
     "grade_id": "cell-b8845118e896ad60",
     "locked": false,
     "schema_version": 3,
     "solution": true,
     "task": false
    }
   },
   "outputs": [],
   "source": [
    "from getpass import getpass\n",
    "\n",
    "# YOUR CODE HERE\n",
    "raise NotImplementedError()"
   ]
  },
  {
   "cell_type": "code",
   "execution_count": null,
   "id": "coupled-attribute",
   "metadata": {
    "deletable": false,
    "editable": false,
    "nbgrader": {
     "cell_type": "code",
     "checksum": "cd5bc4b1eeb2485f82cdb89b7a2c50e9",
     "grade": true,
     "grade_id": "cell-745c246fa8038ee3",
     "locked": true,
     "points": 0,
     "schema_version": 3,
     "solution": false,
     "task": false
    }
   },
   "outputs": [],
   "source": [
    "def _getpass():\n",
    "    return \"Test\"\n",
    "\n",
    "orig = getpass\n",
    "getpass = _getpass\n",
    "secret = ICipher()\n",
    "secret.encrypt('Hallo Welt!')\n",
    "print(secret.encrypted)\n",
    "print(secret.decrypt())\n",
    "assert secret.decrypt()==\"Hallo Welt!\"\n",
    "getpass = orig"
   ]
  },
  {
   "cell_type": "code",
   "execution_count": null,
   "id": "beneficial-morgan",
   "metadata": {},
   "outputs": [],
   "source": []
  }
 ],
 "metadata": {
  "kernelspec": {
   "display_name": "Python 3",
   "language": "python",
   "name": "python3"
  },
  "language_info": {
   "codemirror_mode": {
    "name": "ipython",
    "version": 3
   },
   "file_extension": ".py",
   "mimetype": "text/x-python",
   "name": "python",
   "nbconvert_exporter": "python",
   "pygments_lexer": "ipython3",
   "version": "3.7.6"
  }
 },
 "nbformat": 4,
 "nbformat_minor": 5
}
