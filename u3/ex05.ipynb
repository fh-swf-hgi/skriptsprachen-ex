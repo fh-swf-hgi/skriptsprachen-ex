{
 "cells": [
  {
   "cell_type": "markdown",
   "id": "distinguished-recorder",
   "metadata": {},
   "source": [
    "<figure>\n",
    "  <IMG SRC=\"https://upload.wikimedia.org/wikipedia/commons/thumb/d/d5/Fachhochschule_Südwestfalen_20xx_logo.svg/320px-Fachhochschule_Südwestfalen_20xx_logo.svg.png\" WIDTH=250 ALIGN=\"right\">\n",
    "</figure>\n",
    "\n",
    "# Skriptsprachen\n",
    "### Sommersemester 2021\n",
    "Prof. Dr. Heiner Giefers"
   ]
  },
  {
   "cell_type": "markdown",
   "metadata": {
    "slideshow": {
     "slide_type": "slide"
    }
   },
   "source": [
    "## Datentypen"
   ]
  },
  {
   "cell_type": "markdown",
   "metadata": {
    "slideshow": {
     "slide_type": "skip"
    }
   },
   "source": [
    "### Der NoneType\n",
    "\n",
    "Vermutlich kennen Sie folgende Situation bereits von anderen Programmiersprachen: Bei der Programmierung möchten Sie gelegentlich ausdrücken möchte, dass etwas **nicht** existiert, bzw. dass eine Referenz auf ein Objekt nicht initialisiert ist.\n",
    "\n",
    "Referenzen (und Pointer) sind Verweise auf Objekte.\n",
    "\n",
    "Wenn nun die Referenz existiert, nicht aber das Objekt auf das sie verweisen soll, so gibt man der Referenz einen ganz speziellen *Null*-Wert.\n",
    "\n",
    "Bei den Zeigern in C/C++ ist das die Adresse mit dem Wert 0 (`NULL`), in Java die `null`-Referenz.\n",
    "\n",
    "Auch in Python gibt es eine solche Referenz.\n",
    "Sie hat den Wert (bzw. den Namen) `None` und ist selbst vom Typ `NoneType`."
   ]
  },
  {
   "cell_type": "code",
   "execution_count": null,
   "metadata": {
    "slideshow": {
     "slide_type": "skip"
    }
   },
   "outputs": [],
   "source": [
    "def returnNone():\n",
    "    return\n",
    "\n",
    "x = returnNone()\n",
    "print(x, type(x))"
   ]
  },
  {
   "cell_type": "markdown",
   "metadata": {
    "slideshow": {
     "slide_type": "skip"
    }
   },
   "source": [
    "### Operatoren\n",
    "\n",
    "Die wichtigsten Operatoren haben wir bereits im letzten Arbeitsblatt kennengelernt. Für alle elementaren Datentypen und auch die zusammengesetzten Datentypen sind verschiedenen Operatoren definiert.\n",
    "Bei numerischen Ausdrücken haben die Operationen (`+`, `-`, `*`, `/`) ihre übliche Bedeutung.\n",
    "\n",
    "Der Operator `//` berechnet die ganzzahlige Division zweier Zahlen, der Modulo-Operator `%` den ganzzahligen Rest einer Integer Division.\n",
    "\n",
    "Dazu gibt es noch den Potenz-Operator `**`.\n",
    "\n",
    "Für den ganzzahligen Datentyp int sind zusätzlich Bit-Operationen definiert. Dies sind das bitweise AND (`&`), OR (`|`) und XOR (`^`) sowie das Bit-Komplement (`~x`) einer Zahl `x`. Auch Bit-Verschiebungen (bit shifts) sind mit den Operatoren `<<` (shift links) und `>>` (shift rechts) möglich."
   ]
  },
  {
   "cell_type": "code",
   "execution_count": null,
   "metadata": {
    "slideshow": {
     "slide_type": "skip"
    }
   },
   "outputs": [],
   "source": [
    "3 << 3"
   ]
  },
  {
   "cell_type": "markdown",
   "metadata": {
    "slideshow": {
     "slide_type": "skip"
    }
   },
   "source": [
    "Operatoren sind auch für nicht-arithmetische Datentypen, wie etwa `str` (String) oder zusammengesetzte Datentypen wie Tupel oder Listen definiert.\n",
    "\n",
    "Eine Konkatenation von Strings mit dem Operator `+` haben wir bereits gesehen.\n",
    "\n",
    "Mit den `*`-Operator kann man Strings zusätzlich multiplizieren."
   ]
  },
  {
   "cell_type": "code",
   "execution_count": null,
   "metadata": {
    "slideshow": {
     "slide_type": "skip"
    }
   },
   "outputs": [],
   "source": [
    "print(\"Blah \"*3)"
   ]
  },
  {
   "cell_type": "markdown",
   "metadata": {
    "slideshow": {
     "slide_type": "skip"
    }
   },
   "source": [
    "Als Vergleichsoperatoren stehen `==` (gleich), `!=` (ungleich), `<` (kleiner), `>` (größer), `<=` (kleiner oder gleich) und `>=` (größer oder gleich) zur verfügung.\n",
    "\n",
    "Das Ergebnis einer Vergleichsoperation ist vom Typ `bool`."
   ]
  },
  {
   "cell_type": "code",
   "execution_count": null,
   "metadata": {
    "slideshow": {
     "slide_type": "skip"
    }
   },
   "outputs": [],
   "source": [
    "x = 12 > 12\n",
    "type(x)"
   ]
  },
  {
   "cell_type": "markdown",
   "metadata": {
    "slideshow": {
     "slide_type": "skip"
    }
   },
   "source": [
    "Bool'sche Ausdrücke selbst können mit logischen Operatoren verbunden werden.\n",
    "\n",
    "Hier benutzt Python eine etwas andere Syntax wie z.B. C oder Java, indem die Operatoren *ausgeschrieben* werden.\n",
    "\n",
    "`not` invertiert einen logsichen Ausdruck, mit `and` und `or` verknüpft man zwei logische Ausdrücke mit einem logischen UND, bzw. ODER."
   ]
  },
  {
   "cell_type": "markdown",
   "metadata": {
    "slideshow": {
     "slide_type": "skip"
    }
   },
   "source": [
    "**Aufgabe:** Ein logisches XOR gibt es nicht. Wie können sie es mit den existierenden logischen Operatoren realisieren?"
   ]
  },
  {
   "cell_type": "code",
   "execution_count": null,
   "metadata": {
    "deletable": false,
    "nbgrader": {
     "cell_type": "code",
     "checksum": "128d447654afc8361866f7eee6e98f50",
     "grade": false,
     "grade_id": "cell-f24a008788937855",
     "locked": false,
     "schema_version": 3,
     "solution": true,
     "task": false
    },
    "slideshow": {
     "slide_type": "skip"
    }
   },
   "outputs": [],
   "source": [
    "print('x\\ty\\tx XOR y')\n",
    "print('------------------------')\n",
    "a = [True, False]\n",
    "b = [True, False]\n",
    "# YOUR CODE HERE\n",
    "raise NotImplementedError()"
   ]
  },
  {
   "cell_type": "code",
   "execution_count": null,
   "metadata": {
    "deletable": false,
    "editable": false,
    "nbgrader": {
     "cell_type": "code",
     "checksum": "d25b4cfc09ea901e3944012448ce8166",
     "grade": true,
     "grade_id": "cell-b694f1a71236cef2",
     "locked": true,
     "points": 1,
     "schema_version": 3,
     "solution": false,
     "task": false
    }
   },
   "outputs": [],
   "source": [
    "from io import StringIO\n",
    "from unittest.mock import patch\n",
    "from IPython import get_ipython\n",
    "ipython = get_ipython()\n",
    "\n",
    "\n",
    "with patch('sys.stdout', new_callable=StringIO) as screen:\n",
    "    ipython.magic('rerun')\n",
    "\n",
    "# str is converted to bool\n",
    "i = screen.getvalue().find('Output')\n",
    "s = screen.getvalue()[i:].split('\\n')\n",
    "s = [[i == 'True' for i in line.split()] for line in s[3:-1]]\n",
    "for i in s:\n",
    "    if ((i[0] or i[1]) and not(i[0] and i[1])) != i[2]:\n",
    "        print('Results are not consistent!')\n",
    "        raise"
   ]
  },
  {
   "cell_type": "markdown",
   "metadata": {
    "slideshow": {
     "slide_type": "skip"
    }
   },
   "source": [
    "Kurzauswertungen sind nach dem Muster `<Operator>=` möglich.\n",
    "Beispielsweise entspricht `x*=3` dem Ausdruck `x=x*3`.\n",
    "\n",
    "Inkrement/Dekrement Operatoren wie in C oder Java existieren in Python allerdings nicht.\n",
    "Sie werden üblicherweise durch eine Kurzauswertungs-Schreibweise ersetzt, also z.B. `x+=1`."
   ]
  },
  {
   "cell_type": "markdown",
   "metadata": {
    "slideshow": {
     "slide_type": "slide"
    }
   },
   "source": [
    "### Sequenzielle Datentypen"
   ]
  },
  {
   "cell_type": "markdown",
   "metadata": {
    "slideshow": {
     "slide_type": "subslide"
    }
   },
   "source": [
    "Unter sequenziellen Datentypen wird eine Klasse von Datentypen zusammengefasst, die Folgen von **gleichartigen oder verschiedenen** Elementen verwalten.\n",
    "Die in sequenziellen Datentypen gespeicherten Elemente haben eine definierte Reihenfolge und man kann über eindeutige Indizes auf sie zugreifen.\n",
    "\n",
    "Den sequenziellen Datentyp `str` haben wir schon kennengelernt, er speicherteine folge von Zeichen, auch *zeichenkette* oder *String* genannt.\n",
    "Der Typ `bytes` (bzw. seine veränderliche Variante `bytearray`) ist den Strings ähnlich, verwaltet aber Folgen von Bytes (statt Zeichen).\n",
    "`bytes` ist in Python der Standardtyp um mit Binärdaten umzugehen.\n",
    "\n",
    "Neben Strings werden in Python häufig auch die sequenziellen Datentypen `list` und `tuple` eingesetzt.\n",
    "Mit ihnen können geordente Folgen von Objekten (bzw. von den Refeferenzen der Objekte) gespeichert werden."
   ]
  },
  {
   "cell_type": "markdown",
   "metadata": {
    "slideshow": {
     "slide_type": "subslide"
    }
   },
   "source": [
    "\n",
    "\n",
    "| <p align=\"left\">Modus | <p align=\"left\">Beschreibung | <p align=\"left\"> Veränderbarkeit |\n",
    "| --- | --- | --- |\n",
    "| <p align=\"left\"> `list` | <p align=\"left\"> Listen beliebiger Instanzen | <p align=\"left\"> veränderlich |\n",
    "| <p align=\"left\"> `tuple` | <p align=\"left\"> Listen beliebiger Instanzen unveränderlich | <p align=\"left\"> unveränderlich |\n",
    "| <p align=\"left\"> `str` | <p align=\"left\"> Text als Sequenz von Buchstaben | <p align=\"left\"> unveränderlich |\n",
    "| <p align=\"left\"> `bytes` | <p align=\"left\"> Binärdaten als Sequenz von Bytes | <p align=\"left\"> unveränderlich |\n",
    "| <p align=\"left\"> `bytearray` | <p align=\"left\"> Binärdaten als Sequenz von Bytes | <p align=\"left\"> veränderlich |\n",
    "\n",
    "\n",
    "Sequenzielle Datentypen untestüzen eine Reihe von Operationen die den Umgang mit den Daten erleichtern.\n",
    "Folgende Tabelle gibt einen Überblick über die Operatoren und Funktionen die auf sequenziellen Datentypen definiert sind (Quelle: Lehrbuch Site 148f.):"
   ]
  },
  {
   "cell_type": "markdown",
   "metadata": {
    "slideshow": {
     "slide_type": "subslide"
    }
   },
   "source": [
    "| <p align=\"left\"> Notation | <p align=\"left\"> Beschreibung |\n",
    "| :--- | :--- |\n",
    "| <p align=\"left\"> `x in s` | <p align=\"left\"> Prüft, ob x in s enthalten ist. Das Ergebnis ist ein Wahrheitswert. |\n",
    "| <p align=\"left\"> `x not in s` | <p align=\"left\"> Prüft, ob x nicht in s enthalten ist. Das Ergebnis ist eine bool-Instanz. Gleichwertig mit not x in s. |\n",
    "| <p align=\"left\"> `s + t` | <p align=\"left\"> Das Ergebnis ist eine neue Sequenz, die die Verkettung von s und t enthält. |\n",
    "| <p align=\"left\"> `s += t` | <p align=\"left\"> Erzeugt die Verkettung von s und t und weist sie s zu. |"
   ]
  },
  {
   "cell_type": "markdown",
   "metadata": {
    "slideshow": {
     "slide_type": "subslide"
    }
   },
   "source": [
    "| <p align=\"left\"> Notation | <p align=\"left\"> Beschreibung |\n",
    "| :--- | :--- |\n",
    "| <p align=\"left\"> `s * n oder n * s` | <p align=\"left\"> Liefert eine neue Sequenz, die die Verkettung von n Kopien von s enthält. |\n",
    "| <p align=\"left\"> `s *= n` | <p align=\"left\"> Erzeugt das Produkt s * n und weist es s zu. |\n",
    "| <p align=\"left\"> `s[i]` | <p align=\"left\"> Liefert das i-te Element von s. |\n",
    "| <p align=\"left\"> `s[i:j]` | <p align=\"left\"> Liefert den Ausschnitt aus s von i bis j. |\n",
    "| <p align=\"left\"> `s[i:j:k]` | <p align=\"left\"> Liefert den Ausschnitt aus s von i bis j, wobei nur jedes k-te Element beachtet wird. |"
   ]
  },
  {
   "cell_type": "markdown",
   "metadata": {
    "slideshow": {
     "slide_type": "subslide"
    }
   },
   "source": [
    "| <p align=\"left\"> Notation | <p align=\"left\"> Beschreibung |\n",
    "| :--- | :--- |\n",
    "| <p align=\"left\"> `len(s)` | <p align=\"left\"> Gibt die Anzahl der Elemente von s zurück. |\n",
    "| <p align=\"left\"> `max(s)` | <p align=\"left\"> Liefert das größte Element von s, sofern eine Ordnungsrelation für die Elemente definiert ist. |\n",
    "| <p align=\"left\"> `min(s)` | <p align=\"left\"> Liefert das kleinste Element von s, sofern eine Ordnungsrelation für die Elemente definiert ist. |\n",
    "| <p align=\"left\"> `s.index(x)` | <p align=\"left\"> Gibt den Index des ersten Vorkommens von x in der Sequenz s zurück. |\n",
    "| <p align=\"left\"> `s.count(x)` | <p align=\"left\"> Zählt, wie oft x in der Sequenz s vorkommt. |"
   ]
  },
  {
   "cell_type": "markdown",
   "metadata": {
    "slideshow": {
     "slide_type": "subslide"
    }
   },
   "source": [
    "#### Listen\n",
    "\n",
    "Listen sind eine sequentielle Anordnung die beliebige (Referenzen auf) Objekte aufnehmen kann.\n",
    "Erinnern Sie sich, dass in Python *alles* ein Objekt ist, also auch Elemente von Basis-Typen wie `ìnt`, `float`, oder `string`.\n",
    "Beispiele für Listen sind etwa:\n",
    "```python\n",
    "a = [1, 2.4, \"Hallo\"]\n",
    "b = [6, 2, [False, True, False], 44]\n",
    "```\n",
    "Alle sequenziellen Datentypen haben gemein, dass ihre Elemente eine feste Anordnung haben und über einen fortlaufenden Index adressierbar sind.\n",
    "So liefert `a[2]` den String `Hallo`, `b[2][1]` den Wert `True`.\n",
    "\n",
    "Wie die Beispiele zeigen, werden Listen in Python angelegt, indem die Elemente in eckige Klammern `[...]` geschrieben werden.\n",
    "So lässt sich auch eine leere Liste mit `a = []` anlegen."
   ]
  },
  {
   "cell_type": "markdown",
   "metadata": {
    "slideshow": {
     "slide_type": "subslide"
    }
   },
   "source": [
    "Für Listen existieren die Funktionen:\n",
    "- `l.append(e)` zum Anängen des Objekts `e` an das Ende der Liste `l`\n",
    "- `l.extend(m)` zum Anängen aller Elemente von `m` an das Ende der Liste `l`\n",
    "- `l.insert(i, e)` Einfügen des Objekts `e` an der Stelle `i` in die Liste `l`. Die anderen Elemente in `l` rücken von der Position `i` (einschließlich) um eine Position nach hinten\n",
    "- `l.pop([i])` Liefert das `i`-te Element der Liste `l` zurück und entfernt es aus der Liste. Die folgenden Elemente rücken um eine Position nach vorne. Der Parameter `i` ist optional. Fehlt er, wird das letzte Element der Liste entnommen\n",
    "- `l.remove(e)` Entfernt das erste Vorkommen von `e` aus der Liste `l`\n",
    "- `l.reverse()` Kehrt die Reihenfolge der Elemente in s um\n",
    "- `l.sort()` Sortiert die Liste `l` *in-place* (es wird keine neue Liste erzeugt)"
   ]
  },
  {
   "cell_type": "code",
   "execution_count": null,
   "metadata": {
    "slideshow": {
     "slide_type": "subslide"
    }
   },
   "outputs": [],
   "source": [
    "x = [4,3,2,1]\n",
    "print(id(x), x)\n",
    "x.append(5)\n",
    "print(id(x), x, \"(Hänge ein Element an:)\")\n",
    "x+=[6]\n",
    "print(id(x), x, \"(Verbinde 2 Listen mit '+')\")\n",
    "x=x+[7]\n",
    "print(id(x), x, \"(Die Zuweisung mit '=' erzeugt eine neue Liste)\")\n",
    "x.sort()\n",
    "print(id(x), x, \"(Sortieren)\")\n",
    "y = [9,9,9]\n",
    "x.extend(y)\n",
    "print(id(x), x, \"(Verbinde 2 Listen mit extend())\")\n",
    "x.append(y)\n",
    "print(id(x), x, \"(Anhängen eines Elements vom Typ list)\")\n",
    "x.pop(0) \n",
    "print(id(x), x, \"(Entnehmen des ersten Elements)\")"
   ]
  },
  {
   "cell_type": "markdown",
   "metadata": {
    "slideshow": {
     "slide_type": "slide"
    }
   },
   "source": [
    "**Aufgabe:** Gegeben seien die folgenden Listen `a` und `b`:\n",
    "```python\n",
    "a = [2, 3, 5, 7, 11, 13, 17, 19, 23, 29, 31]\n",
    "b = [1, 2, 3, 4, 5, 6, 7, 8, 9, 10, 11, 12, 13]\n",
    "```\n",
    "Berechnen Sie eine neue Liste `c`, die alle Elemente von `a` enthält die **nicht** in `b` sind."
   ]
  },
  {
   "cell_type": "code",
   "execution_count": null,
   "metadata": {
    "deletable": false,
    "nbgrader": {
     "cell_type": "code",
     "checksum": "59be4d2930447a203f6507f8ea61fae5",
     "grade": false,
     "grade_id": "cell-e29ea230a74f7b55",
     "locked": false,
     "schema_version": 3,
     "solution": true,
     "task": false
    },
    "slideshow": {
     "slide_type": "fragment"
    }
   },
   "outputs": [],
   "source": [
    "a = [2, 3, 5, 7, 11, 13, 17, 19, 23, 29, 31]\n",
    "b = [1, 2, 3, 4, 5, 6, 7, 8, 9, 10, 11, 12, 13]\n",
    "c = None\n",
    "# YOUR CODE HERE\n",
    "raise NotImplementedError()"
   ]
  },
  {
   "cell_type": "code",
   "execution_count": null,
   "metadata": {
    "deletable": false,
    "editable": false,
    "nbgrader": {
     "cell_type": "code",
     "checksum": "ff96497b2f3d3c2d6168b400833a41eb",
     "grade": true,
     "grade_id": "cell-15a138096033801a",
     "locked": true,
     "points": 1,
     "schema_version": 3,
     "solution": false,
     "task": false
    }
   },
   "outputs": [],
   "source": [
    "assert c == [17, 19, 23, 29, 31], 'Results are incorrect'\n",
    "\n",
    "with patch('sys.stdout', new_callable=StringIO) as screen:\n",
    "    ipython.magic('rerun')\n",
    "    \n",
    "if 'for' not in screen.getvalue(): print('Try using a for loop')\n",
    "    \n",
    "print(c)"
   ]
  },
  {
   "cell_type": "markdown",
   "metadata": {
    "slideshow": {
     "slide_type": "slide"
    }
   },
   "source": [
    "#### Veränderbare und nicht-veränderbare Objekte\n",
    "\n",
    "Python unterscheidet zwischen veränderbaren und unveränderbaren Objekten.\n",
    "\n",
    "Instanzen von Basistypen sind unveränderbar.\n",
    "\n",
    "Das bedeutet, wenn Sie einer existierenden Variablen `x` einen neuen Wert zuweisen, so wird ein *neues Objekt* angelegt und der Variablen zugewiesen."
   ]
  },
  {
   "cell_type": "code",
   "execution_count": null,
   "metadata": {
    "slideshow": {
     "slide_type": "fragment"
    }
   },
   "outputs": [],
   "source": [
    "x = 1.2\n",
    "print(id(x))\n",
    "y = 1.2\n",
    "print(id(x))"
   ]
  },
  {
   "cell_type": "markdown",
   "metadata": {
    "slideshow": {
     "slide_type": "subslide"
    }
   },
   "source": [
    "Auch eine Kurzauswertungsoperation führt zum Anlegen eines neuen Objekts."
   ]
  },
  {
   "cell_type": "code",
   "execution_count": null,
   "metadata": {
    "slideshow": {
     "slide_type": "fragment"
    }
   },
   "outputs": [],
   "source": [
    "x = 1234\n",
    "print(id(x), x)\n",
    "x += 1\n",
    "print(id(x), x)"
   ]
  },
  {
   "cell_type": "markdown",
   "metadata": {
    "slideshow": {
     "slide_type": "subslide"
    }
   },
   "source": [
    "Unveränderbare (**immutable**) Objekte haben einigen Vorteile gegenüber veränderbaren (**mutable**) Objekten.\n",
    "Die Unveränderbarkeit von Objekten verhindert Seiteneffekte.\n",
    "Das bedeutet, wenn man ein immutable Object benutzt, kann man sicher sein, dass die Werte des Objekts nicht an anderer Stelle geändert wurden.\n",
    "Betrachten wir folgendes Beispiel:\n",
    "```python\n",
    "x = [1,2,3]\n",
    "y = x\n",
    "print(x is y)\n",
    "x[0] = 42\n",
    "print(y)\n",
    "```\n",
    "```\n",
    "True\n",
    "[42, 2, 3]\n",
    "```"
   ]
  },
  {
   "cell_type": "markdown",
   "metadata": {
    "slideshow": {
     "slide_type": "fragment"
    }
   },
   "source": [
    "Die Variablen `x` und `y` zeigen hier auf dasselbe Objekt, was belegt wird, durch die Überprüfung der Identität von `x` und `y` mit dem `is`-Operator.\n",
    "Durch Verändern von `x` wird nun gleichzeitig `y` verändert, schließlich referenzieren die beiden Variablen ja dasselbe Listen-Objekt."
   ]
  },
  {
   "cell_type": "markdown",
   "metadata": {
    "slideshow": {
     "slide_type": "subslide"
    }
   },
   "source": [
    "Wenn `x` und `y` unveränderbar wären, dann wäre die Zuweisung `x[0] = 42` nicht möglich.\n",
    "\n",
    "In diesem Fall müsste eine neue Liste mit `x = [42,2,3]` angelegt werden.\n",
    "Aber nun ist `x` aber ein neues Objekt, das von `y` verschieden ist.\n",
    "\n",
    "Durch das Unveränderbarmachen eines Datentyps erreicht man also, dass die Art Seiteneffekte nicht entstehen.\n",
    "Ein weiterer Vorteil von unveränderbaren Typen ist, dass sich die Daten im Speicher in kompakterer Form darstellen lassen."
   ]
  },
  {
   "cell_type": "markdown",
   "metadata": {
    "slideshow": {
     "slide_type": "fragment"
    }
   },
   "source": [
    "Allerdings haben immutable Objekte auch Nachteile.\n",
    "Wenn Sie ein Objekt verändern, also z.B. eine Sequenz erweitern, oder ein Element aus der Sequenz löschen wollen, müssen Sie die komplette Sequenz kopieren und als neues Objekt anlegen.\n",
    "\n",
    "Kommt das Verändern häufiger vor oder besteht die Sequenz aus vielen Elementen, so bringt die Unveränderbarkeit deutliche Performance-Einbußen mit sich."
   ]
  },
  {
   "cell_type": "markdown",
   "metadata": {
    "slideshow": {
     "slide_type": "subslide"
    }
   },
   "source": [
    "**Achtung:** Ein Objekt eines unveränderbaren Datentyps kann selbst wieder Objekte von veränderbaren Typen enthalten.\n",
    "Im folgenden Beispiel ist die (veränderbare) Liste `x` teil des (unveränderbaren) Tupels `y`.\n",
    "Wenn `x` geändert wird, ändert sich implizit auch `y` mit."
   ]
  },
  {
   "cell_type": "code",
   "execution_count": null,
   "metadata": {
    "slideshow": {
     "slide_type": "fragment"
    }
   },
   "outputs": [],
   "source": [
    "x = [1,2,3]\n",
    "y = (1,2,x)\n",
    "print(y)\n",
    "x[0]=44\n",
    "print(y)"
   ]
  },
  {
   "cell_type": "markdown",
   "metadata": {
    "slideshow": {
     "slide_type": "slide"
    }
   },
   "source": [
    "#### Tupel\n",
    "\n",
    "Der Datentyp `tuple` ist die unveränderbare Variante des Typs `list`.\n",
    "Durch die Tatsache, das einmal erzeugte Tupel nicht mehr verändert werden können, entfallen viele der Funktionalitäten der Listen.\n",
    "Funktionen wie `append`, `extend` oder `pop` ergeben für Tupel keinen Sinn.\n",
    "\n",
    "Tupel werden über eine mit Komma getrennte Liste von Elementen erzeugt.\n",
    "Optional kann das Tupel in runde Klammern gesetzt werden.\n",
    "Durch die Klammern erkennt man auch bei der Ausgabe, dass es sich um einen Tupel-Typ handelt."
   ]
  },
  {
   "cell_type": "code",
   "execution_count": null,
   "metadata": {
    "slideshow": {
     "slide_type": "fragment"
    }
   },
   "outputs": [],
   "source": [
    "x = 1,2,3\n",
    "y = ('A',4,5.6)\n",
    "print(x)\n",
    "print(y)"
   ]
  },
  {
   "cell_type": "markdown",
   "metadata": {
    "slideshow": {
     "slide_type": "subslide"
    }
   },
   "source": [
    "Eine Ausnahme besteht beim Anlegen eines Tupels mit nur einem Element.\n",
    "\n",
    "Angenommen, wir wollen ein Tupel `x`erstellen, das nur die Zahl `1` als Element enthält.\n",
    "Bei der Schreibweise `x = 1` wird die `1`natürlich nicht als Tupel interpretiert.\n",
    "Aber auch die Schreibweise `x = (1)` ist widersprüchlich, denn `(1)` ist eine geklammerte Integer-Zahl.\n",
    "\n",
    "Um diese Mehrdeutigkeiten auszuschließen, wird bei einem Tupel, das aus nur einem Element bestehen soll, ein Komma hinter das Element gesetzt.\n",
    "Damit ist es für den Python Interpreter klar, dass es sich um ein Tupel handeln soll."
   ]
  },
  {
   "cell_type": "code",
   "execution_count": null,
   "metadata": {
    "slideshow": {
     "slide_type": "fragment"
    }
   },
   "outputs": [],
   "source": [
    "a = (2)\n",
    "print(type(a))\n",
    "x = 1,\n",
    "y = (2.0,)\n",
    "print(type(x), x)\n",
    "print(type(y), y)"
   ]
  },
  {
   "cell_type": "markdown",
   "metadata": {
    "slideshow": {
     "slide_type": "subslide"
    }
   },
   "source": [
    "Über die Konvertierungsfunktionen `list()` und `tuple()` lassen sich Listen bzw.\n",
    "Tupel aus Objekten anderer sequenzielle Datentypen erzeugen.\n",
    "\n",
    "Um aus einem Tupel oder eine Liste einen String zu machen, genügt die `str()` Funktion allerdings nicht.\n",
    "Hier hilft die Methode `c.join(s)`, die, aufgerufen auf einem Zeichen `c`, die Elemente von `s` mit dem Trennzeichen `c` zu einem String verbindet."
   ]
  },
  {
   "cell_type": "code",
   "execution_count": null,
   "metadata": {
    "slideshow": {
     "slide_type": "fragment"
    }
   },
   "outputs": [],
   "source": [
    "s = \"ABC\"\n",
    "t = tuple(s)\n",
    "print(type(t), t)\n",
    "l = list(t)\n",
    "print(type(l), l)\n",
    "l[2]='B'\n",
    "s = '-'.join(l)\n",
    "print(type(s), s)"
   ]
  },
  {
   "cell_type": "markdown",
   "metadata": {
    "slideshow": {
     "slide_type": "slide"
    }
   },
   "source": [
    "#### Packing / Unpacking\n",
    "\n",
    "Wir haben gesehen, dass man die runden Klammern beim Erstellen von Tupel weglassen kann.\n",
    "Diese Eigenschaft nennt man auch *tuple packing*.\n",
    "Ein ähnliches Prinzip, genannt *unpacking*, gibt es auch bei der Zuweisung eines Tupels oder einer Liste auf mehrere Variable.\n",
    "\n",
    "Ist die rechte Seite einer Zuweisung ein Objekt eines sequenziellen Datentyps, kann dieses auf mehrere Zielvariable zugewiesen werden.\n",
    "Im unteren Beispiel wird der String `\"123\"` der Variablen `x` zugewiesen.\n",
    "`x` besitzt also einen sequenziellen Datentyp und hat 3 Elemente.\n",
    "Wir können daher `x` auf 3 andere Variable zuweisen."
   ]
  },
  {
   "cell_type": "code",
   "execution_count": null,
   "metadata": {
    "slideshow": {
     "slide_type": "fragment"
    }
   },
   "outputs": [],
   "source": [
    "x = \"123\"\n",
    "print(x[1])\n",
    "a,b,c = x\n",
    "b"
   ]
  },
  {
   "cell_type": "code",
   "execution_count": null,
   "metadata": {
    "slideshow": {
     "slide_type": "subslide"
    }
   },
   "outputs": [],
   "source": [
    "a = [\"Primzahlen\", [2, 3, 5, 7, 11, 13, 17, 19, 23, 29, 31]]\n",
    "name, l = a \n",
    "print(name)\n",
    "print(l)"
   ]
  },
  {
   "cell_type": "markdown",
   "metadata": {
    "slideshow": {
     "slide_type": "subslide"
    }
   },
   "source": [
    "Mit Unpacking hat man auch eine äußerst kompakte Möglichkeit, um die Werte mehrerer Variablen zu vertauschen:"
   ]
  },
  {
   "cell_type": "code",
   "execution_count": null,
   "metadata": {
    "slideshow": {
     "slide_type": "fragment"
    }
   },
   "outputs": [],
   "source": [
    "a, b = 10, 20\n",
    "a, b = b, a\n",
    "a"
   ]
  },
  {
   "cell_type": "markdown",
   "metadata": {
    "slideshow": {
     "slide_type": "subslide"
    }
   },
   "source": [
    "Es kommt relativ häufig vor, dass man nur eins oder wenige Elemente einer Sequenz \"auspacken\" möchte.\n",
    "Da die Anzahl der Elemente in einer Sequenz groß sein kann, wäre es äußerst unpraktisch, wenn man immer die genaue Zahl von Einzelvariablen auf der linken Seite der Zuweisung angeben müsste.\n",
    "Es gibt daher einen speziellen Operator, mit dem eine Variable als Sequenz-Typ markiert werden kann.\n",
    "Diese Sequenz-Variable übernimmt dann die Werte, die nicht auf die Einzelvariablen zugewiesen werden."
   ]
  },
  {
   "cell_type": "code",
   "execution_count": null,
   "metadata": {
    "slideshow": {
     "slide_type": "fragment"
    }
   },
   "outputs": [],
   "source": [
    "p = [2, 3, 5, 7, 11, 13, 17, 19, 23, 29, 31]\n",
    "p0, p1, p2, *px = p\n",
    "px"
   ]
  },
  {
   "cell_type": "markdown",
   "metadata": {
    "slideshow": {
     "slide_type": "fragment"
    }
   },
   "source": [
    "Die Aufteilung der Werte auf die Variablen muss dabei eindeutig sein.\n",
    "Folgende Zuweisung funktioniert daher nicht:"
   ]
  },
  {
   "cell_type": "code",
   "execution_count": null,
   "metadata": {
    "slideshow": {
     "slide_type": "fragment"
    }
   },
   "outputs": [],
   "source": [
    "p = [2, 3, 5, 7, 11, 13, 17, 19, 23, 29, 31]\n",
    "*pa, pm, *pe = p\n",
    "pa"
   ]
  },
  {
   "cell_type": "markdown",
   "metadata": {
    "slideshow": {
     "slide_type": "slide"
    }
   },
   "source": [
    "**Aufgabe:** Schreiben Sie eine Funktion `fib(n)`, die die `n`-te Fibonacci-Zahl **sowie** die Fibonacci-Folge vom ersten bis `n`-ten Element zurückliefert."
   ]
  },
  {
   "cell_type": "code",
   "execution_count": null,
   "metadata": {
    "deletable": false,
    "nbgrader": {
     "cell_type": "code",
     "checksum": "4a875f9ea1707a23b13ae80d33d442d1",
     "grade": false,
     "grade_id": "cell-2fa576708d9d1bee",
     "locked": false,
     "schema_version": 3,
     "solution": true,
     "task": false
    },
    "slideshow": {
     "slide_type": "fragment"
    }
   },
   "outputs": [],
   "source": [
    "def fib(n):\n",
    "    '''\n",
    "    This function returns a tuple of two objects (b,f):\n",
    "    b: Fibonacci Number.\n",
    "    f: a list containing the Fibonacci sequence from the first to the n-th element.\n",
    "    in the case of 0th Fibonacci Number, only an integer 0 object is expected.\n",
    "    '''\n",
    "    # YOUR CODE HERE\n",
    "    raise NotImplementedError()"
   ]
  },
  {
   "cell_type": "code",
   "execution_count": null,
   "metadata": {
    "deletable": false,
    "editable": false,
    "nbgrader": {
     "cell_type": "code",
     "checksum": "3462219342d20e83551685051a9c7064",
     "grade": true,
     "grade_id": "cell-2ad6be490ca38c62",
     "locked": true,
     "points": 1,
     "schema_version": 3,
     "solution": false,
     "task": false
    }
   },
   "outputs": [],
   "source": [
    "try:\n",
    "    fib(0)\n",
    "except:\n",
    "    print('add a separate case 0!')\n",
    "    raise\n",
    "\n",
    "assert len(fib(10)) == 2, 'the function should return a tuple with two objects!'\n",
    "assert fib(0) == 0, 'For 0, only one object is expected'\n",
    "\n",
    "assert (type(fib(10)[0]), type(fib(10)[1])) == (int, list), 'a tuple of an integer and a list is expected'\n",
    "assert len(fib(10)[1]) == 10, 'Fibonacci sequence should contain n elements'\n",
    "\n",
    "# test cases\n",
    "test = [(0,0),(1,(1,[1])),(4, (3, [1, 1, 2, 3])),(9,(34,[1, 1, 2, 3, 5, 8, 13, 21, 34]))]\n",
    "assert not [a for a, b in test if fib(a) != b], 'Results are incorrect!'\n",
    "fib(10)[1]\n",
    "\n",
    "# Results\n",
    "f, v = fib(10)\n",
    "print(f)\n",
    "v"
   ]
  },
  {
   "cell_type": "markdown",
   "metadata": {
    "slideshow": {
     "slide_type": "slide"
    }
   },
   "source": [
    "Der Unpacking Operator `*` funktioniert auch an anderen Stellen, z.B. bei *Generatoren*.\n",
    "\n",
    "Generatoren sind spezielle Funktionen, die Folgen von Objekten generieren.\n",
    "\n",
    "Wir haben bereits öfter den `range()`-Generator benutzt.\n",
    "\n",
    "Um einen Generator-Aufruf direkt in eine Liste zu überführen, können wir den Unpacking Operator benutzen."
   ]
  },
  {
   "cell_type": "code",
   "execution_count": null,
   "metadata": {
    "slideshow": {
     "slide_type": "fragment"
    }
   },
   "outputs": [],
   "source": [
    "[* range(10) ]"
   ]
  },
  {
   "cell_type": "markdown",
   "metadata": {
    "slideshow": {
     "slide_type": "slide"
    }
   },
   "source": [
    "**Aufgabe:** Erstellen Sie eine Liste mit den Ungeraden Zahlen zwischen 20 und 50."
   ]
  },
  {
   "cell_type": "code",
   "execution_count": null,
   "metadata": {
    "deletable": false,
    "nbgrader": {
     "cell_type": "code",
     "checksum": "244940a3c349e631690b32d9d174fec4",
     "grade": false,
     "grade_id": "cell-0da232f1b8a33a16",
     "locked": false,
     "schema_version": 3,
     "solution": true,
     "task": false
    },
    "slideshow": {
     "slide_type": "fragment"
    }
   },
   "outputs": [],
   "source": [
    "odd_list = None\n",
    "# YOUR CODE HERE\n",
    "raise NotImplementedError()"
   ]
  },
  {
   "cell_type": "code",
   "execution_count": null,
   "metadata": {
    "deletable": false,
    "editable": false,
    "nbgrader": {
     "cell_type": "code",
     "checksum": "4a5aaf875598056849cb882ea4c3900c",
     "grade": true,
     "grade_id": "cell-e84bdf7d7635251e",
     "locked": true,
     "points": 1,
     "schema_version": 3,
     "solution": false,
     "task": false
    }
   },
   "outputs": [],
   "source": [
    "assert len(odd_list) == 15, 'There are 15 odd numbers between 20 and 50'\n",
    "for a in odd_list:  assert a%2, '%d is not odd!' %a\n",
    "    \n",
    "odd_list"
   ]
  },
  {
   "cell_type": "markdown",
   "metadata": {
    "slideshow": {
     "slide_type": "slide"
    }
   },
   "source": [
    "#### Indizierung\n",
    "\n",
    "Schon mehrfach haben wir über die Index-Klammern `[]` auf einzelne Elemente eines sequenziellen Datentyps zugegriffen.\n",
    "Es gibt aber auch die Möglichkeit, ganze Bereiche aus einer Sequenz zu selektieren.\n",
    "Diese Art Zugriffe nennt man auch *slicing*.\n",
    "\n",
    "Beim Zugriff per slicing gibt man in der Index-Klammer einen Bereich an.\n",
    "Dabei ist zu beachten, dass der Endwert als exklusiv zu interpretieren ist und damit nicht mehr zu dem Bereich gehört.\n",
    "`x[2:5]` liefert also die Elemente `x[2]`, `x[3]` und `x[4]` als Sequenz zurück.\n",
    "\n",
    "Optional kann noch ein weiterer Parameter für die Schrittweite angegeben werden.\n",
    "`x[1:10:2]` liefert z.B. die Elemente mit ungeradem Index im Bereich 1 bis 9.\n",
    "\n",
    "Eine weitere Möglichkeit der Indizierung funktioniert mit negativen Indizes.\n",
    "Mit `x[-1]` referenziert man das letzte Element der Sequenz `x`.\n",
    "Zusammen mit einer negativen Schrittweite kann man damit auch rückwärts über die Elemente der Sequenz iterieren."
   ]
  },
  {
   "cell_type": "code",
   "execution_count": null,
   "metadata": {
    "slideshow": {
     "slide_type": "subslide"
    }
   },
   "outputs": [],
   "source": [
    "z = [i for i in range(15)]\n",
    "print(z, \"(Die Liste)\")\n",
    "print(z[3], \"(Das Element mit Index 3 aus der Liste)\")\n",
    "print(z[3:12], \"(Elemente von Index 3 bis 11)\")\n",
    "print(z[3:12:2], \"(Jedes zweite Element von Index 3 bis 11)\")\n",
    "print(z[-2], \"(Das Element mit dem vorletzten Index aus der Liste)\")\n",
    "print(z[-1:-5:-1], \"(Die letzten 4 Elemente der Liste in umgekehrter Reihenfolge)\")"
   ]
  },
  {
   "cell_type": "markdown",
   "metadata": {
    "slideshow": {
     "slide_type": "slide"
    }
   },
   "source": [
    "**Aufgabe:** Die folgende Code-Zelle generiert eine (zweidimensionale) Liste von Listen mit durchnummerierten Integer Werten.\n",
    "Schreiben Sie eine Funktion `teilmatrix(A,a=0,b=0,c=0,d=0)` die eine Teilmatrix von `A` als neue zweidimensionale Liste zurückgibt.\n",
    "\n",
    "Die Teilmatrix soll die Zeilen `a` bis `b` (ausschließlich) und darin die Elemente in den Spalten `c` bis `d` (ausschließlich) umfassen.\n",
    "\n",
    "`a`, `b`,`c` und `d` sind optionale Parameter, falls sie beim Funktionsaufruf nicht angegeben werden, wird die Initialbelegung (hier `0`) angenommen.\n",
    "\n",
    "Falls die oberen Begrenzungen (`b` und `d`) nicht oder gleich 0 gesetzt sind, soll die maximale Länge der Zeilen bzw. Spalten angenommen werden."
   ]
  },
  {
   "cell_type": "code",
   "execution_count": null,
   "metadata": {
    "slideshow": {
     "slide_type": "fragment"
    }
   },
   "outputs": [],
   "source": [
    "rows = 5\n",
    "cols = 5\n",
    "A = [[y for y in range(x*cols,(x+1)*cols)] for x in range(rows)]\n",
    "A"
   ]
  },
  {
   "cell_type": "code",
   "execution_count": null,
   "metadata": {
    "deletable": false,
    "nbgrader": {
     "cell_type": "code",
     "checksum": "6c0c86edd7bb658b85a42ae0312e7a45",
     "grade": false,
     "grade_id": "cell-fc4dab982ba2e020",
     "locked": false,
     "schema_version": 3,
     "solution": true,
     "task": false
    },
    "slideshow": {
     "slide_type": "subslide"
    }
   },
   "outputs": [],
   "source": [
    "def teilmatrix(A,a=0,b=0,c=0,d=0):\n",
    "    '''\n",
    "    The function returns a slice of the original matrix A between these limits:\n",
    "    a: lower row limit\n",
    "    b: upper row limit\n",
    "    c: lower column limit\n",
    "    c: upper column limit\n",
    "    The function should address empty matrices and reset out of range limits.\n",
    "    '''\n",
    "    # YOUR CODE HERE\n",
    "    raise NotImplementedError()\n",
    "    return m"
   ]
  },
  {
   "cell_type": "code",
   "execution_count": null,
   "metadata": {
    "deletable": false,
    "editable": false,
    "nbgrader": {
     "cell_type": "code",
     "checksum": "dd16ef908d0555585ce1794e15efe028",
     "grade": true,
     "grade_id": "cell-26b292c9a2e3f6ca",
     "locked": true,
     "points": 1,
     "schema_version": 3,
     "solution": false,
     "task": false
    }
   },
   "outputs": [],
   "source": [
    "assert teilmatrix([]) == None, 'The funcion should return nothing for empty matrices.'\n",
    "assert teilmatrix([[],[]]) == None, 'The funcion should return nothing for matrices with empty rows.'\n",
    "assert (teilmatrix(A,6,0,6,0) and teilmatrix(A,6,0,6,0)[0]), 'out of range limits should be reset.'\n",
    "\n",
    "assert teilmatrix(A,3,5,0,3) == [[15, 16, 17], [20, 21, 22]], 'wrong result!'\n",
    "assert teilmatrix(A,2,4,4,5) == [[14], [19]]\n",
    "#Results\n",
    "teilmatrix(A,3,5,0,2)"
   ]
  },
  {
   "cell_type": "markdown",
   "metadata": {
    "slideshow": {
     "slide_type": "slide"
    }
   },
   "source": [
    "### Dictionaries"
   ]
  },
  {
   "cell_type": "markdown",
   "metadata": {
    "slideshow": {
     "slide_type": "subslide"
    }
   },
   "source": [
    "\n",
    "*Mappings* sind Datentypen, die Zuordnungen zwischen verschiedenen Objekten herstellen.\n",
    "\n",
    "Der Python Datentyp, *Dictionary* (dt. *Wörterbuch*) gehört zu dieser Kategorie.\n",
    "\n",
    "Ein Dictionary enthält beliebig viele Schlüssel-Wert-Paare (engl. *key/value pairs*), wobei der Schlüssel nicht unbedingt, wie der Index bei sequentiellen Datentypen, eine ganze Zahl sein muss.\n",
    "\n",
    "Vielleicht ist Ihnen dieser Datentyp schon von einer anderen Programmiersprache her bekannt, wo er als assoziatives Array (u. a. in PHP), Map (u. a. in C++) oder Hash (u. a. in Perl) bezeichnet wird.\n",
    "\n",
    "Der Datentyp dict ist mutabel, also veränderlich."
   ]
  },
  {
   "cell_type": "code",
   "execution_count": null,
   "metadata": {
    "slideshow": {
     "slide_type": "fragment"
    }
   },
   "outputs": [],
   "source": [
    "haupstaedte = {\"DE\" : \"Berlin\", \"FR\" : \"Paris\", \"US\" : \"Washington\", \"CH\" : \"Zurich\"}\n",
    "for s in haupstaedte:\n",
    "    print(haupstaedte[s])"
   ]
  },
  {
   "cell_type": "markdown",
   "metadata": {
    "slideshow": {
     "slide_type": "subslide"
    }
   },
   "source": [
    "Folgende Funktionen sind für den Dictionary-Typ definiert:\n",
    "- `d.clear()` Löscht alle Elemente aus dem Dictionary `d`\n",
    "- `d.copy()` Erzeugt eine Kopie von `d`\n",
    "- `d.get(k)` Liefert `d[k]`, wenn der Schlüssel `k` vorhanden ist. Im Gegensatz zu `d[k]` erzeugt `d.get(k)` keinen Laufzeitfehler, wenn der Schlüssel `k` im Dictionary nicht existiert\n",
    "- `d.items()` Gibt ein iterierbares Objekt zurück, mit dem alle Schlüssel-Wert-Paare von `d` durchlaufen werden können\n",
    "- `d.keys()` Gibt ein iterierbares Objekt zurück, mit dem alle Schlüssel von `d` durchlaufen werden können\n",
    "- `d.values()` Gibt ein iterierbares Objekt zurück, mit dem alle Werte von `d` durchlaufen werden können\n",
    "- `d.pop(k)` Gibt den zum Schlüssel `k` gehörigen Wert zurück und löscht das Schlüssel-Wert-Paar aus dem Dictionary `d`\n",
    "- `d.popitem()` Gibt ein willkürliches Schlüssel-Wert-Paar von `d` zurück und entfernt es aus dem Dictionary `d`\n",
    "- `d.setdefault(k, [x])` Fügt den Wert `x` unter dem Schlüsssel `k` hinzu, falls `k` nicht schon vorhanden ist\n",
    "- `d.update(d2)` Fügt ein Dictionary `d2` zu `d` hinzu und überschreibt gegebenenfalls die Werte bereits vorhandener Schlüssel\n",
    "- `dict.fromkeys(s, [v])` Erstelle ein neues Dictionary mit den Werten der Liste `s` als Schlüssel und setzte alle Werte auf `v`\n"
   ]
  },
  {
   "cell_type": "code",
   "execution_count": null,
   "metadata": {
    "slideshow": {
     "slide_type": "subslide"
    }
   },
   "outputs": [],
   "source": [
    "d = {'key1':1.23,('k','e','y','2'):(1,2,3),'key4':2}\n",
    "d[33]=True\n",
    "print(\"Items:\", d.items())\n",
    "print(\"Values:\", d.values())\n",
    "print(\"Keys:\", d.keys())\n",
    "print(\"Dictionary:\", d)\n",
    "d.setdefault('key3',['A','B','CDE'])\n",
    "print(\"Dictionary:\", d)\n",
    "print(\"Pop Element:\", d.popitem())\n",
    "print(\"Pop Element:\", d.pop('key1'))\n",
    "print(\"Dictionary:\", d)\n",
    "d.clear()\n",
    "print(\"Dictionary:\", d)"
   ]
  },
  {
   "cell_type": "markdown",
   "metadata": {
    "slideshow": {
     "slide_type": "subslide"
    }
   },
   "source": [
    "Für Dictionaries gibt es verschiedene Iteratoren."
   ]
  },
  {
   "cell_type": "code",
   "execution_count": null,
   "metadata": {
    "slideshow": {
     "slide_type": "fragment"
    }
   },
   "outputs": [],
   "source": [
    "d = {'key1':1.23,'key2':(1,2,3),'key3':['A','B','CDE']}\n",
    "print(\"Items:\")\n",
    "for i in d.items(): print(i, end=' ')\n",
    "print(\"\\nValues:\")\n",
    "for v in d.values(): print(v, end=' ')\n",
    "print(\"\\nKeys:\")\n",
    "for k in d.keys(): print(k, end=' ')"
   ]
  },
  {
   "cell_type": "markdown",
   "metadata": {
    "slideshow": {
     "slide_type": "slide"
    }
   },
   "source": [
    "**Aufgabe:** In der folgenden Code-Zelle wird ein zweidimensionales Feld erzeugt.\n",
    "Jedes Element der der äußeren Liste ist wieder eine Liste.\n",
    "Diese inneren Listen bestehen aus Daten verschiedenen Typs.\n",
    "Das erste Element ist ein Integer, dass die Matrikelnummer von Studierenden darstellen soll.\n",
    "Das zweite Element ist ein Name, kodiert als String. \n",
    "Danach folgen drei Integer-Werte, die die Punkte für drei Klausuraufgaben wiedergeben.\n",
    "\n",
    "1. Lesen Sie die Liste `data` in ein Dictionary ein und verwenden Sie als Schlüssel die Matrikelnummern der Studierenden. Als Werte sollen die Punkte in Form eines 3-Tupels zusammen mit dem Namen als Liste gespeichert werden.\n",
    "2. Erweitern Sie sie Werte des Dictionaries indem Sie die Gesamtpunktzahl in der Liste hinzfügen."
   ]
  },
  {
   "cell_type": "code",
   "execution_count": null,
   "metadata": {
    "slideshow": {
     "slide_type": "subslide"
    }
   },
   "outputs": [],
   "source": [
    "from random import randint, seed\n",
    "seed(1)\n",
    "names = [\"Alice\",\"Bob\",\"Carol\",\"Dan\",\"Eve\",\"Frank\",\"Grace\",\"Harry\",\"Ivy\",\"John\"]\n",
    "data = []\n",
    "for i in range(10):\n",
    "    matnr = 2000000 + randint(34, 42) * 100 + randint(0,100)\n",
    "    name = names[i]\n",
    "    p1 = randint(0,10)\n",
    "    p2 = randint(0,10)\n",
    "    p3 = randint(0,10)\n",
    "    data.append([matnr, name, p1, p2, p3])\n",
    "data"
   ]
  },
  {
   "cell_type": "markdown",
   "metadata": {
    "slideshow": {
     "slide_type": "subslide"
    }
   },
   "source": [
    "1\\. Lesen Sie die Liste `data` in ein Dictionary ein und verwenden Sie als Schlüssel die Matrikelnummern der Studierenden. Als werte sollen die Punkte in Form eines 3-Tupels zusammen mit dem Namen als Liste gespeichert werden."
   ]
  },
  {
   "cell_type": "code",
   "execution_count": null,
   "metadata": {
    "deletable": false,
    "nbgrader": {
     "cell_type": "code",
     "checksum": "3bebb9ec2dd59360605a9aede34f741c",
     "grade": false,
     "grade_id": "cell-b43d7b6db127b156",
     "locked": false,
     "schema_version": 3,
     "solution": true,
     "task": false
    },
    "slideshow": {
     "slide_type": "fragment"
    }
   },
   "outputs": [],
   "source": [
    "stud = {}\n",
    "# YOUR CODE HERE\n",
    "raise NotImplementedError()"
   ]
  },
  {
   "cell_type": "code",
   "execution_count": null,
   "metadata": {
    "deletable": false,
    "editable": false,
    "nbgrader": {
     "cell_type": "code",
     "checksum": "8bcc74342e25c9f3051923773955278b",
     "grade": true,
     "grade_id": "cell-d21b532166f5b607",
     "locked": true,
     "points": 1,
     "schema_version": 3,
     "solution": false,
     "task": false
    }
   },
   "outputs": [],
   "source": [
    "assert len(stud) == 10, 'The data is not complete'\n",
    "assert data[3][0] == list(stud.keys())[3], 'Dict keys should be student numbers'\n",
    "assert type(stud[2004201]) is list, 'Student data should be stored in a list'\n",
    "assert type(stud[2004201][0]) is str, 'The first item should be student name'\n",
    "assert type(stud[2004201][1]) is tuple, 'The second item should be a tuple of student grades'\n",
    "assert len(stud[2004201][1]) == 3, 'Student grades have three values'\n",
    "\n",
    "# Results\n",
    "stud.get(2003449)"
   ]
  },
  {
   "cell_type": "markdown",
   "metadata": {
    "slideshow": {
     "slide_type": "subslide"
    }
   },
   "source": [
    "\n",
    "2\\. Erweitern Sie sie Werte des Dictionaries indem Sie die Gesamtpunktzahl in der Liste hinzfügen."
   ]
  },
  {
   "cell_type": "code",
   "execution_count": null,
   "metadata": {
    "deletable": false,
    "nbgrader": {
     "cell_type": "code",
     "checksum": "42faf8da137698e3073c710a9c880ce3",
     "grade": false,
     "grade_id": "cell-c3eb9a0df85433ee",
     "locked": false,
     "schema_version": 3,
     "solution": true,
     "task": false
    },
    "slideshow": {
     "slide_type": "fragment"
    }
   },
   "outputs": [],
   "source": [
    "# YOUR CODE HERE\n",
    "raise NotImplementedError()"
   ]
  },
  {
   "cell_type": "code",
   "execution_count": null,
   "metadata": {
    "deletable": false,
    "editable": false,
    "nbgrader": {
     "cell_type": "code",
     "checksum": "8cfa0fa26884c4cb76c1280c2b385343",
     "grade": true,
     "grade_id": "cell-f68ebfdeed1d8e50",
     "locked": true,
     "points": 1,
     "schema_version": 3,
     "solution": false,
     "task": false
    }
   },
   "outputs": [],
   "source": [
    "assert len(stud[2004134]) == 3, 'stud was not expanded!'\n",
    "assert stud[2004134][2] == 13, 'The sum is not correct!'"
   ]
  },
  {
   "cell_type": "markdown",
   "metadata": {
    "slideshow": {
     "slide_type": "slide"
    }
   },
   "source": [
    "### Mengen\n",
    "\n",
    "Eine Menge (engl. *set*) ist eine ungeordnete Sammlung von Elementen, in der jedes Element nur einmal enthalten sein darf. In Python gibt es zur Darstellung von Mengen zwei Basisdatentypen: `set` für eine veränderliche Menge sowie `frozenset` für eine unveränderliche Menge – set ist demnach mutabel, frozenset immutabel."
   ]
  },
  {
   "cell_type": "code",
   "execution_count": null,
   "metadata": {
    "slideshow": {
     "slide_type": "fragment"
    }
   },
   "outputs": [],
   "source": [
    "s = (4,4,4,4,3,3,3,2,2,1)\n",
    "print(s)\n",
    "s = set(s)\n",
    "s"
   ]
  },
  {
   "cell_type": "markdown",
   "metadata": {
    "slideshow": {
     "slide_type": "subslide"
    }
   },
   "source": [
    "Mit der Funktion `set(seq)` kann man aus einer beliebigen Sequenz eine Menge erstellen.\n",
    "Die Funktion `set()` ist darüber hinaus notwendig, um eine leere Menge zu Erzeugen.\n",
    "Die geschweiften Klammern, mit denen eine Menge angelegt werden kann, wird auch für Dictionaries benutzt und die Zeichenfolge `{}` würde Python als leeres Dictionary interpretieren."
   ]
  },
  {
   "cell_type": "code",
   "execution_count": null,
   "metadata": {
    "slideshow": {
     "slide_type": "fragment"
    }
   },
   "outputs": [],
   "source": [
    "s = input (\"Zeichenkette eingeben: \")\n",
    "set(s)"
   ]
  },
  {
   "cell_type": "markdown",
   "metadata": {
    "slideshow": {
     "slide_type": "subslide"
    }
   },
   "source": [
    "Auf Mengen sind auch die mathematischen Mengenoperationen definiert.\n",
    "\n",
    "Mit `s >= t`überprüft man, ob `t` eine Teilmenge von `s` ist.\n",
    "\n",
    "Die Vereinigungsmenge von `s` und `t` bildet man mit `s | t`, die Schnittmenge mit `s & t`."
   ]
  },
  {
   "cell_type": "code",
   "execution_count": null,
   "metadata": {
    "slideshow": {
     "slide_type": "fragment"
    }
   },
   "outputs": [],
   "source": [
    "set(\"Hallo\") & set(\"Welt\")"
   ]
  },
  {
   "cell_type": "markdown",
   "metadata": {
    "slideshow": {
     "slide_type": "slide"
    }
   },
   "source": [
    "**Aufgabe:** In der folgenden Code-Zelle wird eine Text-Datei (J.W. von Goethe - Faust I) eingelesen und zeilenweise verarbeitet.\n",
    "Die Worte in den Zeilen werden nach Leerzeichen getrennt (`line.split()`), danach werden noch die Satzzeichen (`string.punctuation`) entfernt und alle Buchstaben zu Kleinbuchstaben gemacht (`w.lower()`).\n",
    "\n",
    "Der Ausgangspunkt für die Aufgabe ist die Liste `faust`, die alle Worte des Goethe-Werks enthält.\n",
    "\n",
    "1. Geben Sie die ersten 200 Worte des Textes über die Liste `faust` aus. Um die Lesbarkeit zu verbessern, können Sie aus einer Liste einen String machen. `' '.join(liste)` verbindet alle Elemente von `liste` mit einem Leerzeichen `' '`. Das Ergebnis können Sie mit `print` ausgeben.\n",
    "2. Bestimmen Sie die Länge des Textes in der Anzahl der Wörter.\n",
    "3. Bestimmen Sie die Anzahl der voneinander verschieden Wörter im Text. Jedes Wort soll also nur einmal gezählt werden.\n",
    "4. Bestimmen Sie die Häufigkeit der Vorkommen aller Wörter im Text. Legen Sie dazu Dictionary an, dass die verschiedenen Wörter des Textes als Schlüssel und die Vorkommen der Wörter als Wert benutzt.\n",
    "5. Bestimmen Sie die `n` (z.B. 10, 30, ...) häufigsten Wörter im Text."
   ]
  },
  {
   "cell_type": "code",
   "execution_count": null,
   "metadata": {
    "slideshow": {
     "slide_type": "subslide"
    }
   },
   "outputs": [],
   "source": [
    "import os, codecs, string\n",
    "faust = []\n",
    "with codecs.open('faust.txt','r', 'utf-8') as f:\n",
    "    for line in f:\n",
    "        for word in line.split():\n",
    "            w = word.translate(str.maketrans('', '', string.punctuation))\n",
    "            faust.append(w.lower())"
   ]
  },
  {
   "cell_type": "markdown",
   "metadata": {
    "slideshow": {
     "slide_type": "subslide"
    }
   },
   "source": [
    "1\\. Geben Sie die ersten 200 Worte des Textes über die Liste `faust` aus. Um die Lesbarkeit zu verbessern, können Sie aus einer Liste einen String machen. `' '.join(liste)` verbindet alle Elemente von `liste` mit einem Leerzeichen `' '`. Das Ergebnis können Sie mit `print` ausgeben."
   ]
  },
  {
   "cell_type": "code",
   "execution_count": null,
   "metadata": {
    "deletable": false,
    "nbgrader": {
     "cell_type": "code",
     "checksum": "0c2a0e2431c89c56cbb8bd4288d28f7a",
     "grade": false,
     "grade_id": "cell-be3f693e471b7467",
     "locked": false,
     "schema_version": 3,
     "solution": true,
     "task": false
    },
    "slideshow": {
     "slide_type": "fragment"
    }
   },
   "outputs": [],
   "source": [
    "#1. enter 200 words in text\n",
    "text = None\n",
    "# YOUR CODE HERE\n",
    "raise NotImplementedError()"
   ]
  },
  {
   "cell_type": "code",
   "execution_count": null,
   "metadata": {
    "deletable": false,
    "editable": false,
    "nbgrader": {
     "cell_type": "code",
     "checksum": "1a5d056d785021293e6be042f2c682f3",
     "grade": true,
     "grade_id": "cell-7036d1ac5513bae7",
     "locked": true,
     "points": 1,
     "schema_version": 3,
     "solution": false,
     "task": false
    }
   },
   "outputs": [],
   "source": [
    "assert type(text) is str, 'Words should be joined to form a string.'\n",
    "assert len(text.split(' ')) == 200, '200 words should be separated by spaces.'\n",
    "\n",
    "text"
   ]
  },
  {
   "cell_type": "markdown",
   "metadata": {
    "slideshow": {
     "slide_type": "subslide"
    }
   },
   "source": [
    "2\\. Bestimmen Sie die Länge des Textes in der Anzahl der Wörter.\n",
    "\n",
    "3\\. Bestimmen Sie die Anzahl der voneinander verschieden Wörter im Text. Jedes Wort soll also nur einmal gezählt werden."
   ]
  },
  {
   "cell_type": "code",
   "execution_count": null,
   "metadata": {
    "deletable": false,
    "nbgrader": {
     "cell_type": "code",
     "checksum": "3686be6a4638f1972e1a847b87145475",
     "grade": false,
     "grade_id": "cell-59311e2985e77853",
     "locked": false,
     "schema_version": 3,
     "solution": true,
     "task": false
    },
    "slideshow": {
     "slide_type": "fragment"
    }
   },
   "outputs": [],
   "source": [
    "#2. Number of words in n_word\n",
    "n_word = None\n",
    "# YOUR CODE HERE\n",
    "raise NotImplementedError()\n",
    "print(\"Worte insgesamt\", n_word)\n",
    "\n",
    "#3. Number of unique words in n_uni\n",
    "n_uni = None\n",
    "# YOUR CODE HERE\n",
    "raise NotImplementedError()\n",
    "print(\"Verschiedene Worte:\", n_uni)"
   ]
  },
  {
   "cell_type": "code",
   "execution_count": null,
   "metadata": {
    "deletable": false,
    "editable": false,
    "nbgrader": {
     "cell_type": "code",
     "checksum": "1e9085c75064c38ff9452e694ea16082",
     "grade": true,
     "grade_id": "cell-1b3990abcd0f180c",
     "locked": true,
     "points": 1,
     "schema_version": 3,
     "solution": false,
     "task": false
    }
   },
   "outputs": [],
   "source": [
    "assert n_word == 30632, 'Number of words is incorrect'\n",
    "assert n_uni == 6304, 'Number of unique words is incorrect'"
   ]
  },
  {
   "cell_type": "markdown",
   "metadata": {
    "slideshow": {
     "slide_type": "subslide"
    }
   },
   "source": [
    " 4\\. Bestimmen Sie die Häufigkeit der Vorkommen aller Wörter im Text. Legen Sie dazu Dictionary an, dass die verschiedenen Wörter des Textes als Schlüssel und die Vorkommen der Wörter als Wert benutzt."
   ]
  },
  {
   "cell_type": "code",
   "execution_count": null,
   "metadata": {
    "deletable": false,
    "nbgrader": {
     "cell_type": "code",
     "checksum": "0f54e65670dca0936ed227dc111ac667",
     "grade": false,
     "grade_id": "cell-c5feee2bd6078940",
     "locked": false,
     "schema_version": 3,
     "solution": true,
     "task": false
    },
    "slideshow": {
     "slide_type": "fragment"
    }
   },
   "outputs": [],
   "source": [
    "#4. Word frequancy in fd\n",
    "fd = {}\n",
    "# YOUR CODE HERE\n",
    "raise NotImplementedError()\n",
    "\n",
    "fd"
   ]
  },
  {
   "cell_type": "code",
   "execution_count": null,
   "metadata": {
    "deletable": false,
    "editable": false,
    "nbgrader": {
     "cell_type": "code",
     "checksum": "0478601276ac5349d45231229290f2d2",
     "grade": true,
     "grade_id": "cell-9395b70b6b8b2cec",
     "locked": true,
     "points": 1,
     "schema_version": 3,
     "solution": false,
     "task": false
    }
   },
   "outputs": [],
   "source": [
    "assert len(fd) == n_uni, 'fd should contain all unique words!'\n",
    "assert fd['der'] == faust.count('der'), 'the frequancy is incorrect!'\n",
    "assert fd['ihr'] == faust.count('ihr'), 'the frequancy is incorrect!'"
   ]
  },
  {
   "cell_type": "markdown",
   "metadata": {
    "slideshow": {
     "slide_type": "subslide"
    }
   },
   "source": [
    "5\\. Bestimmen Sie die n (z.B. 10, 30, ...) häufigsten Wörter im Text."
   ]
  },
  {
   "cell_type": "code",
   "execution_count": null,
   "metadata": {
    "deletable": false,
    "nbgrader": {
     "cell_type": "code",
     "checksum": "e66ecfc6f627054b397b4ed1620e3979",
     "grade": false,
     "grade_id": "cell-52ba34ecddb93267",
     "locked": false,
     "schema_version": 3,
     "solution": true,
     "task": false
    },
    "slideshow": {
     "slide_type": "fragment"
    }
   },
   "outputs": [],
   "source": [
    "#5. 20 most frequent words in fd20\n",
    "fd20 = {}\n",
    "# YOUR CODE HERE\n",
    "raise NotImplementedError()\n",
    "for n,w in enumerate(fd20.items()):\n",
    "    print(\"Das %d. häufigste Wort mit %d Vorkommen ist '%s'\" % (n+1,w[1],w[0]))"
   ]
  },
  {
   "cell_type": "code",
   "execution_count": null,
   "metadata": {
    "deletable": false,
    "editable": false,
    "nbgrader": {
     "cell_type": "code",
     "checksum": "5b786b817a99156d98709d6fa14e3b41",
     "grade": true,
     "grade_id": "cell-1e49637fff1aaea4",
     "locked": true,
     "points": 1,
     "schema_version": 3,
     "solution": false,
     "task": false
    },
    "slideshow": {
     "slide_type": "skip"
    }
   },
   "outputs": [],
   "source": [
    "assert len(fd20) == 20, 'This dict should contain 20 elements'\n",
    "assert list(fd20.items())[0] == ('und', 918),'incorrect!'\n",
    "assert list(fd20.items())[15] == ('den', 277),'incorrect!'"
   ]
  }
 ],
 "metadata": {
  "kernelspec": {
   "display_name": "Python 3",
   "language": "python",
   "name": "python3"
  },
  "language_info": {
   "codemirror_mode": {
    "name": "ipython",
    "version": 3
   },
   "file_extension": ".py",
   "mimetype": "text/x-python",
   "name": "python",
   "nbconvert_exporter": "python",
   "pygments_lexer": "ipython3",
   "version": "3.7.3"
  }
 },
 "nbformat": 4,
 "nbformat_minor": 2
}
